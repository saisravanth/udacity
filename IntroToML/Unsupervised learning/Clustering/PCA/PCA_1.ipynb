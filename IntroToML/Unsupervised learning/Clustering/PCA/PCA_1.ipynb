{
 "cells": [
  {
   "cell_type": "markdown",
   "metadata": {},
   "source": [
    "### Your Turn\n",
    "\n",
    "In the previous video, you saw an example of working with some MNIST digits data.  The MNIST dataset can be found here: http://yann.lecun.com/exdb/mnist/.\n",
    "\n",
    "First, let's import the necessary libraries.  Notice there are also some imports from a file called `helper_functions`, which contains the functions used in the previous video."
   ]
  },
  {
   "cell_type": "code",
   "execution_count": 1,
   "metadata": {},
   "outputs": [],
   "source": [
    "import pandas as pd\n",
    "import numpy as np\n",
    "from sklearn.decomposition import PCA\n",
    "from sklearn.preprocessing import StandardScaler\n",
    "from sklearn.ensemble import RandomForestClassifier\n",
    "from sklearn.model_selection import train_test_split\n",
    "from sklearn.metrics import confusion_matrix, accuracy_score\n",
    "from helper_functions import show_images, show_images_by_digit, fit_random_forest_classifier2 \n",
    "from helper_functions import fit_random_forest_classifier, do_pca, plot_components\n",
    "import test_code as t\n",
    "\n",
    "import matplotlib.image as mpimg\n",
    "import matplotlib.pyplot as plt\n",
    "import seaborn as sns\n",
    "\n",
    "%matplotlib inline"
   ]
  },
  {
   "cell_type": "markdown",
   "metadata": {},
   "source": [
    "`1.` Use pandas to read in the dataset, which can be found in this workspace using the filepath **'./data/train.csv'**.  If you have missing values, fill them with 0.  Take a look at info about the data using `head`, `tail`, `describe`, `info`, etc.  You can learn more about the data values from the article here: https://homepages.inf.ed.ac.uk/rbf/HIPR2/value.htm."
   ]
  },
  {
   "cell_type": "code",
   "execution_count": 14,
   "metadata": {},
   "outputs": [
    {
     "data": {
      "text/html": [
       "<div>\n",
       "<style scoped>\n",
       "    .dataframe tbody tr th:only-of-type {\n",
       "        vertical-align: middle;\n",
       "    }\n",
       "\n",
       "    .dataframe tbody tr th {\n",
       "        vertical-align: top;\n",
       "    }\n",
       "\n",
       "    .dataframe thead th {\n",
       "        text-align: right;\n",
       "    }\n",
       "</style>\n",
       "<table border=\"1\" class=\"dataframe\">\n",
       "  <thead>\n",
       "    <tr style=\"text-align: right;\">\n",
       "      <th></th>\n",
       "      <th>label</th>\n",
       "      <th>pixel0</th>\n",
       "      <th>pixel1</th>\n",
       "      <th>pixel2</th>\n",
       "      <th>pixel3</th>\n",
       "      <th>pixel4</th>\n",
       "      <th>pixel5</th>\n",
       "      <th>pixel6</th>\n",
       "      <th>pixel7</th>\n",
       "      <th>pixel8</th>\n",
       "      <th>...</th>\n",
       "      <th>pixel774</th>\n",
       "      <th>pixel775</th>\n",
       "      <th>pixel776</th>\n",
       "      <th>pixel777</th>\n",
       "      <th>pixel778</th>\n",
       "      <th>pixel779</th>\n",
       "      <th>pixel780</th>\n",
       "      <th>pixel781</th>\n",
       "      <th>pixel782</th>\n",
       "      <th>pixel783</th>\n",
       "    </tr>\n",
       "  </thead>\n",
       "  <tbody>\n",
       "    <tr>\n",
       "      <th>6299</th>\n",
       "      <td>9</td>\n",
       "      <td>0</td>\n",
       "      <td>0</td>\n",
       "      <td>0</td>\n",
       "      <td>0</td>\n",
       "      <td>0</td>\n",
       "      <td>0</td>\n",
       "      <td>0</td>\n",
       "      <td>0</td>\n",
       "      <td>0</td>\n",
       "      <td>...</td>\n",
       "      <td>0.0</td>\n",
       "      <td>0.0</td>\n",
       "      <td>0.0</td>\n",
       "      <td>0.0</td>\n",
       "      <td>0.0</td>\n",
       "      <td>0.0</td>\n",
       "      <td>0.0</td>\n",
       "      <td>0.0</td>\n",
       "      <td>0.0</td>\n",
       "      <td>0.0</td>\n",
       "    </tr>\n",
       "    <tr>\n",
       "      <th>6300</th>\n",
       "      <td>8</td>\n",
       "      <td>0</td>\n",
       "      <td>0</td>\n",
       "      <td>0</td>\n",
       "      <td>0</td>\n",
       "      <td>0</td>\n",
       "      <td>0</td>\n",
       "      <td>0</td>\n",
       "      <td>0</td>\n",
       "      <td>0</td>\n",
       "      <td>...</td>\n",
       "      <td>0.0</td>\n",
       "      <td>0.0</td>\n",
       "      <td>0.0</td>\n",
       "      <td>0.0</td>\n",
       "      <td>0.0</td>\n",
       "      <td>0.0</td>\n",
       "      <td>0.0</td>\n",
       "      <td>0.0</td>\n",
       "      <td>0.0</td>\n",
       "      <td>0.0</td>\n",
       "    </tr>\n",
       "    <tr>\n",
       "      <th>6301</th>\n",
       "      <td>7</td>\n",
       "      <td>0</td>\n",
       "      <td>0</td>\n",
       "      <td>0</td>\n",
       "      <td>0</td>\n",
       "      <td>0</td>\n",
       "      <td>0</td>\n",
       "      <td>0</td>\n",
       "      <td>0</td>\n",
       "      <td>0</td>\n",
       "      <td>...</td>\n",
       "      <td>0.0</td>\n",
       "      <td>0.0</td>\n",
       "      <td>0.0</td>\n",
       "      <td>0.0</td>\n",
       "      <td>0.0</td>\n",
       "      <td>0.0</td>\n",
       "      <td>0.0</td>\n",
       "      <td>0.0</td>\n",
       "      <td>0.0</td>\n",
       "      <td>0.0</td>\n",
       "    </tr>\n",
       "    <tr>\n",
       "      <th>6302</th>\n",
       "      <td>0</td>\n",
       "      <td>0</td>\n",
       "      <td>0</td>\n",
       "      <td>0</td>\n",
       "      <td>0</td>\n",
       "      <td>0</td>\n",
       "      <td>0</td>\n",
       "      <td>0</td>\n",
       "      <td>0</td>\n",
       "      <td>0</td>\n",
       "      <td>...</td>\n",
       "      <td>0.0</td>\n",
       "      <td>0.0</td>\n",
       "      <td>0.0</td>\n",
       "      <td>0.0</td>\n",
       "      <td>0.0</td>\n",
       "      <td>0.0</td>\n",
       "      <td>0.0</td>\n",
       "      <td>0.0</td>\n",
       "      <td>0.0</td>\n",
       "      <td>0.0</td>\n",
       "    </tr>\n",
       "    <tr>\n",
       "      <th>6303</th>\n",
       "      <td>2</td>\n",
       "      <td>0</td>\n",
       "      <td>0</td>\n",
       "      <td>0</td>\n",
       "      <td>0</td>\n",
       "      <td>0</td>\n",
       "      <td>0</td>\n",
       "      <td>0</td>\n",
       "      <td>0</td>\n",
       "      <td>0</td>\n",
       "      <td>...</td>\n",
       "      <td>0.0</td>\n",
       "      <td>0.0</td>\n",
       "      <td>0.0</td>\n",
       "      <td>0.0</td>\n",
       "      <td>0.0</td>\n",
       "      <td>0.0</td>\n",
       "      <td>0.0</td>\n",
       "      <td>0.0</td>\n",
       "      <td>0.0</td>\n",
       "      <td>0.0</td>\n",
       "    </tr>\n",
       "  </tbody>\n",
       "</table>\n",
       "<p>5 rows × 785 columns</p>\n",
       "</div>"
      ],
      "text/plain": [
       "      label  pixel0  pixel1  pixel2  pixel3  pixel4  pixel5  pixel6  pixel7  \\\n",
       "6299      9       0       0       0       0       0       0       0       0   \n",
       "6300      8       0       0       0       0       0       0       0       0   \n",
       "6301      7       0       0       0       0       0       0       0       0   \n",
       "6302      0       0       0       0       0       0       0       0       0   \n",
       "6303      2       0       0       0       0       0       0       0       0   \n",
       "\n",
       "      pixel8    ...     pixel774  pixel775  pixel776  pixel777  pixel778  \\\n",
       "6299       0    ...          0.0       0.0       0.0       0.0       0.0   \n",
       "6300       0    ...          0.0       0.0       0.0       0.0       0.0   \n",
       "6301       0    ...          0.0       0.0       0.0       0.0       0.0   \n",
       "6302       0    ...          0.0       0.0       0.0       0.0       0.0   \n",
       "6303       0    ...          0.0       0.0       0.0       0.0       0.0   \n",
       "\n",
       "      pixel779  pixel780  pixel781  pixel782  pixel783  \n",
       "6299       0.0       0.0       0.0       0.0       0.0  \n",
       "6300       0.0       0.0       0.0       0.0       0.0  \n",
       "6301       0.0       0.0       0.0       0.0       0.0  \n",
       "6302       0.0       0.0       0.0       0.0       0.0  \n",
       "6303       0.0       0.0       0.0       0.0       0.0  \n",
       "\n",
       "[5 rows x 785 columns]"
      ]
     },
     "execution_count": 14,
     "metadata": {},
     "output_type": "execute_result"
    }
   ],
   "source": [
    "X = pd.read_csv('./data/train.csv')\n",
    "X = X.fillna(0)\n",
    "X.tail()"
   ]
  },
  {
   "cell_type": "markdown",
   "metadata": {},
   "source": [
    "`2.` Create a vector called y that holds the **label** column of the dataset.  Store all other columns holding the pixel data of your images in X."
   ]
  },
  {
   "cell_type": "code",
   "execution_count": 15,
   "metadata": {},
   "outputs": [],
   "source": [
    "y = X['label']\n",
    "X = X.drop(['label'], axis=1)"
   ]
  },
  {
   "cell_type": "code",
   "execution_count": 16,
   "metadata": {},
   "outputs": [
    {
     "name": "stdout",
     "output_type": "stream",
     "text": [
      "That looks right!\n"
     ]
    }
   ],
   "source": [
    "#Check Your Solution \n",
    "t.question_two_check(y, X)"
   ]
  },
  {
   "cell_type": "markdown",
   "metadata": {},
   "source": [
    "`3.` Now use the `show_images_by_digit` function from the `helper_functions` module to take a look some of the `1`'s, `2`'s, `3`'s, or any other value you are interested in looking at.  Do they all look like what you would expect?"
   ]
  },
  {
   "cell_type": "code",
   "execution_count": 17,
   "metadata": {},
   "outputs": [
    {
     "name": "stderr",
     "output_type": "stream",
     "text": [
      "/home/workspace/helper_functions.py:63: FutureWarning: Method .as_matrix will be removed in a future version. Use .values instead.\n",
      "  mat_data = X.iloc[indices[0][digit_num]].as_matrix().reshape(28,28)  #reshape images\n"
     ]
    },
    {
     "data": {
      "image/png": "[encoded data removed]",
      "text/plain": [
       "<matplotlib.figure.Figure at 0x7f5b80aa95c0>"
      ]
     },
     "metadata": {},
     "output_type": "display_data"
    }
   ],
   "source": [
    "show_images_by_digit(5) # Try looking at a few other digits"
   ]
  },
  {
   "cell_type": "markdown",
   "metadata": {},
   "source": [
    "`4.` Now that you have had a chance to look through some of the data, you can try some different algorithms to see what works well to use the X matrix to predict the response well.  If you would like to use the function I used in the video regarding random forests, you can run the code below, but you might also try any of the supervised techniques you learned in the previous course to see what works best.\n",
    "\n",
    "If you decide to put together your own classifier, remember the 4 steps to this process:\n",
    "\n",
    "**I.** Instantiate your model. (with all the hyperparameter values you care about)\n",
    "\n",
    "**II.** Fit your model. (to the training data)\n",
    "\n",
    "**III.** Predict using your fitted model.  (on the test data)\n",
    "\n",
    "**IV.** Score your model. (comparing the predictions to the actual values on the test data)\n",
    "\n",
    "You can also try a grid search to see if you can improve on your initial predictions."
   ]
  },
  {
   "cell_type": "code",
   "execution_count": 18,
   "metadata": {},
   "outputs": [
    {
     "name": "stdout",
     "output_type": "stream",
     "text": [
      "[[200   0   1   0   0   0   7   0   1   0]\n",
      " [  0 235   2   1   0   1   1   2   1   0]\n",
      " [  3   5 212   1   2   0   1   4   0   0]\n",
      " [  1   0   5 178   0   4   1   1   0   1]\n",
      " [  0   0   1   0 168   0   3   0   0   6]\n",
      " [  3   1   0   6   0 170   4   0   2   0]\n",
      " [  4   0   2   0   2   2 201   0   0   0]\n",
      " [  0   0   8   1   6   0   0 205   1   4]\n",
      " [  1   1   1   6   0   5   0   0 185   3]\n",
      " [  2   1   2   2   8   2   0   1   5 185]]\n",
      "0.931763575204\n"
     ]
    },
    {
     "data": {
      "text/plain": [
       "0.9317635752042287"
      ]
     },
     "execution_count": 18,
     "metadata": {},
     "output_type": "execute_result"
    }
   ],
   "source": [
    "# Remove the tag to fit the RF model from the video, you can also try fitting your own!\n",
    "fit_random_forest_classifier(X, y)"
   ]
  },
  {
   "cell_type": "markdown",
   "metadata": {},
   "source": [
    "`5.` Now for the purpose of this lesson, to look at PCA.  In the video, I created a model just using two features.  Replicate the process below. You can use the same `do_pca` function that was created in the previous video.  Store your variables in **pca** and **X_pca**."
   ]
  },
  {
   "cell_type": "code",
   "execution_count": 24,
   "metadata": {},
   "outputs": [],
   "source": [
    "pca, X_pca = do_pca(2, X)"
   ]
  },
  {
   "cell_type": "markdown",
   "metadata": {},
   "source": [
    "`6.` The **X_pca** has reduced the original number of more than 700 features down to only 2 features that capture the majority of the variability in the pixel values.  Use the space below to fit a model using these two features to predict the written value.  You can use the random forest model by running `fit_random_forest_classifier` the same way as in the video. How well does it perform?"
   ]
  },
  {
   "cell_type": "code",
   "execution_count": 25,
   "metadata": {},
   "outputs": [
    {
     "name": "stdout",
     "output_type": "stream",
     "text": [
      "[[111   0  38   8   7  10  26   0   8   1]\n",
      " [  0 206   0   4   1  10   3   6   7   6]\n",
      " [ 39   2  71  23  13  25  35   1  16   3]\n",
      " [ 12   1  31  20  20  29  31  12  21  14]\n",
      " [  4   4  16  21  52  11  18  10  16  26]\n",
      " [  9   7  30  22  13  23  29   6  36  11]\n",
      " [ 31   6  50  19  11  26  35   3  29   1]\n",
      " [  2   5   5   8  36   9   3  97   8  52]\n",
      " [  7   7  24  31  16  32  27   9  40   9]\n",
      " [  2  12   4  15  32   7   4  57  12  63]]\n",
      "0.345026429601\n"
     ]
    },
    {
     "data": {
      "text/plain": [
       "0.34502642960115332"
      ]
     },
     "execution_count": 25,
     "metadata": {},
     "output_type": "execute_result"
    }
   ],
   "source": [
    "fit_random_forest_classifier(X_pca, y)"
   ]
  },
  {
   "cell_type": "markdown",
   "metadata": {},
   "source": [
    "`7.` Now you can look at the separation of the values using the `plot_components` function.  If you plot all of the points (more than 40,000), you will likely not be able to see much of what is happening.  I recommend plotting just a subset of the data.  Which value(s) have some separation that are being predicted better than others based on these two components?"
   ]
  },
  {
   "cell_type": "code",
   "execution_count": 26,
   "metadata": {},
   "outputs": [
    {
     "data": {
      "image/png": "[encoded data removed]",
      "text/plain": [
       "<matplotlib.figure.Figure at 0x7f5b7ffd7908>"
      ]
     },
     "metadata": {},
     "output_type": "display_data"
    }
   ],
   "source": [
    "# Try plotting some of the numbers below - you can change the number\n",
    "# of digits that are plotted, but it is probably best not to plot the \n",
    "# entire dataset.  Your visual will not be readable.\n",
    "\n",
    "plot_components(X_pca[:100], y[:100])"
   ]
  },
  {
   "cell_type": "markdown",
   "metadata": {},
   "source": [
    "`8.` See if you can find a reduced number of features that provides better separation to make predictions.  Say you want to get separation that allows for accuracy of more than 90%, how many principal components are needed to obtain this level of accuracy?  Were you able to substantially reduce the number of features needed in your final model?"
   ]
  },
  {
   "cell_type": "code",
   "execution_count": 51,
   "metadata": {},
   "outputs": [
    {
     "name": "stdout",
     "output_type": "stream",
     "text": [
      "[[110   0  34  11   7  13  27   0   7   0]\n",
      " [  0 208   0   4   1   7   4   5   8   6]\n",
      " [ 36   2  76  26  16  25  32   0  11   4]\n",
      " [ 11   2  31  22  24  27  28  12  21  13]\n",
      " [  5   4  18  19  51  16  16  11  11  27]\n",
      " [ 10   8  32  24  15  21  28   4  33  11]\n",
      " [ 30   5  49  18  10  29  38   3  28   1]\n",
      " [  3   3   2   9  32   9   2  96   9  60]\n",
      " [  6   6  30  25  24  27  23  10  42   9]\n",
      " [  2  12   5  15  31  11   4  58   7  63]]\n",
      "0.349351273426\n",
      "[[157   0   6   4   2   9  20   1  10   0]\n",
      " [  0 223   1   2   2   3   9   0   3   0]\n",
      " [ 18   3 124  32   3   4  34   0   9   1]\n",
      " [  3   3  54  60   7  13  30   2  15   4]\n",
      " [  7   0   2   6  97  15   1  12  11  27]\n",
      " [  7   0  10  16  23  63  26   7  28   6]\n",
      " [ 16   8  15  17   2  11 131   0  11   0]\n",
      " [  0   2   0   3  24   6   1 114  11  64]\n",
      " [ 14   2   6  26  29  35  37   1  50   2]\n",
      " [  2   2   1   1  45   4   1  50  11  91]]\n",
      "0.533397405094\n",
      "[[177   0   8   0   4   7   6   0   7   0]\n",
      " [  0 227   1   1   0   4   3   1   5   1]\n",
      " [ 14   1 166  11   6   7  19   0   2   2]\n",
      " [  2   0  22 122   0  12   2   1  29   1]\n",
      " [  4   0   5   1 126   1   5  12   1  23]\n",
      " [  6   0   6  29  15  84   2   7  28   9]\n",
      " [  5   1  25   0   3   2 174   0   1   0]\n",
      " [  3   4   3   0  22   5   0 136   9  43]\n",
      " [ 13   5   9  30   4  45   1   4  91   0]\n",
      " [  3   1   3   1  44   6   1  38   7 104]]\n",
      "0.676117251321\n",
      "[[177   0  12   0   4   6   4   0   5   1]\n",
      " [  0 228   2   1   0   3   2   0   7   0]\n",
      " [ 12   2 180  11   4   6  12   0   1   0]\n",
      " [  1   0  28 118   0  13   1   2  26   2]\n",
      " [  3   0   1   1 125   0  10   5   2  31]\n",
      " [  9   1   9  23   4  91   2   8  34   5]\n",
      " [  3   0  19   0   3   0 185   0   1   0]\n",
      " [  2   2   4   2  16   4   0 171   6  18]\n",
      " [ 16   4   5  23   5  42   3   2 101   1]\n",
      " [  2   1   2   1  53   9   1  20   4 115]]\n",
      "0.716482460356\n",
      "[[176   0   4   0   5  12   8   0   4   0]\n",
      " [  0 230   2   1   0   0   2   0   8   0]\n",
      " [  3   2 200   7   4   1   5   1   5   0]\n",
      " [  1   0  17 134   0  12   2   2  21   2]\n",
      " [  1   0   2   0 125   1   9   7   2  31]\n",
      " [  9   0   3  10   4 145   2   5   6   2]\n",
      " [  3   0   4   1   5   0 197   0   1   0]\n",
      " [  1   3   5   0   9   1   0 184   5  17]\n",
      " [  1   3   6  20   3  14   0   2 151   2]\n",
      " [  1   1   1   0  51   2   1  24  12 115]]\n",
      "0.796251802018\n",
      "[[178   0   5   0   3  11   9   0   2   1]\n",
      " [  0 231   2   2   0   0   2   0   6   0]\n",
      " [  3   2 202   7   5   1   3   1   4   0]\n",
      " [  0   1  15 136   0  14   2   3  19   1]\n",
      " [  1   0   3   0 128   1   4   6   2  33]\n",
      " [  7   1   2  10   2 143   2   5  11   3]\n",
      " [  5   0   6   1   3   0 195   0   1   0]\n",
      " [  1   2   8   0  10   1   1 178   8  16]\n",
      " [  2   3   3  15   5  15   1   2 155   1]\n",
      " [  1   1   0   1  50   1   1  22  10 121]]\n",
      "0.801057184046\n",
      "[[186   0   3   0   0   9   8   1   1   1]\n",
      " [  0 232   2   2   0   0   2   0   5   0]\n",
      " [  1   3 206   4   4   1   2   3   4   0]\n",
      " [  3   1  13 147   0   8   1   4  12   2]\n",
      " [  0   0   2   0 138   1   6   3   0  28]\n",
      " [  5   0   4   8   5 150   1   0   9   4]\n",
      " [  6   0   5   0   3   0 195   0   2   0]\n",
      " [  0   1   6   1   5   1   1 193   5  12]\n",
      " [  2   2   4  11   3  14   1   2 162   1]\n",
      " [  0   0   1   2  47   0   1  19   8 130]]\n",
      "0.835655934647\n",
      "[[190   0   2   0   1   7   8   0   1   0]\n",
      " [  0 234   2   1   0   0   2   0   3   1]\n",
      " [  2   2 206   7   4   0   2   3   2   0]\n",
      " [  1   0  13 155   0   8   0   3  11   0]\n",
      " [  0   0   1   0 137   1   5   3   3  28]\n",
      " [  5   0   4   7   3 155   0   0   7   5]\n",
      " [  6   0   3   0   3   0 198   0   1   0]\n",
      " [  0   2   5   2   6   0   1 194   3  12]\n",
      " [  2   2   1   9   2  14   0   1 169   2]\n",
      " [  1   0   0   2  47   2   1  16   8 131]]\n",
      "0.85007208073\n",
      "[[188   0   3   0   0   8   7   1   1   1]\n",
      " [  0 232   2   2   0   0   2   0   4   1]\n",
      " [  1   2 209   5   3   0   2   3   3   0]\n",
      " [  1   0  13 159   0   5   0   3   9   1]\n",
      " [  0   0   4   0 143   1   4   3   1  22]\n",
      " [  6   0   2   8   4 155   0   0   6   5]\n",
      " [  5   0   1   0   2   0 201   1   1   0]\n",
      " [  1   2   4   1   6   0   0 194   5  12]\n",
      " [  3   1   1   9   4  16   0   1 165   2]\n",
      " [  2   0   0   1  32   0   1  20   9 143]]\n",
      "0.859682844786\n",
      "[[193   0   3   0   0   5   7   0   1   0]\n",
      " [  0 232   2   1   0   0   3   0   4   1]\n",
      " [  2   2 207   3   3   1   3   3   4   0]\n",
      " [  1   0   9 162   0   5   0   2  11   1]\n",
      " [  0   0   1   0 142   1   6   2   1  25]\n",
      " [  6   0   3   5   0 153   1   0  12   6]\n",
      " [  4   0   0   0   3   0 202   1   1   0]\n",
      " [  0   1   2   2   5   0   1 198   5  11]\n",
      " [  2   2   4   9   2  10   0   0 172   1]\n",
      " [  2   0   1   1  32   0   1  24   7 140]]\n",
      "0.86544930322\n",
      "[[188   0   3   0   0   8   8   1   1   0]\n",
      " [  0 231   2   1   0   1   2   0   6   0]\n",
      " [  2   2 209   4   3   0   1   3   4   0]\n",
      " [  1   0  13 158   0   5   0   2  11   1]\n",
      " [  0   0   1   1 146   1   5   2   0  22]\n",
      " [  6   0   2   6   4 154   1   0   8   5]\n",
      " [  7   0   2   1   3   0 197   0   1   0]\n",
      " [  1   1   4   1   4   0   1 195   7  11]\n",
      " [  3   2   1   8   2  11   0   0 174   1]\n",
      " [  2   0   1   1  31   1   0  17   8 147]]\n",
      "0.864488226814\n",
      "[[192   0   4   0   0   3   7   1   1   1]\n",
      " [  0 234   2   0   0   1   2   0   4   0]\n",
      " [  1   2 211   2   2   0   3   3   4   0]\n",
      " [  1   0  12 159   0   8   0   2   8   1]\n",
      " [  0   0   2   0 147   1   5   3   0  20]\n",
      " [  3   0   3   7   4 160   1   0   4   4]\n",
      " [  4   0   2   0   3   0 201   0   1   0]\n",
      " [  0   2   4   2   3   0   1 197   4  12]\n",
      " [  2   2   2   8   3  10   0   1 172   2]\n",
      " [  3   0   1   2  30   0   0  15   5 152]]\n",
      "0.876982220086\n",
      "[[192   0   2   1   0   4   7   1   1   1]\n",
      " [  0 234   2   0   0   0   2   0   4   1]\n",
      " [  2   2 207   6   2   0   2   3   4   0]\n",
      " [  1   0   7 167   0   3   1   1   7   4]\n",
      " [  0   0   4   0 146   1   5   2   0  20]\n",
      " [  2   0   4   5   2 160   1   0   9   3]\n",
      " [  4   0   1   0   2   0 203   0   1   0]\n",
      " [  1   1   3   2   2   1   1 196   4  14]\n",
      " [  3   2   2  14   1  11   0   0 168   1]\n",
      " [  2   0   1   2  30   0   0  18   2 153]]\n",
      "0.877462758289\n",
      "[[192   0   3   0   0   2   8   1   1   2]\n",
      " [  0 234   2   0   0   0   2   0   4   1]\n",
      " [  2   2 206   6   3   0   3   3   2   1]\n",
      " [  0   0   7 165   0   8   0   2   7   2]\n",
      " [  0   0   5   0 154   0   4   1   1  13]\n",
      " [  2   0   3   8   3 163   0   0   4   3]\n",
      " [  6   0   1   1   2   0 200   0   1   0]\n",
      " [  1   2   4   3   2   0   1 194   3  15]\n",
      " [  1   2   0  11   1  10   1   0 174   2]\n",
      " [  1   0   1   2  23   0   0  16   3 162]]\n",
      "0.886112445939\n",
      "[[192   0   3   0   0   3   7   1   2   1]\n",
      " [  0 234   2   0   0   0   2   0   4   1]\n",
      " [  2   2 206   6   3   0   3   3   3   0]\n",
      " [  1   0   8 165   0   6   0   2   8   1]\n",
      " [  0   0   4   0 154   0   6   1   0  13]\n",
      " [  2   0   3   6   3 161   3   0   4   4]\n",
      " [  5   0   1   0   2   0 202   0   1   0]\n",
      " [  0   1   5   2   4   0   1 199   3  10]\n",
      " [  3   1   0  12   1  10   0   0 173   2]\n",
      " [  2   0   2   2  20   0   0  13   3 166]]\n",
      "0.889956751562\n",
      "[[191   0   3   1   0   3   8   1   1   1]\n",
      " [  0 234   2   0   0   0   2   0   4   1]\n",
      " [  2   2 205   6   2   0   4   4   2   1]\n",
      " [  1   0   7 167   0   4   1   2   8   1]\n",
      " [  0   0   5   0 153   1   4   1   0  14]\n",
      " [  2   0   3   6   2 164   1   0   5   3]\n",
      " [  4   0   0   0   3   0 202   0   2   0]\n",
      " [  0   1   4   3   3   0   1 194   3  16]\n",
      " [  2   2   1  10   1   9   0   0 176   1]\n",
      " [  3   0   2   3  12   0   0  12   2 174]]\n",
      "0.893801057184\n",
      "[[190   0   3   0   0   2   9   3   1   1]\n",
      " [  0 234   2   0   0   1   2   0   3   1]\n",
      " [  1   2 207   6   2   1   3   3   3   0]\n",
      " [  0   0   7 164   0   6   0   2   9   3]\n",
      " [  0   0   4   0 155   1   4   1   0  13]\n",
      " [  2   0   3   6   1 166   1   0   4   3]\n",
      " [  3   0   1   0   2   3 202   0   0   0]\n",
      " [  0   1   4   2   4   0   2 198   2  12]\n",
      " [  1   2   1  12   2   9   0   0 173   2]\n",
      " [  2   0   1   3  15   0   0  15   1 171]]\n",
      "0.893801057184\n",
      "[[188   0   3   1   1   4   8   2   1   1]\n",
      " [  0 234   2   0   0   1   2   0   4   0]\n",
      " [  1   2 208   6   1   1   2   4   2   1]\n",
      " [  0   0   6 164   0   8   0   2   8   3]\n",
      " [  0   0   4   0 156   1   4   1   0  12]\n",
      " [  2   0   2   5   1 164   1   1   7   3]\n",
      " [  3   0   1   0   2   2 201   1   1   0]\n",
      " [  1   1   4   2   3   0   1 197   3  13]\n",
      " [  2   2   0  12   0   8   0   0 175   3]\n",
      " [  2   0   2   2  14   0   0  14   2 172]]\n",
      "0.893320518981\n",
      "[[194   0   3   1   1   1   7   1   1   0]\n",
      " [  0 234   2   0   0   1   2   0   3   1]\n",
      " [  2   2 210   4   2   0   2   4   2   0]\n",
      " [  1   0   7 165   0  10   0   2   3   3]\n",
      " [  0   0   4   0 155   1   3   1   0  14]\n",
      " [  2   0   1   8   3 162   0   0   6   4]\n",
      " [  4   0   1   0   3   2 201   0   0   0]\n",
      " [  1   1   5   3   3   0   1 198   2  11]\n",
      " [  0   2   2  10   1   8   0   0 177   2]\n",
      " [  1   0   2   2  15   2   0  13   1 172]]\n",
      "0.897645362806\n",
      "[[191   0   4   1   0   2   8   1   1   1]\n",
      " [  0 234   2   0   0   0   2   0   4   1]\n",
      " [  2   3 208   5   2   0   1   3   4   0]\n",
      " [  0   0   9 162   0   9   1   1   7   2]\n",
      " [  0   0   3   0 157   1   4   1   0  12]\n",
      " [  1   0   3   8   2 162   2   0   5   3]\n",
      " [  5   0   1   0   2   3 200   0   0   0]\n",
      " [  1   1   6   1   6   0   1 194   3  12]\n",
      " [  4   1   1  11   1   4   0   0 178   2]\n",
      " [  2   0   2   2  16   0   0  17   3 166]]\n",
      "0.889956751562\n",
      "[[194   0   2   0   0   1   7   2   2   1]\n",
      " [  0 234   2   0   0   0   2   0   4   1]\n",
      " [  2   3 209   5   2   0   1   3   3   0]\n",
      " [  0   0  10 163   0   8   0   1   7   2]\n",
      " [  0   0   4   0 153   1   5   1   0  14]\n",
      " [  1   0   3   7   2 163   2   0   3   5]\n",
      " [  6   0   1   0   2   1 201   0   0   0]\n",
      " [  0   1   6   2   2   0   1 199   3  11]\n",
      " [  3   1   2  10   1   5   1   0 177   2]\n",
      " [  2   0   1   3  15   0   0  16   1 170]]\n",
      "0.895242671792\n",
      "[[192   0   4   1   0   2   7   1   1   1]\n",
      " [  0 233   2   1   0   0   2   0   4   1]\n",
      " [  1   3 211   4   1   0   2   3   3   0]\n",
      " [  0   0  10 166   0   6   1   1   3   4]\n",
      " [  0   0   4   0 157   1   4   1   0  11]\n",
      " [  1   0   1   8   2 165   1   0   5   3]\n",
      " [  3   0   1   0   2   1 203   0   1   0]\n",
      " [  0   0   6   2   7   0   0 194   2  14]\n",
      " [  1   1   1  12   1   7   1   0 176   2]\n",
      " [  2   0   2   2  16   1   0  14   1 170]]\n",
      "0.897164824604\n",
      "[[192   0   4   0   0   2   8   1   1   1]\n",
      " [  0 234   2   1   0   1   2   0   3   0]\n",
      " [  1   3 211   3   2   0   2   3   2   1]\n",
      " [  0   0   9 168   0   4   0   1   7   2]\n",
      " [  0   0   4   0 158   1   3   1   0  11]\n",
      " [  2   0   1  10   1 163   0   0   6   3]\n",
      " [  4   0   2   0   3   1 201   0   0   0]\n",
      " [  0   1   3   3   4   0   0 200   1  13]\n",
      " [  0   1   1  15   1   7   0   0 175   2]\n",
      " [  2   0   2   2  17   0   0  17   1 167]]\n",
      "0.898125901009\n",
      "[[193   0   3   1   1   0   8   1   1   1]\n",
      " [  0 234   2   1   0   0   2   0   4   0]\n",
      " [  2   2 207   5   2   0   3   3   4   0]\n",
      " [  0   0   7 168   0   7   0   3   5   1]\n",
      " [  0   0   4   0 156   0   5   1   0  12]\n",
      " [  1   0   2   7   1 166   0   0   5   4]\n",
      " [  5   0   1   0   2   2 201   0   0   0]\n",
      " [  0   1   5   2   3   0   0 198   2  14]\n",
      " [  2   1   0  10   2   6   0   0 179   2]\n",
      " [  1   0   2   3  18   0   0  17   1 166]]\n",
      "0.897645362806\n",
      "[[192   0   3   1   0   2   8   1   1   1]\n",
      " [  0 233   2   0   0   0   2   0   5   1]\n",
      " [  2   3 206   5   4   0   1   3   4   0]\n",
      " [  0   0   8 167   0   6   1   2   5   2]\n",
      " [  0   0   4   0 155   0   5   1   0  13]\n",
      " [  2   0   2   7   2 163   1   0   5   4]\n",
      " [  5   0   1   0   2   2 200   1   0   0]\n",
      " [  2   1   6   3   3   0   0 196   2  12]\n",
      " [  2   1   2  11   1   7   1   0 175   2]\n",
      " [  1   0   1   2  13   0   0  14   1 176]]\n",
      "0.895242671792\n",
      "[[193   0   3   1   0   1   7   1   1   2]\n",
      " [  0 234   2   0   0   0   2   0   4   1]\n",
      " [  2   2 211   3   2   0   2   3   3   0]\n",
      " [  0   0   8 168   0   6   0   2   5   2]\n",
      " [  0   0   5   0 157   1   3   1   0  11]\n",
      " [  2   0   1   6   2 166   0   0   5   4]\n",
      " [  6   0   1   0   1   3 200   0   0   0]\n",
      " [  0   1   6   2   3   0   2 200   2   9]\n",
      " [  1   1   1  14   1   4   1   0 177   2]\n",
      " [  1   0   1   3  10   0   0  12   3 178]]\n",
      "0.905333974051\n",
      "With only 27 components, a random forest acheived an accuracy of 0.9053339740509371.\n"
     ]
    }
   ],
   "source": [
    "for comp in range(2, 100):\n",
    "    pca, X_pca = do_pca(comp, X)\n",
    "    acc = fit_random_forest_classifier(X_pca, y)\n",
    "    if acc > .90:\n",
    "        print(\"With only {} components, a random forest acheived an accuracy of {}.\".format(comp, acc))\n",
    "        break"
   ]
  },
  {
   "cell_type": "markdown",
   "metadata": {},
   "source": [
    "`9.` It is possible that extra features in the dataset even lead to overfitting or the [curse of dimensionality](https://stats.stackexchange.com/questions/65379/machine-learning-curse-of-dimensionality-explained).  Do you have evidence of this happening for this dataset?  Can you support your evidence with a visual or table?  To avoid printing out all of the metric results, I created another function called `fit_random_forest_classifier2`.  I ran through a significant number of components to create the visual for the solution, but I strongly recommend you look in the range below 100 principal components!"
   ]
  },
  {
   "cell_type": "code",
   "execution_count": 48,
   "metadata": {},
   "outputs": [],
   "source": [
    "accs = []\n",
    "comps = []\n",
    "for comp in range(2, 120):\n",
    "    comps.append(comp)\n",
    "    pca, X_pca = do_pca(comp, X)\n",
    "    acc = fit_random_forest_classifier2(X_pca, y)\n",
    "    accs.append(acc)"
   ]
  },
  {
   "cell_type": "code",
   "execution_count": 49,
   "metadata": {},
   "outputs": [
    {
     "data": {
      "image/png": "[encoded data removed]",
      "text/plain": [
       "<matplotlib.figure.Figure at 0x7f5b7fe2ee10>"
      ]
     },
     "metadata": {
      "needs_background": "light"
     },
     "output_type": "display_data"
    }
   ],
   "source": [
    "plt.plot(comps, accs, 'bo');\n",
    "plt.xlabel('Number of Components');\n",
    "plt.ylabel('Accuracy');\n",
    "plt.title('Number of Components by Accuracy');"
   ]
  },
  {
   "cell_type": "code",
   "execution_count": null,
   "metadata": {},
   "outputs": [],
   "source": []
  },
  {
   "cell_type": "markdown",
   "metadata": {},
   "source": [
    " "
   ]
  },
  {
   "cell_type": "code",
   "execution_count": null,
   "metadata": {
    "collapsed": true
   },
   "outputs": [],
   "source": []
  }
 ],
 "metadata": {
  "kernelspec": {
   "display_name": "Python 3",
   "language": "python",
   "name": "python3"
  },
  "language_info": {
   "codemirror_mode": {
    "name": "ipython",
    "version": 3
   },
   "file_extension": ".py",
   "mimetype": "text/x-python",
   "name": "python",
   "nbconvert_exporter": "python",
   "pygments_lexer": "ipython3",
   "version": "3.6.3"
  }
 },
 "nbformat": 4,
 "nbformat_minor": 2
}
