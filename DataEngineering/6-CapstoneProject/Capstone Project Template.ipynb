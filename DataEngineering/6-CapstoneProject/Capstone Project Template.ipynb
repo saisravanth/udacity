{
 "cells": [
  {
   "cell_type": "markdown",
   "metadata": {
    "editable": true
   },
   "source": [
    "# Immigration Data Pipeline\n",
    "### Data Engineering Capstone Project\n",
    "\n",
    "#### Project Summary\n",
    "--describe your project at a high level--\n",
    "\n",
    "The project follows the follow steps:\n",
    "* Step 1: Scope the Project and Gather Data\n",
    "* Step 2: Explore and Assess the Data\n",
    "* Step 3: Define the Data Model\n",
    "* Step 4: Run ETL to Model the Data\n",
    "* Step 5: Complete Project Write Up"
   ]
  },
  {
   "cell_type": "code",
   "execution_count": 2,
   "metadata": {
    "editable": true
   },
   "outputs": [],
   "source": [
    "# Do all imports and installs here\n",
    "import pandas as pd\n",
    "import os"
   ]
  },
  {
   "cell_type": "markdown",
   "metadata": {
    "editable": true
   },
   "source": [
    "### Step 1: Scope the Project and Gather Data\n",
    "\n"
   ]
  },
  {
   "cell_type": "markdown",
   "metadata": {
    "editable": true
   },
   "source": [
    "### Step 2: Explore and Assess the Data\n",
    " "
   ]
  },
  {
   "cell_type": "code",
   "execution_count": 3,
   "metadata": {
    "editable": true
   },
   "outputs": [],
   "source": [
    "# Read in the data here\n",
    "df_immigration = pd.read_sas(\"/home/workspace/data/i94_apr16_sub.sas7bdat\")"
   ]
  },
  {
   "cell_type": "code",
   "execution_count": 5,
   "metadata": {
    "editable": true
   },
   "outputs": [],
   "source": [
    "df_airport_codes = pd.read_csv(\"/home/workspace/data/airport-codes_csv.csv\")"
   ]
  },
  {
   "cell_type": "code",
   "execution_count": 6,
   "metadata": {
    "editable": true
   },
   "outputs": [],
   "source": [
    "df_cityTemperature = pd.read_csv(\"/home/workspace/data/GlobalLandTemperaturesByCity.csv\")"
   ]
  },
  {
   "cell_type": "code",
   "execution_count": 7,
   "metadata": {
    "editable": true
   },
   "outputs": [],
   "source": [
    "df_cityDemographics = pd.read_csv(\"/home/workspace/data/us-cities-demographics.csv\", delimiter=';')"
   ]
  },
  {
   "cell_type": "code",
   "execution_count": 17,
   "metadata": {
    "editable": true
   },
   "outputs": [],
   "source": [
    "def getColumnsWithNANs(df):\n",
    "    columns_dict = {}\n",
    "    drop_columns = []\n",
    "\n",
    "    for col in df.columns:\n",
    "        colWiseNullCount = df[col].isna().sum()\n",
    "        columns_dict[col] = colWiseNullCount\n",
    "        if colWiseNullCount > 0.05 * (df.shape[0]):\n",
    "            drop_columns.append(col)\n",
    "    return columns_dict, drop_columns"
   ]
  },
  {
   "cell_type": "code",
   "execution_count": 9,
   "metadata": {
    "editable": true
   },
   "outputs": [],
   "source": [
    "def getDetails(df):\n",
    "    print(\"Shape of the data frame is: \", df.shape)\n",
    "    print(\"\\nView top 5 rows: \\n\")\n",
    "    print(df.head(20))"
   ]
  },
  {
   "cell_type": "code",
   "execution_count": 10,
   "metadata": {
    "editable": true
   },
   "outputs": [
    {
     "name": "stdout",
     "output_type": "stream",
     "text": [
      "Shape of the data frame is:  (3096313, 28)\n",
      "\n",
      "View top 5 rows: \n",
      "\n",
      "    cicid   i94yr  i94mon  i94cit  i94res i94port  arrdate  i94mode i94addr  \\\n",
      "0     6.0  2016.0     4.0   692.0   692.0  b'XXX'  20573.0      NaN     NaN   \n",
      "1     7.0  2016.0     4.0   254.0   276.0  b'ATL'  20551.0      1.0   b'AL'   \n",
      "2    15.0  2016.0     4.0   101.0   101.0  b'WAS'  20545.0      1.0   b'MI'   \n",
      "3    16.0  2016.0     4.0   101.0   101.0  b'NYC'  20545.0      1.0   b'MA'   \n",
      "4    17.0  2016.0     4.0   101.0   101.0  b'NYC'  20545.0      1.0   b'MA'   \n",
      "5    18.0  2016.0     4.0   101.0   101.0  b'NYC'  20545.0      1.0   b'MI'   \n",
      "6    19.0  2016.0     4.0   101.0   101.0  b'NYC'  20545.0      1.0   b'NJ'   \n",
      "7    20.0  2016.0     4.0   101.0   101.0  b'NYC'  20545.0      1.0   b'NJ'   \n",
      "8    21.0  2016.0     4.0   101.0   101.0  b'NYC'  20545.0      1.0   b'NY'   \n",
      "9    22.0  2016.0     4.0   101.0   101.0  b'NYC'  20545.0      1.0   b'NY'   \n",
      "10   23.0  2016.0     4.0   101.0   101.0  b'NYC'  20545.0      1.0   b'NY'   \n",
      "11   24.0  2016.0     4.0   101.0   101.0  b'TOR'  20545.0      1.0   b'MO'   \n",
      "12   27.0  2016.0     4.0   101.0   101.0  b'BOS'  20545.0      1.0   b'MA'   \n",
      "13   28.0  2016.0     4.0   101.0   101.0  b'ATL'  20545.0      1.0   b'MA'   \n",
      "14   29.0  2016.0     4.0   101.0   101.0  b'ATL'  20545.0      1.0   b'MA'   \n",
      "15   30.0  2016.0     4.0   101.0   101.0  b'ATL'  20545.0      1.0   b'NJ'   \n",
      "16   31.0  2016.0     4.0   101.0   101.0  b'ATL'  20545.0      1.0   b'NY'   \n",
      "17   33.0  2016.0     4.0   101.0   101.0  b'HOU'  20545.0      1.0   b'TX'   \n",
      "18   34.0  2016.0     4.0   101.0   101.0  b'NYC'  20545.0      1.0   b'CT'   \n",
      "19   35.0  2016.0     4.0   101.0   101.0  b'NYC'  20545.0      1.0   b'CT'   \n",
      "\n",
      "    depdate   ...     entdepu  matflag  biryear      dtaddto gender insnum  \\\n",
      "0       NaN   ...        b'U'      NaN   1979.0  b'10282016'    NaN    NaN   \n",
      "1       NaN   ...        b'Y'      NaN   1991.0       b'D/S'   b'M'    NaN   \n",
      "2   20691.0   ...         NaN     b'M'   1961.0  b'09302016'   b'M'    NaN   \n",
      "3   20567.0   ...         NaN     b'M'   1988.0  b'09302016'    NaN    NaN   \n",
      "4   20567.0   ...         NaN     b'M'   2012.0  b'09302016'    NaN    NaN   \n",
      "5   20555.0   ...         NaN     b'M'   1959.0  b'09302016'    NaN    NaN   \n",
      "6   20558.0   ...         NaN     b'M'   1953.0  b'09302016'    NaN    NaN   \n",
      "7   20558.0   ...         NaN     b'M'   1959.0  b'09302016'    NaN    NaN   \n",
      "8   20553.0   ...         NaN     b'M'   1970.0  b'09302016'    NaN    NaN   \n",
      "9   20562.0   ...         NaN     b'M'   1968.0  b'09302016'    NaN    NaN   \n",
      "10  20671.0   ...         NaN     b'M'   1964.0  b'09302016'    NaN    NaN   \n",
      "11  20554.0   ...         NaN     b'M'   1983.0  b'09302016'    NaN    NaN   \n",
      "12  20549.0   ...         NaN     b'M'   1958.0  b'04062016'   b'M'    NaN   \n",
      "13  20549.0   ...         NaN     b'M'   1960.0  b'04062016'   b'F'    NaN   \n",
      "14  20561.0   ...         NaN     b'M'   1954.0  b'09302016'   b'M'    NaN   \n",
      "15  20578.0   ...         NaN     b'M'   1967.0  b'09302016'   b'M'    NaN   \n",
      "16  20611.0   ...         NaN     b'M'   1973.0  b'09302016'   b'M'    NaN   \n",
      "17  20554.0   ...         NaN     b'M'   1963.0  b'09302016'   b'F'    NaN   \n",
      "18      NaN   ...         NaN      NaN   1968.0  b'09302016'   b'M'    NaN   \n",
      "19      NaN   ...         NaN      NaN   1942.0  b'09302016'   b'F'    NaN   \n",
      "\n",
      "   airline        admnum     fltno visatype  \n",
      "0      NaN  1.897628e+09       NaN    b'B2'  \n",
      "1      NaN  3.736796e+09  b'00296'    b'F1'  \n",
      "2    b'OS'  6.666432e+08     b'93'    b'B2'  \n",
      "3    b'AA'  9.246846e+10  b'00199'    b'B2'  \n",
      "4    b'AA'  9.246846e+10  b'00199'    b'B2'  \n",
      "5    b'AZ'  9.247104e+10  b'00602'    b'B1'  \n",
      "6    b'AZ'  9.247140e+10  b'00602'    b'B2'  \n",
      "7    b'AZ'  9.247161e+10  b'00602'    b'B2'  \n",
      "8    b'AZ'  9.247080e+10  b'00602'    b'B2'  \n",
      "9    b'AZ'  9.247849e+10  b'00608'    b'B1'  \n",
      "10   b'TK'  9.250139e+10  b'00001'    b'B2'  \n",
      "11   b'MQ'  9.249091e+10  b'03348'    b'B2'  \n",
      "12   b'LH'  9.247876e+10  b'00422'    b'B1'  \n",
      "13   b'LH'  9.247890e+10  b'00422'    b'B1'  \n",
      "14   b'AZ'  9.250378e+10  b'00614'    b'B2'  \n",
      "15   b'OS'  9.247021e+10  b'00089'    b'B2'  \n",
      "16   b'OS'  9.247129e+10  b'00089'    b'B2'  \n",
      "17   b'TK'  9.250930e+10  b'00033'    b'B2'  \n",
      "18   b'AZ'  9.247042e+10  b'00602'    b'B2'  \n",
      "19   b'TK'  6.697122e+08      b'1'    b'B2'  \n",
      "\n",
      "[20 rows x 28 columns]\n"
     ]
    }
   ],
   "source": [
    "getDetails(df_immigration)"
   ]
  },
  {
   "cell_type": "code",
   "execution_count": 11,
   "metadata": {
    "editable": true
   },
   "outputs": [
    {
     "data": {
      "text/plain": [
       "Index(['cicid', 'i94yr', 'i94mon', 'i94cit', 'i94res', 'i94port', 'arrdate',\n",
       "       'i94mode', 'i94addr', 'depdate', 'i94bir', 'i94visa', 'count',\n",
       "       'dtadfile', 'visapost', 'occup', 'entdepa', 'entdepd', 'entdepu',\n",
       "       'matflag', 'biryear', 'dtaddto', 'gender', 'insnum', 'airline',\n",
       "       'admnum', 'fltno', 'visatype'],\n",
       "      dtype='object')"
      ]
     },
     "execution_count": 11,
     "metadata": {},
     "output_type": "execute_result"
    }
   ],
   "source": [
    "df_immigration.columns"
   ]
  },
  {
   "cell_type": "code",
   "execution_count": 19,
   "metadata": {
    "editable": true
   },
   "outputs": [
    {
     "name": "stdout",
     "output_type": "stream",
     "text": [
      "{'cicid': 0, 'i94yr': 0, 'i94mon': 0, 'i94cit': 0, 'i94res': 0, 'i94port': 0, 'arrdate': 0, 'i94mode': 239, 'i94addr': 152372, 'depdate': 142457, 'i94bir': 802, 'i94visa': 0, 'count': 0, 'dtadfile': 1, 'visapost': 1881250, 'occup': 3088187, 'entdepa': 238, 'entdepd': 138429, 'entdepu': 3095921, 'matflag': 138429, 'biryear': 802, 'dtaddto': 477, 'gender': 414269, 'insnum': 2982605, 'airline': 83627, 'admnum': 0, 'fltno': 19549, 'visatype': 0}\n",
      "['visapost', 'occup', 'entdepu', 'gender', 'insnum']\n"
     ]
    }
   ],
   "source": [
    "col_dict, drop_col_immigration = getColumnsWithNANs(df_immigration)\n",
    "print(col_dict)\n",
    "print(drop_col_immigration)"
   ]
  },
  {
   "cell_type": "code",
   "execution_count": 13,
   "metadata": {
    "editable": true
   },
   "outputs": [
    {
     "name": "stdout",
     "output_type": "stream",
     "text": [
      "Shape of the data frame is:  (55075, 12)\n",
      "\n",
      "View top 5 rows: \n",
      "\n",
      "   ident           type                                name  elevation_ft  \\\n",
      "0    00A       heliport                   Total Rf Heliport          11.0   \n",
      "1   00AA  small_airport                Aero B Ranch Airport        3435.0   \n",
      "2   00AK  small_airport                        Lowell Field         450.0   \n",
      "3   00AL  small_airport                        Epps Airpark         820.0   \n",
      "4   00AR         closed  Newport Hospital & Clinic Heliport         237.0   \n",
      "5   00AS  small_airport                      Fulton Airport        1100.0   \n",
      "6   00AZ  small_airport                      Cordes Airport        3810.0   \n",
      "7   00CA  small_airport             Goldstone /Gts/ Airport        3038.0   \n",
      "8   00CL  small_airport                 Williams Ag Airport          87.0   \n",
      "9   00CN       heliport     Kitchen Creek Helibase Heliport        3350.0   \n",
      "10  00CO         closed                          Cass Field        4830.0   \n",
      "11  00FA  small_airport                 Grass Patch Airport          53.0   \n",
      "12  00FD       heliport                  Ringhaver Heliport          25.0   \n",
      "13  00FL  small_airport                   River Oak Airport          35.0   \n",
      "14  00GA  small_airport                    Lt World Airport         700.0   \n",
      "15  00GE       heliport                    Caffrey Heliport         957.0   \n",
      "16  00HI       heliport                  Kaupulehu Heliport          43.0   \n",
      "17  00ID  small_airport                Delta Shores Airport        2064.0   \n",
      "18  00IG  small_airport                       Goltl Airport        3359.0   \n",
      "19  00II       heliport  Bailey Generation Station Heliport         600.0   \n",
      "\n",
      "   continent iso_country iso_region  municipality gps_code iata_code  \\\n",
      "0        NaN          US      US-PA      Bensalem      00A       NaN   \n",
      "1        NaN          US      US-KS         Leoti     00AA       NaN   \n",
      "2        NaN          US      US-AK  Anchor Point     00AK       NaN   \n",
      "3        NaN          US      US-AL       Harvest     00AL       NaN   \n",
      "4        NaN          US      US-AR       Newport      NaN       NaN   \n",
      "5        NaN          US      US-OK          Alex     00AS       NaN   \n",
      "6        NaN          US      US-AZ        Cordes     00AZ       NaN   \n",
      "7        NaN          US      US-CA       Barstow     00CA       NaN   \n",
      "8        NaN          US      US-CA         Biggs     00CL       NaN   \n",
      "9        NaN          US      US-CA   Pine Valley     00CN       NaN   \n",
      "10       NaN          US      US-CO    Briggsdale      NaN       NaN   \n",
      "11       NaN          US      US-FL      Bushnell     00FA       NaN   \n",
      "12       NaN          US      US-FL     Riverview     00FD       NaN   \n",
      "13       NaN          US      US-FL    Okeechobee     00FL       NaN   \n",
      "14       NaN          US      US-GA      Lithonia     00GA       NaN   \n",
      "15       NaN          US      US-GA         Hiram     00GE       NaN   \n",
      "16       NaN          US      US-HI   Kailua/Kona     00HI       NaN   \n",
      "17       NaN          US      US-ID    Clark Fork     00ID       NaN   \n",
      "18       NaN          US      US-KS      McDonald     00IG       NaN   \n",
      "19       NaN          US      US-IN    Chesterton     00II       NaN   \n",
      "\n",
      "   local_code                              coordinates  \n",
      "0         00A       -74.93360137939453, 40.07080078125  \n",
      "1        00AA                   -101.473911, 38.704022  \n",
      "2        00AK              -151.695999146, 59.94919968  \n",
      "3        00AL    -86.77030181884766, 34.86479949951172  \n",
      "4         NaN                      -91.254898, 35.6087  \n",
      "5        00AS                  -97.8180194, 34.9428028  \n",
      "6        00AZ  -112.16500091552734, 34.305599212646484  \n",
      "7        00CA       -116.888000488, 35.350498199499995  \n",
      "8        00CL                   -121.763427, 39.427188  \n",
      "9        00CN                 -116.4597417, 32.7273736  \n",
      "10        NaN                   -104.344002, 40.622202  \n",
      "11       00FA    -82.21900177001953, 28.64550018310547  \n",
      "12       00FD   -82.34539794921875, 28.846599578857422  \n",
      "13       00FL   -80.96920013427734, 27.230899810791016  \n",
      "14       00GA    -84.06829833984375, 33.76750183105469  \n",
      "15       00GE    -84.73390197753906, 33.88420104980469  \n",
      "16       00HI                   -155.980233, 19.832715  \n",
      "17       00ID  -116.21399688720703, 48.145301818847656  \n",
      "18       00IG                   -101.395994, 39.724028  \n",
      "19       00II     -87.122802734375, 41.644500732421875  \n"
     ]
    }
   ],
   "source": [
    "getDetails(df_airport_codes)"
   ]
  },
  {
   "cell_type": "code",
   "execution_count": 21,
   "metadata": {
    "editable": true
   },
   "outputs": [
    {
     "name": "stdout",
     "output_type": "stream",
     "text": [
      "{'ident': 0, 'type': 0, 'name': 0, 'elevation_ft': 7006, 'continent': 27719, 'iso_country': 247, 'iso_region': 0, 'municipality': 5676, 'gps_code': 14045, 'iata_code': 45886, 'local_code': 26389, 'coordinates': 0}\n",
      "['elevation_ft', 'continent', 'municipality', 'gps_code', 'iata_code', 'local_code']\n"
     ]
    }
   ],
   "source": [
    "col_dict, drop_col_airport_codes = getColumnsWithNANs(df_airport_codes)\n",
    "print(col_dict)\n",
    "print(drop_col_airport_codes)"
   ]
  },
  {
   "cell_type": "code",
   "execution_count": 15,
   "metadata": {
    "editable": true
   },
   "outputs": [
    {
     "name": "stdout",
     "output_type": "stream",
     "text": [
      "Shape of the data frame is:  (8599212, 7)\n",
      "\n",
      "View top 5 rows: \n",
      "\n",
      "            dt  AverageTemperature  AverageTemperatureUncertainty   City  \\\n",
      "0   1743-11-01               6.068                          1.737  Århus   \n",
      "1   1743-12-01                 NaN                            NaN  Århus   \n",
      "2   1744-01-01                 NaN                            NaN  Århus   \n",
      "3   1744-02-01                 NaN                            NaN  Århus   \n",
      "4   1744-03-01                 NaN                            NaN  Århus   \n",
      "5   1744-04-01               5.788                          3.624  Århus   \n",
      "6   1744-05-01              10.644                          1.283  Århus   \n",
      "7   1744-06-01              14.051                          1.347  Århus   \n",
      "8   1744-07-01              16.082                          1.396  Århus   \n",
      "9   1744-08-01                 NaN                            NaN  Århus   \n",
      "10  1744-09-01              12.781                          1.454  Århus   \n",
      "11  1744-10-01               7.950                          1.630  Århus   \n",
      "12  1744-11-01               4.639                          1.302  Århus   \n",
      "13  1744-12-01               0.122                          1.756  Århus   \n",
      "14  1745-01-01              -1.333                          1.642  Århus   \n",
      "15  1745-02-01              -2.732                          1.358  Århus   \n",
      "16  1745-03-01               0.129                          1.088  Århus   \n",
      "17  1745-04-01               4.042                          1.138  Århus   \n",
      "18  1745-05-01                 NaN                            NaN  Århus   \n",
      "19  1745-06-01                 NaN                            NaN  Århus   \n",
      "\n",
      "    Country Latitude Longitude  \n",
      "0   Denmark   57.05N    10.33E  \n",
      "1   Denmark   57.05N    10.33E  \n",
      "2   Denmark   57.05N    10.33E  \n",
      "3   Denmark   57.05N    10.33E  \n",
      "4   Denmark   57.05N    10.33E  \n",
      "5   Denmark   57.05N    10.33E  \n",
      "6   Denmark   57.05N    10.33E  \n",
      "7   Denmark   57.05N    10.33E  \n",
      "8   Denmark   57.05N    10.33E  \n",
      "9   Denmark   57.05N    10.33E  \n",
      "10  Denmark   57.05N    10.33E  \n",
      "11  Denmark   57.05N    10.33E  \n",
      "12  Denmark   57.05N    10.33E  \n",
      "13  Denmark   57.05N    10.33E  \n",
      "14  Denmark   57.05N    10.33E  \n",
      "15  Denmark   57.05N    10.33E  \n",
      "16  Denmark   57.05N    10.33E  \n",
      "17  Denmark   57.05N    10.33E  \n",
      "18  Denmark   57.05N    10.33E  \n",
      "19  Denmark   57.05N    10.33E  \n"
     ]
    }
   ],
   "source": [
    "getDetails(df_cityTemperature)"
   ]
  },
  {
   "cell_type": "code",
   "execution_count": 22,
   "metadata": {
    "editable": true
   },
   "outputs": [
    {
     "name": "stdout",
     "output_type": "stream",
     "text": [
      "{'dt': 0, 'AverageTemperature': 364130, 'AverageTemperatureUncertainty': 364130, 'City': 0, 'Country': 0, 'Latitude': 0, 'Longitude': 0}\n",
      "[]\n"
     ]
    }
   ],
   "source": [
    "col_dict, drop_col_cityTemperature = getColumnsWithNANs(df_cityTemperature)\n",
    "print(col_dict)\n",
    "print(drop_col_cityTemperature)"
   ]
  },
  {
   "cell_type": "code",
   "execution_count": 21,
   "metadata": {
    "editable": true
   },
   "outputs": [
    {
     "name": "stdout",
     "output_type": "stream",
     "text": [
      "Shape of the data frame is:  (2891, 12)\n",
      "\n",
      "View top 5 rows: \n",
      "\n",
      "                City           State  Median Age  Male Population  \\\n",
      "0      Silver Spring        Maryland        33.8          40601.0   \n",
      "1             Quincy   Massachusetts        41.0          44129.0   \n",
      "2             Hoover         Alabama        38.5          38040.0   \n",
      "3   Rancho Cucamonga      California        34.5          88127.0   \n",
      "4             Newark      New Jersey        34.6         138040.0   \n",
      "5             Peoria        Illinois        33.1          56229.0   \n",
      "6           Avondale         Arizona        29.1          38712.0   \n",
      "7        West Covina      California        39.8          51629.0   \n",
      "8           O'Fallon        Missouri        36.0          41762.0   \n",
      "9         High Point  North Carolina        35.5          51751.0   \n",
      "10            Folsom      California        40.9          41051.0   \n",
      "11            Folsom      California        40.9          41051.0   \n",
      "12      Philadelphia    Pennsylvania        34.1         741270.0   \n",
      "13           Wichita          Kansas        34.6         192354.0   \n",
      "14           Wichita          Kansas        34.6         192354.0   \n",
      "15        Fort Myers         Florida        37.3          36850.0   \n",
      "16        Pittsburgh    Pennsylvania        32.9         149690.0   \n",
      "17            Laredo           Texas        28.8         124305.0   \n",
      "18          Berkeley      California        32.5          60142.0   \n",
      "19       Santa Clara      California        35.2          63278.0   \n",
      "20             Allen    Pennsylvania        33.5          60626.0   \n",
      "21           Hampton        Virginia        35.5          66214.0   \n",
      "22       Bolingbrook        Illinois        33.7          36295.0   \n",
      "23         Frederick        Maryland        36.1          33146.0   \n",
      "24            Sparks          Nevada        36.1          47780.0   \n",
      "25    Rancho Cordova      California        33.8          34844.0   \n",
      "26       Westminster        Colorado        37.8          54866.0   \n",
      "27          Lakewood        Colorado        37.7          76013.0   \n",
      "28             Flint        Michigan        35.3          48984.0   \n",
      "29         New Haven     Connecticut        29.9          63765.0   \n",
      "\n",
      "    Female Population  Total Population  Number of Veterans  Foreign-born  \\\n",
      "0             41862.0             82463              1562.0       30908.0   \n",
      "1             49500.0             93629              4147.0       32935.0   \n",
      "2             46799.0             84839              4819.0        8229.0   \n",
      "3             87105.0            175232              5821.0       33878.0   \n",
      "4            143873.0            281913              5829.0       86253.0   \n",
      "5             62432.0            118661              6634.0        7517.0   \n",
      "6             41971.0             80683              4815.0        8355.0   \n",
      "7             56860.0            108489              3800.0       37038.0   \n",
      "8             43270.0             85032              5783.0        3269.0   \n",
      "9             58077.0            109828              5204.0       16315.0   \n",
      "10            35317.0             76368              4187.0       13234.0   \n",
      "11            35317.0             76368              4187.0       13234.0   \n",
      "12           826172.0           1567442             61995.0      205339.0   \n",
      "13           197601.0            389955             23978.0       40270.0   \n",
      "14           197601.0            389955             23978.0       40270.0   \n",
      "15            37165.0             74015              4312.0       15365.0   \n",
      "16           154695.0            304385             17728.0       28187.0   \n",
      "17           131484.0            255789              4921.0       68427.0   \n",
      "18            60829.0            120971              3736.0       25000.0   \n",
      "19            62938.0            126216              4426.0       52281.0   \n",
      "20            59581.0            120207              5691.0       19652.0   \n",
      "21            70240.0            136454             19638.0        6204.0   \n",
      "22            35801.0             72096              2951.0       15212.0   \n",
      "23            36336.0             69482              3870.0       14211.0   \n",
      "24            48318.0             96098              7315.0       15690.0   \n",
      "25            36182.0             71026              4590.0       17020.0   \n",
      "26            58251.0            113117              6512.0       11361.0   \n",
      "27            76576.0            152589              9988.0       14169.0   \n",
      "28            49313.0             98297              3757.0        2138.0   \n",
      "29            66545.0            130310              2567.0       25871.0   \n",
      "\n",
      "    Average Household Size State Code                               Race  \\\n",
      "0                     2.60         MD                 Hispanic or Latino   \n",
      "1                     2.39         MA                              White   \n",
      "2                     2.58         AL                              Asian   \n",
      "3                     3.18         CA          Black or African-American   \n",
      "4                     2.73         NJ                              White   \n",
      "5                     2.40         IL  American Indian and Alaska Native   \n",
      "6                     3.18         AZ          Black or African-American   \n",
      "7                     3.56         CA                              Asian   \n",
      "8                     2.77         MO                 Hispanic or Latino   \n",
      "9                     2.65         NC                              Asian   \n",
      "10                    2.62         CA                 Hispanic or Latino   \n",
      "11                    2.62         CA  American Indian and Alaska Native   \n",
      "12                    2.61         PA                              Asian   \n",
      "13                    2.56         KS                 Hispanic or Latino   \n",
      "14                    2.56         KS  American Indian and Alaska Native   \n",
      "15                    2.45         FL                              White   \n",
      "16                    2.13         PA                              White   \n",
      "17                    3.66         TX  American Indian and Alaska Native   \n",
      "18                    2.35         CA                              Asian   \n",
      "19                    2.75         CA                              White   \n",
      "20                    2.67         PA          Black or African-American   \n",
      "21                    2.48         VA          Black or African-American   \n",
      "22                    3.42         IL  American Indian and Alaska Native   \n",
      "23                    2.48         MD                              White   \n",
      "24                    2.63         NV                 Hispanic or Latino   \n",
      "25                    2.86         CA                              Asian   \n",
      "26                    2.63         CO                 Hispanic or Latino   \n",
      "27                    2.29         CO                 Hispanic or Latino   \n",
      "28                    2.38         MI                              White   \n",
      "29                    2.48         CT  American Indian and Alaska Native   \n",
      "\n",
      "     Count  \n",
      "0    25924  \n",
      "1    58723  \n",
      "2     4759  \n",
      "3    24437  \n",
      "4    76402  \n",
      "5     1343  \n",
      "6    11592  \n",
      "7    32716  \n",
      "8     2583  \n",
      "9    11060  \n",
      "10    5822  \n",
      "11     998  \n",
      "12  122721  \n",
      "13   65162  \n",
      "14    8791  \n",
      "15   50169  \n",
      "16  208863  \n",
      "17    1253  \n",
      "18   27089  \n",
      "19   55847  \n",
      "20   22304  \n",
      "21   70303  \n",
      "22     323  \n",
      "23   49181  \n",
      "24   29159  \n",
      "25   12653  \n",
      "26   23355  \n",
      "27   33630  \n",
      "28   44786  \n",
      "29    2205  \n"
     ]
    }
   ],
   "source": [
    "getDetails(df_cityDemographics)"
   ]
  },
  {
   "cell_type": "code",
   "execution_count": 23,
   "metadata": {
    "editable": true
   },
   "outputs": [
    {
     "name": "stdout",
     "output_type": "stream",
     "text": [
      "{'City': 0, 'State': 0, 'Median Age': 0, 'Male Population': 3, 'Female Population': 3, 'Total Population': 0, 'Number of Veterans': 13, 'Foreign-born': 13, 'Average Household Size': 16, 'State Code': 0, 'Race': 0, 'Count': 0}\n",
      "[]\n"
     ]
    }
   ],
   "source": [
    "col_dict, drop_col_cityDemographics = getColumnsWithNANs(df_cityDemographics)\n",
    "print(col_dict)\n",
    "print(drop_col_cityDemographics)"
   ]
  },
  {
   "cell_type": "code",
   "execution_count": 39,
   "metadata": {
    "editable": true
   },
   "outputs": [],
   "source": []
  },
  {
   "cell_type": "markdown",
   "metadata": {
    "editable": true
   },
   "source": [
    "### Step 3: Define the Data Model"
   ]
  },
  {
   "cell_type": "markdown",
   "metadata": {
    "editable": true
   },
   "source": [
    "### Step 4: Run Pipelines to Model the Data \n",
    "#### 4.1 Create the data model"
   ]
  },
  {
   "cell_type": "markdown",
   "metadata": {
    "editable": true
   },
   "source": [
    "- Refer notebook 'DECapstoneProjectNotebook_1.ipynb' "
   ]
  },
  {
   "cell_type": "markdown",
   "metadata": {
    "editable": true
   },
   "source": [
    "#### 4.2 Data Quality Checks\n"
   ]
  },
  {
   "cell_type": "markdown",
   "metadata": {
    "editable": true
   },
   "source": [
    "#### 4.3 Data dictionary \n",
    "- refer I94_SAS_Labels_Descriptions.SAS"
   ]
  },
  {
   "cell_type": "markdown",
   "metadata": {
    "editable": true
   },
   "source": [
    "#### Step 5: Complete Project Write Up\n"
   ]
  },
  {
   "cell_type": "code",
   "execution_count": null,
   "metadata": {
    "editable": true
   },
   "outputs": [],
   "source": []
  }
 ],
 "metadata": {
  "kernelspec": {
   "display_name": "Python 3",
   "language": "python",
   "name": "python3"
  },
  "language_info": {
   "codemirror_mode": {
    "name": "ipython",
    "version": 3
   },
   "file_extension": ".py",
   "mimetype": "text/x-python",
   "name": "python",
   "nbconvert_exporter": "python",
   "pygments_lexer": "ipython3",
   "version": "3.6.3"
  }
 },
 "nbformat": 4,
 "nbformat_minor": 4
}
