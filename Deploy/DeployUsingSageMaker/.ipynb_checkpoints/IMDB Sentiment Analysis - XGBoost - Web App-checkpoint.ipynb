{
 "cells": [
  {
   "cell_type": "markdown",
   "metadata": {},
   "source": [
    "# Sentiment Analysis Web App\n",
    "\n",
    "_Deep Learning Nanodegree Program | Deployment_\n",
    "\n",
    "---\n",
    "\n",
    "In this notebook we will use Amazon's SageMaker service to construct a random tree model to predict the sentiment of a movie review. In addition, we will deploy this model to an endpoint and construct a very simple web app which will interact with our model's deployed endpoint.\n",
    "\n",
    "## General Outline\n",
    "\n",
    "Typically, when using a notebook instance with SageMaker, you will proceed through the following steps. Of course, not every step will need to be done with each project. Also, there is quite a lot of room for variation in many of the steps, as you will see throughout these lessons.\n",
    "\n",
    "1. Download or otherwise retrieve the data.\n",
    "2. Process / Prepare the data.\n",
    "3. Upload the processed data to S3.\n",
    "4. Train a chosen model.\n",
    "5. Test the trained model (typically using a batch transform job).\n",
    "6. Deploy the trained model.\n",
    "7. Use the deployed model.\n",
    "\n",
    "In this notebook we will progress through each of the steps above. We will also see that the final step, using the deployed model, can be quite challenging."
   ]
  },
  {
   "cell_type": "markdown",
   "metadata": {},
   "source": [
    "## Step 1: Downloading the data\n",
    "\n",
    "The dataset we are going to use is very popular among researchers in Natural Language Processing, usually referred to as the [IMDb dataset](http://ai.stanford.edu/~amaas/data/sentiment/). It consists of movie reviews from the website [imdb.com](http://www.imdb.com/), each labeled as either '**pos**itive', if the reviewer enjoyed the film, or '**neg**ative' otherwise.\n",
    "\n",
    "> Maas, Andrew L., et al. [Learning Word Vectors for Sentiment Analysis](http://ai.stanford.edu/~amaas/data/sentiment/). In _Proceedings of the 49th Annual Meeting of the Association for Computational Linguistics: Human Language Technologies_. Association for Computational Linguistics, 2011.\n",
    "\n",
    "We begin by using some Jupyter Notebook magic to download and extract the dataset."
   ]
  },
  {
   "cell_type": "code",
   "execution_count": 1,
   "metadata": {},
   "outputs": [
    {
     "name": "stdout",
     "output_type": "stream",
     "text": [
      "mkdir: cannot create directory ‘../data’: File exists\n",
      "--2019-05-04 16:33:14--  http://ai.stanford.edu/~amaas/data/sentiment/aclImdb_v1.tar.gz\n",
      "Resolving ai.stanford.edu (ai.stanford.edu)... 171.64.68.10\n",
      "Connecting to ai.stanford.edu (ai.stanford.edu)|171.64.68.10|:80... connected.\n",
      "HTTP request sent, awaiting response... 200 OK\n",
      "Length: 84125825 (80M) [application/x-gzip]\n",
      "Saving to: ‘../data/aclImdb_v1.tar.gz’\n",
      "\n",
      "../data/aclImdb_v1. 100%[===================>]  80.23M  24.5MB/s    in 4.0s    \n",
      "\n",
      "2019-05-04 16:33:18 (19.9 MB/s) - ‘../data/aclImdb_v1.tar.gz’ saved [84125825/84125825]\n",
      "\n"
     ]
    }
   ],
   "source": [
    "%mkdir ../data\n",
    "!wget -O ../data/aclImdb_v1.tar.gz http://ai.stanford.edu/~amaas/data/sentiment/aclImdb_v1.tar.gz\n",
    "!tar -zxf ../data/aclImdb_v1.tar.gz -C ../data"
   ]
  },
  {
   "cell_type": "markdown",
   "metadata": {},
   "source": [
    "## Step 2: Preparing and Processing the data\n",
    "\n",
    "The data we have downloaded is split into various files, each of which contains a single review. It will be much easier going forward if we combine these individual files into two large files, one for training and one for testing."
   ]
  },
  {
   "cell_type": "code",
   "execution_count": 2,
   "metadata": {},
   "outputs": [],
   "source": [
    "import os\n",
    "import glob\n",
    "\n",
    "def read_imdb_data(data_dir='../data/aclImdb'):\n",
    "    data = {}\n",
    "    labels = {}\n",
    "    \n",
    "    for data_type in ['train', 'test']:\n",
    "        data[data_type] = {}\n",
    "        labels[data_type] = {}\n",
    "        \n",
    "        for sentiment in ['pos', 'neg']:\n",
    "            data[data_type][sentiment] = []\n",
    "            labels[data_type][sentiment] = []\n",
    "            \n",
    "            path = os.path.join(data_dir, data_type, sentiment, '*.txt')\n",
    "            files = glob.glob(path)\n",
    "            \n",
    "            for f in files:\n",
    "                with open(f) as review:\n",
    "                    data[data_type][sentiment].append(review.read())\n",
    "                    # Here we represent a positive review by '1' and a negative review by '0'\n",
    "                    labels[data_type][sentiment].append(1 if sentiment == 'pos' else 0)\n",
    "                    \n",
    "            assert len(data[data_type][sentiment]) == len(labels[data_type][sentiment]), \\\n",
    "                    \"{}/{} data size does not match labels size\".format(data_type, sentiment)\n",
    "                \n",
    "    return data, labels"
   ]
  },
  {
   "cell_type": "code",
   "execution_count": 3,
   "metadata": {},
   "outputs": [
    {
     "name": "stdout",
     "output_type": "stream",
     "text": [
      "IMDB reviews: train = 12500 pos / 12500 neg, test = 12500 pos / 12500 neg\n"
     ]
    }
   ],
   "source": [
    "data, labels = read_imdb_data()\n",
    "print(\"IMDB reviews: train = {} pos / {} neg, test = {} pos / {} neg\".format(\n",
    "            len(data['train']['pos']), len(data['train']['neg']),\n",
    "            len(data['test']['pos']), len(data['test']['neg'])))"
   ]
  },
  {
   "cell_type": "code",
   "execution_count": 4,
   "metadata": {},
   "outputs": [],
   "source": [
    "from sklearn.utils import shuffle\n",
    "\n",
    "def prepare_imdb_data(data, labels):\n",
    "    \"\"\"Prepare training and test sets from IMDb movie reviews.\"\"\"\n",
    "    \n",
    "    #Combine positive and negative reviews and labels\n",
    "    data_train = data['train']['pos'] + data['train']['neg']\n",
    "    data_test = data['test']['pos'] + data['test']['neg']\n",
    "    labels_train = labels['train']['pos'] + labels['train']['neg']\n",
    "    labels_test = labels['test']['pos'] + labels['test']['neg']\n",
    "    \n",
    "    #Shuffle reviews and corresponding labels within training and test sets\n",
    "    data_train, labels_train = shuffle(data_train, labels_train)\n",
    "    data_test, labels_test = shuffle(data_test, labels_test)\n",
    "    \n",
    "    # Return a unified training data, test data, training labels, test labets\n",
    "    return data_train, data_test, labels_train, labels_test"
   ]
  },
  {
   "cell_type": "code",
   "execution_count": 5,
   "metadata": {},
   "outputs": [
    {
     "name": "stdout",
     "output_type": "stream",
     "text": [
      "IMDb reviews (combined): train = 25000, test = 25000\n"
     ]
    }
   ],
   "source": [
    "train_X, test_X, train_y, test_y = prepare_imdb_data(data, labels)\n",
    "print(\"IMDb reviews (combined): train = {}, test = {}\".format(len(train_X), len(test_X)))"
   ]
  },
  {
   "cell_type": "code",
   "execution_count": 6,
   "metadata": {},
   "outputs": [
    {
     "data": {
      "text/plain": [
       "'I\\'ve barely just made it through one episode (\"Crouch End\"). The dialog was stilted and down-right cringe worthy. The acting was tragic. Eion Bailey, despite his best attempts to be dramatic, remains mostly expressionless. His eyebrows hint at a recent botox treatment. Claire Forlani could have just as easily been playing the damsel in distress in a silent movie. The characters were cartoons, each playing their stereotypical cog in the plot mostly random, meandering plot. Cheesy special effects can be excused given the TV miniseries budget. But attempts to create suspense and surprise through distracting cinematography added to the unwatchability. I get the feeling that the ending was supposed to be witty and surprising, but it was lame and had little to do with the rest of the story. If I had to compare it\\'s overall quality to something else, I\\'d put this episode of \"Nightmares and Dreamscapes\" on par with the NBC\\'s Hercules.'"
      ]
     },
     "execution_count": 6,
     "metadata": {},
     "output_type": "execute_result"
    }
   ],
   "source": [
    "train_X[100]"
   ]
  },
  {
   "cell_type": "markdown",
   "metadata": {},
   "source": [
    "## Processing the data\n",
    "\n",
    "Now that we have our training and testing datasets merged and ready to use, we need to start processing the raw data into something that will be useable by our machine learning algorithm. To begin with, we remove any html formatting and any non-alpha numeric characters that may appear in the reviews. We will do this in a very simplistic way using Python's regular expression module. We will discuss the reason for this rather simplistic pre-processing later on."
   ]
  },
  {
   "cell_type": "code",
   "execution_count": 7,
   "metadata": {},
   "outputs": [],
   "source": [
    "import re\n",
    "\n",
    "REPLACE_NO_SPACE = re.compile(\"(\\.)|(\\;)|(\\:)|(\\!)|(\\')|(\\?)|(\\,)|(\\\")|(\\()|(\\))|(\\[)|(\\])\")\n",
    "REPLACE_WITH_SPACE = re.compile(\"(<br\\s*/><br\\s*/>)|(\\-)|(\\/)\")\n",
    "\n",
    "def review_to_words(review):\n",
    "    words = REPLACE_NO_SPACE.sub(\"\", review.lower())\n",
    "    words = REPLACE_WITH_SPACE.sub(\" \", words)\n",
    "    return words"
   ]
  },
  {
   "cell_type": "code",
   "execution_count": 8,
   "metadata": {},
   "outputs": [
    {
     "data": {
      "text/plain": [
       "'ive barely just made it through one episode crouch end the dialog was stilted and down right cringe worthy the acting was tragic eion bailey despite his best attempts to be dramatic remains mostly expressionless his eyebrows hint at a recent botox treatment claire forlani could have just as easily been playing the damsel in distress in a silent movie the characters were cartoons each playing their stereotypical cog in the plot mostly random meandering plot cheesy special effects can be excused given the tv miniseries budget but attempts to create suspense and surprise through distracting cinematography added to the unwatchability i get the feeling that the ending was supposed to be witty and surprising but it was lame and had little to do with the rest of the story if i had to compare its overall quality to something else id put this episode of nightmares and dreamscapes on par with the nbcs hercules'"
      ]
     },
     "execution_count": 8,
     "metadata": {},
     "output_type": "execute_result"
    }
   ],
   "source": [
    "review_to_words(train_X[100])"
   ]
  },
  {
   "cell_type": "code",
   "execution_count": 9,
   "metadata": {},
   "outputs": [],
   "source": [
    "import pickle\n",
    "\n",
    "cache_dir = os.path.join(\"../cache\", \"sentiment_web_app\")  # where to store cache files\n",
    "os.makedirs(cache_dir, exist_ok=True)  # ensure cache directory exists\n",
    "\n",
    "def preprocess_data(data_train, data_test, labels_train, labels_test,\n",
    "                    cache_dir=cache_dir, cache_file=\"preprocessed_data.pkl\"):\n",
    "    \"\"\"Convert each review to words; read from cache if available.\"\"\"\n",
    "\n",
    "    # If cache_file is not None, try to read from it first\n",
    "    cache_data = None\n",
    "    if cache_file is not None:\n",
    "        try:\n",
    "            with open(os.path.join(cache_dir, cache_file), \"rb\") as f:\n",
    "                cache_data = pickle.load(f)\n",
    "            print(\"Read preprocessed data from cache file:\", cache_file)\n",
    "        except:\n",
    "            pass  # unable to read from cache, but that's okay\n",
    "    \n",
    "    # If cache is missing, then do the heavy lifting\n",
    "    if cache_data is None:\n",
    "        # Preprocess training and test data to obtain words for each review\n",
    "        #words_train = list(map(review_to_words, data_train))\n",
    "        #words_test = list(map(review_to_words, data_test))\n",
    "        words_train = [review_to_words(review) for review in data_train]\n",
    "        words_test = [review_to_words(review) for review in data_test]\n",
    "        \n",
    "        # Write to cache file for future runs\n",
    "        if cache_file is not None:\n",
    "            cache_data = dict(words_train=words_train, words_test=words_test,\n",
    "                              labels_train=labels_train, labels_test=labels_test)\n",
    "            with open(os.path.join(cache_dir, cache_file), \"wb\") as f:\n",
    "                pickle.dump(cache_data, f)\n",
    "            print(\"Wrote preprocessed data to cache file:\", cache_file)\n",
    "    else:\n",
    "        # Unpack data loaded from cache file\n",
    "        words_train, words_test, labels_train, labels_test = (cache_data['words_train'],\n",
    "                cache_data['words_test'], cache_data['labels_train'], cache_data['labels_test'])\n",
    "    \n",
    "    return words_train, words_test, labels_train, labels_test"
   ]
  },
  {
   "cell_type": "code",
   "execution_count": 10,
   "metadata": {},
   "outputs": [
    {
     "name": "stdout",
     "output_type": "stream",
     "text": [
      "Read preprocessed data from cache file: preprocessed_data.pkl\n"
     ]
    }
   ],
   "source": [
    "# Preprocess data\n",
    "train_X, test_X, train_y, test_y = preprocess_data(train_X, test_X, train_y, test_y)"
   ]
  },
  {
   "cell_type": "markdown",
   "metadata": {},
   "source": [
    "### Extract Bag-of-Words features\n",
    "\n",
    "For the model we will be implementing, rather than using the reviews directly, we are going to transform each review into a Bag-of-Words feature representation. Keep in mind that 'in the wild' we will only have access to the training set so our transformer can only use the training set to construct a representation."
   ]
  },
  {
   "cell_type": "code",
   "execution_count": 11,
   "metadata": {},
   "outputs": [],
   "source": [
    "import numpy as np\n",
    "from sklearn.feature_extraction.text import CountVectorizer\n",
    "from sklearn.externals import joblib\n",
    "# joblib is an enhanced version of pickle that is more efficient for storing NumPy arrays\n",
    "\n",
    "def extract_BoW_features(words_train, words_test, vocabulary_size=5000,\n",
    "                         cache_dir=cache_dir, cache_file=\"bow_features.pkl\"):\n",
    "    \"\"\"Extract Bag-of-Words for a given set of documents, already preprocessed into words.\"\"\"\n",
    "    \n",
    "    # If cache_file is not None, try to read from it first\n",
    "    cache_data = None\n",
    "    if cache_file is not None:\n",
    "        try:\n",
    "            with open(os.path.join(cache_dir, cache_file), \"rb\") as f:\n",
    "                cache_data = joblib.load(f)\n",
    "            print(\"Read features from cache file:\", cache_file)\n",
    "        except:\n",
    "            pass  # unable to read from cache, but that's okay\n",
    "    \n",
    "    # If cache is missing, then do the heavy lifting\n",
    "    if cache_data is None:\n",
    "        # Fit a vectorizer to training documents and use it to transform them\n",
    "        # NOTE: Training documents have already been preprocessed and tokenized into words;\n",
    "        #       pass in dummy functions to skip those steps, e.g. preprocessor=lambda x: x\n",
    "        vectorizer = CountVectorizer(max_features=vocabulary_size)\n",
    "        features_train = vectorizer.fit_transform(words_train).toarray()\n",
    "\n",
    "        # Apply the same vectorizer to transform the test documents (ignore unknown words)\n",
    "        features_test = vectorizer.transform(words_test).toarray()\n",
    "        \n",
    "        # NOTE: Remember to convert the features using .toarray() for a compact representation\n",
    "        \n",
    "        # Write to cache file for future runs (store vocabulary as well)\n",
    "        if cache_file is not None:\n",
    "            vocabulary = vectorizer.vocabulary_\n",
    "            cache_data = dict(features_train=features_train, features_test=features_test,\n",
    "                             vocabulary=vocabulary)\n",
    "            with open(os.path.join(cache_dir, cache_file), \"wb\") as f:\n",
    "                joblib.dump(cache_data, f)\n",
    "            print(\"Wrote features to cache file:\", cache_file)\n",
    "    else:\n",
    "        # Unpack data loaded from cache file\n",
    "        features_train, features_test, vocabulary = (cache_data['features_train'],\n",
    "                cache_data['features_test'], cache_data['vocabulary'])\n",
    "    \n",
    "    # Return both the extracted features as well as the vocabulary\n",
    "    return features_train, features_test, vocabulary"
   ]
  },
  {
   "cell_type": "code",
   "execution_count": 12,
   "metadata": {},
   "outputs": [
    {
     "name": "stdout",
     "output_type": "stream",
     "text": [
      "Wrote features to cache file: bow_features.pkl\n"
     ]
    }
   ],
   "source": [
    "# Extract Bag of Words features for both training and test datasets\n",
    "train_X, test_X, vocabulary = extract_BoW_features(train_X, test_X)"
   ]
  },
  {
   "cell_type": "code",
   "execution_count": 13,
   "metadata": {},
   "outputs": [
    {
     "data": {
      "text/plain": [
       "5000"
      ]
     },
     "execution_count": 13,
     "metadata": {},
     "output_type": "execute_result"
    }
   ],
   "source": [
    "len(train_X[100])"
   ]
  },
  {
   "cell_type": "markdown",
   "metadata": {},
   "source": [
    "## Step 3: Upload data to S3\n",
    "\n",
    "Now that we have created the feature representation of our training (and testing) data, it is time to start setting up and using the XGBoost classifier provided by SageMaker.\n",
    "\n",
    "### Writing the datasets\n",
    "\n",
    "The XGBoost classifier that we will be using requires the dataset to be written to a file and stored using Amazon S3. To do this, we will start by splitting the training dataset into two parts, the data we will train the model with and a validation set. Then, we will write those datasets to a file locally and then upload the files to S3. In addition, we will write the test set to a file and upload that file to S3. This is so that we can use SageMakers Batch Transform functionality to test our model once we've fit it."
   ]
  },
  {
   "cell_type": "code",
   "execution_count": 14,
   "metadata": {},
   "outputs": [],
   "source": [
    "import pandas as pd\n",
    "\n",
    "# Earlier we shuffled the training dataset so to make things simple we can just assign\n",
    "# the first 10 000 reviews to the validation set and use the remaining reviews for training.\n",
    "val_X = pd.DataFrame(train_X[:10000])\n",
    "train_X = pd.DataFrame(train_X[10000:])\n",
    "\n",
    "val_y = pd.DataFrame(train_y[:10000])\n",
    "train_y = pd.DataFrame(train_y[10000:])"
   ]
  },
  {
   "cell_type": "markdown",
   "metadata": {},
   "source": [
    "The documentation for the XGBoost algorithm in SageMaker requires that the training and validation datasets should contain no headers or index and that the label should occur first for each sample.\n",
    "\n",
    "For more information about this and other algorithms, the SageMaker developer documentation can be found on __[Amazon's website.](https://docs.aws.amazon.com/sagemaker/latest/dg/)__"
   ]
  },
  {
   "cell_type": "code",
   "execution_count": 15,
   "metadata": {},
   "outputs": [],
   "source": [
    "# First we make sure that the local directory in which we'd like to store the training and validation csv files exists.\n",
    "data_dir = '../data/sentiment_web_app'\n",
    "if not os.path.exists(data_dir):\n",
    "    os.makedirs(data_dir)"
   ]
  },
  {
   "cell_type": "code",
   "execution_count": 16,
   "metadata": {},
   "outputs": [],
   "source": [
    "pd.DataFrame(test_X).to_csv(os.path.join(data_dir, 'test.csv'), header=False, index=False)\n",
    "\n",
    "pd.concat([val_y, val_X], axis=1).to_csv(os.path.join(data_dir, 'validation.csv'), header=False, index=False)\n",
    "pd.concat([train_y, train_X], axis=1).to_csv(os.path.join(data_dir, 'train.csv'), header=False, index=False)"
   ]
  },
  {
   "cell_type": "code",
   "execution_count": 17,
   "metadata": {},
   "outputs": [],
   "source": [
    "# To save a bit of memory we can set text_X, train_X, val_X, train_y and val_y to None.\n",
    "\n",
    "test_X = train_X = val_X = train_y = val_y = None"
   ]
  },
  {
   "cell_type": "markdown",
   "metadata": {},
   "source": [
    "### Uploading Training / Validation files to S3\n",
    "\n",
    "Amazon's S3 service allows us to store files that can be accessed by both the built-in training models such as the XGBoost model we will be using as well as custom models such as the one we will see a little later.\n",
    "\n",
    "For this and most other tasks we will be doing using SageMaker, there are two methods we could use. The first is to use the low level functionality of SageMaker which requires knowing each of the objects involved in the SageMaker environment. The second is to use the high level functionality in which certain choices have been made on the user's behalf. The low level approach benefits from allowing the user a great deal of flexibility while the high level approach makes development much quicker. For our purposes we will opt to use the high level approach although using the low-level approach is certainly an option.\n",
    "\n",
    "Recall the method `upload_data()` which is a member of the object representing our current SageMaker session. What this method does is upload the data to the default bucket (which is created if it does not exist) into the path described by the key_prefix variable. To see this for yourself, once you have uploaded the data files, go to the S3 console and look to see where the files have been uploaded.\n",
    "\n",
    "For additional resources, see the __[SageMaker API documentation](http://sagemaker.readthedocs.io/en/latest/)__ and in addition the __[SageMaker Developer Guide.](https://docs.aws.amazon.com/sagemaker/latest/dg/)__"
   ]
  },
  {
   "cell_type": "code",
   "execution_count": 18,
   "metadata": {},
   "outputs": [],
   "source": [
    "import sagemaker\n",
    "\n",
    "session = sagemaker.Session() # Store the current SageMaker session\n",
    "\n",
    "# S3 prefix (which folder will we use)\n",
    "prefix = 'sentiment-web-app'\n",
    "\n",
    "test_location = session.upload_data(os.path.join(data_dir, 'test.csv'), key_prefix=prefix)\n",
    "val_location = session.upload_data(os.path.join(data_dir, 'validation.csv'), key_prefix=prefix)\n",
    "train_location = session.upload_data(os.path.join(data_dir, 'train.csv'), key_prefix=prefix)"
   ]
  },
  {
   "cell_type": "markdown",
   "metadata": {},
   "source": [
    "## Step 4: Creating the XGBoost model\n",
    "\n",
    "Now that the data has been uploaded it is time to create the XGBoost model. To begin with, we need to do some setup. At this point it is worth discussing what a model is in SageMaker. It is easiest to think of a model of comprising three different objects in the SageMaker ecosystem, which interact with one another.\n",
    "\n",
    "- Model Artifacts\n",
    "- Training Code (Container)\n",
    "- Inference Code (Container)\n",
    "\n",
    "The Model Artifacts are what you might think of as the actual model itself. For example, if you were building a neural network, the model artifacts would be the weights of the various layers. In our case, for an XGBoost model, the artifacts are the actual trees that are created during training.\n",
    "\n",
    "The other two objects, the training code and the inference code are then used to manipulate the training artifacts. More precisely, the training code uses the training data that is provided and creates the model artifacts, while the inference code uses the model artifacts to make predictions on new data.\n",
    "\n",
    "The way that SageMaker runs the training and inference code is by making use of Docker containers. For now, think of a container as being a way of packaging code up so that dependencies aren't an issue."
   ]
  },
  {
   "cell_type": "code",
   "execution_count": 19,
   "metadata": {},
   "outputs": [],
   "source": [
    "from sagemaker import get_execution_role\n",
    "\n",
    "# Our current execution role is required when creating the model as the training\n",
    "# and inference code will need to access the model artifacts.\n",
    "role = get_execution_role()"
   ]
  },
  {
   "cell_type": "code",
   "execution_count": 20,
   "metadata": {},
   "outputs": [],
   "source": [
    "# We need to retrieve the location of the container which is provided by Amazon for using XGBoost.\n",
    "# As a matter of convenience, the training and inference code both use the same container.\n",
    "from sagemaker.amazon.amazon_estimator import get_image_uri\n",
    "\n",
    "container = get_image_uri(session.boto_region_name, 'xgboost')"
   ]
  },
  {
   "cell_type": "code",
   "execution_count": 21,
   "metadata": {},
   "outputs": [],
   "source": [
    "# First we create a SageMaker estimator object for our model.\n",
    "xgb = sagemaker.estimator.Estimator(container, # The location of the container we wish to use\n",
    "                                    role,                                    # What is our current IAM Role\n",
    "                                    train_instance_count=1,                  # How many compute instances\n",
    "                                    train_instance_type='ml.m4.xlarge',      # What kind of compute instances\n",
    "                                    output_path='s3://{}/{}/output'.format(session.default_bucket(), prefix),\n",
    "                                    sagemaker_session=session)\n",
    "\n",
    "# And then set the algorithm specific parameters.\n",
    "xgb.set_hyperparameters(max_depth=5,\n",
    "                        eta=0.2,\n",
    "                        gamma=4,\n",
    "                        min_child_weight=6,\n",
    "                        subsample=0.8,\n",
    "                        silent=0,\n",
    "                        objective='binary:logistic',\n",
    "                        early_stopping_rounds=10,\n",
    "                        num_round=500)"
   ]
  },
  {
   "cell_type": "markdown",
   "metadata": {},
   "source": [
    "### Fit the XGBoost model\n",
    "\n",
    "Now that our model has been set up we simply need to attach the training and validation datasets and then ask SageMaker to set up the computation."
   ]
  },
  {
   "cell_type": "code",
   "execution_count": 22,
   "metadata": {},
   "outputs": [],
   "source": [
    "s3_input_train = sagemaker.s3_input(s3_data=train_location, content_type='csv')\n",
    "s3_input_validation = sagemaker.s3_input(s3_data=val_location, content_type='csv')"
   ]
  },
  {
   "cell_type": "code",
   "execution_count": 23,
   "metadata": {},
   "outputs": [
    {
     "name": "stdout",
     "output_type": "stream",
     "text": [
      "2019-05-04 16:50:57 Starting - Starting the training job...\n",
      "2019-05-04 16:50:58 Starting - Launching requested ML instances......\n",
      "2019-05-04 16:51:59 Starting - Preparing the instances for training...\n",
      "2019-05-04 16:52:49 Downloading - Downloading input data...\n",
      "2019-05-04 16:53:26 Training - Training image download completed. Training in progress..\n",
      "\u001b[31mArguments: train\u001b[0m\n",
      "\u001b[31m[2019-05-04:16:53:24:INFO] Running standalone xgboost training.\u001b[0m\n",
      "\u001b[31m[2019-05-04:16:53:24:INFO] File size need to be processed in the node: 238.5mb. Available memory size in the node: 8409.76mb\u001b[0m\n",
      "\u001b[31m[2019-05-04:16:53:24:INFO] Determined delimiter of CSV input is ','\u001b[0m\n",
      "\u001b[31m[16:53:24] S3DistributionType set as FullyReplicated\u001b[0m\n",
      "\u001b[31m[16:53:25] 15000x5000 matrix with 75000000 entries loaded from /opt/ml/input/data/train?format=csv&label_column=0&delimiter=,\u001b[0m\n",
      "\u001b[31m[2019-05-04:16:53:25:INFO] Determined delimiter of CSV input is ','\u001b[0m\n",
      "\u001b[31m[16:53:25] S3DistributionType set as FullyReplicated\u001b[0m\n",
      "\u001b[31m[16:53:27] 10000x5000 matrix with 50000000 entries loaded from /opt/ml/input/data/validation?format=csv&label_column=0&delimiter=,\u001b[0m\n",
      "\u001b[31m[16:53:30] src/tree/updater_prune.cc:74: tree pruning end, 1 roots, 38 extra nodes, 4 pruned nodes, max_depth=5\u001b[0m\n",
      "\u001b[31m[0]#011train-error:0.297933#011validation-error:0.3192\u001b[0m\n",
      "\u001b[31mMultiple eval metrics have been passed: 'validation-error' will be used for early stopping.\n",
      "\u001b[0m\n",
      "\u001b[31mWill train until validation-error hasn't improved in 10 rounds.\u001b[0m\n",
      "\u001b[31m[16:53:31] src/tree/updater_prune.cc:74: tree pruning end, 1 roots, 42 extra nodes, 6 pruned nodes, max_depth=5\u001b[0m\n",
      "\u001b[31m[1]#011train-error:0.283533#011validation-error:0.3038\u001b[0m\n",
      "\u001b[31m[16:53:33] src/tree/updater_prune.cc:74: tree pruning end, 1 roots, 40 extra nodes, 6 pruned nodes, max_depth=5\u001b[0m\n",
      "\u001b[31m[2]#011train-error:0.283467#011validation-error:0.3038\u001b[0m\n",
      "\u001b[31m[16:53:34] src/tree/updater_prune.cc:74: tree pruning end, 1 roots, 44 extra nodes, 6 pruned nodes, max_depth=5\u001b[0m\n",
      "\u001b[31m[3]#011train-error:0.277867#011validation-error:0.2973\u001b[0m\n",
      "\u001b[31m[16:53:36] src/tree/updater_prune.cc:74: tree pruning end, 1 roots, 32 extra nodes, 2 pruned nodes, max_depth=5\u001b[0m\n",
      "\u001b[31m[4]#011train-error:0.270333#011validation-error:0.2898\u001b[0m\n",
      "\u001b[31m[16:53:37] src/tree/updater_prune.cc:74: tree pruning end, 1 roots, 26 extra nodes, 10 pruned nodes, max_depth=5\u001b[0m\n",
      "\u001b[31m[5]#011train-error:0.262667#011validation-error:0.2836\u001b[0m\n",
      "\u001b[31m[16:53:38] src/tree/updater_prune.cc:74: tree pruning end, 1 roots, 32 extra nodes, 2 pruned nodes, max_depth=5\u001b[0m\n",
      "\u001b[31m[6]#011train-error:0.253467#011validation-error:0.275\u001b[0m\n",
      "\u001b[31m[16:53:39] src/tree/updater_prune.cc:74: tree pruning end, 1 roots, 30 extra nodes, 4 pruned nodes, max_depth=5\u001b[0m\n",
      "\u001b[31m[7]#011train-error:0.249067#011validation-error:0.2691\u001b[0m\n",
      "\u001b[31m[16:53:41] src/tree/updater_prune.cc:74: tree pruning end, 1 roots, 36 extra nodes, 4 pruned nodes, max_depth=5\u001b[0m\n",
      "\u001b[31m[8]#011train-error:0.236933#011validation-error:0.2565\u001b[0m\n",
      "\u001b[31m[16:53:42] src/tree/updater_prune.cc:74: tree pruning end, 1 roots, 34 extra nodes, 6 pruned nodes, max_depth=5\u001b[0m\n",
      "\u001b[31m[9]#011train-error:0.235933#011validation-error:0.2538\u001b[0m\n",
      "\u001b[31m[16:53:43] src/tree/updater_prune.cc:74: tree pruning end, 1 roots, 30 extra nodes, 10 pruned nodes, max_depth=5\u001b[0m\n",
      "\u001b[31m[10]#011train-error:0.228267#011validation-error:0.246\u001b[0m\n",
      "\u001b[31m[16:53:45] src/tree/updater_prune.cc:74: tree pruning end, 1 roots, 22 extra nodes, 8 pruned nodes, max_depth=5\u001b[0m\n",
      "\u001b[31m[11]#011train-error:0.2234#011validation-error:0.2418\u001b[0m\n",
      "\u001b[31m[16:53:46] src/tree/updater_prune.cc:74: tree pruning end, 1 roots, 38 extra nodes, 2 pruned nodes, max_depth=5\u001b[0m\n",
      "\u001b[31m[12]#011train-error:0.214533#011validation-error:0.2386\u001b[0m\n",
      "\u001b[31m[16:53:47] src/tree/updater_prune.cc:74: tree pruning end, 1 roots, 30 extra nodes, 4 pruned nodes, max_depth=5\u001b[0m\n",
      "\u001b[31m[13]#011train-error:0.210333#011validation-error:0.2352\u001b[0m\n",
      "\u001b[31m[16:53:48] src/tree/updater_prune.cc:74: tree pruning end, 1 roots, 28 extra nodes, 8 pruned nodes, max_depth=5\u001b[0m\n",
      "\u001b[31m[14]#011train-error:0.2068#011validation-error:0.2325\u001b[0m\n",
      "\u001b[31m[16:53:50] src/tree/updater_prune.cc:74: tree pruning end, 1 roots, 32 extra nodes, 12 pruned nodes, max_depth=5\u001b[0m\n",
      "\u001b[31m[15]#011train-error:0.204467#011validation-error:0.2297\u001b[0m\n",
      "\u001b[31m[16:53:51] src/tree/updater_prune.cc:74: tree pruning end, 1 roots, 30 extra nodes, 8 pruned nodes, max_depth=5\u001b[0m\n",
      "\u001b[31m[16]#011train-error:0.200067#011validation-error:0.2262\u001b[0m\n",
      "\u001b[31m[16:53:52] src/tree/updater_prune.cc:74: tree pruning end, 1 roots, 34 extra nodes, 6 pruned nodes, max_depth=5\u001b[0m\n",
      "\u001b[31m[17]#011train-error:0.196333#011validation-error:0.2219\u001b[0m\n",
      "\u001b[31m[16:53:54] src/tree/updater_prune.cc:74: tree pruning end, 1 roots, 24 extra nodes, 8 pruned nodes, max_depth=5\u001b[0m\n",
      "\u001b[31m[18]#011train-error:0.193867#011validation-error:0.22\u001b[0m\n",
      "\u001b[31m[16:53:55] src/tree/updater_prune.cc:74: tree pruning end, 1 roots, 28 extra nodes, 10 pruned nodes, max_depth=5\u001b[0m\n",
      "\u001b[31m[19]#011train-error:0.189333#011validation-error:0.2148\u001b[0m\n",
      "\u001b[31m[16:53:56] src/tree/updater_prune.cc:74: tree pruning end, 1 roots, 24 extra nodes, 8 pruned nodes, max_depth=5\u001b[0m\n",
      "\u001b[31m[20]#011train-error:0.187533#011validation-error:0.2126\u001b[0m\n",
      "\u001b[31m[16:53:57] src/tree/updater_prune.cc:74: tree pruning end, 1 roots, 34 extra nodes, 2 pruned nodes, max_depth=5\u001b[0m\n",
      "\u001b[31m[21]#011train-error:0.1856#011validation-error:0.2109\u001b[0m\n",
      "\u001b[31m[16:53:59] src/tree/updater_prune.cc:74: tree pruning end, 1 roots, 18 extra nodes, 8 pruned nodes, max_depth=5\u001b[0m\n",
      "\u001b[31m[22]#011train-error:0.183067#011validation-error:0.2095\u001b[0m\n",
      "\u001b[31m[16:54:00] src/tree/updater_prune.cc:74: tree pruning end, 1 roots, 34 extra nodes, 10 pruned nodes, max_depth=5\u001b[0m\n",
      "\u001b[31m[23]#011train-error:0.181733#011validation-error:0.2088\u001b[0m\n",
      "\u001b[31m[16:54:01] src/tree/updater_prune.cc:74: tree pruning end, 1 roots, 32 extra nodes, 4 pruned nodes, max_depth=5\u001b[0m\n",
      "\u001b[31m[24]#011train-error:0.1808#011validation-error:0.2086\u001b[0m\n",
      "\u001b[31m[16:54:02] src/tree/updater_prune.cc:74: tree pruning end, 1 roots, 32 extra nodes, 10 pruned nodes, max_depth=5\u001b[0m\n",
      "\u001b[31m[25]#011train-error:0.178133#011validation-error:0.2049\u001b[0m\n",
      "\u001b[31m[16:54:04] src/tree/updater_prune.cc:74: tree pruning end, 1 roots, 28 extra nodes, 8 pruned nodes, max_depth=5\u001b[0m\n",
      "\u001b[31m[26]#011train-error:0.175533#011validation-error:0.2032\u001b[0m\n",
      "\u001b[31m[16:54:05] src/tree/updater_prune.cc:74: tree pruning end, 1 roots, 22 extra nodes, 12 pruned nodes, max_depth=5\u001b[0m\n",
      "\u001b[31m[27]#011train-error:0.1726#011validation-error:0.2015\u001b[0m\n",
      "\u001b[31m[16:54:06] src/tree/updater_prune.cc:74: tree pruning end, 1 roots, 20 extra nodes, 14 pruned nodes, max_depth=5\u001b[0m\n",
      "\u001b[31m[28]#011train-error:0.1708#011validation-error:0.2017\u001b[0m\n",
      "\u001b[31m[16:54:08] src/tree/updater_prune.cc:74: tree pruning end, 1 roots, 20 extra nodes, 14 pruned nodes, max_depth=5\u001b[0m\n",
      "\u001b[31m[29]#011train-error:0.169133#011validation-error:0.2005\u001b[0m\n",
      "\u001b[31m[16:54:09] src/tree/updater_prune.cc:74: tree pruning end, 1 roots, 40 extra nodes, 4 pruned nodes, max_depth=5\u001b[0m\n",
      "\u001b[31m[30]#011train-error:0.168267#011validation-error:0.2005\u001b[0m\n",
      "\u001b[31m[16:54:10] src/tree/updater_prune.cc:74: tree pruning end, 1 roots, 40 extra nodes, 4 pruned nodes, max_depth=5\u001b[0m\n",
      "\u001b[31m[31]#011train-error:0.165133#011validation-error:0.199\u001b[0m\n",
      "\u001b[31m[16:54:11] src/tree/updater_prune.cc:74: tree pruning end, 1 roots, 40 extra nodes, 6 pruned nodes, max_depth=5\u001b[0m\n",
      "\u001b[31m[32]#011train-error:0.162733#011validation-error:0.1988\u001b[0m\n",
      "\u001b[31m[16:54:13] src/tree/updater_prune.cc:74: tree pruning end, 1 roots, 26 extra nodes, 10 pruned nodes, max_depth=5\u001b[0m\n",
      "\u001b[31m[33]#011train-error:0.1616#011validation-error:0.1973\u001b[0m\n",
      "\u001b[31m[16:54:14] src/tree/updater_prune.cc:74: tree pruning end, 1 roots, 36 extra nodes, 6 pruned nodes, max_depth=5\u001b[0m\n",
      "\u001b[31m[34]#011train-error:0.160067#011validation-error:0.195\u001b[0m\n",
      "\u001b[31m[16:54:15] src/tree/updater_prune.cc:74: tree pruning end, 1 roots, 18 extra nodes, 10 pruned nodes, max_depth=5\u001b[0m\n",
      "\u001b[31m[35]#011train-error:0.1588#011validation-error:0.1959\u001b[0m\n",
      "\u001b[31m[16:54:16] src/tree/updater_prune.cc:74: tree pruning end, 1 roots, 20 extra nodes, 8 pruned nodes, max_depth=5\u001b[0m\n",
      "\u001b[31m[36]#011train-error:0.157867#011validation-error:0.193\u001b[0m\n",
      "\u001b[31m[16:54:18] src/tree/updater_prune.cc:74: tree pruning end, 1 roots, 26 extra nodes, 4 pruned nodes, max_depth=5\u001b[0m\n",
      "\u001b[31m[37]#011train-error:0.155733#011validation-error:0.1912\u001b[0m\n",
      "\u001b[31m[16:54:19] src/tree/updater_prune.cc:74: tree pruning end, 1 roots, 18 extra nodes, 8 pruned nodes, max_depth=5\u001b[0m\n",
      "\u001b[31m[38]#011train-error:0.1536#011validation-error:0.1922\u001b[0m\n",
      "\u001b[31m[16:54:20] src/tree/updater_prune.cc:74: tree pruning end, 1 roots, 14 extra nodes, 12 pruned nodes, max_depth=5\u001b[0m\n",
      "\u001b[31m[39]#011train-error:0.1522#011validation-error:0.191\u001b[0m\n",
      "\u001b[31m[16:54:21] src/tree/updater_prune.cc:74: tree pruning end, 1 roots, 30 extra nodes, 2 pruned nodes, max_depth=5\u001b[0m\n",
      "\u001b[31m[40]#011train-error:0.151#011validation-error:0.1896\u001b[0m\n",
      "\u001b[31m[16:54:23] src/tree/updater_prune.cc:74: tree pruning end, 1 roots, 18 extra nodes, 6 pruned nodes, max_depth=5\u001b[0m\n",
      "\u001b[31m[41]#011train-error:0.1502#011validation-error:0.1885\u001b[0m\n"
     ]
    },
    {
     "name": "stdout",
     "output_type": "stream",
     "text": [
      "\u001b[31m[16:54:24] src/tree/updater_prune.cc:74: tree pruning end, 1 roots, 22 extra nodes, 6 pruned nodes, max_depth=5\u001b[0m\n",
      "\u001b[31m[42]#011train-error:0.1492#011validation-error:0.1861\u001b[0m\n",
      "\u001b[31m[16:54:25] src/tree/updater_prune.cc:74: tree pruning end, 1 roots, 36 extra nodes, 6 pruned nodes, max_depth=5\u001b[0m\n",
      "\u001b[31m[43]#011train-error:0.147067#011validation-error:0.185\u001b[0m\n",
      "\u001b[31m[16:54:27] src/tree/updater_prune.cc:74: tree pruning end, 1 roots, 32 extra nodes, 12 pruned nodes, max_depth=5\u001b[0m\n",
      "\u001b[31m[44]#011train-error:0.1442#011validation-error:0.1827\u001b[0m\n",
      "\u001b[31m[16:54:28] src/tree/updater_prune.cc:74: tree pruning end, 1 roots, 22 extra nodes, 14 pruned nodes, max_depth=5\u001b[0m\n",
      "\u001b[31m[45]#011train-error:0.143933#011validation-error:0.1825\u001b[0m\n",
      "\u001b[31m[16:54:29] src/tree/updater_prune.cc:74: tree pruning end, 1 roots, 16 extra nodes, 16 pruned nodes, max_depth=5\u001b[0m\n",
      "\u001b[31m[46]#011train-error:0.143133#011validation-error:0.1828\u001b[0m\n",
      "\u001b[31m[16:54:30] src/tree/updater_prune.cc:74: tree pruning end, 1 roots, 28 extra nodes, 12 pruned nodes, max_depth=5\u001b[0m\n",
      "\u001b[31m[47]#011train-error:0.143667#011validation-error:0.1816\u001b[0m\n",
      "\u001b[31m[16:54:32] src/tree/updater_prune.cc:74: tree pruning end, 1 roots, 22 extra nodes, 4 pruned nodes, max_depth=5\u001b[0m\n",
      "\u001b[31m[48]#011train-error:0.141467#011validation-error:0.1801\u001b[0m\n",
      "\u001b[31m[16:54:33] src/tree/updater_prune.cc:74: tree pruning end, 1 roots, 14 extra nodes, 10 pruned nodes, max_depth=5\u001b[0m\n",
      "\u001b[31m[49]#011train-error:0.140733#011validation-error:0.1792\u001b[0m\n",
      "\u001b[31m[16:54:34] src/tree/updater_prune.cc:74: tree pruning end, 1 roots, 34 extra nodes, 4 pruned nodes, max_depth=5\u001b[0m\n",
      "\u001b[31m[50]#011train-error:0.138667#011validation-error:0.1797\u001b[0m\n",
      "\u001b[31m[16:54:35] src/tree/updater_prune.cc:74: tree pruning end, 1 roots, 26 extra nodes, 2 pruned nodes, max_depth=5\u001b[0m\n",
      "\u001b[31m[51]#011train-error:0.1368#011validation-error:0.1775\u001b[0m\n",
      "\u001b[31m[16:54:37] src/tree/updater_prune.cc:74: tree pruning end, 1 roots, 22 extra nodes, 12 pruned nodes, max_depth=5\u001b[0m\n",
      "\u001b[31m[52]#011train-error:0.135667#011validation-error:0.1778\u001b[0m\n",
      "\u001b[31m[16:54:38] src/tree/updater_prune.cc:74: tree pruning end, 1 roots, 14 extra nodes, 10 pruned nodes, max_depth=5\u001b[0m\n",
      "\u001b[31m[53]#011train-error:0.1354#011validation-error:0.1766\u001b[0m\n",
      "\u001b[31m[16:54:39] src/tree/updater_prune.cc:74: tree pruning end, 1 roots, 26 extra nodes, 4 pruned nodes, max_depth=5\u001b[0m\n",
      "\u001b[31m[54]#011train-error:0.134067#011validation-error:0.1768\u001b[0m\n",
      "\u001b[31m[16:54:40] src/tree/updater_prune.cc:74: tree pruning end, 1 roots, 20 extra nodes, 8 pruned nodes, max_depth=5\u001b[0m\n",
      "\u001b[31m[55]#011train-error:0.133933#011validation-error:0.1763\u001b[0m\n",
      "\u001b[31m[16:54:42] src/tree/updater_prune.cc:74: tree pruning end, 1 roots, 22 extra nodes, 14 pruned nodes, max_depth=5\u001b[0m\n",
      "\u001b[31m[56]#011train-error:0.133267#011validation-error:0.1757\u001b[0m\n",
      "\u001b[31m[16:54:43] src/tree/updater_prune.cc:74: tree pruning end, 1 roots, 24 extra nodes, 6 pruned nodes, max_depth=5\u001b[0m\n",
      "\u001b[31m[57]#011train-error:0.131533#011validation-error:0.1745\u001b[0m\n",
      "\u001b[31m[16:54:44] src/tree/updater_prune.cc:74: tree pruning end, 1 roots, 18 extra nodes, 10 pruned nodes, max_depth=5\u001b[0m\n",
      "\u001b[31m[58]#011train-error:0.131#011validation-error:0.1725\u001b[0m\n",
      "\u001b[31m[16:54:46] src/tree/updater_prune.cc:74: tree pruning end, 1 roots, 32 extra nodes, 4 pruned nodes, max_depth=5\u001b[0m\n",
      "\u001b[31m[59]#011train-error:0.1292#011validation-error:0.1704\u001b[0m\n",
      "\u001b[31m[16:54:47] src/tree/updater_prune.cc:74: tree pruning end, 1 roots, 16 extra nodes, 10 pruned nodes, max_depth=5\u001b[0m\n",
      "\u001b[31m[60]#011train-error:0.128067#011validation-error:0.1707\u001b[0m\n",
      "\u001b[31m[16:54:48] src/tree/updater_prune.cc:74: tree pruning end, 1 roots, 18 extra nodes, 12 pruned nodes, max_depth=5\u001b[0m\n",
      "\u001b[31m[61]#011train-error:0.127267#011validation-error:0.1698\u001b[0m\n",
      "\u001b[31m[16:54:49] src/tree/updater_prune.cc:74: tree pruning end, 1 roots, 26 extra nodes, 4 pruned nodes, max_depth=5\u001b[0m\n",
      "\u001b[31m[62]#011train-error:0.125733#011validation-error:0.1694\u001b[0m\n",
      "\u001b[31m[16:54:51] src/tree/updater_prune.cc:74: tree pruning end, 1 roots, 14 extra nodes, 18 pruned nodes, max_depth=5\u001b[0m\n",
      "\u001b[31m[63]#011train-error:0.125133#011validation-error:0.1691\u001b[0m\n",
      "\u001b[31m[16:54:52] src/tree/updater_prune.cc:74: tree pruning end, 1 roots, 30 extra nodes, 6 pruned nodes, max_depth=5\u001b[0m\n",
      "\u001b[31m[64]#011train-error:0.1248#011validation-error:0.1692\u001b[0m\n",
      "\u001b[31m[16:54:53] src/tree/updater_prune.cc:74: tree pruning end, 1 roots, 28 extra nodes, 10 pruned nodes, max_depth=5\u001b[0m\n",
      "\u001b[31m[65]#011train-error:0.123867#011validation-error:0.1693\u001b[0m\n",
      "\u001b[31m[16:54:54] src/tree/updater_prune.cc:74: tree pruning end, 1 roots, 18 extra nodes, 4 pruned nodes, max_depth=5\u001b[0m\n",
      "\u001b[31m[66]#011train-error:0.122733#011validation-error:0.169\u001b[0m\n",
      "\u001b[31m[16:54:56] src/tree/updater_prune.cc:74: tree pruning end, 1 roots, 20 extra nodes, 8 pruned nodes, max_depth=5\u001b[0m\n",
      "\u001b[31m[67]#011train-error:0.122067#011validation-error:0.1694\u001b[0m\n",
      "\u001b[31m[16:54:57] src/tree/updater_prune.cc:74: tree pruning end, 1 roots, 24 extra nodes, 4 pruned nodes, max_depth=5\u001b[0m\n",
      "\u001b[31m[68]#011train-error:0.1222#011validation-error:0.1687\u001b[0m\n",
      "\u001b[31m[16:54:58] src/tree/updater_prune.cc:74: tree pruning end, 1 roots, 14 extra nodes, 8 pruned nodes, max_depth=5\u001b[0m\n",
      "\u001b[31m[69]#011train-error:0.122133#011validation-error:0.1684\u001b[0m\n",
      "\u001b[31m[16:55:00] src/tree/updater_prune.cc:74: tree pruning end, 1 roots, 18 extra nodes, 10 pruned nodes, max_depth=5\u001b[0m\n",
      "\u001b[31m[70]#011train-error:0.1212#011validation-error:0.1678\u001b[0m\n",
      "\u001b[31m[16:55:01] src/tree/updater_prune.cc:74: tree pruning end, 1 roots, 16 extra nodes, 16 pruned nodes, max_depth=5\u001b[0m\n",
      "\u001b[31m[71]#011train-error:0.120467#011validation-error:0.1673\u001b[0m\n",
      "\u001b[31m[16:55:02] src/tree/updater_prune.cc:74: tree pruning end, 1 roots, 18 extra nodes, 12 pruned nodes, max_depth=5\u001b[0m\n",
      "\u001b[31m[72]#011train-error:0.119867#011validation-error:0.1672\u001b[0m\n",
      "\u001b[31m[16:55:03] src/tree/updater_prune.cc:74: tree pruning end, 1 roots, 12 extra nodes, 6 pruned nodes, max_depth=5\u001b[0m\n",
      "\u001b[31m[73]#011train-error:0.118867#011validation-error:0.1661\u001b[0m\n",
      "\u001b[31m[16:55:05] src/tree/updater_prune.cc:74: tree pruning end, 1 roots, 26 extra nodes, 6 pruned nodes, max_depth=5\u001b[0m\n",
      "\u001b[31m[74]#011train-error:0.1178#011validation-error:0.1663\u001b[0m\n",
      "\u001b[31m[16:55:06] src/tree/updater_prune.cc:74: tree pruning end, 1 roots, 14 extra nodes, 4 pruned nodes, max_depth=5\u001b[0m\n",
      "\u001b[31m[75]#011train-error:0.1172#011validation-error:0.1645\u001b[0m\n",
      "\u001b[31m[16:55:07] src/tree/updater_prune.cc:74: tree pruning end, 1 roots, 14 extra nodes, 2 pruned nodes, max_depth=5\u001b[0m\n",
      "\u001b[31m[76]#011train-error:0.1166#011validation-error:0.1642\u001b[0m\n",
      "\u001b[31m[16:55:08] src/tree/updater_prune.cc:74: tree pruning end, 1 roots, 14 extra nodes, 6 pruned nodes, max_depth=5\u001b[0m\n",
      "\u001b[31m[77]#011train-error:0.116#011validation-error:0.1652\u001b[0m\n",
      "\u001b[31m[16:55:10] src/tree/updater_prune.cc:74: tree pruning end, 1 roots, 14 extra nodes, 10 pruned nodes, max_depth=5\u001b[0m\n",
      "\u001b[31m[78]#011train-error:0.115733#011validation-error:0.1645\u001b[0m\n",
      "\u001b[31m[16:55:11] src/tree/updater_prune.cc:74: tree pruning end, 1 roots, 10 extra nodes, 14 pruned nodes, max_depth=5\u001b[0m\n",
      "\u001b[31m[79]#011train-error:0.115267#011validation-error:0.1641\u001b[0m\n",
      "\u001b[31m[16:55:12] src/tree/updater_prune.cc:74: tree pruning end, 1 roots, 30 extra nodes, 12 pruned nodes, max_depth=5\u001b[0m\n",
      "\u001b[31m[80]#011train-error:0.114267#011validation-error:0.1624\u001b[0m\n",
      "\u001b[31m[16:55:13] src/tree/updater_prune.cc:74: tree pruning end, 1 roots, 12 extra nodes, 8 pruned nodes, max_depth=5\u001b[0m\n",
      "\u001b[31m[81]#011train-error:0.1142#011validation-error:0.1622\u001b[0m\n",
      "\u001b[31m[16:55:15] src/tree/updater_prune.cc:74: tree pruning end, 1 roots, 14 extra nodes, 14 pruned nodes, max_depth=5\u001b[0m\n",
      "\u001b[31m[82]#011train-error:0.113133#011validation-error:0.1625\u001b[0m\n",
      "\u001b[31m[16:55:16] src/tree/updater_prune.cc:74: tree pruning end, 1 roots, 34 extra nodes, 6 pruned nodes, max_depth=5\u001b[0m\n",
      "\u001b[31m[83]#011train-error:0.110867#011validation-error:0.1615\u001b[0m\n",
      "\u001b[31m[16:55:17] src/tree/updater_prune.cc:74: tree pruning end, 1 roots, 14 extra nodes, 2 pruned nodes, max_depth=5\u001b[0m\n",
      "\u001b[31m[84]#011train-error:0.110533#011validation-error:0.1613\u001b[0m\n",
      "\u001b[31m[16:55:19] src/tree/updater_prune.cc:74: tree pruning end, 1 roots, 28 extra nodes, 6 pruned nodes, max_depth=5\u001b[0m\n",
      "\u001b[31m[85]#011train-error:0.11#011validation-error:0.1619\u001b[0m\n",
      "\u001b[31m[16:55:20] src/tree/updater_prune.cc:74: tree pruning end, 1 roots, 26 extra nodes, 8 pruned nodes, max_depth=5\u001b[0m\n",
      "\u001b[31m[86]#011train-error:0.1094#011validation-error:0.1614\u001b[0m\n",
      "\u001b[31m[16:55:21] src/tree/updater_prune.cc:74: tree pruning end, 1 roots, 16 extra nodes, 6 pruned nodes, max_depth=5\u001b[0m\n",
      "\u001b[31m[87]#011train-error:0.108933#011validation-error:0.1601\u001b[0m\n",
      "\u001b[31m[16:55:22] src/tree/updater_prune.cc:74: tree pruning end, 1 roots, 34 extra nodes, 8 pruned nodes, max_depth=5\u001b[0m\n",
      "\u001b[31m[88]#011train-error:0.106667#011validation-error:0.1593\u001b[0m\n",
      "\u001b[31m[16:55:24] src/tree/updater_prune.cc:74: tree pruning end, 1 roots, 26 extra nodes, 4 pruned nodes, max_depth=5\u001b[0m\n",
      "\u001b[31m[89]#011train-error:0.106467#011validation-error:0.1577\u001b[0m\n"
     ]
    },
    {
     "name": "stdout",
     "output_type": "stream",
     "text": [
      "\u001b[31m[16:55:25] src/tree/updater_prune.cc:74: tree pruning end, 1 roots, 12 extra nodes, 6 pruned nodes, max_depth=5\u001b[0m\n",
      "\u001b[31m[90]#011train-error:0.106267#011validation-error:0.1558\u001b[0m\n",
      "\u001b[31m[16:55:26] src/tree/updater_prune.cc:74: tree pruning end, 1 roots, 18 extra nodes, 12 pruned nodes, max_depth=5\u001b[0m\n",
      "\u001b[31m[91]#011train-error:0.1052#011validation-error:0.1552\u001b[0m\n",
      "\u001b[31m[16:55:27] src/tree/updater_prune.cc:74: tree pruning end, 1 roots, 20 extra nodes, 14 pruned nodes, max_depth=5\u001b[0m\n",
      "\u001b[31m[92]#011train-error:0.104733#011validation-error:0.1567\u001b[0m\n",
      "\u001b[31m[16:55:29] src/tree/updater_prune.cc:74: tree pruning end, 1 roots, 20 extra nodes, 8 pruned nodes, max_depth=5\u001b[0m\n",
      "\u001b[31m[93]#011train-error:0.1042#011validation-error:0.1569\u001b[0m\n",
      "\u001b[31m[16:55:30] src/tree/updater_prune.cc:74: tree pruning end, 1 roots, 14 extra nodes, 14 pruned nodes, max_depth=5\u001b[0m\n",
      "\u001b[31m[94]#011train-error:0.104067#011validation-error:0.1566\u001b[0m\n",
      "\u001b[31m[16:55:31] src/tree/updater_prune.cc:74: tree pruning end, 1 roots, 14 extra nodes, 6 pruned nodes, max_depth=5\u001b[0m\n",
      "\u001b[31m[95]#011train-error:0.1038#011validation-error:0.1566\u001b[0m\n",
      "\u001b[31m[16:55:32] src/tree/updater_prune.cc:74: tree pruning end, 1 roots, 14 extra nodes, 4 pruned nodes, max_depth=5\u001b[0m\n",
      "\u001b[31m[96]#011train-error:0.103267#011validation-error:0.156\u001b[0m\n",
      "\u001b[31m[16:55:34] src/tree/updater_prune.cc:74: tree pruning end, 1 roots, 16 extra nodes, 8 pruned nodes, max_depth=5\u001b[0m\n",
      "\u001b[31m[97]#011train-error:0.102533#011validation-error:0.1561\u001b[0m\n",
      "\u001b[31m[16:55:35] src/tree/updater_prune.cc:74: tree pruning end, 1 roots, 16 extra nodes, 16 pruned nodes, max_depth=5\u001b[0m\n",
      "\u001b[31m[98]#011train-error:0.102533#011validation-error:0.1562\u001b[0m\n",
      "\u001b[31m[16:55:36] src/tree/updater_prune.cc:74: tree pruning end, 1 roots, 12 extra nodes, 2 pruned nodes, max_depth=5\u001b[0m\n",
      "\u001b[31m[99]#011train-error:0.102533#011validation-error:0.156\u001b[0m\n",
      "\u001b[31m[16:55:38] src/tree/updater_prune.cc:74: tree pruning end, 1 roots, 16 extra nodes, 6 pruned nodes, max_depth=5\u001b[0m\n",
      "\u001b[31m[100]#011train-error:0.102333#011validation-error:0.1552\u001b[0m\n",
      "\u001b[31m[16:55:39] src/tree/updater_prune.cc:74: tree pruning end, 1 roots, 32 extra nodes, 6 pruned nodes, max_depth=5\u001b[0m\n",
      "\u001b[31m[101]#011train-error:0.101733#011validation-error:0.155\u001b[0m\n",
      "\u001b[31m[16:55:40] src/tree/updater_prune.cc:74: tree pruning end, 1 roots, 18 extra nodes, 16 pruned nodes, max_depth=5\u001b[0m\n",
      "\u001b[31m[102]#011train-error:0.1008#011validation-error:0.155\u001b[0m\n",
      "\u001b[31m[16:55:41] src/tree/updater_prune.cc:74: tree pruning end, 1 roots, 10 extra nodes, 4 pruned nodes, max_depth=5\u001b[0m\n",
      "\u001b[31m[103]#011train-error:0.1002#011validation-error:0.1543\u001b[0m\n",
      "\u001b[31m[16:55:43] src/tree/updater_prune.cc:74: tree pruning end, 1 roots, 14 extra nodes, 8 pruned nodes, max_depth=5\u001b[0m\n",
      "\u001b[31m[104]#011train-error:0.099333#011validation-error:0.1546\u001b[0m\n",
      "\u001b[31m[16:55:44] src/tree/updater_prune.cc:74: tree pruning end, 1 roots, 16 extra nodes, 14 pruned nodes, max_depth=5\u001b[0m\n",
      "\u001b[31m[105]#011train-error:0.099067#011validation-error:0.1546\u001b[0m\n",
      "\u001b[31m[16:55:45] src/tree/updater_prune.cc:74: tree pruning end, 1 roots, 16 extra nodes, 12 pruned nodes, max_depth=5\u001b[0m\n",
      "\u001b[31m[106]#011train-error:0.0984#011validation-error:0.1533\u001b[0m\n",
      "\u001b[31m[16:55:46] src/tree/updater_prune.cc:74: tree pruning end, 1 roots, 12 extra nodes, 4 pruned nodes, max_depth=5\u001b[0m\n",
      "\u001b[31m[107]#011train-error:0.098267#011validation-error:0.1538\u001b[0m\n",
      "\u001b[31m[16:55:48] src/tree/updater_prune.cc:74: tree pruning end, 1 roots, 36 extra nodes, 4 pruned nodes, max_depth=5\u001b[0m\n",
      "\u001b[31m[108]#011train-error:0.0984#011validation-error:0.1539\u001b[0m\n",
      "\u001b[31m[16:55:49] src/tree/updater_prune.cc:74: tree pruning end, 1 roots, 12 extra nodes, 6 pruned nodes, max_depth=5\u001b[0m\n",
      "\u001b[31m[109]#011train-error:0.0976#011validation-error:0.1541\u001b[0m\n",
      "\u001b[31m[16:55:50] src/tree/updater_prune.cc:74: tree pruning end, 1 roots, 10 extra nodes, 6 pruned nodes, max_depth=5\u001b[0m\n",
      "\u001b[31m[110]#011train-error:0.097333#011validation-error:0.1549\u001b[0m\n",
      "\u001b[31m[16:55:52] src/tree/updater_prune.cc:74: tree pruning end, 1 roots, 18 extra nodes, 8 pruned nodes, max_depth=5\u001b[0m\n",
      "\u001b[31m[111]#011train-error:0.096867#011validation-error:0.155\u001b[0m\n",
      "\u001b[31m[16:55:53] src/tree/updater_prune.cc:74: tree pruning end, 1 roots, 24 extra nodes, 6 pruned nodes, max_depth=5\u001b[0m\n",
      "\u001b[31m[112]#011train-error:0.0968#011validation-error:0.1542\u001b[0m\n",
      "\u001b[31m[16:55:54] src/tree/updater_prune.cc:74: tree pruning end, 1 roots, 14 extra nodes, 10 pruned nodes, max_depth=5\u001b[0m\n",
      "\u001b[31m[113]#011train-error:0.096333#011validation-error:0.1535\u001b[0m\n",
      "\u001b[31m[16:55:55] src/tree/updater_prune.cc:74: tree pruning end, 1 roots, 18 extra nodes, 10 pruned nodes, max_depth=5\u001b[0m\n",
      "\u001b[31m[114]#011train-error:0.095533#011validation-error:0.1531\u001b[0m\n",
      "\u001b[31m[16:55:57] src/tree/updater_prune.cc:74: tree pruning end, 1 roots, 12 extra nodes, 2 pruned nodes, max_depth=5\u001b[0m\n",
      "\u001b[31m[115]#011train-error:0.095467#011validation-error:0.1531\u001b[0m\n",
      "\u001b[31m[16:55:58] src/tree/updater_prune.cc:74: tree pruning end, 1 roots, 10 extra nodes, 4 pruned nodes, max_depth=5\u001b[0m\n",
      "\u001b[31m[116]#011train-error:0.095067#011validation-error:0.153\u001b[0m\n",
      "\u001b[31m[16:55:59] src/tree/updater_prune.cc:74: tree pruning end, 1 roots, 30 extra nodes, 4 pruned nodes, max_depth=5\u001b[0m\n",
      "\u001b[31m[117]#011train-error:0.094667#011validation-error:0.1526\u001b[0m\n",
      "\u001b[31m[16:56:00] src/tree/updater_prune.cc:74: tree pruning end, 1 roots, 12 extra nodes, 4 pruned nodes, max_depth=5\u001b[0m\n",
      "\u001b[31m[118]#011train-error:0.0948#011validation-error:0.1524\u001b[0m\n",
      "\u001b[31m[16:56:02] src/tree/updater_prune.cc:74: tree pruning end, 1 roots, 22 extra nodes, 4 pruned nodes, max_depth=5\u001b[0m\n",
      "\u001b[31m[119]#011train-error:0.094533#011validation-error:0.1521\u001b[0m\n",
      "\u001b[31m[16:56:03] src/tree/updater_prune.cc:74: tree pruning end, 1 roots, 18 extra nodes, 12 pruned nodes, max_depth=5\u001b[0m\n",
      "\u001b[31m[120]#011train-error:0.094067#011validation-error:0.1521\u001b[0m\n",
      "\u001b[31m[16:56:04] src/tree/updater_prune.cc:74: tree pruning end, 1 roots, 12 extra nodes, 8 pruned nodes, max_depth=5\u001b[0m\n",
      "\u001b[31m[121]#011train-error:0.093733#011validation-error:0.152\u001b[0m\n",
      "\u001b[31m[16:56:06] src/tree/updater_prune.cc:74: tree pruning end, 1 roots, 12 extra nodes, 4 pruned nodes, max_depth=5\u001b[0m\n",
      "\u001b[31m[122]#011train-error:0.094133#011validation-error:0.1518\u001b[0m\n",
      "\u001b[31m[16:56:07] src/tree/updater_prune.cc:74: tree pruning end, 1 roots, 12 extra nodes, 12 pruned nodes, max_depth=5\u001b[0m\n",
      "\u001b[31m[123]#011train-error:0.094133#011validation-error:0.1517\u001b[0m\n",
      "\u001b[31m[16:56:08] src/tree/updater_prune.cc:74: tree pruning end, 1 roots, 12 extra nodes, 8 pruned nodes, max_depth=5\u001b[0m\n",
      "\u001b[31m[124]#011train-error:0.094267#011validation-error:0.1516\u001b[0m\n",
      "\u001b[31m[16:56:09] src/tree/updater_prune.cc:74: tree pruning end, 1 roots, 16 extra nodes, 4 pruned nodes, max_depth=5\u001b[0m\n",
      "\u001b[31m[125]#011train-error:0.093467#011validation-error:0.1515\u001b[0m\n",
      "\u001b[31m[16:56:11] src/tree/updater_prune.cc:74: tree pruning end, 1 roots, 14 extra nodes, 20 pruned nodes, max_depth=5\u001b[0m\n",
      "\u001b[31m[126]#011train-error:0.093067#011validation-error:0.1515\u001b[0m\n",
      "\u001b[31m[16:56:12] src/tree/updater_prune.cc:74: tree pruning end, 1 roots, 12 extra nodes, 14 pruned nodes, max_depth=5\u001b[0m\n",
      "\u001b[31m[127]#011train-error:0.0928#011validation-error:0.1511\u001b[0m\n",
      "\u001b[31m[16:56:13] src/tree/updater_prune.cc:74: tree pruning end, 1 roots, 12 extra nodes, 2 pruned nodes, max_depth=5\u001b[0m\n",
      "\u001b[31m[128]#011train-error:0.092#011validation-error:0.1505\u001b[0m\n",
      "\u001b[31m[16:56:14] src/tree/updater_prune.cc:74: tree pruning end, 1 roots, 16 extra nodes, 8 pruned nodes, max_depth=5\u001b[0m\n",
      "\u001b[31m[129]#011train-error:0.092467#011validation-error:0.1501\u001b[0m\n",
      "\u001b[31m[16:56:16] src/tree/updater_prune.cc:74: tree pruning end, 1 roots, 26 extra nodes, 6 pruned nodes, max_depth=5\u001b[0m\n",
      "\u001b[31m[130]#011train-error:0.091533#011validation-error:0.15\u001b[0m\n",
      "\u001b[31m[16:56:17] src/tree/updater_prune.cc:74: tree pruning end, 1 roots, 36 extra nodes, 12 pruned nodes, max_depth=5\u001b[0m\n",
      "\u001b[31m[131]#011train-error:0.091067#011validation-error:0.1489\u001b[0m\n",
      "\u001b[31m[16:56:18] src/tree/updater_prune.cc:74: tree pruning end, 1 roots, 26 extra nodes, 16 pruned nodes, max_depth=5\u001b[0m\n",
      "\u001b[31m[132]#011train-error:0.09#011validation-error:0.1483\u001b[0m\n",
      "\u001b[31m[16:56:19] src/tree/updater_prune.cc:74: tree pruning end, 1 roots, 12 extra nodes, 16 pruned nodes, max_depth=5\u001b[0m\n",
      "\u001b[31m[133]#011train-error:0.0892#011validation-error:0.1479\u001b[0m\n",
      "\u001b[31m[16:56:21] src/tree/updater_prune.cc:74: tree pruning end, 1 roots, 20 extra nodes, 8 pruned nodes, max_depth=5\u001b[0m\n",
      "\u001b[31m[134]#011train-error:0.0882#011validation-error:0.1478\u001b[0m\n",
      "\u001b[31m[16:56:22] src/tree/updater_prune.cc:74: tree pruning end, 1 roots, 10 extra nodes, 6 pruned nodes, max_depth=5\u001b[0m\n",
      "\u001b[31m[135]#011train-error:0.088133#011validation-error:0.1485\u001b[0m\n",
      "\u001b[31m[16:56:23] src/tree/updater_prune.cc:74: tree pruning end, 1 roots, 22 extra nodes, 12 pruned nodes, max_depth=5\u001b[0m\n",
      "\u001b[31m[136]#011train-error:0.087867#011validation-error:0.1491\u001b[0m\n",
      "\u001b[31m[16:56:25] src/tree/updater_prune.cc:74: tree pruning end, 1 roots, 12 extra nodes, 8 pruned nodes, max_depth=5\u001b[0m\n",
      "\u001b[31m[137]#011train-error:0.087133#011validation-error:0.1483\u001b[0m\n"
     ]
    },
    {
     "name": "stdout",
     "output_type": "stream",
     "text": [
      "\u001b[31m[16:56:26] src/tree/updater_prune.cc:74: tree pruning end, 1 roots, 22 extra nodes, 6 pruned nodes, max_depth=5\u001b[0m\n",
      "\u001b[31m[138]#011train-error:0.086933#011validation-error:0.1477\u001b[0m\n",
      "\u001b[31m[16:56:27] src/tree/updater_prune.cc:74: tree pruning end, 1 roots, 14 extra nodes, 2 pruned nodes, max_depth=5\u001b[0m\n",
      "\u001b[31m[139]#011train-error:0.086733#011validation-error:0.1477\u001b[0m\n",
      "\u001b[31m[16:56:28] src/tree/updater_prune.cc:74: tree pruning end, 1 roots, 12 extra nodes, 10 pruned nodes, max_depth=5\u001b[0m\n",
      "\u001b[31m[140]#011train-error:0.086533#011validation-error:0.1471\u001b[0m\n",
      "\u001b[31m[16:56:30] src/tree/updater_prune.cc:74: tree pruning end, 1 roots, 20 extra nodes, 18 pruned nodes, max_depth=5\u001b[0m\n",
      "\u001b[31m[141]#011train-error:0.087067#011validation-error:0.1469\u001b[0m\n",
      "\u001b[31m[16:56:31] src/tree/updater_prune.cc:74: tree pruning end, 1 roots, 10 extra nodes, 8 pruned nodes, max_depth=5\u001b[0m\n",
      "\u001b[31m[142]#011train-error:0.086867#011validation-error:0.1468\u001b[0m\n",
      "\u001b[31m[16:56:32] src/tree/updater_prune.cc:74: tree pruning end, 1 roots, 14 extra nodes, 8 pruned nodes, max_depth=5\u001b[0m\n",
      "\u001b[31m[143]#011train-error:0.086333#011validation-error:0.1478\u001b[0m\n",
      "\u001b[31m[16:56:33] src/tree/updater_prune.cc:74: tree pruning end, 1 roots, 14 extra nodes, 16 pruned nodes, max_depth=5\u001b[0m\n",
      "\u001b[31m[144]#011train-error:0.086#011validation-error:0.1482\u001b[0m\n",
      "\u001b[31m[16:56:35] src/tree/updater_prune.cc:74: tree pruning end, 1 roots, 12 extra nodes, 10 pruned nodes, max_depth=5\u001b[0m\n",
      "\u001b[31m[145]#011train-error:0.086#011validation-error:0.148\u001b[0m\n",
      "\u001b[31m[16:56:36] src/tree/updater_prune.cc:74: tree pruning end, 1 roots, 10 extra nodes, 8 pruned nodes, max_depth=5\u001b[0m\n",
      "\u001b[31m[146]#011train-error:0.0866#011validation-error:0.1481\u001b[0m\n",
      "\u001b[31m[16:56:37] src/tree/updater_prune.cc:74: tree pruning end, 1 roots, 24 extra nodes, 6 pruned nodes, max_depth=5\u001b[0m\n",
      "\u001b[31m[147]#011train-error:0.085467#011validation-error:0.1473\u001b[0m\n",
      "\u001b[31m[16:56:39] src/tree/updater_prune.cc:74: tree pruning end, 1 roots, 14 extra nodes, 10 pruned nodes, max_depth=5\u001b[0m\n",
      "\u001b[31m[148]#011train-error:0.084933#011validation-error:0.1477\u001b[0m\n",
      "\u001b[31m[16:56:40] src/tree/updater_prune.cc:74: tree pruning end, 1 roots, 16 extra nodes, 0 pruned nodes, max_depth=5\u001b[0m\n",
      "\u001b[31m[149]#011train-error:0.084667#011validation-error:0.1465\u001b[0m\n",
      "\u001b[31m[16:56:41] src/tree/updater_prune.cc:74: tree pruning end, 1 roots, 14 extra nodes, 16 pruned nodes, max_depth=5\u001b[0m\n",
      "\u001b[31m[150]#011train-error:0.084#011validation-error:0.1463\u001b[0m\n",
      "\u001b[31m[16:56:42] src/tree/updater_prune.cc:74: tree pruning end, 1 roots, 22 extra nodes, 12 pruned nodes, max_depth=5\u001b[0m\n",
      "\u001b[31m[151]#011train-error:0.0836#011validation-error:0.1465\u001b[0m\n",
      "\u001b[31m[16:56:44] src/tree/updater_prune.cc:74: tree pruning end, 1 roots, 10 extra nodes, 0 pruned nodes, max_depth=5\u001b[0m\n",
      "\u001b[31m[152]#011train-error:0.083867#011validation-error:0.1464\u001b[0m\n",
      "\u001b[31m[16:56:45] src/tree/updater_prune.cc:74: tree pruning end, 1 roots, 16 extra nodes, 6 pruned nodes, max_depth=5\u001b[0m\n",
      "\u001b[31m[153]#011train-error:0.083#011validation-error:0.1458\u001b[0m\n",
      "\u001b[31m[16:56:46] src/tree/updater_prune.cc:74: tree pruning end, 1 roots, 16 extra nodes, 6 pruned nodes, max_depth=5\u001b[0m\n",
      "\u001b[31m[154]#011train-error:0.082867#011validation-error:0.1465\u001b[0m\n",
      "\u001b[31m[16:56:47] src/tree/updater_prune.cc:74: tree pruning end, 1 roots, 18 extra nodes, 4 pruned nodes, max_depth=5\u001b[0m\n",
      "\u001b[31m[155]#011train-error:0.0824#011validation-error:0.1466\u001b[0m\n",
      "\u001b[31m[16:56:49] src/tree/updater_prune.cc:74: tree pruning end, 1 roots, 10 extra nodes, 2 pruned nodes, max_depth=5\u001b[0m\n",
      "\u001b[31m[156]#011train-error:0.082#011validation-error:0.1465\u001b[0m\n",
      "\u001b[31m[16:56:50] src/tree/updater_prune.cc:74: tree pruning end, 1 roots, 12 extra nodes, 2 pruned nodes, max_depth=5\u001b[0m\n",
      "\u001b[31m[157]#011train-error:0.0822#011validation-error:0.1462\u001b[0m\n",
      "\u001b[31m[16:56:51] src/tree/updater_prune.cc:74: tree pruning end, 1 roots, 20 extra nodes, 10 pruned nodes, max_depth=5\u001b[0m\n",
      "\u001b[31m[158]#011train-error:0.0816#011validation-error:0.146\u001b[0m\n",
      "\u001b[31m[16:56:53] src/tree/updater_prune.cc:74: tree pruning end, 1 roots, 18 extra nodes, 4 pruned nodes, max_depth=5\u001b[0m\n",
      "\u001b[31m[159]#011train-error:0.0812#011validation-error:0.1454\u001b[0m\n",
      "\u001b[31m[16:56:54] src/tree/updater_prune.cc:74: tree pruning end, 1 roots, 12 extra nodes, 10 pruned nodes, max_depth=5\u001b[0m\n",
      "\u001b[31m[160]#011train-error:0.081#011validation-error:0.1457\u001b[0m\n",
      "\u001b[31m[16:56:55] src/tree/updater_prune.cc:74: tree pruning end, 1 roots, 16 extra nodes, 10 pruned nodes, max_depth=5\u001b[0m\n",
      "\u001b[31m[161]#011train-error:0.080667#011validation-error:0.1451\u001b[0m\n",
      "\u001b[31m[16:56:56] src/tree/updater_prune.cc:74: tree pruning end, 1 roots, 18 extra nodes, 4 pruned nodes, max_depth=5\u001b[0m\n",
      "\u001b[31m[162]#011train-error:0.080333#011validation-error:0.1446\u001b[0m\n",
      "\u001b[31m[16:56:58] src/tree/updater_prune.cc:74: tree pruning end, 1 roots, 10 extra nodes, 2 pruned nodes, max_depth=5\u001b[0m\n",
      "\u001b[31m[163]#011train-error:0.079933#011validation-error:0.1445\u001b[0m\n",
      "\u001b[31m[16:56:59] src/tree/updater_prune.cc:74: tree pruning end, 1 roots, 18 extra nodes, 12 pruned nodes, max_depth=5\u001b[0m\n",
      "\u001b[31m[164]#011train-error:0.079067#011validation-error:0.1448\u001b[0m\n",
      "\u001b[31m[16:57:00] src/tree/updater_prune.cc:74: tree pruning end, 1 roots, 16 extra nodes, 4 pruned nodes, max_depth=5\u001b[0m\n",
      "\u001b[31m[165]#011train-error:0.078867#011validation-error:0.1449\u001b[0m\n",
      "\u001b[31m[16:57:01] src/tree/updater_prune.cc:74: tree pruning end, 1 roots, 12 extra nodes, 0 pruned nodes, max_depth=5\u001b[0m\n",
      "\u001b[31m[166]#011train-error:0.078933#011validation-error:0.1446\u001b[0m\n",
      "\u001b[31m[16:57:03] src/tree/updater_prune.cc:74: tree pruning end, 1 roots, 10 extra nodes, 6 pruned nodes, max_depth=5\u001b[0m\n",
      "\u001b[31m[167]#011train-error:0.078933#011validation-error:0.1447\u001b[0m\n",
      "\u001b[31m[16:57:04] src/tree/updater_prune.cc:74: tree pruning end, 1 roots, 12 extra nodes, 6 pruned nodes, max_depth=5\u001b[0m\n",
      "\u001b[31m[168]#011train-error:0.079067#011validation-error:0.1448\u001b[0m\n",
      "\u001b[31m[16:57:05] src/tree/updater_prune.cc:74: tree pruning end, 1 roots, 14 extra nodes, 8 pruned nodes, max_depth=5\u001b[0m\n",
      "\u001b[31m[169]#011train-error:0.078667#011validation-error:0.1442\u001b[0m\n",
      "\u001b[31m[16:57:06] src/tree/updater_prune.cc:74: tree pruning end, 1 roots, 14 extra nodes, 14 pruned nodes, max_depth=5\u001b[0m\n",
      "\u001b[31m[170]#011train-error:0.078667#011validation-error:0.1433\u001b[0m\n",
      "\u001b[31m[16:57:08] src/tree/updater_prune.cc:74: tree pruning end, 1 roots, 22 extra nodes, 14 pruned nodes, max_depth=5\u001b[0m\n",
      "\u001b[31m[171]#011train-error:0.077933#011validation-error:0.1438\u001b[0m\n",
      "\u001b[31m[16:57:09] src/tree/updater_prune.cc:74: tree pruning end, 1 roots, 10 extra nodes, 10 pruned nodes, max_depth=5\u001b[0m\n",
      "\u001b[31m[172]#011train-error:0.078333#011validation-error:0.1435\u001b[0m\n",
      "\u001b[31m[16:57:10] src/tree/updater_prune.cc:74: tree pruning end, 1 roots, 10 extra nodes, 0 pruned nodes, max_depth=5\u001b[0m\n",
      "\u001b[31m[173]#011train-error:0.078333#011validation-error:0.1431\u001b[0m\n",
      "\u001b[31m[16:57:12] src/tree/updater_prune.cc:74: tree pruning end, 1 roots, 18 extra nodes, 10 pruned nodes, max_depth=5\u001b[0m\n",
      "\u001b[31m[174]#011train-error:0.078#011validation-error:0.1433\u001b[0m\n",
      "\u001b[31m[16:57:13] src/tree/updater_prune.cc:74: tree pruning end, 1 roots, 28 extra nodes, 8 pruned nodes, max_depth=5\u001b[0m\n",
      "\u001b[31m[175]#011train-error:0.077733#011validation-error:0.1431\u001b[0m\n",
      "\u001b[31m[16:57:14] src/tree/updater_prune.cc:74: tree pruning end, 1 roots, 12 extra nodes, 12 pruned nodes, max_depth=5\u001b[0m\n",
      "\u001b[31m[176]#011train-error:0.0776#011validation-error:0.1439\u001b[0m\n",
      "\u001b[31m[16:57:15] src/tree/updater_prune.cc:74: tree pruning end, 1 roots, 16 extra nodes, 4 pruned nodes, max_depth=5\u001b[0m\n",
      "\u001b[31m[177]#011train-error:0.077333#011validation-error:0.1437\u001b[0m\n",
      "\u001b[31m[16:57:17] src/tree/updater_prune.cc:74: tree pruning end, 1 roots, 16 extra nodes, 8 pruned nodes, max_depth=5\u001b[0m\n",
      "\u001b[31m[178]#011train-error:0.0776#011validation-error:0.1432\u001b[0m\n",
      "\u001b[31m[16:57:18] src/tree/updater_prune.cc:74: tree pruning end, 1 roots, 24 extra nodes, 14 pruned nodes, max_depth=5\u001b[0m\n",
      "\u001b[31m[179]#011train-error:0.0774#011validation-error:0.1426\u001b[0m\n",
      "\u001b[31m[16:57:19] src/tree/updater_prune.cc:74: tree pruning end, 1 roots, 10 extra nodes, 4 pruned nodes, max_depth=5\u001b[0m\n",
      "\u001b[31m[180]#011train-error:0.0774#011validation-error:0.1423\u001b[0m\n",
      "\u001b[31m[16:57:21] src/tree/updater_prune.cc:74: tree pruning end, 1 roots, 18 extra nodes, 4 pruned nodes, max_depth=5\u001b[0m\n",
      "\u001b[31m[181]#011train-error:0.076933#011validation-error:0.1421\u001b[0m\n",
      "\u001b[31m[16:57:22] src/tree/updater_prune.cc:74: tree pruning end, 1 roots, 12 extra nodes, 10 pruned nodes, max_depth=5\u001b[0m\n",
      "\u001b[31m[182]#011train-error:0.076333#011validation-error:0.1426\u001b[0m\n",
      "\u001b[31m[16:57:23] src/tree/updater_prune.cc:74: tree pruning end, 1 roots, 14 extra nodes, 14 pruned nodes, max_depth=5\u001b[0m\n",
      "\u001b[31m[183]#011train-error:0.0762#011validation-error:0.1422\u001b[0m\n",
      "\u001b[31m[16:57:24] src/tree/updater_prune.cc:74: tree pruning end, 1 roots, 18 extra nodes, 12 pruned nodes, max_depth=5\u001b[0m\n",
      "\u001b[31m[184]#011train-error:0.0756#011validation-error:0.1426\u001b[0m\n",
      "\u001b[31m[16:57:26] src/tree/updater_prune.cc:74: tree pruning end, 1 roots, 36 extra nodes, 6 pruned nodes, max_depth=5\u001b[0m\n",
      "\u001b[31m[185]#011train-error:0.075267#011validation-error:0.1423\u001b[0m\n"
     ]
    },
    {
     "name": "stdout",
     "output_type": "stream",
     "text": [
      "\u001b[31m[16:57:27] src/tree/updater_prune.cc:74: tree pruning end, 1 roots, 12 extra nodes, 6 pruned nodes, max_depth=5\u001b[0m\n",
      "\u001b[31m[186]#011train-error:0.0754#011validation-error:0.1421\u001b[0m\n",
      "\u001b[31m[16:57:28] src/tree/updater_prune.cc:74: tree pruning end, 1 roots, 26 extra nodes, 12 pruned nodes, max_depth=5\u001b[0m\n",
      "\u001b[31m[187]#011train-error:0.075533#011validation-error:0.1425\u001b[0m\n",
      "\u001b[31m[16:57:29] src/tree/updater_prune.cc:74: tree pruning end, 1 roots, 16 extra nodes, 14 pruned nodes, max_depth=5\u001b[0m\n",
      "\u001b[31m[188]#011train-error:0.0754#011validation-error:0.1427\u001b[0m\n",
      "\u001b[31m[16:57:31] src/tree/updater_prune.cc:74: tree pruning end, 1 roots, 12 extra nodes, 12 pruned nodes, max_depth=5\u001b[0m\n",
      "\u001b[31m[189]#011train-error:0.075267#011validation-error:0.1418\u001b[0m\n",
      "\u001b[31m[16:57:32] src/tree/updater_prune.cc:74: tree pruning end, 1 roots, 16 extra nodes, 2 pruned nodes, max_depth=5\u001b[0m\n",
      "\u001b[31m[190]#011train-error:0.075267#011validation-error:0.1418\u001b[0m\n",
      "\u001b[31m[16:57:33] src/tree/updater_prune.cc:74: tree pruning end, 1 roots, 28 extra nodes, 8 pruned nodes, max_depth=5\u001b[0m\n",
      "\u001b[31m[191]#011train-error:0.0742#011validation-error:0.1417\u001b[0m\n",
      "\u001b[31m[16:57:34] src/tree/updater_prune.cc:74: tree pruning end, 1 roots, 22 extra nodes, 10 pruned nodes, max_depth=5\u001b[0m\n",
      "\u001b[31m[192]#011train-error:0.073467#011validation-error:0.1419\u001b[0m\n",
      "\u001b[31m[16:57:36] src/tree/updater_prune.cc:74: tree pruning end, 1 roots, 14 extra nodes, 12 pruned nodes, max_depth=5\u001b[0m\n",
      "\u001b[31m[193]#011train-error:0.073333#011validation-error:0.1414\u001b[0m\n",
      "\u001b[31m[16:57:37] src/tree/updater_prune.cc:74: tree pruning end, 1 roots, 12 extra nodes, 4 pruned nodes, max_depth=5\u001b[0m\n",
      "\u001b[31m[194]#011train-error:0.072933#011validation-error:0.1417\u001b[0m\n",
      "\u001b[31m[16:57:38] src/tree/updater_prune.cc:74: tree pruning end, 1 roots, 14 extra nodes, 14 pruned nodes, max_depth=5\u001b[0m\n",
      "\u001b[31m[195]#011train-error:0.073067#011validation-error:0.1419\u001b[0m\n",
      "\u001b[31m[16:57:40] src/tree/updater_prune.cc:74: tree pruning end, 1 roots, 10 extra nodes, 2 pruned nodes, max_depth=5\u001b[0m\n",
      "\u001b[31m[196]#011train-error:0.073#011validation-error:0.1421\u001b[0m\n",
      "\u001b[31m[16:57:41] src/tree/updater_prune.cc:74: tree pruning end, 1 roots, 12 extra nodes, 10 pruned nodes, max_depth=5\u001b[0m\n",
      "\u001b[31m[197]#011train-error:0.072733#011validation-error:0.1421\u001b[0m\n",
      "\u001b[31m[16:57:42] src/tree/updater_prune.cc:74: tree pruning end, 1 roots, 24 extra nodes, 8 pruned nodes, max_depth=5\u001b[0m\n",
      "\u001b[31m[198]#011train-error:0.071667#011validation-error:0.1418\u001b[0m\n",
      "\u001b[31m[16:57:43] src/tree/updater_prune.cc:74: tree pruning end, 1 roots, 24 extra nodes, 4 pruned nodes, max_depth=5\u001b[0m\n",
      "\u001b[31m[199]#011train-error:0.071467#011validation-error:0.1416\u001b[0m\n",
      "\u001b[31m[16:57:45] src/tree/updater_prune.cc:74: tree pruning end, 1 roots, 10 extra nodes, 2 pruned nodes, max_depth=5\u001b[0m\n",
      "\u001b[31m[200]#011train-error:0.071533#011validation-error:0.1415\u001b[0m\n",
      "\u001b[31m[16:57:46] src/tree/updater_prune.cc:74: tree pruning end, 1 roots, 12 extra nodes, 2 pruned nodes, max_depth=5\u001b[0m\n",
      "\u001b[31m[201]#011train-error:0.071533#011validation-error:0.1415\u001b[0m\n",
      "\u001b[31m[16:57:47] src/tree/updater_prune.cc:74: tree pruning end, 1 roots, 14 extra nodes, 10 pruned nodes, max_depth=5\u001b[0m\n",
      "\u001b[31m[202]#011train-error:0.071467#011validation-error:0.1417\u001b[0m\n",
      "\u001b[31m[16:57:48] src/tree/updater_prune.cc:74: tree pruning end, 1 roots, 18 extra nodes, 12 pruned nodes, max_depth=5\u001b[0m\n",
      "\u001b[31m[203]#011train-error:0.071067#011validation-error:0.1414\u001b[0m\n",
      "\u001b[31mStopping. Best iteration:\u001b[0m\n",
      "\u001b[31m[193]#011train-error:0.073333#011validation-error:0.1414\n",
      "\u001b[0m\n",
      "\n",
      "2019-05-04 16:58:30 Uploading - Uploading generated training model\n",
      "2019-05-04 16:58:37 Completed - Training job completed\n",
      "Billable seconds: 348\n"
     ]
    }
   ],
   "source": [
    "xgb.fit({'train': s3_input_train, 'validation': s3_input_validation})"
   ]
  },
  {
   "cell_type": "markdown",
   "metadata": {},
   "source": [
    "## Step 5: Testing the model\n",
    "\n",
    "Now that we've fit our XGBoost model, it's time to see how well it performs. To do this we will use SageMakers Batch Transform functionality. Batch Transform is a convenient way to perform inference on a large dataset in a way that is not realtime. That is, we don't necessarily need to use our model's results immediately and instead we can perform inference on a large number of samples. An example of this in industry might be performing an end of month report. This method of inference can also be useful to us as it means that we can perform inference on our entire test set. \n",
    "\n",
    "To perform a Batch Transformation we need to first create a transformer objects from our trained estimator object."
   ]
  },
  {
   "cell_type": "code",
   "execution_count": 24,
   "metadata": {},
   "outputs": [],
   "source": [
    "xgb_transformer = xgb.transformer(instance_count = 1, instance_type = 'ml.m4.xlarge')"
   ]
  },
  {
   "cell_type": "markdown",
   "metadata": {},
   "source": [
    "Next we actually perform the transform job. When doing so we need to make sure to specify the type of data we are sending so that it is serialized correctly in the background. In our case we are providing our model with csv data so we specify `text/csv`. Also, if the test data that we have provided is too large to process all at once then we need to specify how the data file should be split up. Since each line is a single entry in our data set we tell SageMaker that it can split the input on each line."
   ]
  },
  {
   "cell_type": "code",
   "execution_count": 25,
   "metadata": {},
   "outputs": [],
   "source": [
    "xgb_transformer.transform(test_location, content_type='text/csv', split_type='Line')"
   ]
  },
  {
   "cell_type": "markdown",
   "metadata": {},
   "source": [
    "Currently the transform job is running but it is doing so in the background. Since we wish to wait until the transform job is done and we would like a bit of feedback we can run the `wait()` method."
   ]
  },
  {
   "cell_type": "code",
   "execution_count": 26,
   "metadata": {},
   "outputs": [
    {
     "name": "stdout",
     "output_type": "stream",
     "text": [
      "..........................................!\n"
     ]
    }
   ],
   "source": [
    "xgb_transformer.wait()"
   ]
  },
  {
   "cell_type": "markdown",
   "metadata": {},
   "source": [
    "Now the transform job has executed and the result, the estimated sentiment of each review, has been saved on S3. Since we would rather work on this file locally we can perform a bit of notebook magic to copy the file to the `data_dir`."
   ]
  },
  {
   "cell_type": "code",
   "execution_count": 27,
   "metadata": {},
   "outputs": [
    {
     "name": "stdout",
     "output_type": "stream",
     "text": [
      "Completed 256.0 KiB/370.6 KiB (3.9 MiB/s) with 1 file(s) remaining\r",
      "Completed 370.6 KiB/370.6 KiB (5.5 MiB/s) with 1 file(s) remaining\r",
      "download: s3://sagemaker-us-east-2-464689066216/xgboost-2019-05-04-16-59-24-574/test.csv.out to ../data/sentiment_web_app/test.csv.out\r\n"
     ]
    }
   ],
   "source": [
    "!aws s3 cp --recursive $xgb_transformer.output_path $data_dir"
   ]
  },
  {
   "cell_type": "markdown",
   "metadata": {},
   "source": [
    "The last step is now to read in the output from our model, convert the output to something a little more usable, in this case we want the sentiment to be either `1` (positive) or `0` (negative), and then compare to the ground truth labels."
   ]
  },
  {
   "cell_type": "code",
   "execution_count": 28,
   "metadata": {},
   "outputs": [],
   "source": [
    "predictions = pd.read_csv(os.path.join(data_dir, 'test.csv.out'), header=None)\n",
    "predictions = [round(num) for num in predictions.squeeze().values]"
   ]
  },
  {
   "cell_type": "code",
   "execution_count": 29,
   "metadata": {},
   "outputs": [
    {
     "data": {
      "text/plain": [
       "0.8622"
      ]
     },
     "execution_count": 29,
     "metadata": {},
     "output_type": "execute_result"
    }
   ],
   "source": [
    "from sklearn.metrics import accuracy_score\n",
    "accuracy_score(test_y, predictions)"
   ]
  },
  {
   "cell_type": "markdown",
   "metadata": {},
   "source": [
    "## Step 6: Deploying the model\n",
    "\n",
    "Once we construct and fit our model, SageMaker stores the resulting model artifacts and we can use those to deploy an endpoint (inference code). To see this, look in the SageMaker console and you should see that a model has been created along with a link to the S3 location where the model artifacts have been stored.\n",
    "\n",
    "Deploying an endpoint is a lot like training the model with a few important differences. The first is that a deployed model doesn't change the model artifacts, so as you send it various testing instances the model won't change. Another difference is that since we aren't performing a fixed computation, as we were in the training step or while performing a batch transform, the compute instance that gets started stays running until we tell it to stop. This is important to note as if we forget and leave it running we will be charged the entire time.\n",
    "\n",
    "In other words **If you are no longer using a deployed endpoint, shut it down!**"
   ]
  },
  {
   "cell_type": "code",
   "execution_count": 30,
   "metadata": {},
   "outputs": [
    {
     "name": "stdout",
     "output_type": "stream",
     "text": [
      "--------------------------------------------------------------------------------------!"
     ]
    }
   ],
   "source": [
    "xgb_predictor = xgb.deploy(initial_instance_count = 1, instance_type = 'ml.m4.xlarge')"
   ]
  },
  {
   "cell_type": "markdown",
   "metadata": {},
   "source": [
    "### Testing the model (again)\n",
    "\n",
    "Now that we have deployed our endpoint, we can send the testing data to it and get back the inference results. We already did this earlier using the batch transform functionality of SageMaker, however, we will test our model again using the newly deployed endpoint so that we can make sure that it works properly and to get a bit of a feel for how the endpoint works.\n",
    "\n",
    "When using the created endpoint it is important to know that we are limited in the amount of information we can send in each call so we need to break the testing data up into chunks and then send each chunk. Also, we need to serialize our data before we send it to the endpoint to ensure that our data is transmitted properly. Fortunately, SageMaker can do the serialization part for us provided we tell it the format of our data."
   ]
  },
  {
   "cell_type": "code",
   "execution_count": 31,
   "metadata": {},
   "outputs": [],
   "source": [
    "from sagemaker.predictor import csv_serializer\n",
    "\n",
    "# We need to tell the endpoint what format the data we are sending is in so that SageMaker can perform the serialization.\n",
    "xgb_predictor.content_type = 'text/csv'\n",
    "xgb_predictor.serializer = csv_serializer"
   ]
  },
  {
   "cell_type": "code",
   "execution_count": 32,
   "metadata": {},
   "outputs": [],
   "source": [
    "# We split the data into chunks and send each chunk seperately, accumulating the results.\n",
    "\n",
    "def predict(data, rows=512):\n",
    "    split_array = np.array_split(data, int(data.shape[0] / float(rows) + 1))\n",
    "    predictions = ''\n",
    "    for array in split_array:\n",
    "        predictions = ','.join([predictions, xgb_predictor.predict(array).decode('utf-8')])\n",
    "    \n",
    "    return np.fromstring(predictions[1:], sep=',')"
   ]
  },
  {
   "cell_type": "code",
   "execution_count": 33,
   "metadata": {},
   "outputs": [],
   "source": [
    "test_X = pd.read_csv(os.path.join(data_dir, 'test.csv'), header=None).values\n",
    "\n",
    "predictions = predict(test_X)\n",
    "predictions = [round(num) for num in predictions]"
   ]
  },
  {
   "cell_type": "markdown",
   "metadata": {},
   "source": [
    "Lastly, we check to see what the accuracy of our model is."
   ]
  },
  {
   "cell_type": "code",
   "execution_count": 34,
   "metadata": {},
   "outputs": [
    {
     "data": {
      "text/plain": [
       "0.8622"
      ]
     },
     "execution_count": 34,
     "metadata": {},
     "output_type": "execute_result"
    }
   ],
   "source": [
    "from sklearn.metrics import accuracy_score\n",
    "accuracy_score(test_y, predictions)"
   ]
  },
  {
   "cell_type": "markdown",
   "metadata": {},
   "source": [
    "And the results here should agree with the model testing that we did earlier using the batch transform job.\n",
    "\n",
    "### Cleaning up\n",
    "\n",
    "Now that we've determined that deploying our model works as expected, we are going to shut it down. Remember that the longer the endpoint is left running, the greater the cost and since we have a bit more work to do before we are able to use our endpoint with our simple web app, we should shut everything down."
   ]
  },
  {
   "cell_type": "code",
   "execution_count": 35,
   "metadata": {},
   "outputs": [],
   "source": [
    "xgb_predictor.delete_endpoint()"
   ]
  },
  {
   "cell_type": "markdown",
   "metadata": {},
   "source": [
    "## Step 7: Putting our model to work\n",
    "\n",
    "As we've mentioned a few times now, our goal is to have our model deployed and then access it using a very simple web app. The intent is for this web app to take some user submitted data (a review), send it off to our endpoint (the model) and then display the result.\n",
    "\n",
    "However, there is a small catch. Currently the only way we can access the endpoint to send it data is using the SageMaker API. We can, if we wish, expose the actual URL that our model's endpoint is receiving data from, however, if we just send it data ourselves we will not get anything in return. This is because the endpoint created by SageMaker requires the entity accessing it have the correct permissions. So, we would need to somehow authenticate our web app with AWS.\n",
    "\n",
    "Having a website that authenticates to AWS seems a bit beyond the scope of this lesson so we will opt for an alternative approach. Namely, we will create a new endpoint which does not require authentication and which acts as a proxy for the SageMaker endpoint.\n",
    "\n",
    "As an additional constraint, we will try to avoid doing any data processing in the web app itself. Remember that when we constructed and tested our model we started with a movie review, then we simplified it by removing any html formatting and punctuation, then we constructed a bag of words embedding and the resulting vector is what we sent to our model. All of this needs to be done to our user input as well.\n",
    "\n",
    "Fortunately we can do all of this data processing in the backend, using Amazon's Lambda service.\n",
    "\n",
    "<img src=\"Web App Diagram.svg\">\n",
    "\n",
    "The diagram above gives an overview of how the various services will work together. On the far right is the model which we trained above and which will be deployed using SageMaker. On the far left is our web app that collects a user's movie review, sends it off and expects a positive or negative sentiment in return.\n",
    "\n",
    "In the middle is where some of the magic happens. We will construct a Lambda function, which you can think of as a straightforward Python function that can be executed whenever a specified event occurs. This Python function will do the data processing we need to perform on a user submitted review. In addition, we will give this function permission to send and recieve data from a SageMaker endpoint.\n",
    "\n",
    "Lastly, the method we will use to execute the Lambda function is a new endpoint that we will create using API Gateway. This endpoint will be a url that listens for data to be sent to it. Once it gets some data it will pass that data on to the Lambda function and then return whatever the Lambda function returns. Essentially it will act as an interface that lets our web app communicate with the Lambda function.\n",
    "\n",
    "### Processing a single review\n",
    "\n",
    "For now, suppose we are given a movie review by our user in the form of a string, like so:"
   ]
  },
  {
   "cell_type": "code",
   "execution_count": 36,
   "metadata": {},
   "outputs": [],
   "source": [
    "test_review = \"Nothing but a disgusting materialistic pageant of glistening abed remote control greed zombies, totally devoid of any heart or heat. A romantic comedy that has zero romantic chemestry and zero laughs!\""
   ]
  },
  {
   "cell_type": "markdown",
   "metadata": {},
   "source": [
    "How do we go from this string to the bag of words feature vector that is expected by our model?\n",
    "\n",
    "If we recall at the beginning of this notebook, the first step is to remove any unnecessary characters using the `review_to_words` method. Remember that we intentionally did this in a very simplistic way. This is because we are going to have to copy this method to our (eventual) Lambda function (we will go into more detail later) and this means it needs to be rather simplistic."
   ]
  },
  {
   "cell_type": "code",
   "execution_count": 37,
   "metadata": {},
   "outputs": [
    {
     "name": "stdout",
     "output_type": "stream",
     "text": [
      "nothing but a disgusting materialistic pageant of glistening abed remote control greed zombies totally devoid of any heart or heat a romantic comedy that has zero romantic chemestry and zero laughs\n"
     ]
    }
   ],
   "source": [
    "test_words = review_to_words(test_review)\n",
    "print(test_words)"
   ]
  },
  {
   "cell_type": "markdown",
   "metadata": {},
   "source": [
    "Next, we need to construct a bag of words embedding of the `test_words` string. To do this, remember that a bag of words embedding uses a `vocabulary` consisting of the most frequently appearing words in a set of documents. Then, for each word in the vocabulary we record the number of times that word appears in `test_words`. We constructed the `vocabulary` earlier using the training set for our problem so encoding `test_words` is relatively straightforward."
   ]
  },
  {
   "cell_type": "code",
   "execution_count": 38,
   "metadata": {},
   "outputs": [],
   "source": [
    "def bow_encoding(words, vocabulary):\n",
    "    bow = [0] * len(vocabulary) # Start by setting the count for each word in the vocabulary to zero.\n",
    "    for word in words.split():  # For each word in the string\n",
    "        if word in vocabulary:  # If the word is one that occurs in the vocabulary, increase its count.\n",
    "            bow[vocabulary[word]] += 1\n",
    "    return bow"
   ]
  },
  {
   "cell_type": "code",
   "execution_count": 39,
   "metadata": {},
   "outputs": [
    {
     "name": "stdout",
     "output_type": "stream",
     "text": [
      "[0, 0, 0, 0, 0, 0, 0, 0, 0, 0, 0, 0, 0, 0, 0, 0, 0, 0, 0, 0, 0, 0, 0, 0, 0, 0, 0, 0, 0, 0, 0, 0, 0, 0, 0, 0, 0, 0, 0, 0, 0, 0, 0, 0, 0, 0, 0, 0, 0, 0, 0, 0, 0, 0, 0, 0, 0, 0, 0, 0, 0, 0, 0, 0, 0, 0, 0, 0, 0, 0, 0, 0, 0, 0, 0, 0, 0, 0, 0, 0, 0, 0, 0, 0, 0, 0, 0, 0, 0, 0, 0, 0, 0, 0, 0, 0, 0, 0, 0, 0, 0, 0, 0, 0, 0, 0, 0, 0, 0, 0, 0, 0, 0, 0, 0, 0, 0, 0, 0, 0, 0, 0, 0, 0, 0, 0, 0, 0, 0, 0, 0, 0, 0, 0, 0, 0, 0, 0, 0, 0, 0, 0, 0, 0, 0, 0, 0, 0, 0, 0, 0, 0, 0, 0, 0, 0, 0, 0, 0, 0, 0, 0, 0, 0, 0, 0, 0, 0, 0, 0, 0, 0, 0, 0, 0, 0, 0, 0, 0, 0, 0, 0, 0, 0, 0, 0, 0, 0, 0, 0, 0, 0, 0, 0, 0, 0, 0, 0, 0, 0, 0, 0, 0, 0, 0, 0, 0, 0, 0, 0, 0, 0, 0, 0, 0, 0, 0, 0, 0, 0, 0, 0, 0, 0, 0, 0, 1, 0, 0, 0, 0, 0, 0, 0, 0, 0, 0, 0, 0, 0, 0, 0, 0, 0, 0, 0, 0, 0, 0, 0, 0, 0, 0, 0, 0, 0, 1, 0, 0, 0, 0, 0, 0, 0, 0, 0, 0, 0, 0, 0, 0, 0, 0, 0, 0, 0, 0, 0, 0, 0, 0, 0, 0, 0, 0, 0, 0, 0, 0, 0, 0, 0, 0, 0, 0, 0, 0, 0, 0, 0, 0, 0, 0, 0, 0, 0, 0, 0, 0, 0, 0, 0, 0, 0, 0, 0, 0, 0, 0, 0, 0, 0, 0, 0, 0, 0, 0, 0, 0, 0, 0, 0, 0, 0, 0, 0, 0, 0, 0, 0, 0, 0, 0, 0, 0, 0, 0, 0, 0, 0, 0, 0, 0, 0, 0, 0, 0, 0, 0, 0, 0, 0, 0, 0, 0, 0, 0, 0, 0, 0, 0, 0, 0, 0, 0, 0, 0, 0, 0, 0, 0, 0, 0, 0, 0, 0, 0, 0, 0, 0, 0, 0, 0, 0, 0, 0, 0, 0, 0, 0, 0, 0, 0, 0, 0, 0, 0, 0, 0, 0, 0, 0, 0, 0, 0, 0, 0, 0, 0, 0, 0, 0, 0, 0, 0, 0, 0, 0, 0, 0, 0, 0, 0, 0, 0, 0, 0, 0, 0, 0, 0, 0, 0, 0, 0, 0, 0, 0, 0, 0, 0, 0, 0, 0, 0, 0, 0, 0, 0, 0, 0, 0, 0, 0, 0, 0, 0, 0, 0, 0, 0, 0, 0, 0, 0, 0, 0, 0, 0, 0, 0, 0, 0, 0, 0, 0, 0, 0, 0, 0, 0, 0, 0, 0, 0, 0, 0, 0, 0, 0, 0, 0, 0, 0, 0, 0, 0, 0, 0, 0, 0, 0, 0, 0, 0, 0, 0, 0, 0, 0, 0, 0, 0, 0, 0, 0, 0, 0, 0, 0, 0, 0, 0, 0, 0, 0, 0, 0, 0, 0, 0, 0, 0, 0, 0, 0, 0, 0, 0, 0, 0, 0, 0, 0, 0, 0, 0, 0, 0, 0, 0, 0, 0, 0, 0, 0, 0, 0, 0, 0, 0, 0, 0, 0, 0, 0, 0, 0, 0, 0, 0, 0, 0, 0, 0, 0, 0, 0, 0, 0, 0, 0, 0, 0, 0, 0, 0, 0, 0, 0, 0, 0, 0, 0, 0, 0, 0, 0, 0, 0, 0, 0, 0, 0, 0, 0, 0, 0, 0, 0, 0, 0, 0, 0, 0, 0, 0, 0, 0, 0, 0, 0, 0, 0, 0, 0, 1, 0, 0, 0, 0, 0, 0, 0, 0, 0, 0, 0, 0, 0, 0, 0, 0, 0, 0, 0, 0, 0, 0, 0, 0, 0, 0, 0, 0, 0, 0, 0, 0, 0, 0, 0, 0, 0, 0, 0, 0, 0, 0, 0, 0, 0, 0, 0, 0, 0, 0, 0, 0, 0, 0, 0, 0, 0, 0, 0, 0, 0, 0, 0, 0, 0, 0, 0, 0, 0, 0, 0, 0, 0, 0, 0, 0, 0, 0, 0, 0, 0, 0, 0, 0, 0, 0, 0, 0, 0, 0, 0, 0, 0, 0, 0, 0, 0, 0, 0, 0, 0, 0, 0, 0, 0, 0, 0, 0, 0, 0, 0, 0, 0, 0, 0, 0, 0, 0, 0, 0, 0, 0, 0, 0, 0, 0, 0, 0, 0, 0, 0, 0, 0, 0, 0, 0, 0, 0, 0, 0, 0, 0, 0, 0, 0, 0, 0, 0, 0, 0, 0, 0, 0, 0, 0, 0, 0, 0, 0, 0, 0, 0, 0, 0, 0, 0, 0, 0, 0, 0, 0, 0, 0, 0, 0, 0, 0, 0, 0, 0, 0, 0, 0, 0, 0, 0, 0, 0, 0, 0, 0, 0, 0, 0, 0, 0, 0, 0, 0, 0, 0, 0, 0, 0, 0, 0, 0, 0, 0, 0, 0, 0, 0, 0, 0, 0, 0, 0, 0, 0, 0, 0, 0, 0, 0, 0, 0, 0, 0, 0, 0, 0, 0, 0, 0, 0, 0, 0, 0, 0, 0, 0, 0, 0, 0, 0, 0, 0, 0, 0, 0, 0, 0, 1, 0, 0, 0, 0, 0, 0, 0, 0, 0, 0, 0, 0, 0, 0, 0, 0, 0, 0, 0, 0, 0, 0, 0, 0, 0, 0, 0, 0, 0, 0, 0, 0, 0, 0, 0, 0, 0, 0, 0, 0, 0, 0, 0, 0, 0, 0, 0, 0, 0, 0, 0, 0, 0, 0, 0, 0, 0, 0, 0, 0, 0, 0, 0, 0, 0, 0, 0, 0, 0, 0, 0, 0, 0, 0, 0, 0, 0, 0, 0, 0, 0, 0, 0, 0, 0, 0, 1, 0, 0, 0, 0, 0, 0, 0, 0, 0, 0, 0, 0, 0, 0, 0, 0, 0, 0, 0, 0, 0, 0, 0, 0, 0, 0, 0, 0, 0, 0, 0, 0, 0, 0, 0, 0, 0, 0, 0, 0, 0, 0, 0, 0, 0, 0, 0, 0, 0, 0, 0, 0, 0, 0, 0, 0, 0, 0, 0, 0, 0, 0, 0, 0, 0, 0, 0, 0, 0, 0, 0, 0, 0, 0, 0, 0, 0, 0, 0, 0, 0, 0, 0, 0, 0, 0, 0, 0, 0, 0, 0, 0, 0, 0, 0, 0, 0, 0, 0, 0, 0, 0, 0, 0, 0, 0, 0, 0, 0, 0, 0, 0, 0, 0, 0, 0, 0, 0, 0, 0, 0, 0, 0, 0, 0, 0, 0, 0, 0, 0, 0, 0, 0, 0, 0, 0, 0, 0, 0, 0, 0, 0, 0, 0, 0, 0, 0, 0, 0, 0, 0, 0, 0, 0, 0, 0, 0, 0, 0, 0, 0, 0, 0, 0, 0, 0, 0, 0, 0, 0, 0, 0, 0, 0, 0, 0, 0, 0, 0, 0, 0, 0, 0, 0, 0, 0, 0, 0, 0, 0, 0, 0, 0, 0, 0, 0, 0, 0, 0, 0, 0, 0, 0, 0, 0, 0, 0, 0, 0, 0, 0, 0, 0, 0, 0, 0, 0, 0, 0, 0, 0, 0, 0, 0, 0, 0, 0, 0, 0, 0, 0, 0, 0, 0, 0, 0, 0, 0, 0, 0, 0, 0, 0, 0, 0, 0, 0, 0, 0, 0, 0, 0, 1, 0, 0, 0, 0, 0, 0, 0, 0, 0, 0, 0, 0, 0, 0, 0, 0, 0, 0, 0, 0, 0, 0, 0, 0, 0, 0, 0, 0, 0, 0, 0, 0, 0, 0, 0, 0, 0, 0, 0, 0, 0, 0, 0, 0, 0, 0, 0, 0, 0, 0, 0, 0, 0, 0, 0, 1, 0, 0, 0, 0, 0, 0, 0, 0, 0, 0, 0, 0, 0, 0, 0, 0, 0, 0, 0, 0, 0, 0, 0, 0, 0, 0, 0, 0, 0, 0, 0, 0, 0, 0, 0, 0, 0, 0, 0, 0, 0, 0, 0, 0, 0, 0, 0, 0, 0, 0, 0, 0, 0, 0, 0, 0, 0, 0, 0, 0, 0, 0, 0, 0, 0, 0, 0, 0, 0, 0, 0, 0, 0, 0, 0, 0, 0, 0, 0, 0, 0, 0, 0, 0, 0, 0, 0, 0, 0, 0, 0, 0, 0, 0, 0, 0, 0, 0, 0, 0, 0, 0, 0, 0, 0, 0, 0, 0, 0, 0, 0, 0, 0, 0, 0, 0, 0, 0, 0, 0, 0, 0, 0, 0, 0, 0, 0, 0, 0, 0, 0, 0, 0, 0, 0, 0, 0, 0, 0, 0, 0, 0, 0, 0, 0, 0, 0, 0, 0, 0, 0, 0, 0, 0, 0, 0, 0, 0, 0, 0, 0, 0, 0, 0, 0, 0, 0, 0, 0, 0, 0, 0, 0, 0, 0, 0, 0, 0, 0, 0, 0, 0, 0, 0, 0, 0, 0, 0, 0, 0, 0, 0, 0, 0, 0, 0, 0, 0, 0, 0, 0, 0, 0, 0, 0, 0, 0, 0, 0, 0, 0, 0, 0, 0, 0, 0, 0, 0, 0, 0, 0, 0, 0, 0, 0, 0, 0, 0, 0, 0, 0, 0, 0, 0, 0, 0, 0, 0, 0, 0, 0, 0, 0, 0, 0, 0, 0, 0, 0, 0, 0, 0, 0, 0, 0, 0, 0, 0, 0, 0, 0, 0, 0, 0, 0, 0, 0, 0, 0, 0, 0, 0, 0, 0, 0, 0, 0, 0, 0, 0, 0, 0, 0, 0, 0, 0, 0, 0, 0, 0, 0, 0, 0, 0, 0, 0, 0, 0, 0, 0, 0, 0, 0, 0, 0, 0, 0, 0, 0, 0, 0, 0, 0, 0, 0, 0, 0, 0, 0, 0, 0, 0, 0, 0, 0, 0, 0, 0, 0, 0, 0, 0, 0, 0, 0, 0, 0, 0, 0, 0, 0, 0, 0, 0, 0, 0, 0, 0, 0, 0, 0, 0, 0, 0, 0, 0, 0, 0, 0, 0, 0, 0, 0, 0, 0, 0, 0, 0, 0, 0, 0, 0, 0, 0, 0, 0, 0, 0, 0, 0, 0, 0, 0, 0, 0, 0, 0, 0, 0, 0, 0, 0, 0, 0, 0, 0, 0, 0, 0, 0, 0, 0, 0, 0, 0, 0, 0, 0, 0, 0, 0, 0, 0, 0, 0, 0, 0, 0, 0, 0, 0, 0, 0, 0, 0, 0, 0, 0, 0, 0, 0, 0, 0, 0, 0, 0, 0, 0, 0, 0, 0, 0, 0, 0, 0, 0, 0, 0, 0, 0, 0, 0, 0, 0, 0, 0, 0, 0, 0, 0, 0, 0, 0, 0, 0, 0, 0, 0, 0, 0, 0, 0, 0, 0, 0, 0, 0, 0, 0, 0, 0, 0, 0, 0, 0, 0, 0, 0, 0, 0, 0, 0, 0, 0, 0, 0, 0, 0, 0, 0, 0, 0, 0, 0, 0, 0, 0, 0, 0, 0, 0, 0, 0, 0, 0, 0, 0, 0, 0, 0, 0, 0, 0, 0, 0, 0, 0, 0, 0, 0, 0, 0, 0, 0, 0, 0, 0, 0, 0, 0, 0, 0, 0, 0, 0, 0, 0, 0, 0, 0, 0, 0, 0, 0, 0, 0, 0, 0, 0, 0, 0, 0, 0, 0, 0, 0, 0, 0, 0, 0, 0, 0, 0, 0, 0, 0, 0, 0, 0, 0, 0, 0, 0, 0, 0, 0, 0, 0, 0, 0, 0, 0, 0, 0, 0, 0, 0, 0, 0, 0, 0, 0, 0, 0, 0, 0, 0, 0, 0, 0, 0, 0, 0, 0, 0, 0, 0, 0, 0, 0, 0, 0, 0, 0, 0, 0, 0, 0, 0, 0, 0, 0, 0, 0, 0, 0, 0, 0, 0, 0, 0, 0, 0, 0, 0, 0, 0, 0, 0, 0, 0, 0, 0, 0, 0, 0, 0, 0, 0, 0, 0, 0, 0, 0, 0, 0, 0, 0, 0, 0, 0, 0, 0, 0, 0, 0, 0, 0, 0, 0, 0, 1, 0, 0, 0, 0, 0, 0, 0, 0, 0, 0, 0, 0, 0, 0, 0, 0, 0, 0, 0, 0, 0, 0, 0, 0, 0, 0, 0, 0, 0, 0, 0, 0, 0, 0, 0, 0, 0, 0, 0, 0, 0, 0, 0, 0, 0, 0, 0, 0, 0, 0, 0, 0, 0, 0, 0, 0, 0, 0, 0, 0, 0, 0, 0, 0, 0, 0, 0, 0, 0, 0, 0, 0, 0, 0, 1, 0, 0, 0, 0, 0, 0, 0, 0, 0, 0, 0, 0, 0, 0, 0, 0, 0, 0, 0, 0, 1, 0, 0, 1, 0, 0, 0, 0, 0, 0, 0, 0, 0, 0, 0, 0, 0, 0, 0, 0, 0, 0, 0, 0, 0, 0, 0, 0, 0, 0, 0, 0, 0, 0, 0, 0, 0, 0, 0, 0, 0, 0, 0, 0, 0, 0, 0, 0, 0, 0, 0, 0, 0, 0, 0, 0, 0, 0, 0, 0, 0, 0, 0, 0, 0, 0, 0, 0, 0, 0, 0, 0, 0, 0, 0, 0, 0, 0, 0, 0, 0, 0, 0, 0, 0, 0, 0, 0, 0, 0, 0, 0, 0, 0, 0, 0, 0, 0, 0, 0, 0, 0, 0, 0, 0, 0, 0, 0, 0, 0, 0, 0, 0, 0, 0, 0, 0, 0, 0, 0, 0, 0, 0, 0, 0, 0, 0, 0, 0, 0, 0, 0, 0, 0, 0, 0, 0, 0, 0, 0, 0, 0, 0, 0, 0, 0, 0, 0, 0, 0, 0, 0, 0, 0, 0, 0, 0, 0, 0, 0, 0, 0, 0, 0, 0, 0, 0, 0, 0, 0, 0, 0, 0, 0, 0, 0, 0, 0, 0, 0, 0, 0, 0, 0, 0, 0, 0, 0, 0, 0, 0, 0, 0, 0, 0, 0, 0, 0, 0, 0, 0, 0, 0, 0, 0, 0, 0, 0, 0, 0, 0, 0, 0, 0, 0, 0, 0, 0, 0, 0, 0, 0, 0, 0, 0, 0, 0, 0, 0, 0, 0, 0, 0, 0, 0, 0, 0, 0, 0, 0, 0, 0, 0, 0, 0, 0, 0, 0, 0, 0, 0, 0, 0, 0, 0, 0, 0, 0, 0, 0, 0, 0, 0, 0, 0, 0, 0, 0, 0, 0, 0, 0, 0, 0, 0, 0, 0, 0, 0, 0, 0, 0, 0, 0, 0, 0, 0, 0, 0, 0, 0, 0, 0, 0, 0, 0, 0, 0, 0, 0, 0, 0, 0, 0, 0, 0, 0, 0, 0, 0, 0, 0, 0, 0, 0, 0, 0, 0, 0, 0, 0, 0, 0, 0, 0, 0, 0, 0, 0, 0, 0, 0, 0, 0, 0, 0, 0, 0, 0, 0, 0, 0, 0, 0, 0, 0, 0, 0, 0, 0, 0, 0, 0, 0, 0, 0, 0, 0, 0, 0, 0, 0, 0, 0, 0, 0, 0, 0, 0, 0, 0, 0, 0, 0, 0, 0, 0, 0, 0, 0, 0, 0, 0, 0, 0, 0, 0, 0, 0, 0, 0, 0, 0, 0, 0, 0, 0, 0, 0, 0, 0, 0, 0, 0, 0, 0, 0, 0, 0, 0, 0, 0, 0, 0, 0, 0, 0, 0, 0, 0, 0, 0, 0, 0, 0, 0, 0, 0, 0, 0, 0, 0, 0, 0, 0, 0, 0, 0, 0, 0, 0, 0, 0, 0, 0, 0, 0, 0, 0, 0, 0, 0, 0, 0, 0, 0, 0, 0, 0, 0, 0, 0, 0, 0, 0, 0, 0, 0, 0, 0, 1, 0, 0, 0, 0, 0, 0, 0, 0, 0, 0, 0, 0, 0, 0, 0, 0, 0, 0, 0, 0, 0, 0, 0, 0, 0, 0, 0, 0, 0, 0, 0, 0, 0, 0, 0, 0, 0, 0, 0, 0, 0, 0, 0, 0, 0, 0, 0, 0, 0, 0, 0, 0, 0, 0, 0, 0, 0, 0, 0, 0, 0, 0, 0, 0, 0, 0, 0, 0, 0, 0, 0, 0, 0, 0, 0, 0, 0, 0, 0, 0, 0, 0, 0, 0, 0, 0, 0, 0, 0, 0, 0, 0, 0, 0, 0, 0, 0, 0, 0, 0, 0, 0, 0, 0, 0, 0, 0, 0, 0, 0, 0, 0, 0, 0, 0, 0, 0, 0, 0, 0, 0, 0, 0, 0, 0, 0, 0, 0, 0, 0, 0, 0, 0, 0, 0, 0, 0, 0, 0, 0, 0, 0, 0, 0, 0, 0, 0, 0, 0, 0, 0, 0, 0, 0, 0, 0, 0, 0, 0, 0, 0, 0, 0, 0, 0, 0, 0, 0, 0, 0, 0, 0, 0, 0, 0, 0, 0, 0, 0, 0, 0, 0, 0, 0, 0, 0, 0, 0, 0, 0, 0, 0, 0, 0, 0, 0, 0, 0, 0, 0, 0, 0, 0, 0, 0, 0, 0, 0, 0, 0, 0, 0, 0, 0, 0, 0, 0, 0, 0, 0, 0, 0, 0, 0, 0, 0, 0, 0, 0, 0, 0, 0, 0, 0, 0, 0, 0, 0, 0, 0, 0, 0, 0, 0, 0, 0, 0, 0, 0, 0, 0, 0, 0, 0, 0, 0, 0, 0, 0, 0, 0, 0, 0, 0, 0, 0, 0, 0, 0, 0, 0, 0, 0, 0, 0, 0, 0, 0, 0, 0, 0, 0, 0, 0, 0, 0, 0, 0, 0, 0, 0, 0, 0, 0, 0, 0, 0, 0, 0, 0, 0, 0, 0, 0, 0, 0, 0, 0, 0, 0, 0, 0, 0, 0, 0, 0, 0, 0, 0, 0, 0, 0, 0, 0, 0, 0, 0, 0, 0, 0, 0, 0, 0, 0, 0, 0, 0, 0, 0, 0, 0, 0, 0, 0, 0, 0, 0, 0, 0, 0, 0, 0, 0, 0, 0, 0, 0, 0, 0, 0, 0, 0, 0, 0, 0, 0, 0, 0, 0, 0, 0, 0, 0, 0, 0, 0, 0, 0, 0, 0, 0, 0, 0, 0, 0, 0, 0, 0, 0, 0, 0, 0, 0, 0, 0, 0, 0, 0, 0, 0, 0, 0, 0, 0, 0, 0, 0, 0, 0, 0, 0, 0, 0, 0, 0, 0, 0, 0, 0, 0, 0, 0, 0, 0, 0, 0, 0, 0, 0, 0, 0, 0, 0, 0, 0, 0, 0, 0, 0, 0, 0, 0, 0, 0, 0, 0, 0, 0, 0, 0, 0, 0, 0, 0, 0, 0, 0, 0, 0, 0, 0, 0, 0, 0, 0, 0, 0, 0, 0, 0, 0, 0, 0, 0, 0, 0, 0, 0, 0, 0, 0, 0, 0, 0, 0, 0, 0, 0, 0, 0, 0, 0, 0, 0, 0, 0, 0, 0, 0, 0, 0, 0, 0, 0, 0, 0, 0, 0, 0, 0, 0, 0, 1, 0, 0, 0, 0, 0, 0, 0, 0, 0, 0, 0, 0, 0, 0, 0, 0, 0, 0, 0, 0, 0, 0, 0, 0, 0, 0, 0, 0, 0, 0, 0, 0, 0, 0, 0, 2, 0, 0, 0, 0, 0, 0, 0, 0, 0, 0, 0, 0, 0, 0, 0, 0, 0, 0, 0, 0, 0, 0, 0, 0, 0, 0, 0, 0, 0, 0, 0, 0, 0, 0, 0, 0, 0, 0, 0, 0, 1, 0, 0, 0, 0, 0, 0, 0, 0, 0, 0, 0, 0, 0, 0, 0, 0, 0, 0, 0, 0, 0, 0, 0, 0, 0, 0, 0, 0, 0, 0, 0, 0, 0, 0, 0, 0, 0, 0, 0, 0, 0, 0, 0, 0, 0, 0, 0, 0, 0, 0, 0, 0, 0, 0, 0, 0, 0, 0, 0, 0, 0, 0, 0, 0, 0, 0, 0, 0, 0, 0, 0, 0, 0, 0, 0, 0, 0, 0, 0, 0, 0, 0, 0, 0, 0, 0, 0, 0, 0, 0, 0, 0, 0, 0, 0, 0, 0, 0, 0, 0, 0, 0, 0, 0, 0, 0, 0, 0, 0, 0, 0, 0, 0, 0, 0, 0, 0, 0, 0, 0, 0, 0, 0, 0, 0, 0, 0, 0, 0, 0, 0, 0, 0, 0, 0, 0, 0, 0, 0, 0, 0, 0, 0, 0, 0, 0, 0, 0, 0, 0, 0, 0, 0, 0, 0, 0, 0, 0, 0, 0, 0, 0, 0, 0, 0, 0, 0, 0, 0, 0, 0, 0, 0, 0, 0, 0, 0, 0, 0, 0, 0, 0, 0, 0, 0, 0, 0, 0, 0, 0, 0, 0, 0, 0, 0, 0, 0, 0, 0, 0, 0, 0, 0, 0, 0, 0, 0, 0, 0, 0, 0, 0, 0, 0, 0, 0, 0, 0, 0, 0, 0, 0, 0, 0, 0, 0, 0, 0, 0, 0, 0, 0, 0, 0, 0, 0, 0, 0, 0, 0, 0, 0, 0, 0, 0, 0, 0, 0, 0, 0, 0, 0, 0, 0, 0, 0, 0, 0, 0, 0, 0, 0, 0, 0, 0, 0, 0, 0, 0, 0, 0, 0, 0, 0, 0, 0, 0, 0, 0, 0, 0, 0, 0, 0, 0, 0, 0, 0, 0, 0, 0, 0, 0, 0, 0, 0, 0, 0, 0, 0, 0, 0, 0, 0, 0, 0, 0, 0, 0, 0, 0, 0, 0, 0, 0, 0, 0, 0, 0, 0, 0, 0, 0, 0, 0, 0, 0, 0, 0, 0, 0, 0, 0, 0, 0, 0, 0, 0, 0, 0, 0, 0, 0, 0, 0, 0, 0, 0, 0, 0, 0, 0, 0, 0, 0, 0, 0, 0, 0, 0, 0, 0, 0, 0, 0, 0, 0, 0, 0, 0, 0, 0, 0, 0, 0, 0, 0, 0, 0, 0, 0, 0, 0, 0, 0, 0, 0, 0, 0, 0, 0, 0, 0, 0, 0, 0, 0, 0, 0, 0, 0, 0, 0, 0, 0, 0, 0, 0, 0, 0, 0, 0, 0, 0, 0, 0, 0, 0, 0, 0, 0, 0, 0, 0, 0, 0, 0, 0, 0, 0, 0, 0, 0, 0, 0, 0, 0, 0, 0, 0, 0, 0, 0, 0, 0, 0, 0, 0, 0, 0, 0, 0, 0, 0, 0, 0, 0, 0, 0, 0, 0, 0, 0, 0, 0, 0, 0, 0, 0, 0, 0, 0, 0, 0, 0, 0, 0, 0, 0, 0, 0, 0, 0, 0, 0, 0, 0, 0, 0, 0, 0, 0, 0, 0, 0, 0, 0, 1, 0, 0, 0, 0, 0, 0, 0, 0, 0, 0, 0, 0, 0, 0, 0, 0, 0, 0, 0, 0, 0, 0, 0, 0, 0, 0, 0, 0, 0, 0, 0, 0, 0, 0, 0, 0, 0, 0, 0, 0, 0, 0, 0, 0, 0, 0, 0, 0, 0, 0, 0, 0, 0, 0, 0, 0, 0, 0, 0, 0, 0, 0, 0, 0, 0, 0, 0, 0, 0, 0, 0, 0, 0, 0, 0, 0, 0, 0, 0, 0, 0, 0, 0, 0, 0, 0, 0, 0, 0, 0, 0, 0, 0, 0, 0, 0, 0, 0, 0, 0, 0, 0, 0, 0, 0, 0, 0, 0, 0, 0, 2, 0, 0, 0, 0, 0, 0, 0, 0, 0, 0, 0, 0, 0, 0, 0, 0, 0, 0, 0, 0, 0, 0, 0, 0, 0, 0, 0, 0, 0, 0, 0, 0, 0, 0, 0, 0, 0, 0, 0, 0, 0, 0, 0, 0, 0, 0, 0, 0, 0, 0, 0, 0, 0, 0, 0, 0, 0, 0, 0, 0, 0, 0, 0, 0, 0, 0, 0, 0, 0, 0, 0, 0, 0, 0, 0, 0, 0, 0, 0, 0, 0, 0, 0, 0, 0, 0, 0, 0, 0, 0, 0, 0, 0, 0, 0, 0, 0, 0, 0, 0, 0, 0, 0, 0, 0, 0, 0, 0, 0, 0, 0, 0, 0, 0, 0, 0, 0, 0, 0, 0, 0, 0, 0, 0, 0, 0, 0, 0, 0, 0, 0, 0, 0, 0, 0, 0, 0, 0, 0, 0, 0, 0, 0, 0, 0, 0, 0, 0, 0, 0, 0, 0, 0, 0, 0, 0, 0, 0, 0, 0, 0, 0, 0, 0, 0, 0, 0, 0, 0, 0, 0, 0, 0, 0, 0, 0, 0, 0, 0, 0, 0, 0, 0, 0, 0, 0, 0, 0, 0, 0, 0, 0, 0, 0, 0, 0, 0, 0, 0, 0, 0, 0, 0, 0, 0, 0, 0, 0, 0, 0, 0, 0, 0, 0, 0, 0, 0, 0, 0, 0, 0, 0, 0, 0, 0, 0, 0, 0, 0, 0, 0, 0, 0, 0, 0, 0, 0, 0, 0, 0, 0, 0, 0, 0, 0, 0, 0, 0, 0, 0, 0, 0, 0, 0, 0, 0, 0, 0, 0, 0, 0, 0, 0, 0, 0, 0, 0, 0, 0, 0, 0, 0, 0, 0, 0, 0, 0, 0, 0, 0, 0, 0, 0, 0, 0, 0, 0, 0, 0, 0, 0, 0, 0, 0, 0, 0, 0, 0, 0, 0, 0, 0, 0, 0, 0, 0, 0, 0, 0, 0, 0, 0, 0, 0, 0, 0, 0, 0, 0, 0, 0, 0, 0, 0, 0, 0, 0, 0, 0, 0, 0, 0, 0, 0, 0, 0, 0, 0, 0, 0, 0, 0, 0, 0, 0, 0, 0, 0, 0, 0, 0, 0, 0, 0, 0, 0, 0, 0, 0, 0, 0, 0, 0, 0, 0, 0, 0, 0, 0, 0, 0, 0, 0, 0, 0, 0, 0, 0, 0, 0, 0, 0, 0, 0, 0, 0, 0, 0, 0, 0, 0, 0, 0, 0, 0, 0, 0, 0, 0, 0, 0, 0, 0, 0, 0, 0, 0, 0, 0, 0, 0, 0, 0, 0, 0, 0, 0, 0, 0, 0, 0, 0, 0, 0, 0, 0, 0, 0, 0, 0, 0, 0, 0, 0, 0, 0, 0, 0, 0, 0, 0, 0, 0, 0, 0, 0, 0, 0, 0, 0, 0, 0, 0, 0, 0, 0, 0, 0, 0, 0, 0, 0, 0, 0, 0, 0, 0, 0, 0, 0, 0, 0, 0, 0, 0, 0, 0, 0, 0, 0, 0, 0, 0, 0, 0, 0, 0, 0, 0, 0, 0, 0, 0, 0, 0, 0, 0, 0, 0, 0, 0, 0, 0, 0, 0, 0, 0, 0, 0, 0, 0, 0, 0, 0, 0, 0, 0, 0, 0, 0, 0, 0, 0, 0, 0, 0, 0, 0, 0, 0, 0, 0, 0, 0, 0, 0, 0, 0, 0, 0, 0, 0, 0, 0, 0, 0, 0, 0, 0, 0, 0, 0, 0, 0, 0, 0, 0, 0, 0, 0, 0, 0, 0, 0, 0, 0, 0, 0, 0, 0, 0, 0, 0, 0, 0, 0, 0, 0, 0, 0, 0, 0, 0, 0, 0, 0, 0, 0, 0, 0, 0, 0, 0, 0, 0, 0, 0, 0, 0, 0, 0, 0, 0, 0, 0, 0, 0, 0, 0, 0, 0, 0, 0, 0, 0, 0, 0, 0, 0, 0, 0, 0, 0, 0, 0, 0, 0, 0, 0, 0, 0, 0, 0, 0, 0, 0, 0, 0, 0, 0, 0, 0, 0, 0, 0, 0, 0, 0, 0, 0, 0, 0, 0, 0, 0, 0, 0, 0, 0, 0, 0, 0, 0, 0, 0, 0, 0, 0, 0, 0, 0, 0, 0, 0, 0, 0, 0, 0, 0, 0, 0, 0, 0, 0, 0, 0, 0, 0, 0, 0, 1, 0, 0, 0, 0, 0, 0, 0, 0, 0, 0, 0, 0, 0, 0, 0, 0, 0, 0, 0, 0, 0, 0, 0, 0, 0, 0, 0, 0, 0, 0, 0, 0, 0, 0, 0, 0, 0, 0, 0, 0, 0, 0, 0, 0, 0, 0, 0, 0, 0, 0, 0, 0, 0, 0, 0, 0, 0, 0, 0, 0, 0, 0, 0, 0, 0, 0, 0, 0, 0, 0, 0, 0, 0, 0, 0, 0, 0, 0, 0, 0, 0, 0, 0, 0, 0, 0, 0, 0, 0, 0, 0, 0, 0, 0, 0, 0, 0, 0, 0, 0, 0, 0, 0, 0, 0, 0, 0, 1, 0, 0, 0, 0, 0, 0, 0, 0, 0, 0, 0, 0, 0, 0, 0, 0, 0, 0, 0, 0, 0, 0, 0, 0, 0, 0, 0, 0, 0, 0, 0, 0, 0, 0, 0, 0, 0, 0, 0, 0, 0, 0, 0, 0, 0, 0, 0, 0, 0, 0, 0, 0, 0, 0, 0, 0, 0, 0, 0, 0, 0, 0, 0, 0, 0, 0, 0, 0, 0, 0, 0, 0, 0, 0, 0, 0, 0, 0, 0, 0, 0, 0, 0, 0, 0, 0, 0, 0, 0, 0, 0, 0, 0, 0, 0, 0, 0, 0, 0, 0, 0, 0, 0, 0, 0, 0, 0, 0, 0, 0, 0, 0, 0, 0, 0, 0, 0, 0, 0, 0, 0, 0, 0, 0, 0, 0, 0, 0, 0, 0, 0, 0, 0, 0, 0, 0, 0, 0, 0, 0, 0, 0, 0, 0, 0, 0, 0, 0, 0, 0, 0, 0, 0, 0, 0, 0, 0, 0, 0, 0, 0, 0, 0, 0, 0, 0, 0, 0, 0, 0, 0, 0, 0, 0, 0, 0, 0, 0, 0, 0, 0, 0, 0, 0, 0, 0, 0, 0, 0, 0, 0, 0, 0, 0, 0, 0, 0, 0, 0, 0, 0, 0, 0, 0, 0, 0, 0, 0, 0, 0, 0, 0, 0, 0, 0, 0, 0, 0, 0, 0, 0, 0, 0, 0, 0, 0, 0, 0, 0, 0, 0, 0, 0, 0, 0, 0, 0, 0, 0, 0, 0, 0, 0, 0, 0, 0, 0, 0, 0, 0, 0, 0, 0, 0, 0, 0, 0, 0, 0, 0, 0, 0, 0, 0, 0, 0, 0, 0, 0, 0, 0, 0, 0, 0, 0, 0, 0, 0, 0, 0, 0, 0, 0, 0, 0, 0, 0, 0, 0, 0, 0, 0, 0, 0, 0, 0, 0, 0, 0, 0, 0, 0, 0, 0, 0, 0, 0, 0, 0, 0, 0, 0, 0, 0, 0, 0, 0, 0, 0, 0, 0, 0, 0, 0, 0, 0, 0, 0, 0, 0, 0, 0, 0, 0, 0, 0, 0, 0, 0, 0, 0, 0, 0, 0, 0, 0, 0, 0, 0, 0, 0, 0, 0, 0, 0, 0, 0, 0, 0, 0, 0, 0, 0, 0, 0, 0, 0, 0, 0, 0, 0, 0, 0, 0, 0, 0, 0, 0, 0, 0, 0, 0, 0, 0, 0, 0, 0, 0, 0, 0, 0, 0, 0, 0, 0, 0, 0, 0, 0, 0, 0, 0, 0, 0, 0, 0, 0, 0, 0, 0, 0, 0, 0, 0, 0, 0, 0, 0, 0, 0, 0, 0, 0, 0, 0, 0, 0, 0, 0, 0, 0, 0, 0, 0, 0, 0, 0, 0, 0, 0, 0, 0, 0, 0, 0, 0, 0, 0, 0, 0, 0, 0, 0, 0, 0, 0, 0, 0, 0, 0, 0, 0, 0, 2, 0, 1, 0]\n"
     ]
    }
   ],
   "source": [
    "test_bow = bow_encoding(test_words, vocabulary)\n",
    "print(test_bow)"
   ]
  },
  {
   "cell_type": "code",
   "execution_count": 40,
   "metadata": {},
   "outputs": [
    {
     "data": {
      "text/plain": [
       "5000"
      ]
     },
     "execution_count": 40,
     "metadata": {},
     "output_type": "execute_result"
    }
   ],
   "source": [
    "len(test_bow)"
   ]
  },
  {
   "cell_type": "markdown",
   "metadata": {},
   "source": [
    "So now we know how to construct a bag of words encoding of a user provided review, how to we send it to our endpoint? First, we need to start the endpoint back up."
   ]
  },
  {
   "cell_type": "code",
   "execution_count": 41,
   "metadata": {},
   "outputs": [
    {
     "name": "stdout",
     "output_type": "stream",
     "text": [
      "---------------------------------------------------------------------------!"
     ]
    }
   ],
   "source": [
    "xgb_predictor = xgb.deploy(initial_instance_count = 1, instance_type = 'ml.m4.xlarge')"
   ]
  },
  {
   "cell_type": "markdown",
   "metadata": {},
   "source": [
    "At this point we could just do the same thing that we did earlier when we tested our deployed model and send `test_bow` to our endpoint using the `xgb_predictor` object. However, when we eventually construct our Lambda function we won't have access to this object, so how do we call a SageMaker endpoint?\n",
    "\n",
    "It turns out that Python functions that are used in Lambda have access to another Amazon library called `boto3`. This library provides an API for working with Amazon services, including SageMaker. To start with, we need to get a handle to the SageMaker runtime."
   ]
  },
  {
   "cell_type": "code",
   "execution_count": 42,
   "metadata": {},
   "outputs": [],
   "source": [
    "import boto3\n",
    "\n",
    "runtime = boto3.Session().client('sagemaker-runtime')"
   ]
  },
  {
   "cell_type": "markdown",
   "metadata": {},
   "source": [
    "And now that we have access to the SageMaker runtime, we can ask it to make use of (invoke) an endpoint that has already been created. However, we need to provide SageMaker with the name of the deployed endpoint. To find this out we can print it out using the `xgb_predictor` object."
   ]
  },
  {
   "cell_type": "code",
   "execution_count": 43,
   "metadata": {},
   "outputs": [
    {
     "data": {
      "text/plain": [
       "'xgboost-2019-05-04-16-50-57-123'"
      ]
     },
     "execution_count": 43,
     "metadata": {},
     "output_type": "execute_result"
    }
   ],
   "source": [
    "xgb_predictor.endpoint"
   ]
  },
  {
   "cell_type": "markdown",
   "metadata": {},
   "source": [
    "Using the SageMaker runtime and the name of our endpoint, we can invoke the endpoint and send it the `test_bow` data."
   ]
  },
  {
   "cell_type": "code",
   "execution_count": 44,
   "metadata": {},
   "outputs": [
    {
     "ename": "ParamValidationError",
     "evalue": "Parameter validation failed:\nInvalid type for parameter Body, value: [0, 0, 0, 0, 0, 0, 0, 0, 0, 0, 0, 0, 0, 0, 0, 0, 0, 0, 0, 0, 0, 0, 0, 0, 0, 0, 0, 0, 0, 0, 0, 0, 0, 0, 0, 0, 0, 0, 0, 0, 0, 0, 0, 0, 0, 0, 0, 0, 0, 0, 0, 0, 0, 0, 0, 0, 0, 0, 0, 0, 0, 0, 0, 0, 0, 0, 0, 0, 0, 0, 0, 0, 0, 0, 0, 0, 0, 0, 0, 0, 0, 0, 0, 0, 0, 0, 0, 0, 0, 0, 0, 0, 0, 0, 0, 0, 0, 0, 0, 0, 0, 0, 0, 0, 0, 0, 0, 0, 0, 0, 0, 0, 0, 0, 0, 0, 0, 0, 0, 0, 0, 0, 0, 0, 0, 0, 0, 0, 0, 0, 0, 0, 0, 0, 0, 0, 0, 0, 0, 0, 0, 0, 0, 0, 0, 0, 0, 0, 0, 0, 0, 0, 0, 0, 0, 0, 0, 0, 0, 0, 0, 0, 0, 0, 0, 0, 0, 0, 0, 0, 0, 0, 0, 0, 0, 0, 0, 0, 0, 0, 0, 0, 0, 0, 0, 0, 0, 0, 0, 0, 0, 0, 0, 0, 0, 0, 0, 0, 0, 0, 0, 0, 0, 0, 0, 0, 0, 0, 0, 0, 0, 0, 0, 0, 0, 0, 0, 0, 0, 0, 0, 0, 0, 0, 0, 0, 1, 0, 0, 0, 0, 0, 0, 0, 0, 0, 0, 0, 0, 0, 0, 0, 0, 0, 0, 0, 0, 0, 0, 0, 0, 0, 0, 0, 0, 0, 1, 0, 0, 0, 0, 0, 0, 0, 0, 0, 0, 0, 0, 0, 0, 0, 0, 0, 0, 0, 0, 0, 0, 0, 0, 0, 0, 0, 0, 0, 0, 0, 0, 0, 0, 0, 0, 0, 0, 0, 0, 0, 0, 0, 0, 0, 0, 0, 0, 0, 0, 0, 0, 0, 0, 0, 0, 0, 0, 0, 0, 0, 0, 0, 0, 0, 0, 0, 0, 0, 0, 0, 0, 0, 0, 0, 0, 0, 0, 0, 0, 0, 0, 0, 0, 0, 0, 0, 0, 0, 0, 0, 0, 0, 0, 0, 0, 0, 0, 0, 0, 0, 0, 0, 0, 0, 0, 0, 0, 0, 0, 0, 0, 0, 0, 0, 0, 0, 0, 0, 0, 0, 0, 0, 0, 0, 0, 0, 0, 0, 0, 0, 0, 0, 0, 0, 0, 0, 0, 0, 0, 0, 0, 0, 0, 0, 0, 0, 0, 0, 0, 0, 0, 0, 0, 0, 0, 0, 0, 0, 0, 0, 0, 0, 0, 0, 0, 0, 0, 0, 0, 0, 0, 0, 0, 0, 0, 0, 0, 0, 0, 0, 0, 0, 0, 0, 0, 0, 0, 0, 0, 0, 0, 0, 0, 0, 0, 0, 0, 0, 0, 0, 0, 0, 0, 0, 0, 0, 0, 0, 0, 0, 0, 0, 0, 0, 0, 0, 0, 0, 0, 0, 0, 0, 0, 0, 0, 0, 0, 0, 0, 0, 0, 0, 0, 0, 0, 0, 0, 0, 0, 0, 0, 0, 0, 0, 0, 0, 0, 0, 0, 0, 0, 0, 0, 0, 0, 0, 0, 0, 0, 0, 0, 0, 0, 0, 0, 0, 0, 0, 0, 0, 0, 0, 0, 0, 0, 0, 0, 0, 0, 0, 0, 0, 0, 0, 0, 0, 0, 0, 0, 0, 0, 0, 0, 0, 0, 0, 0, 0, 0, 0, 0, 0, 0, 0, 0, 0, 0, 0, 0, 0, 0, 0, 0, 0, 0, 0, 0, 0, 0, 0, 0, 0, 0, 0, 0, 0, 0, 0, 0, 0, 0, 0, 0, 0, 0, 0, 0, 0, 0, 0, 0, 0, 0, 0, 0, 0, 0, 0, 0, 0, 0, 0, 0, 0, 0, 0, 0, 0, 0, 0, 0, 0, 0, 0, 0, 0, 0, 0, 0, 0, 0, 0, 0, 0, 0, 0, 0, 0, 1, 0, 0, 0, 0, 0, 0, 0, 0, 0, 0, 0, 0, 0, 0, 0, 0, 0, 0, 0, 0, 0, 0, 0, 0, 0, 0, 0, 0, 0, 0, 0, 0, 0, 0, 0, 0, 0, 0, 0, 0, 0, 0, 0, 0, 0, 0, 0, 0, 0, 0, 0, 0, 0, 0, 0, 0, 0, 0, 0, 0, 0, 0, 0, 0, 0, 0, 0, 0, 0, 0, 0, 0, 0, 0, 0, 0, 0, 0, 0, 0, 0, 0, 0, 0, 0, 0, 0, 0, 0, 0, 0, 0, 0, 0, 0, 0, 0, 0, 0, 0, 0, 0, 0, 0, 0, 0, 0, 0, 0, 0, 0, 0, 0, 0, 0, 0, 0, 0, 0, 0, 0, 0, 0, 0, 0, 0, 0, 0, 0, 0, 0, 0, 0, 0, 0, 0, 0, 0, 0, 0, 0, 0, 0, 0, 0, 0, 0, 0, 0, 0, 0, 0, 0, 0, 0, 0, 0, 0, 0, 0, 0, 0, 0, 0, 0, 0, 0, 0, 0, 0, 0, 0, 0, 0, 0, 0, 0, 0, 0, 0, 0, 0, 0, 0, 0, 0, 0, 0, 0, 0, 0, 0, 0, 0, 0, 0, 0, 0, 0, 0, 0, 0, 0, 0, 0, 0, 0, 0, 0, 0, 0, 0, 0, 0, 0, 0, 0, 0, 0, 0, 0, 0, 0, 0, 0, 0, 0, 0, 0, 0, 0, 0, 0, 0, 0, 0, 0, 0, 0, 0, 0, 0, 0, 0, 0, 0, 0, 0, 0, 0, 0, 0, 0, 1, 0, 0, 0, 0, 0, 0, 0, 0, 0, 0, 0, 0, 0, 0, 0, 0, 0, 0, 0, 0, 0, 0, 0, 0, 0, 0, 0, 0, 0, 0, 0, 0, 0, 0, 0, 0, 0, 0, 0, 0, 0, 0, 0, 0, 0, 0, 0, 0, 0, 0, 0, 0, 0, 0, 0, 0, 0, 0, 0, 0, 0, 0, 0, 0, 0, 0, 0, 0, 0, 0, 0, 0, 0, 0, 0, 0, 0, 0, 0, 0, 0, 0, 0, 0, 0, 0, 1, 0, 0, 0, 0, 0, 0, 0, 0, 0, 0, 0, 0, 0, 0, 0, 0, 0, 0, 0, 0, 0, 0, 0, 0, 0, 0, 0, 0, 0, 0, 0, 0, 0, 0, 0, 0, 0, 0, 0, 0, 0, 0, 0, 0, 0, 0, 0, 0, 0, 0, 0, 0, 0, 0, 0, 0, 0, 0, 0, 0, 0, 0, 0, 0, 0, 0, 0, 0, 0, 0, 0, 0, 0, 0, 0, 0, 0, 0, 0, 0, 0, 0, 0, 0, 0, 0, 0, 0, 0, 0, 0, 0, 0, 0, 0, 0, 0, 0, 0, 0, 0, 0, 0, 0, 0, 0, 0, 0, 0, 0, 0, 0, 0, 0, 0, 0, 0, 0, 0, 0, 0, 0, 0, 0, 0, 0, 0, 0, 0, 0, 0, 0, 0, 0, 0, 0, 0, 0, 0, 0, 0, 0, 0, 0, 0, 0, 0, 0, 0, 0, 0, 0, 0, 0, 0, 0, 0, 0, 0, 0, 0, 0, 0, 0, 0, 0, 0, 0, 0, 0, 0, 0, 0, 0, 0, 0, 0, 0, 0, 0, 0, 0, 0, 0, 0, 0, 0, 0, 0, 0, 0, 0, 0, 0, 0, 0, 0, 0, 0, 0, 0, 0, 0, 0, 0, 0, 0, 0, 0, 0, 0, 0, 0, 0, 0, 0, 0, 0, 0, 0, 0, 0, 0, 0, 0, 0, 0, 0, 0, 0, 0, 0, 0, 0, 0, 0, 0, 0, 0, 0, 0, 0, 0, 0, 0, 0, 0, 0, 0, 0, 0, 0, 1, 0, 0, 0, 0, 0, 0, 0, 0, 0, 0, 0, 0, 0, 0, 0, 0, 0, 0, 0, 0, 0, 0, 0, 0, 0, 0, 0, 0, 0, 0, 0, 0, 0, 0, 0, 0, 0, 0, 0, 0, 0, 0, 0, 0, 0, 0, 0, 0, 0, 0, 0, 0, 0, 0, 0, 1, 0, 0, 0, 0, 0, 0, 0, 0, 0, 0, 0, 0, 0, 0, 0, 0, 0, 0, 0, 0, 0, 0, 0, 0, 0, 0, 0, 0, 0, 0, 0, 0, 0, 0, 0, 0, 0, 0, 0, 0, 0, 0, 0, 0, 0, 0, 0, 0, 0, 0, 0, 0, 0, 0, 0, 0, 0, 0, 0, 0, 0, 0, 0, 0, 0, 0, 0, 0, 0, 0, 0, 0, 0, 0, 0, 0, 0, 0, 0, 0, 0, 0, 0, 0, 0, 0, 0, 0, 0, 0, 0, 0, 0, 0, 0, 0, 0, 0, 0, 0, 0, 0, 0, 0, 0, 0, 0, 0, 0, 0, 0, 0, 0, 0, 0, 0, 0, 0, 0, 0, 0, 0, 0, 0, 0, 0, 0, 0, 0, 0, 0, 0, 0, 0, 0, 0, 0, 0, 0, 0, 0, 0, 0, 0, 0, 0, 0, 0, 0, 0, 0, 0, 0, 0, 0, 0, 0, 0, 0, 0, 0, 0, 0, 0, 0, 0, 0, 0, 0, 0, 0, 0, 0, 0, 0, 0, 0, 0, 0, 0, 0, 0, 0, 0, 0, 0, 0, 0, 0, 0, 0, 0, 0, 0, 0, 0, 0, 0, 0, 0, 0, 0, 0, 0, 0, 0, 0, 0, 0, 0, 0, 0, 0, 0, 0, 0, 0, 0, 0, 0, 0, 0, 0, 0, 0, 0, 0, 0, 0, 0, 0, 0, 0, 0, 0, 0, 0, 0, 0, 0, 0, 0, 0, 0, 0, 0, 0, 0, 0, 0, 0, 0, 0, 0, 0, 0, 0, 0, 0, 0, 0, 0, 0, 0, 0, 0, 0, 0, 0, 0, 0, 0, 0, 0, 0, 0, 0, 0, 0, 0, 0, 0, 0, 0, 0, 0, 0, 0, 0, 0, 0, 0, 0, 0, 0, 0, 0, 0, 0, 0, 0, 0, 0, 0, 0, 0, 0, 0, 0, 0, 0, 0, 0, 0, 0, 0, 0, 0, 0, 0, 0, 0, 0, 0, 0, 0, 0, 0, 0, 0, 0, 0, 0, 0, 0, 0, 0, 0, 0, 0, 0, 0, 0, 0, 0, 0, 0, 0, 0, 0, 0, 0, 0, 0, 0, 0, 0, 0, 0, 0, 0, 0, 0, 0, 0, 0, 0, 0, 0, 0, 0, 0, 0, 0, 0, 0, 0, 0, 0, 0, 0, 0, 0, 0, 0, 0, 0, 0, 0, 0, 0, 0, 0, 0, 0, 0, 0, 0, 0, 0, 0, 0, 0, 0, 0, 0, 0, 0, 0, 0, 0, 0, 0, 0, 0, 0, 0, 0, 0, 0, 0, 0, 0, 0, 0, 0, 0, 0, 0, 0, 0, 0, 0, 0, 0, 0, 0, 0, 0, 0, 0, 0, 0, 0, 0, 0, 0, 0, 0, 0, 0, 0, 0, 0, 0, 0, 0, 0, 0, 0, 0, 0, 0, 0, 0, 0, 0, 0, 0, 0, 0, 0, 0, 0, 0, 0, 0, 0, 0, 0, 0, 0, 0, 0, 0, 0, 0, 0, 0, 0, 0, 0, 0, 0, 0, 0, 0, 0, 0, 0, 0, 0, 0, 0, 0, 0, 0, 0, 0, 0, 0, 0, 0, 0, 0, 0, 0, 0, 0, 0, 0, 0, 0, 0, 0, 0, 0, 0, 0, 0, 0, 0, 0, 0, 0, 0, 0, 0, 0, 0, 0, 0, 0, 0, 0, 0, 0, 0, 0, 0, 0, 0, 0, 0, 0, 0, 0, 0, 0, 0, 0, 0, 0, 0, 0, 0, 0, 0, 0, 0, 0, 0, 0, 0, 0, 0, 0, 0, 0, 0, 0, 0, 0, 0, 0, 0, 0, 0, 0, 0, 0, 0, 0, 0, 0, 0, 0, 0, 0, 0, 0, 0, 0, 0, 0, 0, 0, 0, 0, 0, 0, 0, 0, 0, 0, 0, 0, 0, 0, 0, 0, 0, 0, 0, 0, 0, 0, 0, 0, 0, 0, 0, 0, 0, 0, 0, 0, 0, 0, 0, 0, 0, 0, 0, 0, 0, 0, 0, 0, 0, 0, 0, 0, 0, 0, 0, 0, 0, 0, 0, 0, 0, 0, 0, 0, 0, 0, 0, 0, 0, 0, 0, 0, 0, 0, 0, 0, 0, 0, 0, 0, 1, 0, 0, 0, 0, 0, 0, 0, 0, 0, 0, 0, 0, 0, 0, 0, 0, 0, 0, 0, 0, 0, 0, 0, 0, 0, 0, 0, 0, 0, 0, 0, 0, 0, 0, 0, 0, 0, 0, 0, 0, 0, 0, 0, 0, 0, 0, 0, 0, 0, 0, 0, 0, 0, 0, 0, 0, 0, 0, 0, 0, 0, 0, 0, 0, 0, 0, 0, 0, 0, 0, 0, 0, 0, 0, 1, 0, 0, 0, 0, 0, 0, 0, 0, 0, 0, 0, 0, 0, 0, 0, 0, 0, 0, 0, 0, 1, 0, 0, 1, 0, 0, 0, 0, 0, 0, 0, 0, 0, 0, 0, 0, 0, 0, 0, 0, 0, 0, 0, 0, 0, 0, 0, 0, 0, 0, 0, 0, 0, 0, 0, 0, 0, 0, 0, 0, 0, 0, 0, 0, 0, 0, 0, 0, 0, 0, 0, 0, 0, 0, 0, 0, 0, 0, 0, 0, 0, 0, 0, 0, 0, 0, 0, 0, 0, 0, 0, 0, 0, 0, 0, 0, 0, 0, 0, 0, 0, 0, 0, 0, 0, 0, 0, 0, 0, 0, 0, 0, 0, 0, 0, 0, 0, 0, 0, 0, 0, 0, 0, 0, 0, 0, 0, 0, 0, 0, 0, 0, 0, 0, 0, 0, 0, 0, 0, 0, 0, 0, 0, 0, 0, 0, 0, 0, 0, 0, 0, 0, 0, 0, 0, 0, 0, 0, 0, 0, 0, 0, 0, 0, 0, 0, 0, 0, 0, 0, 0, 0, 0, 0, 0, 0, 0, 0, 0, 0, 0, 0, 0, 0, 0, 0, 0, 0, 0, 0, 0, 0, 0, 0, 0, 0, 0, 0, 0, 0, 0, 0, 0, 0, 0, 0, 0, 0, 0, 0, 0, 0, 0, 0, 0, 0, 0, 0, 0, 0, 0, 0, 0, 0, 0, 0, 0, 0, 0, 0, 0, 0, 0, 0, 0, 0, 0, 0, 0, 0, 0, 0, 0, 0, 0, 0, 0, 0, 0, 0, 0, 0, 0, 0, 0, 0, 0, 0, 0, 0, 0, 0, 0, 0, 0, 0, 0, 0, 0, 0, 0, 0, 0, 0, 0, 0, 0, 0, 0, 0, 0, 0, 0, 0, 0, 0, 0, 0, 0, 0, 0, 0, 0, 0, 0, 0, 0, 0, 0, 0, 0, 0, 0, 0, 0, 0, 0, 0, 0, 0, 0, 0, 0, 0, 0, 0, 0, 0, 0, 0, 0, 0, 0, 0, 0, 0, 0, 0, 0, 0, 0, 0, 0, 0, 0, 0, 0, 0, 0, 0, 0, 0, 0, 0, 0, 0, 0, 0, 0, 0, 0, 0, 0, 0, 0, 0, 0, 0, 0, 0, 0, 0, 0, 0, 0, 0, 0, 0, 0, 0, 0, 0, 0, 0, 0, 0, 0, 0, 0, 0, 0, 0, 0, 0, 0, 0, 0, 0, 0, 0, 0, 0, 0, 0, 0, 0, 0, 0, 0, 0, 0, 0, 0, 0, 0, 0, 0, 0, 0, 0, 0, 0, 0, 0, 0, 0, 0, 0, 0, 0, 0, 0, 0, 0, 0, 0, 0, 0, 0, 0, 0, 0, 0, 0, 0, 0, 0, 0, 0, 0, 0, 0, 0, 0, 0, 0, 0, 0, 0, 0, 0, 0, 0, 0, 0, 0, 0, 0, 0, 0, 0, 0, 0, 0, 0, 0, 0, 0, 0, 0, 0, 0, 0, 0, 0, 0, 0, 0, 0, 0, 0, 0, 0, 0, 0, 0, 0, 0, 0, 0, 1, 0, 0, 0, 0, 0, 0, 0, 0, 0, 0, 0, 0, 0, 0, 0, 0, 0, 0, 0, 0, 0, 0, 0, 0, 0, 0, 0, 0, 0, 0, 0, 0, 0, 0, 0, 0, 0, 0, 0, 0, 0, 0, 0, 0, 0, 0, 0, 0, 0, 0, 0, 0, 0, 0, 0, 0, 0, 0, 0, 0, 0, 0, 0, 0, 0, 0, 0, 0, 0, 0, 0, 0, 0, 0, 0, 0, 0, 0, 0, 0, 0, 0, 0, 0, 0, 0, 0, 0, 0, 0, 0, 0, 0, 0, 0, 0, 0, 0, 0, 0, 0, 0, 0, 0, 0, 0, 0, 0, 0, 0, 0, 0, 0, 0, 0, 0, 0, 0, 0, 0, 0, 0, 0, 0, 0, 0, 0, 0, 0, 0, 0, 0, 0, 0, 0, 0, 0, 0, 0, 0, 0, 0, 0, 0, 0, 0, 0, 0, 0, 0, 0, 0, 0, 0, 0, 0, 0, 0, 0, 0, 0, 0, 0, 0, 0, 0, 0, 0, 0, 0, 0, 0, 0, 0, 0, 0, 0, 0, 0, 0, 0, 0, 0, 0, 0, 0, 0, 0, 0, 0, 0, 0, 0, 0, 0, 0, 0, 0, 0, 0, 0, 0, 0, 0, 0, 0, 0, 0, 0, 0, 0, 0, 0, 0, 0, 0, 0, 0, 0, 0, 0, 0, 0, 0, 0, 0, 0, 0, 0, 0, 0, 0, 0, 0, 0, 0, 0, 0, 0, 0, 0, 0, 0, 0, 0, 0, 0, 0, 0, 0, 0, 0, 0, 0, 0, 0, 0, 0, 0, 0, 0, 0, 0, 0, 0, 0, 0, 0, 0, 0, 0, 0, 0, 0, 0, 0, 0, 0, 0, 0, 0, 0, 0, 0, 0, 0, 0, 0, 0, 0, 0, 0, 0, 0, 0, 0, 0, 0, 0, 0, 0, 0, 0, 0, 0, 0, 0, 0, 0, 0, 0, 0, 0, 0, 0, 0, 0, 0, 0, 0, 0, 0, 0, 0, 0, 0, 0, 0, 0, 0, 0, 0, 0, 0, 0, 0, 0, 0, 0, 0, 0, 0, 0, 0, 0, 0, 0, 0, 0, 0, 0, 0, 0, 0, 0, 0, 0, 0, 0, 0, 0, 0, 0, 0, 0, 0, 0, 0, 0, 0, 0, 0, 0, 0, 0, 0, 0, 0, 0, 0, 0, 0, 0, 0, 0, 0, 0, 0, 0, 0, 0, 0, 0, 0, 0, 0, 0, 0, 0, 0, 0, 0, 0, 0, 0, 0, 0, 0, 0, 0, 0, 0, 0, 0, 0, 0, 0, 0, 0, 0, 0, 0, 0, 0, 0, 0, 0, 0, 0, 0, 0, 0, 0, 0, 0, 0, 0, 0, 0, 0, 0, 0, 0, 0, 0, 0, 0, 0, 0, 0, 0, 0, 0, 0, 0, 0, 0, 0, 0, 0, 0, 0, 0, 0, 0, 0, 0, 0, 0, 0, 0, 0, 0, 0, 0, 0, 0, 0, 0, 0, 0, 0, 0, 0, 0, 0, 0, 0, 0, 0, 0, 0, 0, 0, 0, 0, 0, 0, 0, 0, 0, 0, 0, 0, 0, 0, 0, 0, 0, 0, 0, 0, 1, 0, 0, 0, 0, 0, 0, 0, 0, 0, 0, 0, 0, 0, 0, 0, 0, 0, 0, 0, 0, 0, 0, 0, 0, 0, 0, 0, 0, 0, 0, 0, 0, 0, 0, 0, 2, 0, 0, 0, 0, 0, 0, 0, 0, 0, 0, 0, 0, 0, 0, 0, 0, 0, 0, 0, 0, 0, 0, 0, 0, 0, 0, 0, 0, 0, 0, 0, 0, 0, 0, 0, 0, 0, 0, 0, 0, 1, 0, 0, 0, 0, 0, 0, 0, 0, 0, 0, 0, 0, 0, 0, 0, 0, 0, 0, 0, 0, 0, 0, 0, 0, 0, 0, 0, 0, 0, 0, 0, 0, 0, 0, 0, 0, 0, 0, 0, 0, 0, 0, 0, 0, 0, 0, 0, 0, 0, 0, 0, 0, 0, 0, 0, 0, 0, 0, 0, 0, 0, 0, 0, 0, 0, 0, 0, 0, 0, 0, 0, 0, 0, 0, 0, 0, 0, 0, 0, 0, 0, 0, 0, 0, 0, 0, 0, 0, 0, 0, 0, 0, 0, 0, 0, 0, 0, 0, 0, 0, 0, 0, 0, 0, 0, 0, 0, 0, 0, 0, 0, 0, 0, 0, 0, 0, 0, 0, 0, 0, 0, 0, 0, 0, 0, 0, 0, 0, 0, 0, 0, 0, 0, 0, 0, 0, 0, 0, 0, 0, 0, 0, 0, 0, 0, 0, 0, 0, 0, 0, 0, 0, 0, 0, 0, 0, 0, 0, 0, 0, 0, 0, 0, 0, 0, 0, 0, 0, 0, 0, 0, 0, 0, 0, 0, 0, 0, 0, 0, 0, 0, 0, 0, 0, 0, 0, 0, 0, 0, 0, 0, 0, 0, 0, 0, 0, 0, 0, 0, 0, 0, 0, 0, 0, 0, 0, 0, 0, 0, 0, 0, 0, 0, 0, 0, 0, 0, 0, 0, 0, 0, 0, 0, 0, 0, 0, 0, 0, 0, 0, 0, 0, 0, 0, 0, 0, 0, 0, 0, 0, 0, 0, 0, 0, 0, 0, 0, 0, 0, 0, 0, 0, 0, 0, 0, 0, 0, 0, 0, 0, 0, 0, 0, 0, 0, 0, 0, 0, 0, 0, 0, 0, 0, 0, 0, 0, 0, 0, 0, 0, 0, 0, 0, 0, 0, 0, 0, 0, 0, 0, 0, 0, 0, 0, 0, 0, 0, 0, 0, 0, 0, 0, 0, 0, 0, 0, 0, 0, 0, 0, 0, 0, 0, 0, 0, 0, 0, 0, 0, 0, 0, 0, 0, 0, 0, 0, 0, 0, 0, 0, 0, 0, 0, 0, 0, 0, 0, 0, 0, 0, 0, 0, 0, 0, 0, 0, 0, 0, 0, 0, 0, 0, 0, 0, 0, 0, 0, 0, 0, 0, 0, 0, 0, 0, 0, 0, 0, 0, 0, 0, 0, 0, 0, 0, 0, 0, 0, 0, 0, 0, 0, 0, 0, 0, 0, 0, 0, 0, 0, 0, 0, 0, 0, 0, 0, 0, 0, 0, 0, 0, 0, 0, 0, 0, 0, 0, 0, 0, 0, 0, 0, 0, 0, 0, 0, 0, 0, 0, 0, 0, 0, 0, 0, 0, 0, 0, 0, 0, 0, 0, 0, 0, 0, 0, 0, 0, 0, 0, 0, 0, 0, 0, 0, 0, 0, 0, 0, 0, 0, 0, 0, 0, 0, 0, 0, 0, 0, 0, 0, 0, 0, 0, 0, 0, 0, 0, 0, 0, 0, 0, 0, 0, 0, 0, 0, 0, 0, 0, 0, 0, 0, 0, 0, 0, 0, 0, 0, 0, 0, 0, 0, 0, 0, 0, 0, 0, 0, 1, 0, 0, 0, 0, 0, 0, 0, 0, 0, 0, 0, 0, 0, 0, 0, 0, 0, 0, 0, 0, 0, 0, 0, 0, 0, 0, 0, 0, 0, 0, 0, 0, 0, 0, 0, 0, 0, 0, 0, 0, 0, 0, 0, 0, 0, 0, 0, 0, 0, 0, 0, 0, 0, 0, 0, 0, 0, 0, 0, 0, 0, 0, 0, 0, 0, 0, 0, 0, 0, 0, 0, 0, 0, 0, 0, 0, 0, 0, 0, 0, 0, 0, 0, 0, 0, 0, 0, 0, 0, 0, 0, 0, 0, 0, 0, 0, 0, 0, 0, 0, 0, 0, 0, 0, 0, 0, 0, 0, 0, 0, 2, 0, 0, 0, 0, 0, 0, 0, 0, 0, 0, 0, 0, 0, 0, 0, 0, 0, 0, 0, 0, 0, 0, 0, 0, 0, 0, 0, 0, 0, 0, 0, 0, 0, 0, 0, 0, 0, 0, 0, 0, 0, 0, 0, 0, 0, 0, 0, 0, 0, 0, 0, 0, 0, 0, 0, 0, 0, 0, 0, 0, 0, 0, 0, 0, 0, 0, 0, 0, 0, 0, 0, 0, 0, 0, 0, 0, 0, 0, 0, 0, 0, 0, 0, 0, 0, 0, 0, 0, 0, 0, 0, 0, 0, 0, 0, 0, 0, 0, 0, 0, 0, 0, 0, 0, 0, 0, 0, 0, 0, 0, 0, 0, 0, 0, 0, 0, 0, 0, 0, 0, 0, 0, 0, 0, 0, 0, 0, 0, 0, 0, 0, 0, 0, 0, 0, 0, 0, 0, 0, 0, 0, 0, 0, 0, 0, 0, 0, 0, 0, 0, 0, 0, 0, 0, 0, 0, 0, 0, 0, 0, 0, 0, 0, 0, 0, 0, 0, 0, 0, 0, 0, 0, 0, 0, 0, 0, 0, 0, 0, 0, 0, 0, 0, 0, 0, 0, 0, 0, 0, 0, 0, 0, 0, 0, 0, 0, 0, 0, 0, 0, 0, 0, 0, 0, 0, 0, 0, 0, 0, 0, 0, 0, 0, 0, 0, 0, 0, 0, 0, 0, 0, 0, 0, 0, 0, 0, 0, 0, 0, 0, 0, 0, 0, 0, 0, 0, 0, 0, 0, 0, 0, 0, 0, 0, 0, 0, 0, 0, 0, 0, 0, 0, 0, 0, 0, 0, 0, 0, 0, 0, 0, 0, 0, 0, 0, 0, 0, 0, 0, 0, 0, 0, 0, 0, 0, 0, 0, 0, 0, 0, 0, 0, 0, 0, 0, 0, 0, 0, 0, 0, 0, 0, 0, 0, 0, 0, 0, 0, 0, 0, 0, 0, 0, 0, 0, 0, 0, 0, 0, 0, 0, 0, 0, 0, 0, 0, 0, 0, 0, 0, 0, 0, 0, 0, 0, 0, 0, 0, 0, 0, 0, 0, 0, 0, 0, 0, 0, 0, 0, 0, 0, 0, 0, 0, 0, 0, 0, 0, 0, 0, 0, 0, 0, 0, 0, 0, 0, 0, 0, 0, 0, 0, 0, 0, 0, 0, 0, 0, 0, 0, 0, 0, 0, 0, 0, 0, 0, 0, 0, 0, 0, 0, 0, 0, 0, 0, 0, 0, 0, 0, 0, 0, 0, 0, 0, 0, 0, 0, 0, 0, 0, 0, 0, 0, 0, 0, 0, 0, 0, 0, 0, 0, 0, 0, 0, 0, 0, 0, 0, 0, 0, 0, 0, 0, 0, 0, 0, 0, 0, 0, 0, 0, 0, 0, 0, 0, 0, 0, 0, 0, 0, 0, 0, 0, 0, 0, 0, 0, 0, 0, 0, 0, 0, 0, 0, 0, 0, 0, 0, 0, 0, 0, 0, 0, 0, 0, 0, 0, 0, 0, 0, 0, 0, 0, 0, 0, 0, 0, 0, 0, 0, 0, 0, 0, 0, 0, 0, 0, 0, 0, 0, 0, 0, 0, 0, 0, 0, 0, 0, 0, 0, 0, 0, 0, 0, 0, 0, 0, 0, 0, 0, 0, 0, 0, 0, 0, 0, 0, 0, 0, 0, 0, 0, 0, 0, 0, 0, 0, 0, 0, 0, 0, 0, 0, 0, 0, 0, 0, 0, 0, 0, 0, 0, 0, 0, 0, 0, 0, 0, 0, 0, 0, 0, 0, 0, 0, 0, 0, 0, 0, 0, 0, 0, 0, 0, 0, 0, 0, 0, 0, 0, 0, 0, 0, 0, 0, 0, 0, 0, 0, 0, 0, 0, 0, 0, 0, 0, 0, 0, 0, 0, 0, 0, 0, 0, 0, 0, 0, 0, 0, 0, 0, 0, 0, 0, 0, 0, 0, 0, 0, 0, 0, 0, 0, 0, 0, 0, 0, 0, 0, 0, 0, 0, 0, 0, 0, 0, 0, 0, 0, 0, 0, 0, 0, 0, 0, 0, 0, 0, 0, 0, 0, 0, 0, 0, 0, 0, 0, 0, 0, 0, 0, 0, 0, 0, 0, 0, 0, 0, 0, 0, 0, 0, 0, 0, 0, 0, 0, 0, 0, 0, 0, 0, 0, 0, 0, 0, 0, 0, 0, 0, 0, 0, 0, 0, 0, 0, 0, 0, 0, 1, 0, 0, 0, 0, 0, 0, 0, 0, 0, 0, 0, 0, 0, 0, 0, 0, 0, 0, 0, 0, 0, 0, 0, 0, 0, 0, 0, 0, 0, 0, 0, 0, 0, 0, 0, 0, 0, 0, 0, 0, 0, 0, 0, 0, 0, 0, 0, 0, 0, 0, 0, 0, 0, 0, 0, 0, 0, 0, 0, 0, 0, 0, 0, 0, 0, 0, 0, 0, 0, 0, 0, 0, 0, 0, 0, 0, 0, 0, 0, 0, 0, 0, 0, 0, 0, 0, 0, 0, 0, 0, 0, 0, 0, 0, 0, 0, 0, 0, 0, 0, 0, 0, 0, 0, 0, 0, 0, 1, 0, 0, 0, 0, 0, 0, 0, 0, 0, 0, 0, 0, 0, 0, 0, 0, 0, 0, 0, 0, 0, 0, 0, 0, 0, 0, 0, 0, 0, 0, 0, 0, 0, 0, 0, 0, 0, 0, 0, 0, 0, 0, 0, 0, 0, 0, 0, 0, 0, 0, 0, 0, 0, 0, 0, 0, 0, 0, 0, 0, 0, 0, 0, 0, 0, 0, 0, 0, 0, 0, 0, 0, 0, 0, 0, 0, 0, 0, 0, 0, 0, 0, 0, 0, 0, 0, 0, 0, 0, 0, 0, 0, 0, 0, 0, 0, 0, 0, 0, 0, 0, 0, 0, 0, 0, 0, 0, 0, 0, 0, 0, 0, 0, 0, 0, 0, 0, 0, 0, 0, 0, 0, 0, 0, 0, 0, 0, 0, 0, 0, 0, 0, 0, 0, 0, 0, 0, 0, 0, 0, 0, 0, 0, 0, 0, 0, 0, 0, 0, 0, 0, 0, 0, 0, 0, 0, 0, 0, 0, 0, 0, 0, 0, 0, 0, 0, 0, 0, 0, 0, 0, 0, 0, 0, 0, 0, 0, 0, 0, 0, 0, 0, 0, 0, 0, 0, 0, 0, 0, 0, 0, 0, 0, 0, 0, 0, 0, 0, 0, 0, 0, 0, 0, 0, 0, 0, 0, 0, 0, 0, 0, 0, 0, 0, 0, 0, 0, 0, 0, 0, 0, 0, 0, 0, 0, 0, 0, 0, 0, 0, 0, 0, 0, 0, 0, 0, 0, 0, 0, 0, 0, 0, 0, 0, 0, 0, 0, 0, 0, 0, 0, 0, 0, 0, 0, 0, 0, 0, 0, 0, 0, 0, 0, 0, 0, 0, 0, 0, 0, 0, 0, 0, 0, 0, 0, 0, 0, 0, 0, 0, 0, 0, 0, 0, 0, 0, 0, 0, 0, 0, 0, 0, 0, 0, 0, 0, 0, 0, 0, 0, 0, 0, 0, 0, 0, 0, 0, 0, 0, 0, 0, 0, 0, 0, 0, 0, 0, 0, 0, 0, 0, 0, 0, 0, 0, 0, 0, 0, 0, 0, 0, 0, 0, 0, 0, 0, 0, 0, 0, 0, 0, 0, 0, 0, 0, 0, 0, 0, 0, 0, 0, 0, 0, 0, 0, 0, 0, 0, 0, 0, 0, 0, 0, 0, 0, 0, 0, 0, 0, 0, 0, 0, 0, 0, 0, 0, 0, 0, 0, 0, 0, 0, 0, 0, 0, 0, 0, 0, 0, 0, 0, 0, 0, 0, 0, 0, 0, 0, 0, 0, 0, 0, 0, 0, 0, 0, 0, 0, 0, 0, 0, 0, 0, 0, 0, 0, 0, 0, 0, 0, 0, 0, 0, 0, 0, 0, 0, 0, 0, 0, 0, 0, 0, 0, 0, 0, 0, 0, 0, 0, 0, 0, 0, 0, 0, 0, 0, 0, 0, 0, 0, 0, 0, 0, 0, 0, 0, 0, 0, 0, 0, 0, 0, 2, 0, 1, 0], type: <class 'list'>, valid types: <class 'bytes'>, <class 'bytearray'>, file-like object",
     "output_type": "error",
     "traceback": [
      "\u001b[0;31m---------------------------------------------------------------------------\u001b[0m",
      "\u001b[0;31mParamValidationError\u001b[0m                      Traceback (most recent call last)",
      "\u001b[0;32m<ipython-input-44-c9ab54ae3a48>\u001b[0m in \u001b[0;36m<module>\u001b[0;34m()\u001b[0m\n\u001b[1;32m      1\u001b[0m response = runtime.invoke_endpoint(EndpointName = xgb_predictor.endpoint, # The name of the endpoint we created\n\u001b[1;32m      2\u001b[0m                                        \u001b[0mContentType\u001b[0m \u001b[0;34m=\u001b[0m \u001b[0;34m'text/csv'\u001b[0m\u001b[0;34m,\u001b[0m                     \u001b[0;31m# The data format that is expected\u001b[0m\u001b[0;34m\u001b[0m\u001b[0m\n\u001b[0;32m----> 3\u001b[0;31m                                        Body = test_bow)\n\u001b[0m",
      "\u001b[0;32m~/anaconda3/envs/python3/lib/python3.6/site-packages/botocore/client.py\u001b[0m in \u001b[0;36m_api_call\u001b[0;34m(self, *args, **kwargs)\u001b[0m\n\u001b[1;32m    355\u001b[0m                     \"%s() only accepts keyword arguments.\" % py_operation_name)\n\u001b[1;32m    356\u001b[0m             \u001b[0;31m# The \"self\" in this scope is referring to the BaseClient.\u001b[0m\u001b[0;34m\u001b[0m\u001b[0;34m\u001b[0m\u001b[0m\n\u001b[0;32m--> 357\u001b[0;31m             \u001b[0;32mreturn\u001b[0m \u001b[0mself\u001b[0m\u001b[0;34m.\u001b[0m\u001b[0m_make_api_call\u001b[0m\u001b[0;34m(\u001b[0m\u001b[0moperation_name\u001b[0m\u001b[0;34m,\u001b[0m \u001b[0mkwargs\u001b[0m\u001b[0;34m)\u001b[0m\u001b[0;34m\u001b[0m\u001b[0m\n\u001b[0m\u001b[1;32m    358\u001b[0m \u001b[0;34m\u001b[0m\u001b[0m\n\u001b[1;32m    359\u001b[0m         \u001b[0m_api_call\u001b[0m\u001b[0;34m.\u001b[0m\u001b[0m__name__\u001b[0m \u001b[0;34m=\u001b[0m \u001b[0mstr\u001b[0m\u001b[0;34m(\u001b[0m\u001b[0mpy_operation_name\u001b[0m\u001b[0;34m)\u001b[0m\u001b[0;34m\u001b[0m\u001b[0m\n",
      "\u001b[0;32m~/anaconda3/envs/python3/lib/python3.6/site-packages/botocore/client.py\u001b[0m in \u001b[0;36m_make_api_call\u001b[0;34m(self, operation_name, api_params)\u001b[0m\n\u001b[1;32m    632\u001b[0m         }\n\u001b[1;32m    633\u001b[0m         request_dict = self._convert_to_request_dict(\n\u001b[0;32m--> 634\u001b[0;31m             api_params, operation_model, context=request_context)\n\u001b[0m\u001b[1;32m    635\u001b[0m \u001b[0;34m\u001b[0m\u001b[0m\n\u001b[1;32m    636\u001b[0m         \u001b[0mservice_id\u001b[0m \u001b[0;34m=\u001b[0m \u001b[0mself\u001b[0m\u001b[0;34m.\u001b[0m\u001b[0m_service_model\u001b[0m\u001b[0;34m.\u001b[0m\u001b[0mservice_id\u001b[0m\u001b[0;34m.\u001b[0m\u001b[0mhyphenize\u001b[0m\u001b[0;34m(\u001b[0m\u001b[0;34m)\u001b[0m\u001b[0;34m\u001b[0m\u001b[0m\n",
      "\u001b[0;32m~/anaconda3/envs/python3/lib/python3.6/site-packages/botocore/client.py\u001b[0m in \u001b[0;36m_convert_to_request_dict\u001b[0;34m(self, api_params, operation_model, context)\u001b[0m\n\u001b[1;32m    680\u001b[0m             api_params, operation_model, context)\n\u001b[1;32m    681\u001b[0m         request_dict = self._serializer.serialize_to_request(\n\u001b[0;32m--> 682\u001b[0;31m             api_params, operation_model)\n\u001b[0m\u001b[1;32m    683\u001b[0m         \u001b[0;32mif\u001b[0m \u001b[0;32mnot\u001b[0m \u001b[0mself\u001b[0m\u001b[0;34m.\u001b[0m\u001b[0m_client_config\u001b[0m\u001b[0;34m.\u001b[0m\u001b[0minject_host_prefix\u001b[0m\u001b[0;34m:\u001b[0m\u001b[0;34m\u001b[0m\u001b[0m\n\u001b[1;32m    684\u001b[0m             \u001b[0mrequest_dict\u001b[0m\u001b[0;34m.\u001b[0m\u001b[0mpop\u001b[0m\u001b[0;34m(\u001b[0m\u001b[0;34m'host_prefix'\u001b[0m\u001b[0;34m,\u001b[0m \u001b[0;32mNone\u001b[0m\u001b[0;34m)\u001b[0m\u001b[0;34m\u001b[0m\u001b[0m\n",
      "\u001b[0;32m~/anaconda3/envs/python3/lib/python3.6/site-packages/botocore/validate.py\u001b[0m in \u001b[0;36mserialize_to_request\u001b[0;34m(self, parameters, operation_model)\u001b[0m\n\u001b[1;32m    295\u001b[0m                                                     operation_model.input_shape)\n\u001b[1;32m    296\u001b[0m             \u001b[0;32mif\u001b[0m \u001b[0mreport\u001b[0m\u001b[0;34m.\u001b[0m\u001b[0mhas_errors\u001b[0m\u001b[0;34m(\u001b[0m\u001b[0;34m)\u001b[0m\u001b[0;34m:\u001b[0m\u001b[0;34m\u001b[0m\u001b[0m\n\u001b[0;32m--> 297\u001b[0;31m                 \u001b[0;32mraise\u001b[0m \u001b[0mParamValidationError\u001b[0m\u001b[0;34m(\u001b[0m\u001b[0mreport\u001b[0m\u001b[0;34m=\u001b[0m\u001b[0mreport\u001b[0m\u001b[0;34m.\u001b[0m\u001b[0mgenerate_report\u001b[0m\u001b[0;34m(\u001b[0m\u001b[0;34m)\u001b[0m\u001b[0;34m)\u001b[0m\u001b[0;34m\u001b[0m\u001b[0m\n\u001b[0m\u001b[1;32m    298\u001b[0m         return self._serializer.serialize_to_request(parameters,\n\u001b[1;32m    299\u001b[0m                                                      operation_model)\n",
      "\u001b[0;31mParamValidationError\u001b[0m: Parameter validation failed:\nInvalid type for parameter Body, value: [0, 0, 0, 0, 0, 0, 0, 0, 0, 0, 0, 0, 0, 0, 0, 0, 0, 0, 0, 0, 0, 0, 0, 0, 0, 0, 0, 0, 0, 0, 0, 0, 0, 0, 0, 0, 0, 0, 0, 0, 0, 0, 0, 0, 0, 0, 0, 0, 0, 0, 0, 0, 0, 0, 0, 0, 0, 0, 0, 0, 0, 0, 0, 0, 0, 0, 0, 0, 0, 0, 0, 0, 0, 0, 0, 0, 0, 0, 0, 0, 0, 0, 0, 0, 0, 0, 0, 0, 0, 0, 0, 0, 0, 0, 0, 0, 0, 0, 0, 0, 0, 0, 0, 0, 0, 0, 0, 0, 0, 0, 0, 0, 0, 0, 0, 0, 0, 0, 0, 0, 0, 0, 0, 0, 0, 0, 0, 0, 0, 0, 0, 0, 0, 0, 0, 0, 0, 0, 0, 0, 0, 0, 0, 0, 0, 0, 0, 0, 0, 0, 0, 0, 0, 0, 0, 0, 0, 0, 0, 0, 0, 0, 0, 0, 0, 0, 0, 0, 0, 0, 0, 0, 0, 0, 0, 0, 0, 0, 0, 0, 0, 0, 0, 0, 0, 0, 0, 0, 0, 0, 0, 0, 0, 0, 0, 0, 0, 0, 0, 0, 0, 0, 0, 0, 0, 0, 0, 0, 0, 0, 0, 0, 0, 0, 0, 0, 0, 0, 0, 0, 0, 0, 0, 0, 0, 0, 1, 0, 0, 0, 0, 0, 0, 0, 0, 0, 0, 0, 0, 0, 0, 0, 0, 0, 0, 0, 0, 0, 0, 0, 0, 0, 0, 0, 0, 0, 1, 0, 0, 0, 0, 0, 0, 0, 0, 0, 0, 0, 0, 0, 0, 0, 0, 0, 0, 0, 0, 0, 0, 0, 0, 0, 0, 0, 0, 0, 0, 0, 0, 0, 0, 0, 0, 0, 0, 0, 0, 0, 0, 0, 0, 0, 0, 0, 0, 0, 0, 0, 0, 0, 0, 0, 0, 0, 0, 0, 0, 0, 0, 0, 0, 0, 0, 0, 0, 0, 0, 0, 0, 0, 0, 0, 0, 0, 0, 0, 0, 0, 0, 0, 0, 0, 0, 0, 0, 0, 0, 0, 0, 0, 0, 0, 0, 0, 0, 0, 0, 0, 0, 0, 0, 0, 0, 0, 0, 0, 0, 0, 0, 0, 0, 0, 0, 0, 0, 0, 0, 0, 0, 0, 0, 0, 0, 0, 0, 0, 0, 0, 0, 0, 0, 0, 0, 0, 0, 0, 0, 0, 0, 0, 0, 0, 0, 0, 0, 0, 0, 0, 0, 0, 0, 0, 0, 0, 0, 0, 0, 0, 0, 0, 0, 0, 0, 0, 0, 0, 0, 0, 0, 0, 0, 0, 0, 0, 0, 0, 0, 0, 0, 0, 0, 0, 0, 0, 0, 0, 0, 0, 0, 0, 0, 0, 0, 0, 0, 0, 0, 0, 0, 0, 0, 0, 0, 0, 0, 0, 0, 0, 0, 0, 0, 0, 0, 0, 0, 0, 0, 0, 0, 0, 0, 0, 0, 0, 0, 0, 0, 0, 0, 0, 0, 0, 0, 0, 0, 0, 0, 0, 0, 0, 0, 0, 0, 0, 0, 0, 0, 0, 0, 0, 0, 0, 0, 0, 0, 0, 0, 0, 0, 0, 0, 0, 0, 0, 0, 0, 0, 0, 0, 0, 0, 0, 0, 0, 0, 0, 0, 0, 0, 0, 0, 0, 0, 0, 0, 0, 0, 0, 0, 0, 0, 0, 0, 0, 0, 0, 0, 0, 0, 0, 0, 0, 0, 0, 0, 0, 0, 0, 0, 0, 0, 0, 0, 0, 0, 0, 0, 0, 0, 0, 0, 0, 0, 0, 0, 0, 0, 0, 0, 0, 0, 0, 0, 0, 0, 0, 0, 0, 0, 0, 0, 0, 0, 0, 0, 0, 0, 0, 0, 0, 0, 0, 0, 0, 0, 0, 0, 0, 0, 0, 0, 0, 0, 0, 0, 0, 0, 0, 0, 0, 0, 0, 0, 0, 0, 0, 1, 0, 0, 0, 0, 0, 0, 0, 0, 0, 0, 0, 0, 0, 0, 0, 0, 0, 0, 0, 0, 0, 0, 0, 0, 0, 0, 0, 0, 0, 0, 0, 0, 0, 0, 0, 0, 0, 0, 0, 0, 0, 0, 0, 0, 0, 0, 0, 0, 0, 0, 0, 0, 0, 0, 0, 0, 0, 0, 0, 0, 0, 0, 0, 0, 0, 0, 0, 0, 0, 0, 0, 0, 0, 0, 0, 0, 0, 0, 0, 0, 0, 0, 0, 0, 0, 0, 0, 0, 0, 0, 0, 0, 0, 0, 0, 0, 0, 0, 0, 0, 0, 0, 0, 0, 0, 0, 0, 0, 0, 0, 0, 0, 0, 0, 0, 0, 0, 0, 0, 0, 0, 0, 0, 0, 0, 0, 0, 0, 0, 0, 0, 0, 0, 0, 0, 0, 0, 0, 0, 0, 0, 0, 0, 0, 0, 0, 0, 0, 0, 0, 0, 0, 0, 0, 0, 0, 0, 0, 0, 0, 0, 0, 0, 0, 0, 0, 0, 0, 0, 0, 0, 0, 0, 0, 0, 0, 0, 0, 0, 0, 0, 0, 0, 0, 0, 0, 0, 0, 0, 0, 0, 0, 0, 0, 0, 0, 0, 0, 0, 0, 0, 0, 0, 0, 0, 0, 0, 0, 0, 0, 0, 0, 0, 0, 0, 0, 0, 0, 0, 0, 0, 0, 0, 0, 0, 0, 0, 0, 0, 0, 0, 0, 0, 0, 0, 0, 0, 0, 0, 0, 0, 0, 0, 0, 0, 0, 0, 0, 0, 0, 0, 0, 0, 1, 0, 0, 0, 0, 0, 0, 0, 0, 0, 0, 0, 0, 0, 0, 0, 0, 0, 0, 0, 0, 0, 0, 0, 0, 0, 0, 0, 0, 0, 0, 0, 0, 0, 0, 0, 0, 0, 0, 0, 0, 0, 0, 0, 0, 0, 0, 0, 0, 0, 0, 0, 0, 0, 0, 0, 0, 0, 0, 0, 0, 0, 0, 0, 0, 0, 0, 0, 0, 0, 0, 0, 0, 0, 0, 0, 0, 0, 0, 0, 0, 0, 0, 0, 0, 0, 0, 1, 0, 0, 0, 0, 0, 0, 0, 0, 0, 0, 0, 0, 0, 0, 0, 0, 0, 0, 0, 0, 0, 0, 0, 0, 0, 0, 0, 0, 0, 0, 0, 0, 0, 0, 0, 0, 0, 0, 0, 0, 0, 0, 0, 0, 0, 0, 0, 0, 0, 0, 0, 0, 0, 0, 0, 0, 0, 0, 0, 0, 0, 0, 0, 0, 0, 0, 0, 0, 0, 0, 0, 0, 0, 0, 0, 0, 0, 0, 0, 0, 0, 0, 0, 0, 0, 0, 0, 0, 0, 0, 0, 0, 0, 0, 0, 0, 0, 0, 0, 0, 0, 0, 0, 0, 0, 0, 0, 0, 0, 0, 0, 0, 0, 0, 0, 0, 0, 0, 0, 0, 0, 0, 0, 0, 0, 0, 0, 0, 0, 0, 0, 0, 0, 0, 0, 0, 0, 0, 0, 0, 0, 0, 0, 0, 0, 0, 0, 0, 0, 0, 0, 0, 0, 0, 0, 0, 0, 0, 0, 0, 0, 0, 0, 0, 0, 0, 0, 0, 0, 0, 0, 0, 0, 0, 0, 0, 0, 0, 0, 0, 0, 0, 0, 0, 0, 0, 0, 0, 0, 0, 0, 0, 0, 0, 0, 0, 0, 0, 0, 0, 0, 0, 0, 0, 0, 0, 0, 0, 0, 0, 0, 0, 0, 0, 0, 0, 0, 0, 0, 0, 0, 0, 0, 0, 0, 0, 0, 0, 0, 0, 0, 0, 0, 0, 0, 0, 0, 0, 0, 0, 0, 0, 0, 0, 0, 0, 0, 0, 0, 0, 0, 0, 1, 0, 0, 0, 0, 0, 0, 0, 0, 0, 0, 0, 0, 0, 0, 0, 0, 0, 0, 0, 0, 0, 0, 0, 0, 0, 0, 0, 0, 0, 0, 0, 0, 0, 0, 0, 0, 0, 0, 0, 0, 0, 0, 0, 0, 0, 0, 0, 0, 0, 0, 0, 0, 0, 0, 0, 1, 0, 0, 0, 0, 0, 0, 0, 0, 0, 0, 0, 0, 0, 0, 0, 0, 0, 0, 0, 0, 0, 0, 0, 0, 0, 0, 0, 0, 0, 0, 0, 0, 0, 0, 0, 0, 0, 0, 0, 0, 0, 0, 0, 0, 0, 0, 0, 0, 0, 0, 0, 0, 0, 0, 0, 0, 0, 0, 0, 0, 0, 0, 0, 0, 0, 0, 0, 0, 0, 0, 0, 0, 0, 0, 0, 0, 0, 0, 0, 0, 0, 0, 0, 0, 0, 0, 0, 0, 0, 0, 0, 0, 0, 0, 0, 0, 0, 0, 0, 0, 0, 0, 0, 0, 0, 0, 0, 0, 0, 0, 0, 0, 0, 0, 0, 0, 0, 0, 0, 0, 0, 0, 0, 0, 0, 0, 0, 0, 0, 0, 0, 0, 0, 0, 0, 0, 0, 0, 0, 0, 0, 0, 0, 0, 0, 0, 0, 0, 0, 0, 0, 0, 0, 0, 0, 0, 0, 0, 0, 0, 0, 0, 0, 0, 0, 0, 0, 0, 0, 0, 0, 0, 0, 0, 0, 0, 0, 0, 0, 0, 0, 0, 0, 0, 0, 0, 0, 0, 0, 0, 0, 0, 0, 0, 0, 0, 0, 0, 0, 0, 0, 0, 0, 0, 0, 0, 0, 0, 0, 0, 0, 0, 0, 0, 0, 0, 0, 0, 0, 0, 0, 0, 0, 0, 0, 0, 0, 0, 0, 0, 0, 0, 0, 0, 0, 0, 0, 0, 0, 0, 0, 0, 0, 0, 0, 0, 0, 0, 0, 0, 0, 0, 0, 0, 0, 0, 0, 0, 0, 0, 0, 0, 0, 0, 0, 0, 0, 0, 0, 0, 0, 0, 0, 0, 0, 0, 0, 0, 0, 0, 0, 0, 0, 0, 0, 0, 0, 0, 0, 0, 0, 0, 0, 0, 0, 0, 0, 0, 0, 0, 0, 0, 0, 0, 0, 0, 0, 0, 0, 0, 0, 0, 0, 0, 0, 0, 0, 0, 0, 0, 0, 0, 0, 0, 0, 0, 0, 0, 0, 0, 0, 0, 0, 0, 0, 0, 0, 0, 0, 0, 0, 0, 0, 0, 0, 0, 0, 0, 0, 0, 0, 0, 0, 0, 0, 0, 0, 0, 0, 0, 0, 0, 0, 0, 0, 0, 0, 0, 0, 0, 0, 0, 0, 0, 0, 0, 0, 0, 0, 0, 0, 0, 0, 0, 0, 0, 0, 0, 0, 0, 0, 0, 0, 0, 0, 0, 0, 0, 0, 0, 0, 0, 0, 0, 0, 0, 0, 0, 0, 0, 0, 0, 0, 0, 0, 0, 0, 0, 0, 0, 0, 0, 0, 0, 0, 0, 0, 0, 0, 0, 0, 0, 0, 0, 0, 0, 0, 0, 0, 0, 0, 0, 0, 0, 0, 0, 0, 0, 0, 0, 0, 0, 0, 0, 0, 0, 0, 0, 0, 0, 0, 0, 0, 0, 0, 0, 0, 0, 0, 0, 0, 0, 0, 0, 0, 0, 0, 0, 0, 0, 0, 0, 0, 0, 0, 0, 0, 0, 0, 0, 0, 0, 0, 0, 0, 0, 0, 0, 0, 0, 0, 0, 0, 0, 0, 0, 0, 0, 0, 0, 0, 0, 0, 0, 0, 0, 0, 0, 0, 0, 0, 0, 0, 0, 0, 0, 0, 0, 0, 0, 0, 0, 0, 0, 0, 0, 0, 0, 0, 0, 0, 0, 0, 0, 0, 0, 0, 0, 0, 0, 0, 0, 0, 0, 0, 0, 0, 0, 0, 0, 0, 0, 0, 0, 0, 0, 0, 0, 0, 0, 0, 0, 0, 0, 0, 0, 0, 0, 0, 0, 0, 0, 0, 0, 0, 0, 0, 0, 0, 0, 0, 0, 0, 0, 0, 0, 0, 0, 0, 0, 0, 0, 0, 0, 0, 0, 0, 0, 0, 0, 0, 0, 0, 0, 0, 0, 0, 0, 0, 0, 0, 0, 0, 0, 0, 0, 0, 0, 0, 0, 0, 0, 0, 0, 0, 0, 0, 0, 0, 0, 0, 0, 0, 0, 0, 0, 0, 0, 0, 0, 0, 0, 0, 0, 0, 0, 0, 0, 0, 0, 0, 0, 0, 0, 0, 0, 0, 0, 0, 0, 0, 0, 0, 0, 0, 0, 0, 0, 0, 0, 0, 1, 0, 0, 0, 0, 0, 0, 0, 0, 0, 0, 0, 0, 0, 0, 0, 0, 0, 0, 0, 0, 0, 0, 0, 0, 0, 0, 0, 0, 0, 0, 0, 0, 0, 0, 0, 0, 0, 0, 0, 0, 0, 0, 0, 0, 0, 0, 0, 0, 0, 0, 0, 0, 0, 0, 0, 0, 0, 0, 0, 0, 0, 0, 0, 0, 0, 0, 0, 0, 0, 0, 0, 0, 0, 0, 1, 0, 0, 0, 0, 0, 0, 0, 0, 0, 0, 0, 0, 0, 0, 0, 0, 0, 0, 0, 0, 1, 0, 0, 1, 0, 0, 0, 0, 0, 0, 0, 0, 0, 0, 0, 0, 0, 0, 0, 0, 0, 0, 0, 0, 0, 0, 0, 0, 0, 0, 0, 0, 0, 0, 0, 0, 0, 0, 0, 0, 0, 0, 0, 0, 0, 0, 0, 0, 0, 0, 0, 0, 0, 0, 0, 0, 0, 0, 0, 0, 0, 0, 0, 0, 0, 0, 0, 0, 0, 0, 0, 0, 0, 0, 0, 0, 0, 0, 0, 0, 0, 0, 0, 0, 0, 0, 0, 0, 0, 0, 0, 0, 0, 0, 0, 0, 0, 0, 0, 0, 0, 0, 0, 0, 0, 0, 0, 0, 0, 0, 0, 0, 0, 0, 0, 0, 0, 0, 0, 0, 0, 0, 0, 0, 0, 0, 0, 0, 0, 0, 0, 0, 0, 0, 0, 0, 0, 0, 0, 0, 0, 0, 0, 0, 0, 0, 0, 0, 0, 0, 0, 0, 0, 0, 0, 0, 0, 0, 0, 0, 0, 0, 0, 0, 0, 0, 0, 0, 0, 0, 0, 0, 0, 0, 0, 0, 0, 0, 0, 0, 0, 0, 0, 0, 0, 0, 0, 0, 0, 0, 0, 0, 0, 0, 0, 0, 0, 0, 0, 0, 0, 0, 0, 0, 0, 0, 0, 0, 0, 0, 0, 0, 0, 0, 0, 0, 0, 0, 0, 0, 0, 0, 0, 0, 0, 0, 0, 0, 0, 0, 0, 0, 0, 0, 0, 0, 0, 0, 0, 0, 0, 0, 0, 0, 0, 0, 0, 0, 0, 0, 0, 0, 0, 0, 0, 0, 0, 0, 0, 0, 0, 0, 0, 0, 0, 0, 0, 0, 0, 0, 0, 0, 0, 0, 0, 0, 0, 0, 0, 0, 0, 0, 0, 0, 0, 0, 0, 0, 0, 0, 0, 0, 0, 0, 0, 0, 0, 0, 0, 0, 0, 0, 0, 0, 0, 0, 0, 0, 0, 0, 0, 0, 0, 0, 0, 0, 0, 0, 0, 0, 0, 0, 0, 0, 0, 0, 0, 0, 0, 0, 0, 0, 0, 0, 0, 0, 0, 0, 0, 0, 0, 0, 0, 0, 0, 0, 0, 0, 0, 0, 0, 0, 0, 0, 0, 0, 0, 0, 0, 0, 0, 0, 0, 0, 0, 0, 0, 0, 0, 0, 0, 0, 0, 0, 0, 0, 0, 0, 0, 0, 0, 0, 0, 0, 0, 0, 0, 0, 0, 0, 0, 0, 0, 0, 0, 0, 0, 0, 0, 0, 0, 0, 0, 0, 0, 0, 0, 0, 0, 0, 0, 0, 0, 0, 0, 0, 0, 0, 0, 0, 0, 0, 0, 0, 0, 0, 0, 0, 0, 0, 0, 0, 0, 0, 0, 0, 0, 0, 0, 0, 0, 0, 0, 0, 0, 0, 0, 0, 0, 0, 0, 0, 0, 0, 0, 0, 0, 0, 0, 0, 0, 0, 0, 0, 0, 0, 0, 0, 0, 0, 1, 0, 0, 0, 0, 0, 0, 0, 0, 0, 0, 0, 0, 0, 0, 0, 0, 0, 0, 0, 0, 0, 0, 0, 0, 0, 0, 0, 0, 0, 0, 0, 0, 0, 0, 0, 0, 0, 0, 0, 0, 0, 0, 0, 0, 0, 0, 0, 0, 0, 0, 0, 0, 0, 0, 0, 0, 0, 0, 0, 0, 0, 0, 0, 0, 0, 0, 0, 0, 0, 0, 0, 0, 0, 0, 0, 0, 0, 0, 0, 0, 0, 0, 0, 0, 0, 0, 0, 0, 0, 0, 0, 0, 0, 0, 0, 0, 0, 0, 0, 0, 0, 0, 0, 0, 0, 0, 0, 0, 0, 0, 0, 0, 0, 0, 0, 0, 0, 0, 0, 0, 0, 0, 0, 0, 0, 0, 0, 0, 0, 0, 0, 0, 0, 0, 0, 0, 0, 0, 0, 0, 0, 0, 0, 0, 0, 0, 0, 0, 0, 0, 0, 0, 0, 0, 0, 0, 0, 0, 0, 0, 0, 0, 0, 0, 0, 0, 0, 0, 0, 0, 0, 0, 0, 0, 0, 0, 0, 0, 0, 0, 0, 0, 0, 0, 0, 0, 0, 0, 0, 0, 0, 0, 0, 0, 0, 0, 0, 0, 0, 0, 0, 0, 0, 0, 0, 0, 0, 0, 0, 0, 0, 0, 0, 0, 0, 0, 0, 0, 0, 0, 0, 0, 0, 0, 0, 0, 0, 0, 0, 0, 0, 0, 0, 0, 0, 0, 0, 0, 0, 0, 0, 0, 0, 0, 0, 0, 0, 0, 0, 0, 0, 0, 0, 0, 0, 0, 0, 0, 0, 0, 0, 0, 0, 0, 0, 0, 0, 0, 0, 0, 0, 0, 0, 0, 0, 0, 0, 0, 0, 0, 0, 0, 0, 0, 0, 0, 0, 0, 0, 0, 0, 0, 0, 0, 0, 0, 0, 0, 0, 0, 0, 0, 0, 0, 0, 0, 0, 0, 0, 0, 0, 0, 0, 0, 0, 0, 0, 0, 0, 0, 0, 0, 0, 0, 0, 0, 0, 0, 0, 0, 0, 0, 0, 0, 0, 0, 0, 0, 0, 0, 0, 0, 0, 0, 0, 0, 0, 0, 0, 0, 0, 0, 0, 0, 0, 0, 0, 0, 0, 0, 0, 0, 0, 0, 0, 0, 0, 0, 0, 0, 0, 0, 0, 0, 0, 0, 0, 0, 0, 0, 0, 0, 0, 0, 0, 0, 0, 0, 0, 0, 0, 0, 0, 0, 0, 0, 0, 0, 0, 0, 0, 0, 0, 0, 0, 0, 0, 0, 0, 0, 0, 0, 0, 0, 0, 0, 0, 0, 0, 0, 0, 0, 0, 0, 0, 0, 0, 0, 0, 0, 0, 0, 0, 0, 0, 0, 0, 0, 0, 0, 0, 0, 0, 0, 0, 0, 0, 0, 0, 0, 0, 0, 0, 0, 0, 0, 0, 0, 0, 0, 0, 0, 0, 0, 0, 0, 0, 0, 0, 0, 0, 0, 0, 0, 0, 0, 0, 0, 0, 0, 0, 0, 0, 0, 0, 0, 0, 0, 0, 0, 0, 0, 0, 0, 0, 0, 0, 0, 0, 0, 0, 0, 0, 0, 0, 0, 0, 0, 0, 0, 0, 0, 1, 0, 0, 0, 0, 0, 0, 0, 0, 0, 0, 0, 0, 0, 0, 0, 0, 0, 0, 0, 0, 0, 0, 0, 0, 0, 0, 0, 0, 0, 0, 0, 0, 0, 0, 0, 2, 0, 0, 0, 0, 0, 0, 0, 0, 0, 0, 0, 0, 0, 0, 0, 0, 0, 0, 0, 0, 0, 0, 0, 0, 0, 0, 0, 0, 0, 0, 0, 0, 0, 0, 0, 0, 0, 0, 0, 0, 1, 0, 0, 0, 0, 0, 0, 0, 0, 0, 0, 0, 0, 0, 0, 0, 0, 0, 0, 0, 0, 0, 0, 0, 0, 0, 0, 0, 0, 0, 0, 0, 0, 0, 0, 0, 0, 0, 0, 0, 0, 0, 0, 0, 0, 0, 0, 0, 0, 0, 0, 0, 0, 0, 0, 0, 0, 0, 0, 0, 0, 0, 0, 0, 0, 0, 0, 0, 0, 0, 0, 0, 0, 0, 0, 0, 0, 0, 0, 0, 0, 0, 0, 0, 0, 0, 0, 0, 0, 0, 0, 0, 0, 0, 0, 0, 0, 0, 0, 0, 0, 0, 0, 0, 0, 0, 0, 0, 0, 0, 0, 0, 0, 0, 0, 0, 0, 0, 0, 0, 0, 0, 0, 0, 0, 0, 0, 0, 0, 0, 0, 0, 0, 0, 0, 0, 0, 0, 0, 0, 0, 0, 0, 0, 0, 0, 0, 0, 0, 0, 0, 0, 0, 0, 0, 0, 0, 0, 0, 0, 0, 0, 0, 0, 0, 0, 0, 0, 0, 0, 0, 0, 0, 0, 0, 0, 0, 0, 0, 0, 0, 0, 0, 0, 0, 0, 0, 0, 0, 0, 0, 0, 0, 0, 0, 0, 0, 0, 0, 0, 0, 0, 0, 0, 0, 0, 0, 0, 0, 0, 0, 0, 0, 0, 0, 0, 0, 0, 0, 0, 0, 0, 0, 0, 0, 0, 0, 0, 0, 0, 0, 0, 0, 0, 0, 0, 0, 0, 0, 0, 0, 0, 0, 0, 0, 0, 0, 0, 0, 0, 0, 0, 0, 0, 0, 0, 0, 0, 0, 0, 0, 0, 0, 0, 0, 0, 0, 0, 0, 0, 0, 0, 0, 0, 0, 0, 0, 0, 0, 0, 0, 0, 0, 0, 0, 0, 0, 0, 0, 0, 0, 0, 0, 0, 0, 0, 0, 0, 0, 0, 0, 0, 0, 0, 0, 0, 0, 0, 0, 0, 0, 0, 0, 0, 0, 0, 0, 0, 0, 0, 0, 0, 0, 0, 0, 0, 0, 0, 0, 0, 0, 0, 0, 0, 0, 0, 0, 0, 0, 0, 0, 0, 0, 0, 0, 0, 0, 0, 0, 0, 0, 0, 0, 0, 0, 0, 0, 0, 0, 0, 0, 0, 0, 0, 0, 0, 0, 0, 0, 0, 0, 0, 0, 0, 0, 0, 0, 0, 0, 0, 0, 0, 0, 0, 0, 0, 0, 0, 0, 0, 0, 0, 0, 0, 0, 0, 0, 0, 0, 0, 0, 0, 0, 0, 0, 0, 0, 0, 0, 0, 0, 0, 0, 0, 0, 0, 0, 0, 0, 0, 0, 0, 0, 0, 0, 0, 0, 0, 0, 0, 0, 0, 0, 0, 0, 0, 0, 0, 0, 0, 0, 0, 0, 0, 0, 0, 0, 0, 0, 0, 0, 0, 0, 0, 0, 0, 0, 0, 0, 0, 0, 0, 0, 0, 0, 0, 0, 0, 0, 0, 0, 0, 0, 0, 0, 0, 0, 0, 0, 0, 0, 0, 0, 0, 0, 0, 0, 0, 0, 0, 0, 0, 0, 0, 0, 0, 0, 0, 1, 0, 0, 0, 0, 0, 0, 0, 0, 0, 0, 0, 0, 0, 0, 0, 0, 0, 0, 0, 0, 0, 0, 0, 0, 0, 0, 0, 0, 0, 0, 0, 0, 0, 0, 0, 0, 0, 0, 0, 0, 0, 0, 0, 0, 0, 0, 0, 0, 0, 0, 0, 0, 0, 0, 0, 0, 0, 0, 0, 0, 0, 0, 0, 0, 0, 0, 0, 0, 0, 0, 0, 0, 0, 0, 0, 0, 0, 0, 0, 0, 0, 0, 0, 0, 0, 0, 0, 0, 0, 0, 0, 0, 0, 0, 0, 0, 0, 0, 0, 0, 0, 0, 0, 0, 0, 0, 0, 0, 0, 0, 2, 0, 0, 0, 0, 0, 0, 0, 0, 0, 0, 0, 0, 0, 0, 0, 0, 0, 0, 0, 0, 0, 0, 0, 0, 0, 0, 0, 0, 0, 0, 0, 0, 0, 0, 0, 0, 0, 0, 0, 0, 0, 0, 0, 0, 0, 0, 0, 0, 0, 0, 0, 0, 0, 0, 0, 0, 0, 0, 0, 0, 0, 0, 0, 0, 0, 0, 0, 0, 0, 0, 0, 0, 0, 0, 0, 0, 0, 0, 0, 0, 0, 0, 0, 0, 0, 0, 0, 0, 0, 0, 0, 0, 0, 0, 0, 0, 0, 0, 0, 0, 0, 0, 0, 0, 0, 0, 0, 0, 0, 0, 0, 0, 0, 0, 0, 0, 0, 0, 0, 0, 0, 0, 0, 0, 0, 0, 0, 0, 0, 0, 0, 0, 0, 0, 0, 0, 0, 0, 0, 0, 0, 0, 0, 0, 0, 0, 0, 0, 0, 0, 0, 0, 0, 0, 0, 0, 0, 0, 0, 0, 0, 0, 0, 0, 0, 0, 0, 0, 0, 0, 0, 0, 0, 0, 0, 0, 0, 0, 0, 0, 0, 0, 0, 0, 0, 0, 0, 0, 0, 0, 0, 0, 0, 0, 0, 0, 0, 0, 0, 0, 0, 0, 0, 0, 0, 0, 0, 0, 0, 0, 0, 0, 0, 0, 0, 0, 0, 0, 0, 0, 0, 0, 0, 0, 0, 0, 0, 0, 0, 0, 0, 0, 0, 0, 0, 0, 0, 0, 0, 0, 0, 0, 0, 0, 0, 0, 0, 0, 0, 0, 0, 0, 0, 0, 0, 0, 0, 0, 0, 0, 0, 0, 0, 0, 0, 0, 0, 0, 0, 0, 0, 0, 0, 0, 0, 0, 0, 0, 0, 0, 0, 0, 0, 0, 0, 0, 0, 0, 0, 0, 0, 0, 0, 0, 0, 0, 0, 0, 0, 0, 0, 0, 0, 0, 0, 0, 0, 0, 0, 0, 0, 0, 0, 0, 0, 0, 0, 0, 0, 0, 0, 0, 0, 0, 0, 0, 0, 0, 0, 0, 0, 0, 0, 0, 0, 0, 0, 0, 0, 0, 0, 0, 0, 0, 0, 0, 0, 0, 0, 0, 0, 0, 0, 0, 0, 0, 0, 0, 0, 0, 0, 0, 0, 0, 0, 0, 0, 0, 0, 0, 0, 0, 0, 0, 0, 0, 0, 0, 0, 0, 0, 0, 0, 0, 0, 0, 0, 0, 0, 0, 0, 0, 0, 0, 0, 0, 0, 0, 0, 0, 0, 0, 0, 0, 0, 0, 0, 0, 0, 0, 0, 0, 0, 0, 0, 0, 0, 0, 0, 0, 0, 0, 0, 0, 0, 0, 0, 0, 0, 0, 0, 0, 0, 0, 0, 0, 0, 0, 0, 0, 0, 0, 0, 0, 0, 0, 0, 0, 0, 0, 0, 0, 0, 0, 0, 0, 0, 0, 0, 0, 0, 0, 0, 0, 0, 0, 0, 0, 0, 0, 0, 0, 0, 0, 0, 0, 0, 0, 0, 0, 0, 0, 0, 0, 0, 0, 0, 0, 0, 0, 0, 0, 0, 0, 0, 0, 0, 0, 0, 0, 0, 0, 0, 0, 0, 0, 0, 0, 0, 0, 0, 0, 0, 0, 0, 0, 0, 0, 0, 0, 0, 0, 0, 0, 0, 0, 0, 0, 0, 0, 0, 0, 0, 0, 0, 0, 0, 0, 0, 0, 0, 0, 0, 0, 0, 0, 0, 0, 0, 0, 0, 0, 0, 0, 0, 0, 0, 0, 0, 0, 0, 0, 0, 0, 0, 0, 0, 0, 0, 0, 0, 0, 0, 0, 0, 0, 0, 0, 0, 0, 0, 0, 0, 0, 0, 0, 0, 0, 0, 0, 0, 0, 0, 0, 0, 0, 0, 0, 0, 0, 0, 0, 0, 0, 0, 0, 0, 0, 0, 0, 0, 0, 0, 0, 0, 0, 0, 0, 0, 0, 0, 0, 0, 0, 0, 0, 0, 0, 0, 0, 0, 0, 0, 0, 0, 0, 0, 0, 0, 0, 0, 0, 0, 0, 0, 0, 0, 0, 0, 0, 0, 0, 0, 0, 0, 0, 0, 0, 0, 0, 0, 0, 0, 0, 0, 0, 0, 0, 0, 0, 0, 0, 0, 0, 0, 0, 0, 0, 0, 0, 0, 0, 0, 0, 0, 0, 0, 0, 0, 0, 1, 0, 0, 0, 0, 0, 0, 0, 0, 0, 0, 0, 0, 0, 0, 0, 0, 0, 0, 0, 0, 0, 0, 0, 0, 0, 0, 0, 0, 0, 0, 0, 0, 0, 0, 0, 0, 0, 0, 0, 0, 0, 0, 0, 0, 0, 0, 0, 0, 0, 0, 0, 0, 0, 0, 0, 0, 0, 0, 0, 0, 0, 0, 0, 0, 0, 0, 0, 0, 0, 0, 0, 0, 0, 0, 0, 0, 0, 0, 0, 0, 0, 0, 0, 0, 0, 0, 0, 0, 0, 0, 0, 0, 0, 0, 0, 0, 0, 0, 0, 0, 0, 0, 0, 0, 0, 0, 0, 1, 0, 0, 0, 0, 0, 0, 0, 0, 0, 0, 0, 0, 0, 0, 0, 0, 0, 0, 0, 0, 0, 0, 0, 0, 0, 0, 0, 0, 0, 0, 0, 0, 0, 0, 0, 0, 0, 0, 0, 0, 0, 0, 0, 0, 0, 0, 0, 0, 0, 0, 0, 0, 0, 0, 0, 0, 0, 0, 0, 0, 0, 0, 0, 0, 0, 0, 0, 0, 0, 0, 0, 0, 0, 0, 0, 0, 0, 0, 0, 0, 0, 0, 0, 0, 0, 0, 0, 0, 0, 0, 0, 0, 0, 0, 0, 0, 0, 0, 0, 0, 0, 0, 0, 0, 0, 0, 0, 0, 0, 0, 0, 0, 0, 0, 0, 0, 0, 0, 0, 0, 0, 0, 0, 0, 0, 0, 0, 0, 0, 0, 0, 0, 0, 0, 0, 0, 0, 0, 0, 0, 0, 0, 0, 0, 0, 0, 0, 0, 0, 0, 0, 0, 0, 0, 0, 0, 0, 0, 0, 0, 0, 0, 0, 0, 0, 0, 0, 0, 0, 0, 0, 0, 0, 0, 0, 0, 0, 0, 0, 0, 0, 0, 0, 0, 0, 0, 0, 0, 0, 0, 0, 0, 0, 0, 0, 0, 0, 0, 0, 0, 0, 0, 0, 0, 0, 0, 0, 0, 0, 0, 0, 0, 0, 0, 0, 0, 0, 0, 0, 0, 0, 0, 0, 0, 0, 0, 0, 0, 0, 0, 0, 0, 0, 0, 0, 0, 0, 0, 0, 0, 0, 0, 0, 0, 0, 0, 0, 0, 0, 0, 0, 0, 0, 0, 0, 0, 0, 0, 0, 0, 0, 0, 0, 0, 0, 0, 0, 0, 0, 0, 0, 0, 0, 0, 0, 0, 0, 0, 0, 0, 0, 0, 0, 0, 0, 0, 0, 0, 0, 0, 0, 0, 0, 0, 0, 0, 0, 0, 0, 0, 0, 0, 0, 0, 0, 0, 0, 0, 0, 0, 0, 0, 0, 0, 0, 0, 0, 0, 0, 0, 0, 0, 0, 0, 0, 0, 0, 0, 0, 0, 0, 0, 0, 0, 0, 0, 0, 0, 0, 0, 0, 0, 0, 0, 0, 0, 0, 0, 0, 0, 0, 0, 0, 0, 0, 0, 0, 0, 0, 0, 0, 0, 0, 0, 0, 0, 0, 0, 0, 0, 0, 0, 0, 0, 0, 0, 0, 0, 0, 0, 0, 0, 0, 0, 0, 0, 0, 0, 0, 0, 0, 0, 0, 0, 0, 0, 0, 0, 0, 0, 0, 0, 0, 0, 0, 0, 0, 0, 0, 0, 0, 0, 0, 0, 0, 0, 0, 0, 0, 0, 0, 0, 0, 0, 0, 0, 0, 0, 0, 0, 0, 0, 0, 0, 0, 0, 0, 0, 0, 0, 0, 0, 0, 0, 0, 0, 0, 0, 0, 0, 0, 0, 0, 0, 0, 0, 0, 0, 0, 0, 0, 0, 0, 2, 0, 1, 0], type: <class 'list'>, valid types: <class 'bytes'>, <class 'bytearray'>, file-like object"
     ]
    }
   ],
   "source": [
    "response = runtime.invoke_endpoint(EndpointName = xgb_predictor.endpoint, # The name of the endpoint we created\n",
    "                                       ContentType = 'text/csv',                     # The data format that is expected\n",
    "                                       Body = test_bow)"
   ]
  },
  {
   "cell_type": "markdown",
   "metadata": {},
   "source": [
    "So why did we get an error?\n",
    "\n",
    "Because we tried to send the endpoint a list of integers but it expected us to send data of type `text/csv`. So, we need to convert it."
   ]
  },
  {
   "cell_type": "code",
   "execution_count": 45,
   "metadata": {},
   "outputs": [],
   "source": [
    "response = runtime.invoke_endpoint(EndpointName = xgb_predictor.endpoint, # The name of the endpoint we created\n",
    "                                       ContentType = 'text/csv',                     # The data format that is expected\n",
    "                                       Body = ','.join([str(val) for val in test_bow]).encode('utf-8'))"
   ]
  },
  {
   "cell_type": "code",
   "execution_count": 46,
   "metadata": {},
   "outputs": [
    {
     "name": "stdout",
     "output_type": "stream",
     "text": [
      "{'ResponseMetadata': {'RequestId': 'b95fc348-05b7-456e-8bcd-3273841d4c62', 'HTTPStatusCode': 200, 'HTTPHeaders': {'x-amzn-requestid': 'b95fc348-05b7-456e-8bcd-3273841d4c62', 'x-amzn-invoked-production-variant': 'AllTraffic', 'date': 'Sat, 4 May 2019 17:30:11 GMT', 'content-type': 'text/csv; charset=utf-8', 'content-length': '14'}, 'RetryAttempts': 0}, 'ContentType': 'text/csv; charset=utf-8', 'InvokedProductionVariant': 'AllTraffic', 'Body': <botocore.response.StreamingBody object at 0x7f0ae0409a58>}\n"
     ]
    }
   ],
   "source": [
    "print(response)"
   ]
  },
  {
   "cell_type": "markdown",
   "metadata": {},
   "source": [
    "As we can see, the response from our model is a somewhat complicated looking dict that contains a bunch of information. The bit that we are most interested in is `'Body'` object which is a streaming object that we need to `read` in order to make use of."
   ]
  },
  {
   "cell_type": "code",
   "execution_count": 47,
   "metadata": {},
   "outputs": [
    {
     "name": "stdout",
     "output_type": "stream",
     "text": [
      "0.383147776127\n"
     ]
    }
   ],
   "source": [
    "response = response['Body'].read().decode('utf-8')\n",
    "print(response)"
   ]
  },
  {
   "cell_type": "markdown",
   "metadata": {},
   "source": [
    "Now that we know how to process the incoming user data we can start setting up the infrastructure to make our simple web app work. To do this we will make use of two different services. Amazon's Lambda and API Gateway services.\n",
    "\n",
    "Lambda is a service which allows someone to write some relatively simple code and have it executed whenever a chosen trigger occurs. For example, you may want to update a database whenever new data is uploaded to a folder stored on S3.\n",
    "\n",
    "API Gateway is a service that allows you to create HTTP endpoints (url addresses) which are connected to other AWS services. One of the benefits to this is that you get to decide what credentials, if any, are required to access these endpoints.\n",
    "\n",
    "In our case we are going to set up an HTTP endpoint through API Gateway which is open to the public. Then, whenever anyone sends data to our public endpoint we will trigger a Lambda function which will send the input (in our case a review) to our model's endpoint and then return the result."
   ]
  },
  {
   "cell_type": "markdown",
   "metadata": {},
   "source": [
    "### Setting up a Lambda function\n",
    "\n",
    "The first thing we are going to do is set up a Lambda function. This Lambda function will be executed whenever our public API has data sent to it. When it is executed it will receive the data, perform any sort of processing that is required, send the data (the review) to the SageMaker endpoint we've created and then return the result.\n",
    "\n",
    "#### Part A: Create an IAM Role for the Lambda function\n",
    "\n",
    "Since we want the Lambda function to call a SageMaker endpoint, we need to make sure that it has permission to do so. To do this, we will construct a role that we can later give the Lambda function.\n",
    "\n",
    "Using the AWS Console, navigate to the **IAM** page and click on **Roles**. Then, click on **Create role**. Make sure that the **AWS service** is the type of trusted entity selected and choose **Lambda** as the service that will use this role, then click **Next: Permissions**.\n",
    "\n",
    "In the search box type `sagemaker` and select the check box next to the **AmazonSageMakerFullAccess** policy. Then, click on **Next: Review**.\n",
    "\n",
    "Lastly, give this role a name. Make sure you use a name that you will remember later on, for example `LambdaSageMakerRole`. Then, click on **Create role**."
   ]
  },
  {
   "cell_type": "markdown",
   "metadata": {},
   "source": [
    "#### Part B: Create a Lambda function\n",
    "\n",
    "Now it is time to actually create the Lambda function. Remember from earlier that in order to process the user provided input and send it to our endpoint we need to gather two pieces of information:\n",
    "\n",
    " - The name of the endpoint, and\n",
    " - the vocabulary object.\n",
    "\n",
    "We will copy these pieces of information to our Lambda function after we create it.\n",
    "\n",
    "To start, using the AWS Console, navigate to the AWS Lambda page and click on **Create a function**. When you get to the next page, make sure that **Author from scratch** is selected. Now, name your Lambda function, using a name that you will remember later on, for example `sentiment_analysis_xgboost_func`. Make sure that the **Python 3.6** runtime is selected and then choose the role that you created in the previous part. Then, click on **Create Function**.\n",
    "\n",
    "On the next page you will see some information about the Lambda function you've just created. If you scroll down you should see an editor in which you can write the code that will be executed when your Lambda function is triggered. Collecting the code we wrote above to process a single review and adding it to the provided example `lambda_handler` we arrive at the following.\n",
    "\n",
    "```python\n",
    "# We need to use the low-level library to interact with SageMaker since the SageMaker API\n",
    "# is not available natively through Lambda.\n",
    "import boto3\n",
    "\n",
    "# And we need the regular expression library to do some of the data processing\n",
    "import re\n",
    "\n",
    "REPLACE_NO_SPACE = re.compile(\"(\\.)|(\\;)|(\\:)|(\\!)|(\\')|(\\?)|(\\,)|(\\\")|(\\()|(\\))|(\\[)|(\\])\")\n",
    "REPLACE_WITH_SPACE = re.compile(\"(<br\\s*/><br\\s*/>)|(\\-)|(\\/)\")\n",
    "\n",
    "def review_to_words(review):\n",
    "    words = REPLACE_NO_SPACE.sub(\"\", review.lower())\n",
    "    words = REPLACE_WITH_SPACE.sub(\" \", words)\n",
    "    return words\n",
    "    \n",
    "def bow_encoding(words, vocabulary):\n",
    "    bow = [0] * len(vocabulary) # Start by setting the count for each word in the vocabulary to zero.\n",
    "    for word in words.split():  # For each word in the string\n",
    "        if word in vocabulary:  # If the word is one that occurs in the vocabulary, increase its count.\n",
    "            bow[vocabulary[word]] += 1\n",
    "    return bow\n",
    "\n",
    "\n",
    "def lambda_handler(event, context):\n",
    "    \n",
    "    vocab = \"*** ACTUAL VOCABULARY GOES HERE ***\"\n",
    "    \n",
    "    words = review_to_words(event['body'])\n",
    "    bow = bow_encoding(words, vocab)\n",
    "\n",
    "    # The SageMaker runtime is what allows us to invoke the endpoint that we've created.\n",
    "    runtime = boto3.Session().client('sagemaker-runtime')\n",
    "\n",
    "    # Now we use the SageMaker runtime to invoke our endpoint, sending the review we were given\n",
    "    response = runtime.invoke_endpoint(EndpointName = '***ENDPOINT NAME HERE***',# The name of the endpoint we created\n",
    "                                       ContentType = 'text/csv',                 # The data format that is expected\n",
    "                                       Body = ','.join([str(val) for val in bow]).encode('utf-8')) # The actual review\n",
    "\n",
    "    # The response is an HTTP response whose body contains the result of our inference\n",
    "    result = response['Body'].read().decode('utf-8')\n",
    "    \n",
    "    # Round the result so that our web app only gets '1' or '0' as a response.\n",
    "    result = round(float(result))\n",
    "\n",
    "    return {\n",
    "        'statusCode' : 200,\n",
    "        'headers' : { 'Content-Type' : 'text/plain', 'Access-Control-Allow-Origin' : '*' },\n",
    "        'body' : str(result)\n",
    "    }\n",
    "```"
   ]
  },
  {
   "cell_type": "markdown",
   "metadata": {},
   "source": [
    "Once you have copy and pasted the code above into the Lambda code editor, replace the `**ENDPOINT NAME HERE**` portion with the name of the endpoint that we deployed earlier. You can determine the name of the endpoint using the code cell below."
   ]
  },
  {
   "cell_type": "code",
   "execution_count": 48,
   "metadata": {},
   "outputs": [
    {
     "data": {
      "text/plain": [
       "'xgboost-2019-05-04-16-50-57-123'"
      ]
     },
     "execution_count": 48,
     "metadata": {},
     "output_type": "execute_result"
    }
   ],
   "source": [
    "xgb_predictor.endpoint"
   ]
  },
  {
   "cell_type": "markdown",
   "metadata": {},
   "source": [
    "In addition, you will need to copy the vocabulary dict to the appropriate place in the code at the beginning of the `lambda_handler` method. The cell below prints out the vocabulary dict in a way that is easy to copy and paste."
   ]
  },
  {
   "cell_type": "code",
   "execution_count": 49,
   "metadata": {},
   "outputs": [
    {
     "name": "stdout",
     "output_type": "stream",
     "text": [
      "{'really': 3556, 'enjoyed': 1486, 'the': 4426, 'reunion': 3669, 'lot': 2661, 'would': 4957, 'have': 2052, 'rated': 3527, 'it': 2366, '10': 0, 'if': 2222, 'they': 4442, 'had': 2003, 'and': 226, 'little': 2624, 'luke': 2687, 'there': 4438, 'wasnt': 4807, 'even': 1533, 'mention': 2810, 'of': 3083, 'where': 4864, 'are': 285, 'today': 4508, 'or': 3124, 'why': 4878, 'didnt': 1242, 'in': 2257, 'were': 4848, 'very': 4723, 'popular': 3333, 'characters': 760, 'think': 4452, 'was': 4805, 'mistake': 2871, 'not': 3040, 'to': 4507, 'give': 1912, 'an': 223, 'explanation': 1590, 'about': 67, 'their': 4431, 'lack': 2502, 'appearance': 274, 'anyway': 261, 'glad': 1916, 'that': 4424, 'ran': 3513, 'series': 3890, 'again': 146, 'been': 438, 'looking': 2648, 'for': 1784, 'episodes': 1508, 'years': 4979, 'what': 4858, 'joy': 2422, 'be': 418, 'able': 66, 'tape': 4365, 'whole': 4873, 'may': 2775, 'missed': 2867, 'few': 1700, 'jenny': 2393, 'watched': 4813, 'this': 4457, 'film': 1716, 'strange': 4211, 'way': 4820, 'put': 3480, 'on': 3105, 'my': 2951, 'list': 2617, 'couldnt': 1008, 'remember': 3616, 'other': 3135, 'than': 4420, 'knew': 2486, 'philip': 3252, 'hoffman': 2128, 'since': 3990, 'has': 2043, 'no': 3020, 'opening': 3114, 'credits': 1050, 'who': 4871, 'directed': 1259, 'as': 311, 'wife': 4884, 'turned': 4606, 'her': 2085, '45': 50, 'minutes': 2859, 'said': 3774, 'you': 4986, 'know': 2489, 'keep': 2449, 'wanting': 4790, 'decide': 1148, 'hate': 2046, 'but': 636, 'something': 4066, 'just': 2437, 'wont': 4932, 'let': 2579, 'me': 2778, 'stop': 4201, 'watching': 4815, 'then': 4436, 'theres': 4440, 'stretch': 4221, 'half': 2007, 'dozen': 1338, 'scenes': 3811, 'middle': 2833, 'movie': 2926, 'truly': 4597, 'actors': 104, 'performances': 3229, 'only': 3110, 'end': 1468, 'rolled': 3729, 'realized': 3553, 'sidney': 3968, 'lumet': 2688, 'thought': 4462, 'wow': 4962, 'im': 2232, 'surprised': 4313, 'took': 4523, 'dirty': 1268, 'petty': 3249, 'story': 4207, 'mean': 2779, 'broken': 594, 'people': 3221, 'its': 2370, 'testament': 4417, 'his': 2118, 'talent': 4354, 'so': 4046, 'taken': 4350, 'when': 4862, 'realize': 3552, 'him': 2110, 'is': 2360, 'good': 1937, 'like': 2599, 'scary': 3807, 'up': 4683, 'against': 147, 'argue': 290, 'oscar': 3133, 'should': 3951, 'instead': 2307, 'also': 199, 'highly': 2105, 'recommend': 3571, 'narrative': 2966, 'special': 4097, 'feature': 1678, 'with': 4911, 'talking': 4360, 'making': 2718, 'entertaining': 1499, 'educational': 1425, 'playing': 3300, 'student': 4238, 'eager': 1396, 'learn': 2550, 'at': 331, 'masters': 2761, 'feet': 1688, 'definitely': 1162, 'first': 1736, 'rule': 3753, 'working': 4944, 'kiss': 2483, 'constantly': 958, 'violent': 4748, 'melodramatic': 2798, 'movies': 2927, 'out': 3141, 'empty': 1465, 'all': 187, 'done': 1322, 'element': 1442, 'fill': 1714, 'air': 164, 'emotion': 1458, 'smoke': 4039, 'nothing': 3047, 'left': 2561, 'deeper': 1155, 'level': 2584, 'given': 1913, 'us': 4690, 'network': 3000, 'twelve': 4611, 'angry': 238, 'men': 2805, 'films': 1721, 'each': 1395, 'own': 3158, 'ways': 4822, 'into': 2332, 'highest': 2102, 'cinema': 816, 'isnt': 2362, 'maybe': 2776, 'thats': 4425, 'enough': 1491, 'final': 1722, 'comment': 898, 'comments': 901, 'look': 2646, 'number': 3060, 'here': 2086, 'imdb': 2240, 'depth': 1190, 'intelligence': 2313, 'pro': 3406, 'con': 928, 'pretty': 3384, 'going': 1931, 'read': 3543, 'reviews': 3679, 'decided': 1149, 'shot': 3949, 'open': 3112, 'minded': 2850, 'guy': 2000, 'after': 143, 'some': 4061, 'bad': 382, 'flicks': 1755, 'one': 3107, 'meaning': 2780, 'nice': 3008, 'say': 3799, 'goes': 1930, 'short': 3946, 'got': 1944, 'okay': 3099, 'sets': 3899, 'visuals': 4759, 'well': 4843, 'music': 2946, 'helped': 2080, 'mood': 2898, 'life': 2592, 'painful': 3171, 'watch': 4811, 'endless': 1473, 'dialogue': 1234, 'away': 369, 'from': 1840, 'bits': 490, 'did': 1241, 'find': 1726, 'myself': 2953, 'laughing': 2533, 'laugh': 2529, 'your': 4991, 'best': 469, 'friend': 1835, 'embarrassed': 1453, 'himself': 2111, 'front': 1841, 'large': 2517, 'crowd': 1067, 'by': 642, 'time': 4495, 'dance': 1103, 'finale': 1723, 'roll': 3728, 'bodies': 526, 'fall': 1637, 'dont': 1324, 'could': 1007, 'acting': 99, 'looked': 2647, 'budget': 610, 'any': 256, 'make': 2713, 'watchable': 4812, 'presence': 3373, 'beautiful': 428, 'bare': 398, 'breasts': 572, 'beer': 439, 'get': 1899, 'full': 1846, 'experience': 1580, 'either': 1438, 'unless': 4669, 'depressed': 1187, 'can': 665, 'tell': 4395, 'least': 2554, 'dr': 1340, 'torture': 4529, 'better': 472, 'those': 4460, 'guys': 2001, 'fan': 1648, 'main': 2707, 'value': 4709, 'sit': 4003, 'back': 378, 'pick': 3265, 'flaws': 1752, 'combined': 885, 'events': 1536, 'exaggerated': 1552, 'errors': 1516, 'quotes': 3497, 'clothing': 861, 'place': 3282, 'songs': 4072, 'shame': 3918, 'cant': 671, 'right': 3696, 'now': 3054, 'come': 886, 'fast': 1661, 'youll': 4988, 'primarily': 3393, 'due': 1382, 'fact': 1621, 'filmed': 1717, 'band': 391, 'rain': 3506, 'character': 758, 'credible': 1048, 'does': 1308, 'job': 2405, 'song': 4071, 'cry': 1073, 'shadow': 3912, 'heard': 2062, 'point': 3316, 'fun': 1848, 'please': 3304, 'take': 4349, 'historically': 2120, 'accurate': 90, 'contain': 962, 'minor': 2857, 'spoilers': 4124, 'dressed': 1358, 'kill': 2468, 'having': 2054, 'seen': 3865, 'day': 1129, 'terrific': 4409, 'sequences': 3888, 'decent': 1147, 'though': 4461, 'obvious': 3071, 'hitchcock': 2123, 'plot': 3309, 'twist': 4617, 'too': 4522, 'certain': 737, 'things': 4451, 'quite': 3495, 'prevent': 3385, 'being': 448, 'classic': 835, 'deals': 1137, 'mystery': 2956, 'killer': 2470, 'two': 4620, 'women': 4923, 'more': 2904, 'never': 3001, 'tells': 4397, 'search': 3841, 'three': 4469, 'kid': 2464, 'whose': 4877, 'mom': 2885, 'victim': 4729, 'lively': 2627, 'identify': 2216, 'psychiatrist': 3455, 'patient': 3211, 'kids': 2467, 'mother': 2911, 'host': 2173, 'including': 2264, 'nancy': 2964, 'allen': 188, 'sexually': 3910, 'frustrated': 1842, 'kate': 2446, 'miller': 2846, 'caine': 647, 'doctor': 1304, 'hidden': 2096, 'meets': 2795, 'eye': 1611, 'standard': 4144, 'anyone': 259, 'outstanding': 3147, 'hand': 2015, 'later': 2525, 'great': 1964, 'along': 195, 'same': 3778, 'lines': 2612, 'hit': 2122, 'show': 3953, 'blue': 518, 'embarrassing': 1454, 'over': 3148, 'ruthless': 3764, 'detective': 1220, 'he': 2056, 'takes': 4351, 'screen': 3829, 'doesnt': 1309, 'hurt': 2202, 'much': 2934, 'gordon': 1940, 'brain': 562, 'child': 789, 'almost': 193, 'smart': 4035, 'believable': 453, 'sticks': 4186, 'most': 2909, 'tense': 4403, 'scene': 3809, 'museum': 2945, 'gripping': 1976, 'sequence': 3887, 'leading': 2547, 'death': 1141, 'love': 2669, 'doctors': 1305, 'office': 3091, 'reveals': 3673, 'identity': 2217, 'which': 4867, 'makes': 2716, 'together': 4511, 'once': 3106, 'split': 4120, 'still': 4188, 'another': 250, 'situation': 4008, 'train': 4556, 'running': 3756, 'gets': 1900, 'directions': 1262, 'racial': 3501, 'stereotypes': 4179, 'thriller': 4472, 'often': 3095, 'crime': 1055, 'drama': 1346, 'especially': 1520, 'ridiculous': 3693, 'everything': 1544, 'happened': 2027, 'needless': 2989, 'long': 2644, 'dream': 1354, 'shoot': 3942, 'someones': 4065, 'foot': 1781, 'seemed': 3862, 'down': 1335, 'catch': 714, 'heart': 2064, 'mind': 2849, 'next': 3007, 'ask': 316, '100': 1, 'under': 4639, '90': 60, 'fans': 1650, 'stands': 4147, 'todays': 4509, 'slasher': 4020, 'recently': 3567, 'enjoy': 1484, 'worth': 4953, 'favorite': 1671, 'alone': 194, 'excellent': 1555, 'found': 1811, 'interesting': 2325, 'legend': 2564, 'cool': 989, 'costumes': 1006, 'production': 3419, 'photography': 3260, 'directing': 1260, 'script': 3834, 'happy': 2032, 'family': 1645, 'vacation': 4704, 'nowhere': 3056, 'appears': 278, 'starts': 4159, 'weird': 4841, 'start': 4156, 'happen': 2026, 'them': 4432, 'see': 3855, 'kudos': 2497, 'cast': 710, 'crew': 1053, 'filmmakers': 1720, 'thumbs': 4485, 'engaging': 1481, 'riveting': 3708, 'tale': 4353, 'captured': 677, 'army': 295, 'prove': 3445, 'innocence': 2293, 'avoid': 363, 'paul': 3214, 'friendly': 1836, 'fire': 1734, 'seemingly': 3863, 'doomed': 1327, 'attempt': 340, 'convince': 983, 'military': 2844, 'court': 1020, 'actually': 109, 'spy': 4135, 'secret': 3849, 'mission': 2870, 'dramas': 1347, 'extremely': 1610, 'crafted': 1029, 'director': 1264, 'constant': 957, 'effective': 1429, 'twists': 4619, 'turns': 4609, 'originally': 3131, 'made': 2697, 'television': 4394, 'many': 2732, 'name': 2960, 'action': 100, 'role': 3726, 'spot': 4131, 'attorney': 348, 'sometimes': 4067, 'personal': 3240, 'plight': 3308, 'yet': 4984, 'somewhat': 4068, 'distant': 1295, 'played': 3297, 'miles': 2843, 'peter': 3247, 'norman': 3035, 'fell': 1690, 'hamilton': 2012, 'key': 2458, 'supporting': 4304, 'roles': 3727, 'interpretation': 2328, 'depiction': 1185, 'simple': 3983, 'dedicated': 1153, 'man': 2721, 'normally': 3034, 'laid': 2508, 'desperate': 1208, 'circumstances': 822, 'hes': 2093, 'placed': 3283, 'perfectly': 3226, 'passionate': 3206, 'giving': 1915, 'convincing': 985, 'intense': 2316, 'performance': 3228, 'highlight': 2103, 'otherwise': 3137, 'small': 4033, 'scale': 3802, 'ever': 1538, 'however': 2183, 'despite': 1211, 'apparent': 269, 'remains': 3611, 'compelling': 916, 'book': 535, 'recommended': 3572, 'different': 1248, 'james': 2378, 'karen': 2444, 'adams': 112, 'performed': 3230, 'builds': 617, 'keeps': 2451, 'must': 2950, 'horror': 2168, 'because': 432, 'brief': 579, 'sex': 3907, 'nudity': 3059, 'disappoint': 1272, 'someone': 4064, 'thinks': 4454, 'stuff': 4243, 'ruins': 3752, 'comes': 891, 'nuts': 3064, 'kills': 2474, 'cat': 713, 'real': 3547, 'opinion': 3118, 'creepy': 1052, 'superbly': 4297, 'unpredictable': 4675, 'liked': 2600, 'premise': 3370, 'fit': 1740, 'both': 547, 'off': 3084, 'heres': 2087, 'part': 3193, 'mary': 2751, 'arent': 288, 'bitter': 491, 'others': 3136, 'become': 433, 'talk': 4358, 'do': 1302, 'possible': 3350, 'prime': 3395, 'example': 1553, 'susan': 4326, 'saying': 3800, 'shed': 3924, 'thing': 4450, 'work': 4940, 're': 3535, 'run': 3755, 'use': 4692, 'staying': 4168, 'late': 2523, 'suppose': 4305, 'showed': 3956, 'starred': 4153, 'lucas': 2680, 'black': 493, 'boy': 557, 'crush': 1072, 'am': 204, 'country': 1014, 'therefore': 4439, 'boys': 559, 'accent': 78, 'appeal': 271, 'exception': 1557, 'seeing': 3857, 'crazy': 1035, 'friday': 1834, 'night': 3013, 'lights': 2597, 'actor': 103, 'miss': 2866, 'wish': 4904, 'sees': 3866, 'selling': 3873, 'season': 3843, 'huge': 2185, 'star': 4150, 'trek': 4578, 'forward': 1808, 'intrigued': 2334, 'pre': 3365, 'hype': 2207, 'enterprise': 1495, 'rough': 3741, 'technology': 4385, 'compared': 912, 'we': 4823, 'used': 4693, 'anything': 260, 'pilot': 3276, 'convoluted': 987, 'confusing': 942, 'will': 4886, 'admit': 122, 'development': 1225, 'humans': 2190, 'species': 4098, 'ready': 3546, 'babe': 375, 'hell': 2077, 'incredible': 2269, 'hooked': 2153, 'won': 4925, 'stage': 4139, 'completely': 922, 'loses': 2657, 'particularly': 3195, 'george': 1893, 'marvelous': 2750, 'written': 4972, 'team': 4378, 'ruth': 3763, 'unfortunately': 4654, 'witty': 4917, 'self': 3869, 'business': 633, 'score': 3822, 'shelley': 3928, 'winters': 4901, 'fine': 1729, 'moments': 2887, 'tough': 4537, 'waitress': 4773, 'theatrical': 4430, 'she': 3923, 'asks': 319, 'ya': 4976, 'kind': 2476, 'scenario': 3808, 'awfully': 373, 'surprisingly': 4316, 'funny': 1852, 'might': 2835, 'art': 304, 'misses': 2868, 'bunch': 623, 'young': 4989, 'wet': 4855, 'naturally': 2974, 'go': 1924, 'blood': 512, 'surfing': 4311, 'crocodile': 1065, 'obviously': 3072, 'fake': 1635, 'props': 3439, 'notice': 3048, 'boat': 523, 'hitting': 2126, 'particular': 3194, 'theyve': 4446, 'finish': 1732, 'summer': 4291, 'feel': 1684, 'shes': 3930, 'cannot': 670, 'understand': 4643, 'besides': 468, 'portrays': 3344, 'jewish': 2401, 'girl': 1909, 'status': 4165, 'century': 736, 'honor': 2150, 'true': 4596, 'proud': 3444, 'navy': 2976, 'fabulous': 1615, 'cuba': 1075, 'jr': 2423, 'touches': 4535, 'absolute': 71, 'new': 3003, 'wonderful': 4928, 'reason': 3557, 'enjoyable': 1485, 'splendid': 4119, 'charismatic': 763, 'robert': 3713, 'de': 1131, 'niro': 3019, 'chief': 788, 'billy': 482, 'sunday': 4293, 'practically': 3362, 'alongside': 196, 'fantastic': 1651, '15': 7, '2001': 31, 'latest': 2526, 'finest': 1730, 'our': 3139, 'includes': 2263, 'promising': 3433, 'hood': 2151, 'straight': 4210, 'company': 910, 'jerry': 2396, 'instinct': 2308, 'prepared': 3371, 'lots': 2662, 'line': 2610, 'probably': 3407, 'exciting': 1563, 'history': 2121, 'fascinating': 1658, 'everyone': 1542, 'involved': 2346, 'project': 3427, 'ashamed': 312, 'result': 3660, 'efforts': 1433, 'oh': 3096, 'laughed': 2532, 'times': 4497, 'couple': 1016, 'during': 1387, 'except': 1556, 'awkward': 374, 'refreshing': 3586, 'fairy': 1632, 'fantasy': 1652, 'delightful': 1168, 'adult': 125, 'cynical': 1093, 'wit': 4908, 'audience': 352, 'soundtrack': 4085, 'moves': 2925, 'epic': 1506, 'across': 96, 'smooth': 4041, 'tone': 4517, 'rest': 3657, 'romantic': 3733, 'storytelling': 4209, 'strong': 4229, 'magic': 2703, 'balance': 387, 'between': 475, 'serious': 3891, 'adventure': 130, 'spiritual': 4116, 'humor': 2192, 'tradition': 4549, 'princess': 3397, 'bride': 577, 'contemporary': 965, 'presentation': 3375, 'captivating': 675, 'eight': 1436, 'ten': 4399, 'stars': 4155, 'cruel': 1070, 'intentions': 2321, 'wild': 4885, 'nearly': 2981, 'trash': 4565, 'classics': 837, 'sheriff': 3929, 'called': 652, 'investigate': 2342, 'near': 2979, 'fatal': 1664, 'drug': 1373, 'upper': 4685, 'class': 833, 'low': 2676, 'seems': 3864, 'follow': 1772, 'flashbacks': 1747, 'begin': 442, 'worn': 4948, 'brings': 587, 'absolutely': 72, 'table': 4346, 'thus': 4486, 'far': 1653, 'topless': 4527, 'grade': 1951, 'higher': 2101, 'candy': 668, 'anti': 254, 'ass': 323, 'saw': 3798, 'last': 2521, 'year': 4978, 'media': 2789, 'hated': 2047, 'aged': 149, 'english': 1483, '11': 2, 'animal': 239, 'farm': 1656, 'aside': 315, 'based': 404, 'revolution': 3680, 'terrible': 4407, '1984': 23, 'disturbing': 1300, 'live': 2625, 'planet': 3289, 'sorry': 4076, 'loved': 2670, 'themes': 4434, 'portrayed': 3342, 'set': 3898, 'within': 4912, 'standards': 4145, 'sure': 4308, 'thoroughly': 4459, 'somebody': 4062, 'lee': 2559, 'ill': 2228, 'interested': 2324, 'cable': 644, 'channels': 754, 'rarely': 3524, 'finally': 1724, 'yesterday': 4983, 'usa': 4691, 'lees': 2560, 'boring': 543, 'through': 4477, 'eric': 1514, 'nick': 3012, 'horrible': 2163, 'sam': 3777, 'usually': 4700, 'honestly': 2147, 'chose': 804, 'non': 3027, 'face': 1616, 'computer': 927, 'graphics': 1959, 'clear': 839, 'meant': 2784, 'bruce': 602, 'state': 4160, 'worst': 4952, 'superhero': 4299, 'tedious': 4387, 'genuinely': 1892, 'dare': 1113, 'reasonably': 3559, 'extended': 1604, 'breaking': 570, 'base': 402, 'fighting': 1709, 'desert': 1198, 'riding': 3695, 'streets': 4217, 'san': 3780, 'francisco': 1819, 'cgi': 740, 'totally': 4532, 'disbelief': 1277, 'required': 3641, 'course': 1019, 'ending': 1471, 'stupid': 4247, 'father': 1666, 'turning': 4608, 'sort': 4077, 'shape': 3919, 'villain': 4744, 'earlier': 1399, 'iron': 2354, 'mans': 2730, 'overall': 3150, 'apart': 264, 'animated': 241, 'dogs': 1311, 'seem': 3861, 'tried': 4584, 'hard': 2033, 'environment': 1505, 'certainly': 738, 'expected': 1577, 'ok': 3098, 'guess': 1989, 'appearances': 275, 'version': 4720, 'skin': 4015, 'living': 2629, 'creature': 1045, 'generated': 1882, 'lighting': 2596, 'facial': 1619, 'effects': 1431, 'older': 3101, 'excuse': 1564, 'era': 1513, 'ruin': 3750, 'cinematographer': 819, 'worse': 4951, 'writer': 4968, 'failure': 1629, 'mistakes': 2873, 'general': 1880, 'dimensional': 1253, 'interest': 2323, 'unconvincing': 4638, 'credit': 1049, 'emotional': 1459, 'jennifer': 2392, 'easy': 1410, 'eyes': 1613, 'tim': 4494, 'blake': 498, 'nelson': 2997, 'slightly': 4029, 'paced': 3162, 'yeah': 4977, 'every': 1539, 'bit': 488, 'phony': 3256, 'human': 2188, 'monster': 2892, 'how': 2181, 'chance': 747, 'else': 1448, 'try': 4600, 'appreciate': 279, 'likely': 2601, 'id': 2212, 'parts': 3199, 'single': 3996, 'twice': 4613, 'bottom': 551, 'insult': 2309, 'trying': 4601, 'realistic': 3550, 'giant': 1905, 'intended': 2315, 'feelings': 1686, 'associated': 327, 'exactly': 1551, 'edward': 1426, 'titanic': 4503, 'solid': 4057, 'user': 4696, 'nowadays': 3055, 'came': 656, 'theaters': 4428, 'video': 4733, 'sister': 4001, 'month': 2896, 'safe': 3771, 'obsessed': 3069, 'disaster': 1276, 'forgot': 1796, 'baby': 376, 'committed': 905, 'suicide': 4283, 'killing': 2472, 'died': 1244, 'ship': 3934, 'convey': 982, 'needed': 2988, 'challenge': 743, 'cameron': 661, 'lets': 2580, 'forget': 1793, 'amazing': 209, 'romance': 3732, 'jack': 2373, 'rose': 3739, 'whether': 4866, 'relationship': 3597, 'imagination': 2236, 'lovely': 2671, 'barely': 399, 'die': 1243, 'money': 2888, 'core': 995, 'powerful': 3360, 'told': 4513, 'brilliant': 583, 'cinematography': 820, 'workers': 4943, 'blows': 517, 'says': 3801, 'believe': 454, 'mark': 2739, 'mitchell': 2875, 'waste': 4808, 'viewing': 4740, 'elaborate': 1439, 'reality': 3551, 'defend': 1158, 'herself': 2092, 'husband': 2204, 'case': 707, 'attractive': 351, 'defense': 1159, 'break': 569, 'doing': 1312, 'judge': 2424, 'blank': 501, 'shut': 3961, 'justice': 2438, 'male': 2719, 'theme': 4433, 'mess': 2818, 'whom': 4875, 'want': 4788, 'while': 4868, 'jail': 2376, 'innocent': 2294, 'awful': 372, 'murder': 2939, 'trial': 4580, 'allowed': 190, 'bored': 541, 'throw': 4479, 'leave': 2555, 'vincent': 4746, 'act': 97, 'predictable': 3367, 'falling': 1639, 'surrounding': 4319, 'taylor': 4372, 'acted': 98, 'throughout': 4478, 'cross': 1066, 'everybody': 1540, 'sleazy': 4023, 'zero': 4996, 'rating': 3529, 'forced': 1787, 'anymore': 258, 'lifetime': 2594, 'soon': 4074, 'before': 440, 'add': 115, 'anger': 235, 'wrote': 4974, 'screenplay': 3831, 'flick': 1754, 'message': 2819, 'pays': 3218, 'around': 297, 'idiots': 2220, 'somewhere': 4069, 'speak': 4094, 'persons': 3244, 'deserves': 1201, 'loser': 2655, 'shown': 3959, 'tv': 4610, 'sight': 3969, 'sense': 3877, 'word': 4937, 'plenty': 3307, 'spectacular': 4101, 'locations': 2636, 'flying': 1764, 'period': 3236, 'competent': 917, 'writing': 4971, 'need': 2987, 'principal': 3398, 'qualities': 3483, 'admire': 121, 'likable': 2598, 'step': 4175, 'behavior': 446, 'amusing': 221, 'dog': 1310, 'threw': 4470, 'six': 4010, 'these': 4441, 'mini': 2854, 'gave': 1875, 'cause': 723, 'expect': 1575, 'transformation': 4560, 'redemption': 3578, 'german': 1896, 'filmmaker': 1719, 'managed': 2723, 'task': 4368, 'impossible': 2249, 'fellow': 1691, 'uwe': 4703, 'boll': 529, 'ed': 1415, 'wood': 4933, 'laughable': 2530, 'fascinated': 1657, 'bar': 396, 'answer': 251, 'pit': 3278, 'buried': 624, 'begins': 444, 'international': 2326, 'lived': 2626, 'los': 2653, 'angeles': 233, 'screenwriter': 3833, 'waiting': 4772, 'discovered': 1280, 'easily': 1406, 'wannabe': 4787, 'willing': 4889, 'dialog': 1232, 'beat': 423, 'cop': 991, 'thick': 4447, 'serial': 3889, 'la': 2500, 'stops': 4203, 'drags': 1345, 'home': 2142, 'top': 4525, 'floor': 1759, 'plain': 3286, 'refuses': 3587, 'physically': 3263, 'attack': 337, 'ninja': 3018, 'style': 4249, 'apartment': 265, 'apparently': 270, 'included': 2262, 'paint': 3173, 'cardboard': 682, 'wall': 4781, 'sad': 3767, 'european': 1530, 'possibly': 3351, 'native': 2972, 'spent': 4108, 'fair': 1630, 'spring': 4134, 'genuine': 1891, 'police': 3322, 'sadly': 3769, 'afford': 138, 'car': 680, 'cops': 993, 'cruise': 1071, 'rental': 3627, 'focuses': 1768, 'officer': 3092, 'vague': 4705, 'career': 686, 'fits': 1741, 'tortured': 4530, 'brando': 566, 'needs': 2990, 'appreciated': 280, 'latter': 2528, 'title': 4504, 'zombie': 4997, 'victims': 4730, 'murders': 2943, 'spell': 4104, 'resort': 3650, 'murdered': 2940, 'accept': 80, 'logic': 2638, 'absurd': 73, 'ride': 3692, 'covered': 1023, 'girls': 1911, 'manage': 2722, 'zombies': 4998, 'high': 2100, 'fashion': 1659, 'models': 2881, 'creative': 1041, 'note': 3044, 'cheesy': 781, 'noise': 3024, 'shake': 3914, 'unlike': 4670, 'normal': 3033, 'becoming': 435, 'gives': 1914, 'opportunities': 3120, 'shower': 3957, 'golden': 1934, 'yes': 4982, 'spoil': 4121, 'revealing': 3672, 'shock': 3938, 'tune': 4602, 'masterpiece': 2759, 'spirit': 4113, 'lives': 2628, 'weekend': 4838, 'bollywood': 530, 'worlds': 4947, 'difference': 1246, 'comedy': 890, 'casting': 711, 'perfect': 3224, 'play': 3296, 'treatment': 4574, 'superb': 4296, 'sign': 3970, 'mediocre': 2791, 'contract': 973, 'numbers': 3061, 'clearly': 840, 'evident': 1547, 'none': 3028, 'narration': 2965, 'background': 380, 'son': 4070, 'akshay': 169, 'stunt': 4245, 'wait': 4770, 'till': 4493, 'super': 4295, 'cheap': 774, 'producer': 3415, 'khan': 2459, 'cost': 1003, 'themselves': 4435, 'farce': 1654, 'awards': 367, 'supposedly': 4307, 'five': 1743, 'sub': 4252, 'plots': 3310, 'developed': 1223, 'climax': 849, 'ended': 1470, 'trite': 4589, 'pace': 3161, 'slow': 4031, 'disjointed': 1287, 'looks': 2649, 'matt': 2768, 'damon': 1101, 'carefully': 689, 'politically': 3325, 'correct': 1000, 'big': 478, 'oil': 3097, 'east': 1407, 'documentaries': 1306, 'provide': 3448, 'excitement': 1562, 'wanted': 4789, 'critics': 1064, 'badly': 383, 'handed': 2016, 'direction': 1261, 'crash': 1033, 'staring': 4152, 'survivors': 4325, 'plus': 3311, 'side': 3965, 'holiday': 2134, 'points': 3319, 'present': 3374, 'dull': 1384, 'started': 4157, 'always': 203, 'pass': 3201, 'flight': 1757, 'fury': 1855, 'tom': 4514, 'test': 4416, 'fighter': 1708, 'jet': 2400, 'ability': 65, 'literally': 2622, 'turn': 4605, 'invisible': 2344, 'colonel': 876, 'steve': 4181, 'until': 4680, 'flies': 1756, 'delivers': 1172, 'terrorist': 4413, 'group': 1980, 'known': 2492, 'lead': 2545, 'stone': 4197, 'plans': 3292, 'fly': 1763, 'drop': 1369, 'worried': 4949, 'loss': 2659, 'plane': 3288, 'sends': 3876, 'john': 2409, 'co': 867, 'executive': 1567, 'steven': 4182, 'seagal': 3839, 'process': 3412, 'american': 213, 'british': 589, 'michael': 2829, 'third': 4455, 'equally': 1510, '2006': 36, 'force': 1786, '2007': 37, 'luckily': 2682, 'public': 3460, 'thankfully': 4422, 'further': 1853, 'remake': 3612, 'starring': 4154, 'without': 4913, 'makers': 2715, 'change': 749, 'names': 2963, 'although': 201, 'compare': 911, 'poorly': 3329, 'days': 1130, 'poor': 3328, 'clichés': 846, 'random': 3514, 'behind': 447, 'existent': 1572, 'lazy': 2543, 'viewer': 4738, 'anywhere': 263, 'proper': 3436, 'followed': 1773, 'lame': 2510, 'villains': 4745, 'heroes': 2089, 'largely': 2518, 'stock': 4193, 'footage': 1782, 'matched': 2763, 'peoples': 3222, 'clothes': 860, 'area': 286, 'changes': 751, 'sky': 4017, 'quality': 3484, 'clips': 852, 'edited': 1420, 'arms': 294, 'feels': 1687, 'total': 4531, 'rubbish': 3748, 'war': 4792, 'torn': 4528, 'local': 2634, 'woods': 4935, 'countryside': 1015, 'dubbed': 1379, 'amateurish': 207, 'produced': 3414, 'bother': 548, 'stevens': 4183, 'wonder': 4926, 'dean': 1139, 'survive': 4321, 'studio': 4240, 'box': 555, 'nor': 3032, 'rock': 3720, 'authentic': 358, 'lay': 2542, 'president': 3378, 'states': 4163, 'perform': 3227, 'global': 1920, 'original': 3129, 'odds': 3082, 'head': 2057, 'superior': 4300, 'paid': 3169, 'imagine': 2238, 'celebrity': 729, 'merit': 2816, 'negative': 2991, 'pages': 3168, 'survival': 4320, 'difficult': 1249, 'jungle': 2434, 'veteran': 4724, 'newly': 3004, 'arrived': 301, 'sent': 3880, 'notorious': 3051, 'corrupt': 1001, 'problem': 3408, 'achieve': 92, 'arrogant': 303, 'learns': 2553, 'valuable': 4708, 'lesson': 2577, 'theory': 4437, 'irrelevant': 2358, 'proves': 3447, 'context': 968, 'words': 4938, 'glory': 1922, 'crucial': 1068, 'lovers': 2673, 'offers': 3090, 'satisfying': 3791, 'ago': 154, 'younger': 4990, 'danny': 1112, 'glover': 1923, 'baseball': 403, 'directly': 1263, 'packed': 3166, 'sports': 4130, 'messages': 2820, 'strangely': 4212, 'familiar': 1643, 'means': 2783, 'gory': 1943, 'italian': 2367, 'cult': 1077, 'crap': 1031, 'fulci': 1845, 'produce': 3413, 'using': 4698, 'sadistic': 3768, 'already': 197, 'prostitute': 3440, 'brutally': 604, 'features': 1680, 'handful': 2017, 'killings': 2473, 'fails': 1628, 'miserably': 2864, 'giallo': 1904, 'among': 217, 'shooting': 3943, 'suspenseful': 4331, 'entertainment': 1500, 'youre': 4992, 'incoherent': 2265, 'introduces': 2338, 'potential': 3355, 'red': 3576, 'plausible': 3295, 'immediately': 2242, 'whatever': 4859, 'hilariously': 2107, 'ensemble': 1492, 'whenever': 4863, 'second': 3846, 'massacre': 2754, 'inane': 2258, 'dialogs': 1233, 'getting': 1901, 'repeatedly': 3632, 'filming': 1718, 'advise': 134, 'skip': 4016, 'aforementioned': 139, 'dark': 1115, 'crappy': 1032, 'product': 3418, 'ancient': 225, 'game': 1864, 'earth': 1403, 'demons': 1178, 'darkness': 1117, 'light': 2595, 'ones': 3108, 'advanced': 128, 'civilization': 827, 'opened': 3113, 'weve': 4856, 'christian': 808, 'perhaps': 3235, 'plays': 3301, 'old': 3100, 'hot': 2174, 'trail': 4553, 'figure': 1711, 'believed': 455, 'answers': 252, 'such': 4268, 'control': 977, 'incomprehensible': 2267, 'similar': 3978, 'mentally': 2809, 'perspective': 3245, 'dreadful': 1353, 'save': 3794, 'capable': 672, 'carrying': 701, 'load': 2631, 'honest': 2146, 'goodness': 1938, 'richards': 3687, 'nuclear': 3057, 'dies': 1245, 'matches': 2764, 'include': 2261, 'land': 2511, 'delivering': 1171, 'kinda': 2477, 'past': 3207, 'week': 4837, 'spending': 4106, 'hip': 2114, 'jessica': 2398, 'simpson': 3987, 'dumb': 1385, 'food': 1778, 'forgettable': 1794, 'terribly': 4408, 'utterly': 4702, 'storyline': 4208, 'moving': 2928, 'loud': 2664, 'hear': 2061, 'thanks': 4423, 'order': 3126, 'mr': 2929, 'wars': 4804, 'surely': 4309, 'whats': 4860, 'producers': 3416, 'simply': 3986, 'blind': 506, 'explains': 1589, 'hearing': 2063, 'narrator': 2967, 'lost': 2660, 'bizarre': 492, 'ham': 2011, 'hardly': 2036, 'rings': 3699, 'chaos': 755, 'caring': 691, 'roots': 3738, 'creatures': 1046, 'comparison': 914, 'ironically': 2356, 'theater': 4427, 'planned': 3290, 'lowest': 2678, 'hopes': 2159, 'worked': 4941, 'atrocious': 335, 'tiny': 4500, 'robin': 3715, 'williams': 4888, 'kurt': 2499, 'russell': 3761, 'desired': 1206, 'trailer': 4554, 'wasting': 4810, 'yourself': 4993, 'favor': 1670, 'burn': 625, 'jim': 2402, '1990': 24, 'famous': 1647, 'released': 3603, 'born': 544, 'trilogy': 4586, 'mid': 2832, 'manhattan': 2726, 'april': 284, 'shortly': 3947, 'treasure': 4571, 'island': 2361, 'impressed': 2251, 'downhill': 1336, 'musical': 2947, 'college': 875, 'leaving': 2557, 'stay': 4166, 'broadway': 592, 'arrival': 299, 'searching': 3842, 'jobs': 2406, 'town': 4541, 'stays': 4169, 'determined': 1221, 'gang': 1867, 'york': 4985, 'restaurant': 3658, 'named': 2961, 'quickly': 3491, 'daughter': 1121, 'currently': 1085, 'works': 4945, 'fathers': 1667, 'continues': 971, 'attempts': 343, 'reach': 3536, 'help': 2079, 'secretly': 3851, 'stayed': 4167, 'theyre': 4445, 'close': 853, 'leads': 2548, 'disappointing': 1274, 'rushed': 3760, 'beginning': 443, 'chasing': 772, 'woman': 4921, 'bland': 500, 'fortunately': 1805, 'changed': 750, 'poignant': 3315, 'sing': 3992, 'happens': 2029, 'funniest': 1851, 'bears': 421, 'charm': 767, 'comical': 894, 'antics': 255, 'helps': 2082, 'carry': 700, 'intriguing': 2335, 'ages': 152, 'neither': 2996, 'problems': 3409, 'significant': 3972, 'entire': 1502, 'franchise': 1817, 'weakest': 4825, 'space': 4090, 'passing': 3204, 'details': 1219, '1999': 27, 'twenty': 4612, 'ive': 2372, 'explained': 1587, 'review': 3676, 'lovable': 2668, 'installment': 2303, 'slight': 4027, 'dropped': 1370, 'sarah': 3785, 'michelle': 2830, 'finished': 1733, 'reading': 3544, 'sat': 3786, 'ned': 2986, 'surprise': 4312, 'folks': 1771, 'leaves': 2556, 'confused': 941, 'deserve': 1199, 'telling': 4396, 'hey': 2095, 'warn': 4797, 'buy': 640, 'garbage': 1870, 'shows': 3960, 'moral': 2902, 'outrageous': 3145, 'parody': 3192, 'wouldnt': 4958, 'news': 3005, 'knows': 2493, 'various': 4715, 'stories': 4205, 'odd': 3080, 'bigger': 479, 'generally': 1881, 'pat': 3208, 'stuck': 4237, 'beliefs': 452, 'offered': 3088, 'aid': 160, 'murderous': 2942, 'diamond': 1236, 'china': 795, '40': 48, 'damn': 1100, 'becomes': 434, 'hanging': 2023, 'onto': 3111, 'listen': 2619, 'mixture': 2878, 'reveal': 3670, 'describe': 1194, 'nonsensical': 3031, 'ego': 1435, 'trip': 4588, 'hour': 2176, 'videos': 4734, 'continuity': 972, 'falls': 1640, 'previous': 3387, 'highlights': 2104, 'section': 3853, 'round': 3742, 'bond': 532, 'cut': 1089, 'yellow': 4981, 'dear': 1140, 'lord': 2652, 'remaining': 3610, 'hero': 2088, 'manages': 2725, 'lose': 2654, 'witness': 4914, 'rabbit': 3498, 'uses': 4697, 'sneak': 4043, 'reasons': 3560, 'recall': 3562, 'chase': 769, 'somehow': 4063, 'illegal': 2229, 'criminal': 1057, 'finger': 1731, 'burning': 627, 'weapons': 4829, 'moment': 2886, 'joe': 2407, 'children': 792, 'friends': 1837, 'creates': 1038, 'tommy': 4516, 'gun': 1996, 'violence': 4747, 'opens': 3115, 'shall': 3916, 'surrounded': 4318, 'private': 3404, 'seriously': 3892, 'dozens': 1339, 'rather': 3528, 'robot': 3717, 'complete': 921, 'four': 1812, 'corner': 996, 'surreal': 4317, 'virtually': 4751, 'dated': 1119, 'ford': 1789, 'ie': 2221, 'grand': 1953, 'hotel': 2175, 'modern': 2882, 'melodrama': 2797, 'sell': 3871, 'emphasis': 1463, 'scripts': 3836, 'device': 1227, 'deliver': 1169, 'lincoln': 2608, 'population': 3335, 'depicted': 1183, 'went': 4847, 'entirely': 1503, 'false': 1641, 'henry': 2084, 'fonda': 1777, 'nose': 3037, 'ends': 1474, 'andrews': 229, 'gene': 1879, 'water': 4816, 'represents': 3639, 'integrity': 2311, 'morality': 2903, 'walk': 4775, 'occasion': 3073, 'shoes': 3941, 'professional': 3421, 'edge': 1418, 'wants': 4791, 'display': 1291, 'lacked': 2503, 'escape': 1517, 'quick': 3490, 'suspect': 4327, 'dead': 1132, 'finds': 1728, 'lie': 2590, 'cover': 1022, 'laura': 2536, 'noir': 3023, 'whereas': 4865, 'picture': 3269, 'house': 2178, 'conventional': 979, 'gritty': 1977, 'urban': 4688, 'memorable': 2802, 'hunt': 2198, 'unfortunate': 4653, 'typical': 4623, 'city': 825, 'hadnt': 2004, 'gary': 1873, 'boss': 546, 'richard': 3686, 'brown': 601, 'suited': 4286, 'appeared': 276, 'tension': 4404, 'taxi': 4371, 'driver': 1366, 'person': 3238, 'passes': 3203, 'brought': 600, 'movements': 2924, 'outside': 3146, 'matter': 2769, 'ben': 463, 'wise': 4903, 'law': 2538, 'rage': 3505, 'equal': 1509, 'ryan': 3765, 'nicholas': 3010, 'dangerous': 1110, 'ground': 1979, 'debut': 1143, 'fate': 1665, 'actions': 101, 'causing': 726, 'ourselves': 3140, 'don': 1320, 'influenced': 2287, 'homeless': 2143, 'travels': 4569, 'paris': 3189, 'opera': 3116, 'singer': 3993, 'develops': 1226, 'reputation': 3640, 'loose': 2650, 'attitude': 346, 'returns': 3668, 'visit': 4755, 'eventually': 1537, 'garbo': 1871, 'acts': 107, 'reminds': 3620, 'mgm': 2828, 'weak': 4824, 'allows': 192, 'age': 148, 'win': 4892, 'follows': 1775, 'courage': 1018, 'beautifully': 429, 'storm': 4206, 'depicting': 1184, 'spain': 4091, 'chances': 748, 'traditional': 4550, 'village': 4743, 'pulls': 3464, 'ice': 2210, 'civil': 826, 'novel': 3052, 'daniel': 1111, 'southern': 4088, 'fight': 1707, 'focus': 1766, 'former': 1800, 'jake': 2377, 'reaches': 3538, 'following': 1774, 'bull': 619, 'union': 4661, 'loyal': 2679, 'jeffrey': 2391, 'slave': 4022, 'south': 4087, 'subject': 4253, 'deep': 1154, 'demands': 1175, 'boredom': 542, 'occasional': 3074, 'terrifying': 4410, 'sides': 3967, 'coming': 896, 'irish': 2353, 'jonathan': 2417, 'chilling': 794, 'cold': 872, 'showing': 3958, 'friendship': 1838, 'devil': 1228, 'deeply': 1156, 'obscure': 3068, 'gem': 1877, '70s': 56, 'exploitation': 1592, 'available': 361, 'disc': 1278, 'alternate': 200, 'row': 3744, 'dvd': 1391, 'edition': 1422, 'spoken': 4126, 'dubbing': 1380, 'restored': 3659, 'bonus': 534, 'heck': 2071, 'language': 2516, 'frank': 1821, 'tony': 4521, 'mafia': 2700, 'admittedly': 123, 'beauty': 430, 'pretending': 3382, 'biggest': 480, 'van': 4713, 'arrives': 302, 'opportunity': 3121, 'offering': 3089, 'initially': 2291, 'form': 1798, 'unlikely': 4671, 'empire': 1464, 'french': 1830, 'brother': 598, 'prison': 3401, 'revenge': 3675, 'suspense': 4330, 'headed': 2058, 'mountain': 2917, 'build': 614, 'towards': 4540, 'execution': 1566, 'actual': 108, 'considered': 951, 'lacks': 2505, 'female': 1693, 'amazingly': 210, 'camera': 659, 'responsible': 3656, 'less': 2575, 'hope': 2155, 'receive': 3563, 'flesh': 1753, 'eating': 1413, 'values': 4710, 'albeit': 173, 'twisted': 4618, 'eerie': 1427, 'silly': 3976, 'audiences': 353, 'adults': 126, 'parallel': 3185, 'type': 4621, 'world': 4946, 'cars': 702, 'appear': 273, 'recent': 3566, 'plague': 3285, 'massive': 2756, 'everyday': 1541, 'school': 3813, 'trained': 4557, 'armed': 293, 'combat': 882, 'cute': 1090, 'learned': 2551, 'training': 4558, 'clean': 838, 'sick': 3963, 'slowly': 4032, 'dad': 1095, 'convinced': 984, 'early': 1400, 'hasnt': 2044, 'gotten': 1947, 'unique': 4662, 'actresses': 106, 'simon': 3982, 'rex': 3683, 'episode': 1507, 'cartoon': 704, 'teachers': 4376, '35': 45, 'teaching': 4377, 'satire': 3788, 'closer': 856, 'students': 4239, 'pathetic': 3210, 'remind': 3618, 'schools': 3814, 'inspector': 2299, 'welcome': 4842, 'fetched': 1698, 'pity': 3281, 'attracted': 349, 'partly': 3197, 'flow': 1762, 'white': 4870, 'tarzan': 4367, 'cuts': 1091, 'lying': 2690, 'several': 3905, 'unnecessary': 4672, 'toys': 4543, 'creep': 1051, 'david': 1124, 'screams': 3828, 'voice': 4761, 'develop': 1222, 'progresses': 3426, 'thief': 4448, 'gore': 1941, 'flawless': 1751, 'evil': 1548, 'memories': 2803, 'enter': 1494, 'wwii': 4975, 'continue': 969, 'underlying': 4641, 'justin': 2440, 'combination': 883, 'ideas': 2215, 'universal': 4665, 'dracula': 1341, 'frankenstein': 1822, 'stale': 4141, 'prequel': 3372, 'essentially': 1523, 'ghost': 1902, 'mummy': 2937, 'dick': 1239, 'wallace': 4782, 'carried': 698, 'library': 2589, 'actress': 105, 'sexual': 3908, 'adorable': 124, 'rank': 3518, 'forty': 1807, 'reporter': 3636, 'drawn': 1351, 'supernatural': 4302, 'occasionally': 3075, 'forces': 1788, 'pair': 3176, 'featuring': 1681, '1970s': 17, 'ratings': 3530, 'nevertheless': 3002, 'average': 362, 'dig': 1250, 'question': 3487, 'fairly': 1631, 'tend': 4400, 'formulaic': 1803, 'cleverly': 842, 'spooky': 4128, '20': 29, 'major': 2711, 'formula': 1802, 'fiction': 1702, 'agree': 155, 'columbo': 881, 'unfolds': 4651, 'according': 88, 'necessarily': 2983, 'itself': 2371, 'recognized': 3570, 'seek': 3858, 'repetitive': 3633, 'generous': 1886, 'figures': 1713, 'tries': 4585, 'editor': 1423, 'evidence': 1546, 'support': 4303, 'claims': 830, 'alas': 172, 'independent': 2272, 'research': 3644, 'tiresome': 4502, 'monsters': 2893, 'believes': 456, 'realism': 3549, 'unbelievable': 4634, 'unexpected': 4650, 'favorites': 1672, 'heights': 2073, 'inventive': 2341, 'aware': 368, 'sharp': 3922, 'closely': 855, 'hammer': 2014, 'studios': 4241, 'jimmy': 2403, 'remarkably': 3614, 'devils': 1229, 'inspiration': 2300, 'omen': 3104, 'praise': 3364, 'scream': 3826, 'monkey': 2890, 'chicago': 785, 'makeup': 2717, 'godzilla': 1929, 'elements': 1443, 'shines': 3932, 'carries': 699, 'fox': 1814, 'thinking': 4453, 'buying': 641, 'chinese': 796, 'card': 681, 'bring': 585, 'da': 1094, 'supposed': 4306, 'priest': 3392, 'spare': 4093, 'effort': 1432, 'grim': 1974, '30s': 44, 'gangster': 1868, 'road': 3709, 'worthy': 4956, 'godfather': 1927, 'reviewers': 3678, 'extraordinary': 1607, 'technical': 4381, 'cousin': 1021, 'terms': 4406, 'editing': 1421, 'sound': 4081, 'rare': 3523, 'involving': 2349, 'hanks': 2025, 'elderly': 1440, 'mob': 2879, 'leader': 2546, 'heavy': 2070, 'room': 3735, 'delivered': 1170, 'hence': 2083, 'amount': 219, 'devoid': 1230, 'driving': 1368, 'montage': 2894, 'doom': 1326, 'stunning': 4244, 'indeed': 2271, 'photographed': 3258, 'designed': 1203, 'hall': 2009, 'vivid': 4760, 'color': 877, 'dramatic': 1348, 'walls': 4783, 'blacks': 494, 'blues': 519, 'scheme': 3812, 'failed': 1626, 'notch': 3043, 'craig': 1030, 'spoiled': 4122, 'pursuit': 3476, 'importantly': 2248, 'bound': 553, 'seat': 3845, 'doubt': 1332, 'treat': 4572, 'shop': 3945, 'hoped': 2156, 'kept': 2456, 'minute': 2858, 'thrillers': 4473, 'attention': 345, 'science': 3816, 'destruction': 1216, 'thousands': 4466, 'battle': 414, 'mad': 2696, 'max': 2774, 'travel': 4567, 'thrilling': 4474, 'repeat': 3630, 'board': 522, 'sequel': 3885, 'proved': 3446, 'chosen': 805, 'productions': 3420, '1980': 20, 'warren': 4801, 'definite': 1161, 'conclusion': 936, 'talented': 4355, 'individual': 2277, '1960s': 15, 'felt': 1692, 'claim': 828, 'fame': 1642, 'magnificent': 2705, 'flop': 1760, 'tribute': 4581, '1950s': 14, 'created': 1037, 'raymond': 3534, 'synopsis': 4344, 'saga': 3773, 'hollywoods': 2138, 'alex': 179, 'charles': 764, 'power': 3359, 'vehicle': 4718, 'cinematic': 818, 'important': 2247, 'fare': 1655, 'date': 1118, 'requires': 3642, 'check': 777, 'built': 618, 'ex': 1549, 'boyfriend': 558, 'gay': 1876, 'instantly': 2306, 'cameras': 660, 'wide': 4880, 'eyed': 1612, 'pulled': 3462, 'soap': 4047, 'feeling': 1685, 'respect': 3652, 'warning': 4800, 'track': 4544, 'deal': 1135, 'offended': 3085, 'painfully': 3172, 'inside': 2297, 'hilarious': 2106, 'sweet': 4336, 'church': 813, 'lady': 2507, 'heads': 2059, 'explicit': 1591, 'situations': 4009, 'wedding': 4836, 'wouldve': 4959, 'walked': 4776, 'duty': 1390, 'intelligent': 2314, 'hair': 2005, 'rogers': 3725, 'majority': 2712, 'flashback': 1746, 'singing': 3995, 'cameos': 658, 'joke': 2414, 'portray': 3340, 'virgin': 4749, 'poster': 3353, 'asian': 314, 'toy': 4542, 'collection': 874, 'million': 2847, 'dollar': 1314, 'led': 2558, 'wrong': 4973, 'warned': 4798, 'intention': 2319, 'handle': 2018, 'excessive': 1560, 'jokes': 2415, 'subtle': 4260, 'clever': 841, 'hysterical': 2208, 'sitting': 4007, 'ladies': 2506, 'youve': 4995, 'curious': 1083, 'gross': 1978, 'idea': 2213, 'humble': 2191, 'guide': 1993, 'members': 2801, 'opposite': 3123, 'anybody': 257, 'discussion': 1284, 'youd': 4987, 'above': 68, 'concept': 930, 'uncomfortable': 4637, 'robots': 3718, 'experienced': 1581, 'pictures': 3270, 'academy': 77, 'grave': 1962, 'lover': 2672, 'genre': 1888, 'piece': 3272, 'annoying': 249, 'god': 1926, 'enormous': 1490, 'memory': 2804, 'serves': 3895, 'shy': 3962, 'tall': 4362, 'redeeming': 3577, 'site': 4005, 'source': 4086, 'jerk': 2395, 'chick': 786, 'spend': 4105, 'hours': 2177, 'planning': 3291, 'fail': 1625, 'ordinary': 3128, 'seconds': 3848, 'beyond': 476, 'bullets': 621, 'runs': 3757, 'pop': 3330, 'hang': 2022, 'kicking': 2462, 'care': 684, 'suffice': 4279, 'conceived': 929, 'positive': 3346, 'noted': 3045, 'whatsoever': 4861, 'spoiler': 4123, 'release': 3602, 'greatest': 1966, 'underground': 4640, 'blade': 495, 'brave': 567, 'jason': 2383, 'bourne': 554, 'hands': 2020, 'truth': 4599, 'stranger': 4213, 'future': 1856, 'holy': 2140, 'mighty': 2836, 'drugs': 1374, 'green': 1971, 'horse': 2170, 'alien': 183, 'speed': 4103, 'cg': 739, 'par': 3184, 'minds': 2852, 'kevin': 2457, 'dire': 1257, 'contrived': 976, 'sally': 3776, 'developing': 1224, 'shots': 3950, 'secondly': 3847, 'risk': 3704, 'unintentional': 4658, 'oscars': 3134, 'pointless': 3318, 'remarks': 3615, 'write': 4967, 'became': 431, 'fed': 1682, 'wins': 4899, 'winner': 4897, 'ralph': 3510, 'sunshine': 4294, 'havent': 2053, 'choices': 798, 'nomination': 3026, 'nominated': 3025, 'washington': 4806, 'letter': 2581, 'award': 366, 'bet': 470, 'park': 3190, 'bothered': 549, 'woody': 4936, 'bela': 450, 'approach': 282, '40s': 49, 'dropping': 1371, 'caught': 722, 'ignore': 2224, 'danger': 1109, 'aging': 153, 'hiding': 2099, 'corpse': 999, 'lane': 2515, 'keeping': 2450, 'mouth': 2920, 'picks': 3268, 'haunted': 2050, 'guest': 1992, 'sinister': 3998, 'mansion': 2731, 'vampire': 4711, 'assistant': 326, 'pacing': 3163, 'manner': 2729, 'sucks': 4271, 'clown': 862, 'wearing': 4831, 'mask': 2752, 'disgusting': 1286, 'rent': 3626, 'expecting': 1578, 'australian': 357, 'facing': 1620, 'charlie': 765, 'fish': 1738, 'snake': 4042, 'ups': 4686, 'handsome': 2021, 'broad': 590, 'accidentally': 85, 'existence': 1571, 'mysteries': 2954, 'whoever': 4872, 'belief': 451, 'bone': 533, 'universe': 4666, 'dreams': 1355, 'wave': 4818, 'basic': 406, 'granted': 1957, 'americans': 214, 'indians': 2275, 'complex': 923, 'elegant': 1441, 'physical': 3262, 'brothers': 599, 'industry': 2280, 'resembles': 3646, 'pregnant': 3369, 'creating': 1039, 'senseless': 3878, 'sake': 3775, 'destroy': 1213, 'copies': 992, 'struggles': 4235, 'focusing': 1769, 'topic': 4526, 'womens': 4924, 'loaded': 2632, 'flat': 1748, 'struggle': 4234, 'surprises': 4314, 'conflict': 939, 'indie': 2276, 'magical': 2704, 'dress': 1357, 'attraction': 350, 'success': 4265, 'price': 3389, 'mainly': 2708, 'rented': 3628, 'fights': 1710, 'likes': 2602, 'photo': 3257, 'building': 615, 'agrees': 157, 'etc': 1527, 'exists': 1573, 'blah': 496, 'description': 1197, 'complexity': 924, 'cards': 683, 'batman': 413, 'slightest': 4028, 'hint': 2112, 'irony': 2357, 'influence': 2286, 'scared': 3805, 'grab': 1949, 'screaming': 3827, 'childhood': 790, 'grown': 1984, 'stand': 4143, 'jeremy': 2394, 'beaten': 424, 'numerous': 3062, 'buff': 611, 'angel': 231, 'writers': 4969, 'hollywood': 2137, 'blatant': 502, 'suit': 4284, 'party': 3200, 'taking': 4352, 'image': 2233, 'whos': 4876, 'covers': 1024, 'ears': 1402, 'move': 2921, 'huh': 2187, 'scope': 3821, 'fired': 1735, 'chest': 784, 'contact': 961, 'blond': 510, 'represented': 3638, 'classical': 836, 'greek': 1970, 'queen': 3485, 'artist': 307, 'madness': 2698, 'benefit': 465, 'jump': 2429, 'attitudes': 347, 'motivation': 2914, 'idiot': 2218, 'prince': 3396, 'faces': 1618, 'danes': 1108, 'cowboy': 1025, 'western': 4853, 'recognize': 3569, 'attacks': 339, 'vengeance': 4719, 'position': 3345, 'thugs': 4484, 'nightmare': 3014, 'understood': 4647, 'tied': 4489, 'sacrifice': 3766, 'draw': 1349, 'sci': 3815, 'succeed': 4262, 'wasted': 4809, '80': 58, 'hoping': 2160, 'abysmal': 76, 'bloody': 513, 'rip': 3700, 'aired': 165, '90s': 61, 'agents': 151, 'william': 4887, 'expert': 1585, 'agent': 150, 'whilst': 4869, 'machine': 2693, 'saved': 3795, 'mysterious': 2955, 'previously': 3388, 'trio': 4587, 'setting': 3900, 'adventures': 131, 'lasted': 2522, '30': 42, 'relatively': 3600, 'suffered': 4276, 'incredibly': 2270, 'happening': 2028, 'snow': 4045, 'operation': 3117, 'mix': 2876, 'humour': 2194, 'liners': 2611, 'chemistry': 782, '2005': 35, 'documentary': 1307, 'anthony': 253, 'shine': 3931, 'bill': 481, 'donald': 1321, 'sutherland': 4333, 'burt': 629, 'notable': 3041, 'cage': 645, 'drew': 1360, 'complicated': 925, 'california': 650, 'holly': 2136, 'seeks': 3860, 'mental': 2808, 'killed': 2469, 'halloween': 2010, 'animals': 240, 'journey': 2421, 'cats': 721, 'paulie': 3215, 'confidence': 938, 'pleasant': 3302, 'russian': 3762, 'basement': 405, 'bird': 484, 'conversation': 980, 'voiced': 4762, 'jay': 2386, 'wondering': 4930, 'began': 441, 'marie': 2737, 'birds': 485, 'parents': 3188, 'concerned': 932, 'america': 212, 'recognition': 3568, 'succeeds': 4264, 'levels': 2585, 'striking': 4226, 'naive': 2958, 'promises': 3432, 'winds': 4895, 'drives': 1367, 'touching': 4536, 'jones': 2418, 'provoking': 3452, 'gonna': 1936, 'taught': 4370, 'gotta': 1946, 'composed': 926, 'laughs': 2534, 'performing': 3233, 'spanish': 4092, 'choreographed': 801, 'complaint': 920, 'comfortable': 892, 'steal': 4170, 'machines': 2694, 'amazed': 208, 'robbery': 3711, 'lab': 2501, 'circle': 821, 'revelation': 3674, 'shocking': 3940, 'intensity': 2317, 'surprising': 4315, 'sink': 3999, 'design': 1202, 'downright': 1337, 'captain': 674, 'attempting': 342, 'match': 2762, 'seasons': 3844, 'mixed': 2877, 'lacking': 2504, 'improve': 2254, 'mine': 2853, 'miike': 2837, 'fifteen': 1706, 'target': 4366, 'childrens': 793, '1980s': 21, 'werent': 4849, 'afraid': 140, 'scare': 3803, 'nasty': 2968, 'detail': 1217, 'grew': 1972, '80s': 59, 'unhappy': 4656, 'quest': 3486, 'heroine': 2091, 'draws': 1352, 'relate': 3593, 'fresh': 1833, 'spin': 4112, 'added': 116, 'lesser': 2576, 'extent': 1605, 'frequently': 1832, 'artistic': 308, 'choice': 797, 'desire': 1205, 'mostly': 2910, 'solely': 4056, 'putting': 3482, 'combine': 884, 'create': 1036, 'filled': 1715, 'rich': 3685, 'ranks': 3519, 'sensitive': 3879, 'jaw': 2384, 'grow': 1982, 'hello': 2078, 'evening': 1534, 'contains': 964, 'screening': 3830, 'louise': 2666, 'parker': 3191, 'affair': 135, 'pretentious': 3383, 'insulting': 2310, 'deaf': 1134, 'ludicrous': 2685, 'obnoxious': 3067, 'losers': 2656, 'pool': 3327, 'encounter': 1466, 'hole': 2132, 'victor': 4731, 'gold': 1932, 'ruby': 3749, 'ashley': 313, 'sisters': 4002, 'starting': 4158, 'prize': 3405, 'festival': 1697, 'picked': 3266, 'reminded': 3619, 'fool': 1779, 'daily': 1097, 'common': 906, 'nicely': 3009, 'bugs': 613, 'florida': 1761, 'walking': 4779, 'beach': 419, 'finding': 1727, 'teenage': 4389, 'replaced': 3634, 'engage': 1479, 'teenagers': 4391, 'comedies': 889, 'crude': 1069, 'shallow': 3917, 'musicals': 2948, 'fred': 1825, 'astaire': 330, 'ginger': 1908, 'disappointed': 1273, 'hat': 2045, 'department': 1182, 'addition': 118, 'usual': 4699, 'fat': 1663, 'trouble': 4592, 'harder': 2035, 'berlin': 467, 'worthwhile': 4955, 'pull': 3461, 'occur': 3076, 'jane': 2380, 'uninspired': 4657, 'suffer': 4275, 'dealt': 1138, 'abuse': 74, 'reviewer': 3677, 'market': 2740, 'cutting': 1092, 'talents': 4356, 'wished': 4905, 'wonderfully': 4929, 'settings': 3901, '1st': 28, 'ron': 3734, 'barbara': 397, 'richardson': 3688, 'attacked': 338, 'asleep': 320, 'steel': 4173, 'laurel': 2537, 'holmes': 2139, 'king': 2479, 'porn': 3336, 'owner': 3159, 'hopeless': 2158, 'ted': 4386, 'crack': 1027, 'report': 3635, 'dawn': 1127, 'girlfriend': 1910, 'shadows': 3913, 'husbands': 2205, 'eddie': 1416, 'lisa': 2616, 'technique': 4383, 'briefly': 580, 'central': 735, 'childish': 791, 'scott': 3824, 'personally': 3243, 'trashy': 4566, 'suffers': 4278, 'denzel': 1181, 'warmth': 4796, 'lewis': 2586, 'strength': 4219, 'african': 142, 'nonsense': 3030, 'appalling': 268, 'historical': 2119, 'facts': 1624, 'warrior': 4802, 'africa': 141, 'impress': 2250, 'smile': 4036, 'suits': 4287, 'fancy': 1649, 'costume': 1005, 'inspired': 2301, 'return': 3665, 'blockbuster': 509, 'silence': 3974, 'vision': 4754, '12': 3, 'poem': 3312, 'fi': 1701, 'translation': 4562, 'faithful': 1634, 'text': 4419, 'introduce': 2336, 'existed': 1570, 'pointed': 3317, 'vs': 4767, 'specifically': 4100, 'beast': 422, 'arm': 292, 'sword': 4340, 'extra': 1606, 'appropriate': 283, 'forest': 1791, 'lake': 2509, 'represent': 3637, 'center': 732, 'symbolism': 4341, 'immensely': 2243, 'focused': 1767, 'centers': 734, 'awesome': 371, 'unrealistic': 4677, 'personalities': 3241, 'canadian': 667, 'divorce': 1301, 'protagonist': 3441, 'closet': 858, 'understandable': 4644, 'possibilities': 3348, 'guessing': 1991, 'adds': 119, 'desperation': 1210, 'sean': 3840, 'loving': 2675, 'mrs': 2930, 'estate': 1525, 'portrait': 3339, 'midnight': 2834, 'tracy': 4546, 'shirt': 3937, 'ticket': 4487, 'wear': 4830, 'bright': 581, 'primary': 3394, 'colors': 879, 'beatty': 427, 'icon': 2211, 'timeless': 4496, 'touched': 4534, 'versus': 4722, 'explored': 1595, 'comic': 893, 'strip': 4228, 'decade': 1144, 'statement': 4162, 'witch': 4909, 'pile': 3275, 'introduction': 2339, 'meet': 2793, 'tooth': 4524, 'peters': 3248, 'renting': 3629, 'west': 4852, 'cole': 873, 'neighborhood': 2993, 'shouldnt': 3952, 'shell': 3927, 'steals': 4172, 'ironic': 2355, 'idiotic': 2219, 'exact': 1550, 'freddy': 1826, 'elm': 1447, 'street': 4216, 'routine': 3743, 'limited': 2606, 'traveling': 4568, 'decides': 1150, 'lessons': 2578, 'meanwhile': 2785, 'ballet': 389, 'dancer': 1104, 'september': 3884, 'vote': 4766, 'brazil': 568, 'raw': 3532, 'images': 2235, 'relief': 3605, 'strictly': 4223, 'asking': 318, 'gag': 1861, 'horribly': 2164, 'jamie': 2379, 'hide': 2097, 'morning': 2906, 'craft': 1028, 'talked': 4359, 'foreign': 1790, 'uk': 4626, 'afternoon': 144, 'spike': 4111, 'nail': 2957, 'rick': 3689, 'disney': 1289, 'cash': 709, 'relatives': 3601, 'visual': 4757, 'properly': 3437, 'stick': 4185, 'material': 2766, 'stunts': 4246, 'twilight': 4614, 'zone': 4999, 'useless': 4695, 'window': 4894, 'wanna': 4786, 'horrid': 2165, 'kissing': 2484, 'sucked': 4270, 'purposes': 3475, 'tame': 4363, 'photographer': 3259, 'mario': 2738, 'encounters': 1467, 'remote': 3622, 'witches': 4910, 'structure': 4233, 'moody': 2899, 'atmospheric': 334, 'growing': 1983, 'directs': 1267, 'unusual': 4681, 'scenery': 3810, 'views': 4742, 'areas': 287, 'atmosphere': 333, 'closing': 859, 'pet': 3246, 'mentions': 2813, 'stephen': 4176, 'direct': 1258, 'wonders': 4931, 'adaptation': 113, 'kings': 2481, 'missing': 2869, 'rising': 3703, 'thrown': 4481, 'mentioned': 2811, 'notably': 3042, 'notes': 3046, 'andrew': 228, 'disturbed': 1299, 'pieces': 3273, 'involve': 2345, 'ramones': 3512, 'shining': 3933, 'polished': 3323, 'couldve': 1009, 'darker': 1116, 'logical': 2639, 'lies': 2591, 'fear': 1676, 'communist': 907, 'soviet': 4089, 'regarding': 3589, 'ann': 244, '1996': 26, 'ugly': 4625, 'clue': 864, 'security': 3854, 'belongs': 460, 'guns': 1998, 'system': 4345, 'toilet': 4512, 'paper': 3183, 'construction': 960, 'commit': 904, 'speaking': 4095, 'passion': 3205, 'seventies': 3904, 'treated': 4573, 'league': 2549, 'twins': 4616, 'consistent': 953, 'plan': 3287, 'anyways': 262, 'junk': 2436, 'initial': 2290, 'mass': 2753, 'event': 1535, 'wilson': 4891, 'brooks': 596, 'effectively': 1430, 'scores': 3823, 'killers': 2471, 'society': 4050, 'viewed': 4737, 'effect': 1428, '50': 51, 'successfully': 4267, 'questions': 3489, 'spirited': 4114, 'alice': 182, 'overwhelming': 3157, 'response': 3654, 'insight': 2298, 'flawed': 1750, 'analysis': 224, 'knowledge': 2491, 'drawing': 1350, 'instance': 2304, 'culture': 1079, 'asked': 317, 'hundred': 2195, 'individuals': 2278, 'received': 3564, 'vice': 4727, 'glimpse': 1919, 'ought': 3138, 'commentary': 899, 'pie': 3271, 'dinner': 1254, 'accompanied': 86, 'purchased': 3470, 'ray': 3533, 'promised': 3431, 'angles': 237, 'capture': 676, 'nature': 2975, 'horrors': 2169, 'jumped': 2430, 'landscape': 2513, 'randomly': 3515, 'term': 4405, 'loosely': 2651, 'cary': 706, 'judging': 2425, 'size': 4012, 'advertising': 132, 'field': 1704, 'brand': 565, 'post': 3352, 'ii': 2226, 'returning': 3667, 'rights': 3697, 'houses': 2180, 'satisfy': 3790, 'demand': 1174, 'passed': 3202, 'signed': 3971, 'government': 1948, 'uncle': 4636, 'aunt': 355, 'moved': 2922, 'grant': 1956, 'daughters': 1122, 'inner': 2292, 'rochester': 3719, 'rooms': 3736, 'expensive': 1579, 'costs': 1004, 'adding': 117, 'threatening': 4468, 'send': 3875, 'douglas': 1334, 'offer': 3087, 'powell': 3358, 'walter': 4784, 'abc': 63, 'allowing': 191, 'join': 2412, 'ritter': 3705, 'shocked': 3939, 'struck': 4232, '17': 9, 'pain': 3170, 'maintain': 2710, 'destroyed': 1214, 'sexy': 3911, 'mild': 2839, 'insane': 2296, 'ultra': 4629, 'harry': 2039, 'receives': 3565, 'doll': 1313, 'orders': 3127, 'amounts': 220, 'rape': 3521, 'balls': 390, 'toward': 4539, 'fully': 1847, 'nude': 3058, 'bush': 632, 'naked': 2959, 'assault': 324, 'social': 4049, 'dawson': 1128, 'essence': 1521, 'accused': 91, 'descent': 1193, 'presents': 3377, 'segments': 3868, 'tragic': 4552, 'united': 4664, 'directors': 1266, 'tragedy': 4551, 'sympathy': 4343, 'ken': 2453, 'segment': 3867, '1973': 19, 'countries': 1013, 'india': 2273, 'iran': 2350, 'teacher': 4375, 'explain': 1586, 'france': 1816, 'nearby': 2980, 'location': 2635, 'lonely': 2643, 'poetic': 3313, 'impressive': 2253, 'sadness': 3770, 'nation': 2969, 'manipulative': 2727, 'seven': 3903, 'morgan': 2905, 'freeman': 1829, 'puts': 3481, 'disappointment': 1275, 'innovative': 2295, 'succeeded': 4263, 'ultimately': 4628, 'amitabh': 216, 'menacing': 2807, 'rate': 3526, 'dialogues': 1235, 'theatre': 4429, 'viewers': 4739, 'chain': 741, 'reaction': 3541, 'ring': 3698, 'cox': 1026, 'alfred': 181, 'spider': 4109, 'doc': 1303, 'bought': 552, 'suggest': 4280, 'scripted': 3835, 'demon': 1177, 'visits': 4756, 'fortune': 1806, 'whale': 4857, 'tour': 4538, 'despair': 1207, 'comedic': 888, 'call': 651, 'europe': 1529, 'pleasure': 3306, 'hal': 2006, 'minimum': 2856, '1930s': 11, 'oz': 3160, 'kelly': 2452, 'blew': 505, 'record': 3573, 'trailers': 4555, 'roman': 3731, 'catholic': 720, 'religious': 3608, 'thrills': 4475, 'string': 4227, 'deceased': 1146, 'suddenly': 4273, 'rebel': 3561, 'et': 1526, 'al': 170, 'jesus': 2399, 'christ': 807, 'everywhere': 1545, 'frightening': 1839, 'club': 863, 'johnson': 2411, 'cook': 988, 'player': 3298, 'mike': 2838, 'london': 2641, 'solo': 4058, 'longer': 2645, 'body': 527, 'doors': 1329, 'locked': 2637, 'trust': 4598, 'picking': 3267, 'teen': 4388, 'saving': 3797, 'isolated': 2363, 'matters': 2770, 'guessed': 1990, 'entertained': 1498, 'count': 1010, 'separate': 3883, 'alright': 198, 'motion': 2913, 'frame': 1815, 'splatter': 4118, 'metal': 2823, 'reasonable': 3558, 'aint': 163, 'endings': 1472, 'fitting': 1742, 'fault': 1668, 'hitler': 2124, 'national': 2970, 'pride': 3391, 'nonetheless': 3029, 'noticed': 3049, 'listed': 2618, 'genres': 1889, 'taste': 4369, 'jon': 2416, 'model': 2880, 'charisma': 762, 'smiling': 4037, 'vampires': 4712, 'providing': 3451, 'hunter': 2199, 'erotic': 1515, 'mildly': 2840, 'ripped': 3701, 'pay': 3216, 'member': 2800, 'hunters': 2200, 'reaching': 3539, 'abandoned': 62, 'jumps': 2432, 'removed': 3624, 'speaks': 4096, 'moon': 2900, '1972': 18, 'easier': 1405, 'families': 1644, 'newspaper': 3006, 'landing': 2512, 'classes': 834, '13': 4, 'held': 2074, 'breath': 573, 'community': 908, 'enthusiasm': 1501, 'books': 536, 'proof': 3434, 'souls': 4080, 'unknown': 4668, 'mistaken': 2872, 'ruined': 3751, 'relation': 3595, 'genius': 1887, 'meaningless': 2782, 'double': 1331, 'corny': 997, 'amy': 222, 'psycho': 3457, 'teens': 4392, 'dislike': 1288, 'generic': 1885, 'hills': 2109, '16': 8, 'favourite': 1673, 'realise': 3548, 'teenager': 4390, 'grey': 1973, 'aka': 168, 'horrendous': 2162, 'thoughts': 4464, 'incompetent': 2266, 'inferior': 2285, 'transition': 4561, 'liberal': 2588, 'sidekick': 3966, 'humanity': 2189, 'inspiring': 2302, 'haunting': 2051, 'psychological': 3458, 'improved': 2255, 'concern': 931, 'irritating': 2359, 'sappy': 3784, 'thank': 4421, 'imagined': 2239, 'excited': 1561, 'commercial': 902, 'remotely': 3623, 'basically': 407, 'satisfied': 3789, 'protect': 3443, 'upset': 4687, 'swimming': 4338, 'unbearable': 4633, 'energy': 1478, 'animation': 242, 'advice': 133, 'trademark': 4548, 'sequels': 3886, 'cinderella': 815, 'theyll': 4444, 'bringing': 586, 'thin': 4449, 'tongue': 4518, 'cheek': 779, 'mouse': 2919, 'slapstick': 4019, 'patrick': 3213, 'rachel': 3500, 'ward': 4793, 'depressing': 1188, 'quirky': 3493, 'clip': 851, 'wound': 4960, 'cried': 1054, 'forbidden': 1785, 'lucky': 2683, 'forever': 1792, 'achievement': 94, 'category': 718, 'marks': 2742, 'scientific': 3817, 'staff': 4138, 'presumably': 3380, 'projects': 3428, 'dragon': 1344, 'scientist': 3818, 'skill': 4013, 'scientists': 3819, 'experiments': 1584, 'pants': 3182, 'defeat': 1157, 'gray': 1963, 'blob': 507, 'brad': 560, 'cities': 823, 'remembered': 3617, 'property': 3438, 'disagree': 1269, 'monkeys': 2891, 'bullet': 620, 'journalist': 2420, 'edgar': 1417, 'castle': 712, 'sits': 4006, 'elizabeth': 1445, 'charming': 768, 'ahead': 159, 'ghosts': 1903, 'repeated': 3631, 'games': 1865, 'north': 3036, 'described': 1195, 'buddy': 609, 'partner': 3198, 'bucks': 606, 'wes': 4851, 'craven': 1034, 'carter': 703, 'signs': 3973, 'causes': 725, 'changing': 752, 'essential': 1522, 'instant': 2305, 'generations': 1884, 'groups': 1981, 'inevitable': 2282, 'clichéd': 845, 'camp': 662, 'mexican': 2826, '50s': 52, '60s': 54, 'soldiers': 4054, 'truck': 4595, 'ultimate': 4627, 'exercise': 1568, 'faced': 1617, 'losing': 2658, 'alive': 186, 'types': 4622, 'originality': 3130, 'behave': 445, 'amateur': 206, 'absence': 70, 'graphic': 1958, 'battles': 415, 'gratuitous': 1961, 'sentimental': 3882, 'soldier': 4053, 'radio': 3504, 'foul': 1810, 'grasp': 1960, 'sentence': 3881, 'laughter': 2535, 'practice': 3363, 'crying': 1074, 'ha': 2002, 'continued': 970, 'exceptionally': 1559, 'itll': 2369, 'eg': 1434, 'faults': 1669, 'titled': 4505, 'promise': 3430, 'shelf': 3926, 'store': 4204, 'creativity': 1042, 'exploration': 1593, 'ties': 4490, 'backgrounds': 381, 'gain': 1863, 'winning': 4898, 'hire': 2116, 'online': 3109, 'olivier': 3103, 'cheating': 776, 'indian': 2274, 'masses': 2755, 'soft': 4051, 'careful': 688, 'bobby': 525, 'sandra': 3782, 'baker': 385, 'paranoia': 3186, 'personality': 3242, 'gabriel': 1859, 'reads': 3545, 'troubled': 4593, 'youth': 4994, 'nurse': 3063, 'donna': 1323, 'dying': 1393, 'aids': 161, 'motives': 2916, 'seed': 3856, 'sudden': 4272, 'terry': 4415, 'anderson': 227, 'fashioned': 1660, 'pot': 3354, 'hearted': 2065, 'escaped': 1518, 'unsettling': 4679, 'gas': 1874, 'heroic': 2090, 'tons': 4520, 'chases': 771, 'merely': 2815, 'waited': 4771, 'teeth': 4393, 'cabin': 643, 'fever': 1699, 'sheer': 3925, 'honesty': 2148, 'unfunny': 4655, 'dealing': 1136, 'virus': 4752, 'ball': 388, 'walks': 4780, 'halfway': 2008, 'wandering': 4785, 'thru': 4483, 'discuss': 1283, 'connection': 946, 'upon': 4684, 'regular': 3592, '2003': 33, 'peace': 3219, 'martin': 2748, 'gone': 1935, 'dating': 1120, 'daddy': 1096, 'hates': 2048, 'provides': 3450, 'blonde': 511, 'gorgeous': 1942, 'tad': 4347, 'purpose': 3474, 'lone': 2642, 'information': 2288, 'funnier': 1850, 'racism': 3502, 'dressing': 1359, 'attached': 336, 'liking': 2604, 'imagery': 2234, 'noble': 3021, 'alan': 171, 'dentist': 1180, 'suspicious': 4332, 'wizard': 4919, 'allow': 189, 'marry': 2745, 'birth': 486, 'pure': 3471, 'horses': 2171, 'designs': 1204, 'silent': 3975, 'hill': 2108, 'blow': 514, 'beings': 449, 'hold': 2129, 'cup': 1080, 'tea': 4373, 'un': 4630, 'rob': 3710, 'roy': 3745, 'scottish': 3825, 'folk': 1770, 'failing': 1627, 'settle': 3902, 'soul': 4079, 'christmas': 810, 'turkey': 4604, 'touch': 4533, 'struggling': 4236, 'wives': 4918, 'endure': 1475, 'portrayal': 3341, 'wicked': 4879, 'stellar': 4174, 'players': 3299, 'undoubtedly': 4648, 'unwatchable': 4682, 'drivel': 1364, 'falk': 1636, 'ingredients': 2289, 'proceedings': 3410, 'introduced': 2337, 'altogether': 202, 'sounds': 4084, 'learning': 2552, 'rocks': 3722, 'rush': 3759, 'rules': 3754, 'pacino': 3164, 'madonna': 2699, 'colorful': 878, 'glenn': 1918, 'resolution': 3649, 'typically': 4624, 'eccentric': 1414, 'lynch': 2691, 'transfer': 4559, '25': 40, 'worry': 4950, 'tears': 4380, 'happiness': 2031, 'drag': 1342, 'study': 4242, 'considering': 952, 'substance': 4258, 'political': 3324, 'dvds': 1392, 'tends': 4402, 'simplistic': 3985, 'clumsy': 866, 'inept': 2281, 'endearing': 1469, 'caused': 724, 'extras': 1608, 'interview': 2329, 'recorded': 3574, 'witnessed': 4915, 'pulling': 3463, 'knowing': 2490, 'notion': 3050, 'choose': 799, 'le': 2544, 'hunting': 2201, 'santa': 3783, 'nobody': 3022, 'worker': 4942, 'lesbian': 2573, 'eat': 1411, 'basketball': 409, 'fix': 1744, 'guilty': 1995, 'neat': 2982, 'relies': 3606, 'jackson': 2375, '3rd': 47, 'knock': 2488, 'necessary': 2984, 'education': 1424, 'jealous': 2388, 'discovers': 1281, 'official': 3094, 'react': 3540, 'goal': 1925, 'deadly': 1133, 'dollars': 1315, 'earned': 1401, 'strikes': 4225, 'hospital': 2172, 'aspects': 322, 'prefer': 3368, 'twin': 4615, 'cooper': 990, 'strike': 4224, 'current': 1084, 'celluloid': 731, 'miserable': 2863, 'bus': 631, 'length': 2569, 'border': 539, 'channel': 753, 'davis': 1126, 'fest': 1696, 'delivery': 1173, 'bear': 420, 'semi': 3874, 'coherent': 871, 'gradually': 1952, 'claire': 831, 'connected': 945, 'subtlety': 4261, 'abilities': 64, 'plastic': 3294, 'tree': 4576, 'subplots': 4256, 'glorious': 1921, 'blame': 499, 'frequent': 1831, 'free': 1827, 'francis': 1818, 'wealthy': 4827, 'nervous': 2999, 'executed': 1565, 'print': 3399, 'cure': 1081, 'mall': 2720, '1933': 12, 'cagney': 646, 'wayne': 4821, 'presented': 3376, 'shorts': 3948, 'cartoons': 705, 'serve': 3893, 'stolen': 4195, 'rival': 3706, 'joan': 2404, 'resulting': 3661, 'robinson': 3716, 'dancing': 1107, 'natural': 2973, 'sounded': 4082, 'choreography': 802, 'brilliantly': 584, 'method': 2824, 'hugh': 2186, 'hudson': 2184, 'eastern': 1408, 'sid': 3964, 'raising': 3509, 'surviving': 4323, 'freedom': 1828, 'larger': 2519, 'miscast': 2862, 'intimate': 2331, 'backdrop': 379, 'decision': 1151, 'confusion': 943, 'consistently': 954, 'bomb': 531, 'chorus': 803, 'exposure': 1599, 'performer': 3231, 'dancers': 1105, 'larry': 2520, 'jazz': 2387, 'reed': 3580, 'judy': 2426, 'cake': 648, 'holes': 2133, 'cheese': 780, 'cliché': 844, 'rangers': 3517, 'sum': 4289, 'trapped': 4564, 'impression': 2252, 'brady': 561, 'chuck': 812, 'impact': 2244, 'bible': 477, 'johnny': 2410, 'flash': 1745, 'differences': 1247, 'yelling': 4980, 'stooges': 4200, 'expectations': 1576, 'sport': 4129, 'unforgettable': 4652, 'andy': 230, 'discover': 1279, 'phone': 3255, 'embarrassment': 1455, 'pleasantly': 3303, 'temple': 4398, 'martial': 2747, 'arts': 310, 'kung': 2498, 'fu': 1844, 'remarkable': 3613, 'displayed': 1292, 'cultural': 1078, 'nostalgic': 3039, 'crimes': 1056, 'share': 3920, 'ad': 110, 'couples': 1017, 'loves': 2674, 'murderer': 2941, 'pitt': 3280, 'titles': 4506, 'victoria': 4732, 'sympathetic': 4342, 'techniques': 4384, 'distracting': 1297, 'months': 2897, 'view': 4736, 'throat': 4476, 'health': 2060, 'issues': 2365, 'copy': 994, 'professor': 3422, 'household': 2179, 'authority': 360, 'wind': 4893, 'rocky': 3723, 'faith': 1633, 'poverty': 3357, 'expression': 1602, 'disappear': 1270, 'happily': 2030, 'album': 175, 'author': 359, 'experiences': 1582, 'relationships': 3598, 'strongly': 4231, 'smith': 4038, 'references': 3583, 'deserved': 1200, 'morris': 2908, 'wendy': 4846, 'seeking': 3859, 'reactions': 3542, 'profound': 3423, 'appreciation': 281, 'heaven': 2068, 'exist': 1569, 'sleeping': 4025, 'lower': 2677, 'unintentionally': 4659, 'uninteresting': 4660, 'mexico': 2827, 'punishment': 3467, 'pg': 3250, 'overrated': 3156, 'degree': 1164, 'saturday': 3792, 'raised': 3508, 'offensive': 3086, 'worthless': 4954, 'bumbling': 622, 'stretched': 4222, 'moronic': 2907, 'website': 4834, 'vhs': 4725, 'climactic': 848, 'football': 1783, 'centered': 733, 'factor': 1622, 'staged': 4140, 'blair': 497, 'checking': 778, 'escapes': 1519, '2nd': 41, 'canada': 666, 'simplicity': 3984, 'marriage': 2743, 'met': 2822, 'distance': 1294, 'kapoor': 2443, 'timing': 4498, 'grace': 1950, 'unable': 4631, 'overlook': 3153, 'protagonists': 3442, 'heavily': 2069, 'chooses': 800, 'tunes': 4603, 'counter': 1011, 'stress': 4220, 'luck': 2681, 'unreal': 4676, 'artists': 309, 'resist': 3648, 'superficial': 4298, 'hints': 2113, 'hits': 2125, 'daring': 1114, 'master': 2757, 'generation': 1883, 'smaller': 4034, 'variety': 4714, 'campy': 664, 'internet': 2327, 'understated': 4646, 'perfection': 3225, 'contrast': 975, 'thomas': 4458, 'flaw': 1749, 'viewings': 4741, 'anne': 246, 'leslie': 2574, 'portraying': 3343, 'fond': 1776, 'featured': 1679, 'versions': 4721, 'exotic': 1574, 'awe': 370, 'measure': 2786, 'persona': 3239, 'understanding': 4645, 'contained': 963, 'fears': 1677, 'revealed': 3671, 'deliberately': 1166, 'overlooked': 3154, 'warm': 4794, 'wed': 4835, 'interviews': 2330, 'format': 1799, 'cusack': 1088, 'butt': 638, 'relevant': 3604, 'opinions': 3119, 'punk': 3468, 'mtv': 2933, 'suspects': 4328, 'desperately': 1209, 'clues': 865, 'hopefully': 2157, 'spots': 4132, 'drive': 1363, 'depression': 1189, 'considerable': 950, 'wealth': 4826, 'tight': 4492, 'condition': 937, 'howard': 2182, 'lena': 2568, 'awake': 365, 'conspiracy': 956, 'familys': 1646, 'multi': 2935, 'womans': 4922, 'specific': 4099, 'piano': 3264, 'overcome': 3151, 'ms': 2931, 'captures': 678, 'performs': 3234, 'technically': 4382, 'empathy': 1462, 'pushed': 3478, 'increasingly': 2268, 'established': 1524, 'robbins': 3712, 'careers': 687, 'brains': 563, 'amanda': 205, 'pops': 3332, 'religion': 3607, 'experiment': 1583, 'inevitably': 2283, 'weeks': 4839, 'pan': 3180, 'smoking': 4040, 'legal': 2563, 'complain': 919, 'beloved': 461, 'throws': 4482, 'dan': 1102, 'enjoyment': 1488, 'occurs': 3078, 'regard': 3588, 'drops': 1372, 'realizes': 3554, 'sings': 3997, 'mile': 2842, 'blend': 504, 'grandfather': 1954, 'mountains': 2918, 'burns': 628, 'frustration': 1843, 'accepted': 82, 'connect': 944, 'annoyed': 248, 'utter': 4701, 'stylish': 4251, 'overdone': 3152, 'scrooge': 3837, 'driven': 1365, '20th': 38, 'dickens': 1240, 'spirits': 4115, 'carol': 693, 'britain': 588, 'oliver': 3102, 'bob': 524, 'wake': 4774, 'stewart': 4184, 'root': 3737, 'warner': 4799, 'assume': 328, 'vegas': 4717, 'diane': 1238, 'harvey': 2042, 'ignorant': 2223, 'cringe': 1059, 'brutal': 603, 'messed': 2821, 'popcorn': 3331, 'stupidity': 4248, 'enters': 1496, 'slap': 4018, 'meat': 2787, 'hatred': 2049, 'talks': 4361, 'wooden': 4934, 'stilted': 4190, 'tie': 4488, 'dennis': 1179, 'prom': 3429, 'millions': 2848, 'kinds': 2478, 'wacky': 4769, 'macy': 2695, 'gods': 1928, 'mere': 2814, 'forgotten': 1797, 'angels': 234, 'christopher': 811, 'lloyd': 2630, 'similarities': 3979, 'greed': 1968, 'preview': 3386, 'dry': 1377, 'soccer': 4048, 'germany': 1898, 'provided': 3449, 'methods': 2825, 'lifestyle': 2593, 'drunk': 1375, 'arthur': 305, 'vast': 4716, 'linda': 2609, 'moore': 2901, 'sir': 4000, 'butler': 637, 'mirror': 2861, 'via': 4726, 'afterwards': 145, 'outcome': 3142, 'content': 966, 'destiny': 1212, 'spoke': 4125, 'ethan': 1528, 'julie': 2428, 'strangers': 4214, 'angle': 236, 'unseen': 4678, 'stereotype': 4178, 'racist': 3503, 'helen': 2075, 'anna': 245, 'werewolf': 4850, 'sleep': 4024, 'trick': 4582, 'appealing': 272, 'places': 3284, 'handled': 2019, 'weight': 4840, 'tired': 4501, 'throwing': 4480, 'push': 3477, 'coach': 868, 'brian': 576, 'sons': 4073, 'shakespeare': 3915, 'hideous': 2098, 'range': 3516, 'joseph': 2419, 'lawrence': 2539, 'dignity': 1252, 'consider': 949, 'tiger': 4491, 'visible': 4753, 'likewise': 2603, 'airplane': 166, 'mature': 2773, 'duo': 1386, 'march': 2734, 'literature': 2623, 'matrix': 2767, 'countless': 1012, 'chicks': 787, 'recording': 3575, 'tracks': 4545, 'vietnam': 4735, 'homage': 2141, 'poetry': 3314, 'muslim': 2949, 'maker': 2714, 'controversial': 978, 'credibility': 1047, 'potentially': 3356, 'amongst': 218, 'access': 83, 'affected': 137, 'safety': 3772, 'quote': 3496, 'bag': 384, 'producing': 3417, 'criminals': 1058, 'successful': 4266, 'stealing': 4171, 'expressed': 1601, 'concerning': 933, 'entertain': 1497, 'em': 1452, 'gender': 1878, 'accident': 84, 'showdown': 3955, 'gruesome': 1986, 'uneven': 4649, 'todd': 4510, 'enjoying': 1487, 'stopped': 4202, 'satan': 3787, 'explosions': 1597, 'rambo': 3511, 'rocket': 3721, 'rat': 3525, 'beneath': 464, 'attend': 344, 'royal': 3746, 'glass': 1917, 'duke': 1383, 'wore': 4939, '14': 6, 'tear': 4379, 'rise': 3702, 'colour': 880, 'pack': 3165, 'ah': 158, 'infamous': 2284, 'pig': 3274, 'japanese': 2382, 'pushing': 3479, 'decades': 1145, 'extreme': 1609, 'females': 1694, 'wrap': 4963, 'anime': 243, 'politics': 3326, 'firstly': 1737, 'argument': 291, 'japan': 2381, 'samurai': 3779, 'hook': 2152, 'figured': 1712, 'concerns': 934, 'pleased': 3305, 'devoted': 1231, 'adapted': 114, 'map': 2733, 'ignored': 2225, 'directorial': 1265, 'buck': 605, 'skills': 4014, 'murphy': 2944, 'eighties': 1437, 'clint': 850, 'eastwood': 1409, 'race': 3499, 'airport': 167, 'thrill': 4471, 'gundam': 1997, 'wing': 4896, 'enemy': 1477, 'busy': 635, 'issue': 2364, 'horrific': 2166, 'fx': 1858, 'possessed': 3347, 'emotions': 1461, 'mechanical': 2788, 'porno': 3337, 'reference': 3582, 'hippie': 2115, 'respected': 3653, 'voight': 4764, 'legendary': 2565, 'consists': 955, 'grandmother': 1955, 'powers': 3361, 'raise': 3507, 'ho': 2127, 'broadcast': 591, 'stiff': 4187, 'pseudo': 3454, 'account': 89, 'press': 3379, 'hed': 2072, 'cheated': 775, 'basis': 408, 'citizen': 824, 'kane': 2442, 'aspect': 321, 'styles': 4250, 'laws': 2540, 'nine': 3017, 'panic': 3181, 'caliber': 649, 'campbell': 663, 'consequences': 947, '24': 39, 'sole': 4055, 'advantage': 129, 'exposed': 1598, 'wears': 4832, 'tonight': 4519, 'snl': 4044, 'station': 4164, 'manager': 2724, 'standing': 4146, 'speech': 4102, 'dragged': 1343, 'chair': 742, 'officers': 3093, 'emma': 1457, 'walker': 4778, 'popularity': 3334, 'drinking': 1362, 'lit': 2621, 'guarantee': 1987, 'winter': 4900, 'spends': 4107, 'activities': 102, 'mel': 2796, 'accomplished': 87, 'unpleasant': 4674, 'phantom': 3251, 'menace': 2806, 'hurts': 2203, 'competition': 918, 'cliff': 847, 'corporate': 998, 'secrets': 3852, 'cube': 1076, 'adam': 111, 'sandler': 3781, 'avoided': 364, 'singers': 3994, 'commercials': 903, 'subtitles': 4259, 'lyrics': 2692, 'teach': 4374, '2002': 32, 'spoof': 4127, 'thirty': 4456, 'nights': 3016, 'holding': 2130, 'parties': 3196, 'hired': 2117, 'doubts': 1333, 'texas': 4418, 'kay': 2447, 'monk': 2889, 'stole': 4194, 'magazine': 2701, 'mill': 2845, 'rendition': 3625, 'grinch': 1975, 'melting': 2799, 'river': 3707, 'fourth': 1813, 'program': 3424, 'related': 3594, 'involvement': 2347, 'loads': 2633, 'lengthy': 2570, 'overly': 3155, 'elsewhere': 1449, 'married': 2744, 'swim': 4337, 'heat': 2067, 'louis': 2665, 'dolph': 1317, 'gothic': 1945, 'precious': 3366, 'service': 3896, 'assigned': 325, 'guard': 1988, 'kim': 2475, 'troubles': 4594, 'threat': 4467, 'eva': 1531, 'betty': 474, 'comics': 895, 'triumph': 4590, 'cameo': 657, 'severe': 3906, 'portion': 3338, 'bed': 436, 'dude': 1381, 'bathroom': 412, 'bite': 489, 'iii': 2227, 'punch': 3466, 'hong': 2149, 'kong': 2494, 'harsh': 2040, 'chan': 746, 'deaths': 1142, 'laughably': 2531, 'wounded': 4961, 'appearing': 277, 'web': 4833, 'australia': 356, 'bore': 540, 'streisand': 4218, 'factory': 1623, 'orson': 3132, 'stereotypical': 4180, 'brilliance': 582, 'earl': 1398, 'spread': 4133, 'sin': 3988, 'sophisticated': 4075, 'solve': 4060, 'weapon': 4828, 'investigation': 2343, 'gentle': 1890, 'rats': 3531, 'calls': 654, 'borrowed': 545, 'rescue': 3643, 'warming': 4795, 'lust': 2689, 'pitch': 3279, 'believing': 457, 'curse': 1086, 'meeting': 2794, 'obsession': 3070, 'gift': 1906, 'breaks': 571, 'alike': 185, 'pearl': 3220, 'page': 3167, 'results': 3662, 'criticism': 1063, 'realizing': 3555, 'buffs': 612, '60': 53, 'rid': 3690, 'sincere': 3991, 'surface': 4310, 'suitable': 4285, 'horrifying': 2167, 'chapter': 757, 'jeff': 2390, 'shirley': 3936, 'capturing': 679, 'pamela': 3179, 'bin': 483, 'kick': 2460, 'multiple': 2936, 'kennedy': 2454, 'bargain': 400, 'jackie': 2374, 'edie': 1419, 'listening': 2620, 'helicopter': 2076, 'jean': 2389, 'spielberg': 4110, '70': 55, 'retarded': 3663, 'stated': 4161, 'sun': 4292, 'door': 1328, 'stronger': 4230, 'ps': 3453, 'reflect': 3584, 'waves': 4819, 'lol': 2640, 'revolves': 3682, '1940s': 13, 'waters': 4817, 'holds': 2131, 'questionable': 3488, 'nostalgia': 3038, 'kenneth': 2455, 'overacting': 3149, 'mickey': 2831, 'walken': 4777, 'prior': 3400, 'underrated': 4642, 'christians': 809, 'mothers': 2912, 'decisions': 1152, 'greater': 1965, 'letters': 2582, 'agreed': 156, 'arrested': 298, 'korean': 2495, 'nazi': 2977, 'nazis': 2978, 'wolf': 4920, 'mildred': 2841, 'ridiculously': 3694, 'intellectual': 2312, 'gangsters': 1869, 'spite': 4117, 'sorts': 4078, 'sitcom': 4004, 'summary': 4290, 'masterful': 2758, 'hamlet': 2013, 'dub': 1378, 'lips': 2615, 'secretary': 3850, 'bleak': 503, '2004': 34, 'pretend': 3381, 'contrary': 974, 'catherine': 719, 'illogical': 2231, 'paying': 3217, 'psychotic': 3459, 'medium': 2792, 'regardless': 3590, 'unbelievably': 4635, 'neo': 2998, 'visually': 4758, 'clark': 832, 'freak': 1824, 'justify': 2439, 'inducing': 2279, 'vicious': 4728, 'resemblance': 3645, 'reached': 3537, 'lousy': 2667, 'conversations': 981, 'creators': 1044, 'latin': 2527, 'vaguely': 4706, 'involves': 2348, 'guts': 1999, 'gandhi': 1866, 'reduced': 3579, 'england': 1482, 'university': 4667, 'nightmares': 3015, 'ships': 3935, 'blowing': 515, 'frankly': 1823, 'express': 1600, 'tricks': 4583, 'concert': 935, 'curiosity': 1082, 'widmark': 4882, 'rubber': 3747, 'digital': 1251, 'examples': 1554, 'damage': 1099, 'claimed': 829, 'widow': 4883, 'cell': 730, 'critical': 1062, '1983': 22, 'aliens': 184, 'elvira': 1450, 'rap': 3520, 'mindless': 2851, 'explosion': 1596, 'imaginative': 2237, 'fallen': 1638, 'alexander': 180, '1990s': 25, 'terror': 4412, 'tales': 4357, 'greedy': 1969, 'ellen': 1446, 'bell': 458, 'chris': 806, 'motivations': 2915, 'ocean': 3079, 'unaware': 4632, 'engaged': 1480, 'keaton': 2448, 'creator': 1043, 'wreck': 4965, 'distribution': 1298, 'swedish': 4335, 'simmons': 3981, 'mst3k': 2932, 'minimal': 2855, 'eve': 1532, 'ridden': 3691, 'harris': 2038, 'equipment': 1511, 'expressions': 1603, 'path': 3209, 'emotionally': 1460, 'bath': 411, 'charge': 761, 'sold': 4052, 'lion': 2614, 'remain': 3609, 'similarly': 3980, 'flynn': 1765, 'tremendous': 4579, 'quiet': 3492, 'arguably': 289, 'ease': 1404, 'calling': 653, 'goofy': 1939, 'forth': 1804, 'suspend': 4329, 'beats': 426, 'per': 3223, 'calm': 655, 'intentionally': 2320, 'saves': 3796, 'kicks': 2463, 'der': 1191, 'prisoners': 3403, 'prisoner': 3402, 'cases': 708, 'medical': 2790, 'writes': 4970, 'code': 869, 'inappropriate': 2259, 'tag': 4348, 'championship': 745, 'dave': 1123, 'breathtaking': 574, 'scares': 3806, '75': 57, 'broke': 593, 'below': 462, 'contest': 967, 'ear': 1397, 'wishes': 4906, '13th': 5, 'bank': 394, 'bo': 521, 'curtis': 1087, 'wondered': 4927, 'accents': 79, 'rural': 3758, 'dances': 1106, 'faster': 1662, 'demented': 1176, 'bang': 393, 'assumed': 329, 'stomach': 4196, 'stood': 4199, 'nyc': 3065, 'critic': 1061, 'burton': 630, 'heston': 2094, 'hollow': 2135, 'apes': 267, 'mars': 2746, 'bold': 528, 'neil': 2995, 'tender': 4401, 'dynamic': 1394, 'neighbors': 2994, 'knife': 2487, 'superman': 4301, 'dreary': 1356, 'drunken': 1376, 'chaplin': 756, 'davies': 1125, 'implausible': 2245, 'artificial': 306, 'steps': 4177, 'kidding': 2465, 'suffering': 4277, 'drink': 1361, 'object': 3066, 'guilt': 1994, 'corruption': 1002, 'montana': 2895, 'sloppy': 4030, 'exceptional': 1558, 'humorous': 2193, 'delight': 1167, 'bettie': 473, 'shoots': 3944, 'hbo': 2055, 'photos': 3261, 'explore': 1594, 'bette': 471, 'kicked': 2461, '18': 10, 'westerns': 4854, '1968': 16, 'leo': 2571, 'distinct': 1296, 'carradine': 695, 'revolutionary': 3681, 'beating': 425, 'bedroom': 437, 'watches': 4814, 'dust': 1388, 'link': 2613, 'italy': 2368, 'conservative': 948, 'kitchen': 2485, 'serving': 3897, 'financial': 1725, 'subjects': 4254, 'elephant': 1444, 'thousand': 4465, 'outer': 3143, 'importance': 2246, 'proceeds': 3411, 'kirk': 2482, 'sue': 4274, 'raped': 3522, 'fbi': 1675, 'command': 897, 'stinks': 4192, 'kingdom': 2480, 'incident': 2260, 'grows': 1985, 'matthew': 2772, 'gags': 1862, 'meaningful': 2781, 'alert': 178, 'terrorists': 4414, 'showcase': 3954, 'relative': 3599, 'philosophical': 3253, 'unoriginal': 4673, 'masterpieces': 2760, 'pulp': 3465, 'propaganda': 3435, 'junior': 2435, 'suck': 4269, 'helping': 2081, 'adequate': 120, 'ape': 266, 'georges': 1894, 'philosophy': 3254, 'dinosaurs': 1256, 'served': 3894, 'elvis': 1451, 'ensues': 1493, 'affect': 136, 'angela': 232, 'challenging': 744, '2000': 30, 'destroying': 1215, 'willis': 4890, 'futuristic': 1857, 'carrey': 696, 'constructed': 959, 'foster': 1809, 'valley': 4707, 'alcohol': 176, 'vulnerable': 4768, 'suggests': 4282, 'bbc': 417, 'boxing': 556, 'diana': 1237, 'creation': 1040, 'warriors': 4803, 'novels': 3053, 'bakshi': 386, 'leonard': 2572, 'chased': 770, 'useful': 4694, 'trap': 4563, 'pal': 3177, 'franco': 1820, 'tomatoes': 4515, 'floating': 1758, 'explaining': 1588, 'fictional': 1703, 'hyde': 2206, 'roger': 3724, 'arrive': 300, 'letting': 2583, 'progress': 3425, 'rotten': 3740, 'hearts': 2066, 'funeral': 1849, 'ian': 2209, 'crisis': 1060, 'responsibility': 3655, 'burned': 626, 'interaction': 2322, 'catches': 715, 'comedian': 887, 'stan': 4142, 'cared': 685, 'possibility': 3349, 'sexuality': 3909, 'abusive': 75, 'businessman': 634, 'sounding': 4083, 'swear': 4334, 'cares': 690, 'block': 508, 'disappeared': 1271, 'hardcore': 2034, 'lemmon': 2567, 'selfish': 3870, 'neighbor': 2992, 'reminiscent': 3621, 'regret': 3591, 'enemies': 1476, 'slaughter': 4021, 'namely': 2962, 'enjoys': 1489, 'garden': 1872, 'invasion': 2340, 'iraq': 2351, 'unit': 4663, 'goldberg': 1933, 'arnold': 296, 'characterization': 759, 'del': 1165, 'attempted': 341, 'joey': 2408, 'misery': 2865, 'rolling': 3730, 'trade': 4547, 'myers': 2952, 'closed': 854, 'outfit': 3144, 'defined': 1160, 'gadget': 1860, 'switch': 4339, 'blown': 516, 'hundreds': 2196, 'cinemas': 817, 'oddly': 3081, 'screens': 3832, 'acceptable': 81, 'voices': 4763, 'trees': 4577, 'mainstream': 2709, 'derek': 1192, 'treats': 4575, 'depicts': 1186, 'limits': 2607, 'carpenter': 694, 'branagh': 564, 'ambitious': 211, 'acid': 95, 'opposed': 3122, 'displays': 1293, 'cave': 727, 'discovery': 1282, 'bridge': 578, 'jaws': 2385, 'capital': 673, 'st': 4137, 'feed': 1683, 'detailed': 1218, 'turner': 4607, 'jesse': 2397, 'furthermore': 1854, 'julia': 2427, 'birthday': 487, 'roberts': 3714, 'abraham': 69, 'boot': 538, 'nicholson': 3011, 'americas': 215, 'legs': 2566, 'ideal': 2214, 'advance': 127, 'maggie': 2702, 'sea': 3838, 'disneys': 1290, 'dolls': 1316, 'compelled': 915, 'coffee': 870, 'bud': 607, 'fields': 1705, 'widely': 4881, 'lately': 2524, 'bay': 416, 'subsequent': 4257, 'shark': 3921, 'conflicts': 940, 'mate': 2765, 'sullivan': 4288, 'mundane': 2938, 'lucy': 2684, 'definition': 1163, 'lawyer': 2541, 'hank': 2024, 'companion': 909, 'boom': 537, 'theyd': 4443, 'hopper': 2161, 'mayor': 2777, 'bat': 410, 'jumping': 2431, 'mail': 2706, 'fisher': 1739, 'buildings': 616, 'landscapes': 2514, 'kidnapped': 2466, 'charlotte': 766, 'intent': 2318, 'commented': 900, 'leg': 2562, 'banned': 395, 'carl': 692, 'dorothy': 1330, 'homer': 2144, 'resources': 3651, 'juvenile': 2441, 'equivalent': 1512, 'alcoholic': 177, 'button': 639, 'brenda': 575, 'scooby': 3820, 'doo': 1325, 'troops': 4591, 'buddies': 608, 'occurred': 3077, 'reflection': 3585, 'wishing': 4907, 'bottle': 550, 'painted': 3174, 'closest': 857, 'bacall': 377, 'sinatra': 3989, 'belong': 459, 'stanley': 4148, 'brooklyn': 595, 'barry': 401, 'plant': 3293, 'convincingly': 986, 'purple': 3473, 'purchase': 3469, 'ireland': 2352, 'retired': 3664, 'hardy': 2037, 'everyones': 1543, 'painting': 3175, 'solution': 4059, 'sixties': 4011, 'modesty': 2883, 'wholly': 4874, 'urge': 4689, 'cliche': 843, 'marketing': 2741, 'purely': 3472, 'intrigue': 2333, 'welles': 4844, 'witnesses': 4916, 'catchy': 717, 'feminist': 1695, 'movement': 2923, 'fooled': 1780, 'june': 2433, 'margaret': 2735, 'subplot': 4255, 'priceless': 3390, 'audio': 354, 'neck': 2985, 'dinosaur': 1255, 'wells': 4845, 'mistress': 2874, 'suggested': 4281, 'domestic': 1318, 'pink': 3277, 'paltrow': 3178, 'felix': 1689, 'greatly': 1967, 'mentioning': 2812, 'parent': 3187, 'silver': 3977, 'pokemon': 3320, 'nations': 2971, 'stargate': 4151, 'achieved': 93, 'territory': 4411, 'gerard': 1895, 'entry': 1504, 'che': 773, 'stanwyck': 4149, 'lily': 2605, 'quit': 3494, 'forms': 1801, 'catching': 716, 'forgive': 1795, 'virginia': 4750, 'stinker': 4191, 'tap': 4364, 'reel': 3581, 'comparing': 913, 'relations': 3596, 'reynolds': 3684, 'cd': 728, 'orange': 3125, 'maria': 2736, 'wisdom': 4902, 'cia': 814, 'hart': 2041, 'improvement': 2256, 'stones': 4198, 'resident': 3647, 'returned': 3666, 'joined': 2413, 'atlantis': 332, 'wrapped': 4964, 'travesty': 4570, 'performers': 3232, 'molly': 2884, 'brosnan': 597, 'disease': 1285, 'aimed': 162, 'dutch': 1389, 'mann': 2728, 'chess': 783, 'slick': 4026, 'timothy': 4499, 'merits': 2817, 'carrie': 697, 'psychic': 3456, 'hung': 2197, 'bergman': 466, 'describes': 1196, 'lou': 2663, 'karloff': 2445, 'lugosi': 2686, 'stiller': 4189, 'eaten': 1412, 'li': 2587, 'annie': 247, 'survivor': 4324, 'wrestling': 4966, 'survived': 4322, 'thoughtful': 4463, 'homosexual': 2145, '3d': 46, 'cannibal': 669, 'miracle': 2860, 'streep': 4215, 'blunt': 520, 'square': 4136, 'albert': 174, 'emily': 1456, 'savage': 3793, 'kubrick': 2496, 'gifted': 1907, 'von': 4765, 'illness': 2230, 'matthau': 2771, 'scarecrow': 3804, 'sellers': 3872, 'eyre': 1614, 'dalton': 1098, 'imitation': 2241, 'perry': 3237, 'germans': 1897, 'marty': 2749, '3000': 43, 'hop': 2154, 'patients': 3212, 'fay': 1674, 'bands': 392, 'polanski': 3321, 'domino': 1319}\n"
     ]
    }
   ],
   "source": [
    "print(str(vocabulary))"
   ]
  },
  {
   "cell_type": "markdown",
   "metadata": {},
   "source": [
    "Once you have added the endpoint name to the Lambda function, click on **Save**. Your Lambda function is now up and running. Next we need to create a way for our web app to execute the Lambda function."
   ]
  },
  {
   "cell_type": "markdown",
   "metadata": {},
   "source": [
    "### Setting up API Gateway\n",
    "\n",
    "Now that our Lambda function is set up, it is time to create a new API using API Gateway that will trigger the Lambda function we have just created.\n",
    "\n",
    "Using AWS Console, navigate to **Amazon API Gateway** and then click on **Get started**.\n",
    "\n",
    "On the next page, make sure that **New API** is selected and give the new api a name, for example, `sentiment_analysis_web_app`. Then, click on **Create API**.\n",
    "\n",
    "Now we have created an API, however it doesn't currently do anything. What we want it to do is to trigger the Lambda function that we created earlier.\n",
    "\n",
    "Select the **Actions** dropdown menu and click **Create Method**. A new blank method will be created, select its dropdown menu and select **POST**, then click on the check mark beside it.\n",
    "\n",
    "For the integration point, make sure that **Lambda Function** is selected and click on the **Use Lambda Proxy integration**. This option makes sure that the data that is sent to the API is then sent directly to the Lambda function with no processing. It also means that the return value must be a proper response object as it will also not be processed by API Gateway.\n",
    "\n",
    "Type the name of the Lambda function you created earlier into the **Lambda Function** text entry box and then click on **Save**. Click on **OK** in the pop-up box that then appears, giving permission to API Gateway to invoke the Lambda function you created.\n",
    "\n",
    "The last step in creating the API Gateway is to select the **Actions** dropdown and click on **Deploy API**. You will need to create a new Deployment stage and name it anything you like, for example `prod`.\n",
    "\n",
    "You have now successfully set up a public API to access your SageMaker model. Make sure to copy or write down the URL provided to invoke your newly created public API as this will be needed in the next step. This URL can be found at the top of the page, highlighted in blue next to the text **Invoke URL**."
   ]
  },
  {
   "cell_type": "markdown",
   "metadata": {},
   "source": [
    "## Step 7: Deploying our web app\n",
    "\n",
    "Now that we have a publicly available API, we can start using it in a web app. For our purposes, we have provided a simple static html file which can make use of the public api you created earlier.\n",
    "\n",
    "In the `website` folder there should be a file called `index.html`. Download the file to your computer and open that file up in a text editor of your choice. There should be a line which contains **\\*\\*REPLACE WITH PUBLIC API URL\\*\\***. Replace this string with the url that you wrote down in the last step and then save the file.\n",
    "\n",
    "Now, if you open `index.html` on your local computer, your browser will behave as a local web server and you can use the provided site to interact with your SageMaker model.\n",
    "\n",
    "If you'd like to go further, you can host this html file anywhere you'd like, for example using github or hosting a static site on Amazon's S3. Once you have done this you can share the link with anyone you'd like and have them play with it too!\n",
    "\n",
    "> **Important Note** In order for the web app to communicate with the SageMaker endpoint, the endpoint has to actually be deployed and running. This means that you are paying for it. Make sure that the endpoint is running when you want to use the web app but that you shut it down when you don't need it, otherwise you will end up with a surprisingly large AWS bill."
   ]
  },
  {
   "cell_type": "markdown",
   "metadata": {},
   "source": [
    "### Delete the endpoint\n",
    "\n",
    "Remember to always shut down your endpoint if you are no longer using it. You are charged for the length of time that the endpoint is running so if you forget and leave it on you could end up with an unexpectedly large bill."
   ]
  },
  {
   "cell_type": "code",
   "execution_count": 51,
   "metadata": {},
   "outputs": [
    {
     "ename": "ClientError",
     "evalue": "An error occurred (ValidationException) when calling the DeleteEndpointConfig operation: Could not find endpoint configuration \"arn:aws:sagemaker:us-east-2:464689066216:endpoint-config/xgboost-2019-05-04-16-50-57-123\".",
     "output_type": "error",
     "traceback": [
      "\u001b[0;31m---------------------------------------------------------------------------\u001b[0m",
      "\u001b[0;31mClientError\u001b[0m                               Traceback (most recent call last)",
      "\u001b[0;32m<ipython-input-51-16a6b43a8b29>\u001b[0m in \u001b[0;36m<module>\u001b[0;34m()\u001b[0m\n\u001b[0;32m----> 1\u001b[0;31m \u001b[0mxgb_predictor\u001b[0m\u001b[0;34m.\u001b[0m\u001b[0mdelete_endpoint\u001b[0m\u001b[0;34m(\u001b[0m\u001b[0;34m)\u001b[0m\u001b[0;34m\u001b[0m\u001b[0m\n\u001b[0m",
      "\u001b[0;32m~/anaconda3/envs/python3/lib/python3.6/site-packages/sagemaker/predictor.py\u001b[0m in \u001b[0;36mdelete_endpoint\u001b[0;34m(self, delete_endpoint_config)\u001b[0m\n\u001b[1;32m    125\u001b[0m         \"\"\"\n\u001b[1;32m    126\u001b[0m         \u001b[0;32mif\u001b[0m \u001b[0mdelete_endpoint_config\u001b[0m\u001b[0;34m:\u001b[0m\u001b[0;34m\u001b[0m\u001b[0m\n\u001b[0;32m--> 127\u001b[0;31m             \u001b[0mself\u001b[0m\u001b[0;34m.\u001b[0m\u001b[0m_delete_endpoint_config\u001b[0m\u001b[0;34m(\u001b[0m\u001b[0;34m)\u001b[0m\u001b[0;34m\u001b[0m\u001b[0m\n\u001b[0m\u001b[1;32m    128\u001b[0m \u001b[0;34m\u001b[0m\u001b[0m\n\u001b[1;32m    129\u001b[0m         \u001b[0mself\u001b[0m\u001b[0;34m.\u001b[0m\u001b[0msagemaker_session\u001b[0m\u001b[0;34m.\u001b[0m\u001b[0mdelete_endpoint\u001b[0m\u001b[0;34m(\u001b[0m\u001b[0mself\u001b[0m\u001b[0;34m.\u001b[0m\u001b[0mendpoint\u001b[0m\u001b[0;34m)\u001b[0m\u001b[0;34m\u001b[0m\u001b[0m\n",
      "\u001b[0;32m~/anaconda3/envs/python3/lib/python3.6/site-packages/sagemaker/predictor.py\u001b[0m in \u001b[0;36m_delete_endpoint_config\u001b[0;34m(self)\u001b[0m\n\u001b[1;32m    112\u001b[0m \u001b[0;34m\u001b[0m\u001b[0m\n\u001b[1;32m    113\u001b[0m         \"\"\"\n\u001b[0;32m--> 114\u001b[0;31m         \u001b[0mself\u001b[0m\u001b[0;34m.\u001b[0m\u001b[0msagemaker_session\u001b[0m\u001b[0;34m.\u001b[0m\u001b[0mdelete_endpoint_config\u001b[0m\u001b[0;34m(\u001b[0m\u001b[0mself\u001b[0m\u001b[0;34m.\u001b[0m\u001b[0m_endpoint_config_name\u001b[0m\u001b[0;34m)\u001b[0m\u001b[0;34m\u001b[0m\u001b[0m\n\u001b[0m\u001b[1;32m    115\u001b[0m \u001b[0;34m\u001b[0m\u001b[0m\n\u001b[1;32m    116\u001b[0m     \u001b[0;32mdef\u001b[0m \u001b[0mdelete_endpoint\u001b[0m\u001b[0;34m(\u001b[0m\u001b[0mself\u001b[0m\u001b[0;34m,\u001b[0m \u001b[0mdelete_endpoint_config\u001b[0m\u001b[0;34m=\u001b[0m\u001b[0;32mTrue\u001b[0m\u001b[0;34m)\u001b[0m\u001b[0;34m:\u001b[0m\u001b[0;34m\u001b[0m\u001b[0m\n",
      "\u001b[0;32m~/anaconda3/envs/python3/lib/python3.6/site-packages/sagemaker/session.py\u001b[0m in \u001b[0;36mdelete_endpoint_config\u001b[0;34m(self, endpoint_config_name)\u001b[0m\n\u001b[1;32m    815\u001b[0m         \"\"\"\n\u001b[1;32m    816\u001b[0m         \u001b[0mLOGGER\u001b[0m\u001b[0;34m.\u001b[0m\u001b[0minfo\u001b[0m\u001b[0;34m(\u001b[0m\u001b[0;34m'Deleting endpoint configuration with name: {}'\u001b[0m\u001b[0;34m.\u001b[0m\u001b[0mformat\u001b[0m\u001b[0;34m(\u001b[0m\u001b[0mendpoint_config_name\u001b[0m\u001b[0;34m)\u001b[0m\u001b[0;34m)\u001b[0m\u001b[0;34m\u001b[0m\u001b[0m\n\u001b[0;32m--> 817\u001b[0;31m         \u001b[0mself\u001b[0m\u001b[0;34m.\u001b[0m\u001b[0msagemaker_client\u001b[0m\u001b[0;34m.\u001b[0m\u001b[0mdelete_endpoint_config\u001b[0m\u001b[0;34m(\u001b[0m\u001b[0mEndpointConfigName\u001b[0m\u001b[0;34m=\u001b[0m\u001b[0mendpoint_config_name\u001b[0m\u001b[0;34m)\u001b[0m\u001b[0;34m\u001b[0m\u001b[0m\n\u001b[0m\u001b[1;32m    818\u001b[0m \u001b[0;34m\u001b[0m\u001b[0m\n\u001b[1;32m    819\u001b[0m     \u001b[0;32mdef\u001b[0m \u001b[0mdelete_model\u001b[0m\u001b[0;34m(\u001b[0m\u001b[0mself\u001b[0m\u001b[0;34m,\u001b[0m \u001b[0mmodel_name\u001b[0m\u001b[0;34m)\u001b[0m\u001b[0;34m:\u001b[0m\u001b[0;34m\u001b[0m\u001b[0m\n",
      "\u001b[0;32m~/anaconda3/envs/python3/lib/python3.6/site-packages/botocore/client.py\u001b[0m in \u001b[0;36m_api_call\u001b[0;34m(self, *args, **kwargs)\u001b[0m\n\u001b[1;32m    355\u001b[0m                     \"%s() only accepts keyword arguments.\" % py_operation_name)\n\u001b[1;32m    356\u001b[0m             \u001b[0;31m# The \"self\" in this scope is referring to the BaseClient.\u001b[0m\u001b[0;34m\u001b[0m\u001b[0;34m\u001b[0m\u001b[0m\n\u001b[0;32m--> 357\u001b[0;31m             \u001b[0;32mreturn\u001b[0m \u001b[0mself\u001b[0m\u001b[0;34m.\u001b[0m\u001b[0m_make_api_call\u001b[0m\u001b[0;34m(\u001b[0m\u001b[0moperation_name\u001b[0m\u001b[0;34m,\u001b[0m \u001b[0mkwargs\u001b[0m\u001b[0;34m)\u001b[0m\u001b[0;34m\u001b[0m\u001b[0m\n\u001b[0m\u001b[1;32m    358\u001b[0m \u001b[0;34m\u001b[0m\u001b[0m\n\u001b[1;32m    359\u001b[0m         \u001b[0m_api_call\u001b[0m\u001b[0;34m.\u001b[0m\u001b[0m__name__\u001b[0m \u001b[0;34m=\u001b[0m \u001b[0mstr\u001b[0m\u001b[0;34m(\u001b[0m\u001b[0mpy_operation_name\u001b[0m\u001b[0;34m)\u001b[0m\u001b[0;34m\u001b[0m\u001b[0m\n",
      "\u001b[0;32m~/anaconda3/envs/python3/lib/python3.6/site-packages/botocore/client.py\u001b[0m in \u001b[0;36m_make_api_call\u001b[0;34m(self, operation_name, api_params)\u001b[0m\n\u001b[1;32m    659\u001b[0m             \u001b[0merror_code\u001b[0m \u001b[0;34m=\u001b[0m \u001b[0mparsed_response\u001b[0m\u001b[0;34m.\u001b[0m\u001b[0mget\u001b[0m\u001b[0;34m(\u001b[0m\u001b[0;34m\"Error\"\u001b[0m\u001b[0;34m,\u001b[0m \u001b[0;34m{\u001b[0m\u001b[0;34m}\u001b[0m\u001b[0;34m)\u001b[0m\u001b[0;34m.\u001b[0m\u001b[0mget\u001b[0m\u001b[0;34m(\u001b[0m\u001b[0;34m\"Code\"\u001b[0m\u001b[0;34m)\u001b[0m\u001b[0;34m\u001b[0m\u001b[0m\n\u001b[1;32m    660\u001b[0m             \u001b[0merror_class\u001b[0m \u001b[0;34m=\u001b[0m \u001b[0mself\u001b[0m\u001b[0;34m.\u001b[0m\u001b[0mexceptions\u001b[0m\u001b[0;34m.\u001b[0m\u001b[0mfrom_code\u001b[0m\u001b[0;34m(\u001b[0m\u001b[0merror_code\u001b[0m\u001b[0;34m)\u001b[0m\u001b[0;34m\u001b[0m\u001b[0m\n\u001b[0;32m--> 661\u001b[0;31m             \u001b[0;32mraise\u001b[0m \u001b[0merror_class\u001b[0m\u001b[0;34m(\u001b[0m\u001b[0mparsed_response\u001b[0m\u001b[0;34m,\u001b[0m \u001b[0moperation_name\u001b[0m\u001b[0;34m)\u001b[0m\u001b[0;34m\u001b[0m\u001b[0m\n\u001b[0m\u001b[1;32m    662\u001b[0m         \u001b[0;32melse\u001b[0m\u001b[0;34m:\u001b[0m\u001b[0;34m\u001b[0m\u001b[0m\n\u001b[1;32m    663\u001b[0m             \u001b[0;32mreturn\u001b[0m \u001b[0mparsed_response\u001b[0m\u001b[0;34m\u001b[0m\u001b[0m\n",
      "\u001b[0;31mClientError\u001b[0m: An error occurred (ValidationException) when calling the DeleteEndpointConfig operation: Could not find endpoint configuration \"arn:aws:sagemaker:us-east-2:464689066216:endpoint-config/xgboost-2019-05-04-16-50-57-123\"."
     ]
    }
   ],
   "source": [
    "xgb_predictor.delete_endpoint()"
   ]
  },
  {
   "cell_type": "markdown",
   "metadata": {},
   "source": [
    "## Optional: Clean up\n",
    "\n",
    "The default notebook instance on SageMaker doesn't have a lot of excess disk space available. As you continue to complete and execute notebooks you will eventually fill up this disk space, leading to errors which can be difficult to diagnose. Once you are completely finished using a notebook it is a good idea to remove the files that you created along the way. Of course, you can do this from the terminal or from the notebook hub if you would like. The cell below contains some commands to clean up the created files from within the notebook."
   ]
  },
  {
   "cell_type": "code",
   "execution_count": 52,
   "metadata": {},
   "outputs": [],
   "source": [
    "# First we will remove all of the files contained in the data_dir directory\n",
    "!rm $data_dir/*\n",
    "\n",
    "# And then we delete the directory itself\n",
    "!rmdir $data_dir\n",
    "\n",
    "# Similarly we remove the files in the cache_dir directory and the directory itself\n",
    "!rm $cache_dir/*\n",
    "!rmdir $cache_dir"
   ]
  },
  {
   "cell_type": "code",
   "execution_count": null,
   "metadata": {},
   "outputs": [],
   "source": []
  }
 ],
 "metadata": {
  "kernelspec": {
   "display_name": "Python 3",
   "language": "python",
   "name": "python3"
  },
  "language_info": {
   "codemirror_mode": {
    "name": "ipython",
    "version": 3
   },
   "file_extension": ".py",
   "mimetype": "text/x-python",
   "name": "python",
   "nbconvert_exporter": "python",
   "pygments_lexer": "ipython3",
   "version": "3.7.0"
  }
 },
 "nbformat": 4,
 "nbformat_minor": 2
}
